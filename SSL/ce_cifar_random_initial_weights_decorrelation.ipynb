{
  "cells": [
    {
      "cell_type": "markdown",
      "metadata": {
        "id": "view-in-github",
        "colab_type": "text"
      },
      "source": [
        "<a href=\"https://colab.research.google.com/github/hamish-haggerty/AI-hacking/blob/master/SSL/ce_cifar_random_initial_weights_decorrelation.ipynb\" target=\"_parent\"><img src=\"https://colab.research.google.com/assets/colab-badge.svg\" alt=\"Open In Colab\"/></a>"
      ]
    },
    {
      "cell_type": "markdown",
      "metadata": {
        "id": "92vWYgIFXYbh"
      },
      "source": [
        "<a href=\"https://colab.research.google.com/github/hamish-haggerty/AI-hacking/blob/master/SSL/cancer_validation_ensemble.ipynb\" target=\"_parent\"><img src=\"https://colab.research.google.com/assets/colab-badge.svg\" alt=\"Open In Colab\"/></a>"
      ]
    },
    {
      "cell_type": "markdown",
      "metadata": {
        "id": "9bJO1nXHXYbj"
      },
      "source": [
        "# ce_cifar_random_initial_weights_decorrelation\n",
        "\n",
        "> Hacking with ce idea"
      ]
    },
    {
      "cell_type": "code",
      "execution_count": 1,
      "metadata": {
        "id": "0PuDo3faXYbk"
      },
      "outputs": [],
      "source": [
        "#| default_exp ce_cifar_random_initial_weights_decorrelation"
      ]
    },
    {
      "cell_type": "markdown",
      "metadata": {
        "id": "lyg-iyahXYbl"
      },
      "source": [
        "Setup: Surely there is a way to get rid of having to put this cell everywhere. hmmm.\n",
        "\n",
        "Or we can just copy paste / delete this in and out when needed. Either way, getting close to a decent workable workflow."
      ]
    },
    {
      "cell_type": "code",
      "execution_count": 1,
      "metadata": {
        "colab": {
          "base_uri": "https://localhost:8080/"
        },
        "id": "PAFkssKBXYbl",
        "outputId": "1fcde264-eaaf-4412-a2a0-d51fe430e93c"
      },
      "outputs": [
        {
          "output_type": "stream",
          "name": "stdout",
          "text": [
            "Mounted at /content/drive\n"
          ]
        }
      ],
      "source": [
        "#| hide\n",
        "# import os\n",
        "# from google.colab import drive\n",
        "\n",
        "def colab_is_true():\n",
        "\n",
        "    try: \n",
        "        from google.colab import drive\n",
        "\n",
        "        return True \n",
        "    except ModuleNotFoundError:\n",
        "        return False\n",
        "\n",
        "def setup_colab():\n",
        "    from google.colab import drive\n",
        "    import os\n",
        "    drive.mount('/content/drive',force_remount=True)\n",
        "    #os.system('unzip -q \"/content/drive/My Drive/archive (1).zip\"')\n",
        "    os.system('git clone https://github.com/hamish-haggerty/cancer-proj.git')\n",
        "\n",
        "    os.chdir('cancer-proj')\n",
        "    \n",
        "    os.system('pip install .')\n",
        "    os.system('pip install -qU nbdev')\n",
        "    os.system('nbdev_install_quarto')\n",
        "\n",
        "    os.system('unzip -q \"/content/drive/My Drive/archive (1).zip\"') #does this work?\n",
        "\n",
        "if __name__ == \"__main__\":\n",
        "    on_colab = colab_is_true()\n",
        "    if on_colab:\n",
        "        setup_colab()"
      ]
    },
    {
      "cell_type": "code",
      "execution_count": 2,
      "metadata": {
        "colab": {
          "base_uri": "https://localhost:8080/"
        },
        "id": "vmaz19FNolsc",
        "outputId": "84feb2b7-7b28-4372-bb18-c5a8e45530f4"
      },
      "outputs": [
        {
          "output_type": "execute_result",
          "data": {
            "text/plain": [
              "0"
            ]
          },
          "metadata": {},
          "execution_count": 2
        }
      ],
      "source": [
        "import os\n",
        "os.system('pip install .')\n",
        "os.system('pip install git+https://github.com/hamish-haggerty/base_rbt.git')"
      ]
    },
    {
      "cell_type": "code",
      "execution_count": 3,
      "metadata": {
        "id": "mEZyj1ycXYbm"
      },
      "outputs": [],
      "source": [
        "#| hide\n",
        "from nbdev.showdoc import *"
      ]
    },
    {
      "cell_type": "code",
      "execution_count": 4,
      "metadata": {
        "id": "6WBHcYiGXYbn"
      },
      "outputs": [],
      "source": [
        "#| export\n",
        "from fastai.vision.all import *\n",
        "from base_rbt.all import *\n",
        "from cancer_proj.cancer_dataloading import *\n",
        "from cancer_proj.cancer_metrics import *\n",
        "from cancer_proj.cancer_maintrain import *\n",
        "from cancer_proj.cancer_maintrain_ensemble import *\n",
        "from cancer_proj.cancer_maintrain_ce import *\n",
        "from self_supervised.augmentations import assert_aug_pipelines\n",
        "from self_supervised.layers import create_mlp_module\n",
        "\n",
        "import fastai\n",
        "test_eq(fastai.__version__,'2.7.11')\n",
        "\n",
        "import torch\n",
        "test_eq(torch.__version__,'1.13.1+cu116')\n"
      ]
    },
    {
      "cell_type": "markdown",
      "metadata": {
        "id": "4DvdPk2nXYbn"
      },
      "source": [
        "## Load the data"
      ]
    },
    {
      "cell_type": "code",
      "execution_count": 5,
      "metadata": {
        "id": "nc37xCQwXYbn"
      },
      "outputs": [],
      "source": [
        "#hps's\n",
        "device ='cuda' if torch.cuda.is_available() else 'cpu'\n",
        "cuda = (device=='cuda')\n",
        "n_in=3\n",
        "size=32\n",
        "bs=256 #for training BT\n",
        "bs_val=256 #for training linear head\n",
        "bs_test=100 #for evaluating linear head. Divides 10000\n",
        "ts_val=256 \n",
        "ts=5120\n"
      ]
    },
    {
      "cell_type": "markdown",
      "metadata": {
        "id": "JPNrXBwjpxyd"
      },
      "source": [
        "# Load prior fnames:"
      ]
    },
    {
      "cell_type": "code",
      "execution_count": 6,
      "metadata": {
        "id": "MNKs5hHENXMD"
      },
      "outputs": [],
      "source": [
        "#load\n",
        "directory = '/content/drive/My Drive/cifar'\n",
        "main_dict = load_dict_from_gdrive(directory=directory,filename='main_dict')"
      ]
    },
    {
      "cell_type": "code",
      "execution_count": 8,
      "metadata": {
        "colab": {
          "base_uri": "https://localhost:8080/"
        },
        "id": "Z6K36fJODHP-",
        "outputId": "808e7822-d0d9-4ded-fba7-c3a65b003923"
      },
      "outputs": [
        {
          "output_type": "execute_result",
          "data": {
            "text/plain": [
              "dict_keys([0, 1, 2, 3, 4, 5, 'fnames', 'fnames_train', 'fnames_val'])"
            ]
          },
          "metadata": {},
          "execution_count": 8
        }
      ],
      "source": [
        "main_dict.keys()"
      ]
    },
    {
      "cell_type": "code",
      "execution_count": 7,
      "metadata": {
        "id": "V6X5kbdLoRbN"
      },
      "outputs": [],
      "source": [
        "fnames = main_dict['fnames']\n",
        "fnames_train = main_dict['fnames_train']\n",
        "fnames_val = main_dict['fnames_val']"
      ]
    },
    {
      "cell_type": "code",
      "execution_count": 8,
      "metadata": {
        "colab": {
          "base_uri": "https://localhost:8080/",
          "height": 216
        },
        "id": "ysTrURboDued",
        "outputId": "51e36f0d-107b-4667-d9db-b5d1730da6a4"
      },
      "outputs": [
        {
          "output_type": "display_data",
          "data": {
            "text/plain": [
              "<IPython.core.display.HTML object>"
            ],
            "text/html": [
              "\n",
              "<style>\n",
              "    /* Turns off some styling */\n",
              "    progress {\n",
              "        /* gets rid of default border in Firefox and Opera. */\n",
              "        border: none;\n",
              "        /* Needs to be in here for Safari polyfill so background images work as expected. */\n",
              "        background-size: auto;\n",
              "    }\n",
              "    progress:not([value]), progress:not([value])::-webkit-progress-bar {\n",
              "        background: repeating-linear-gradient(45deg, #7e7e7e, #7e7e7e 10px, #5c5c5c 10px, #5c5c5c 20px);\n",
              "    }\n",
              "    .progress-bar-interrupted, .progress-bar-interrupted::-webkit-progress-bar {\n",
              "        background: #F44336;\n",
              "    }\n",
              "</style>\n"
            ]
          },
          "metadata": {}
        },
        {
          "output_type": "display_data",
          "data": {
            "text/plain": [
              "<IPython.core.display.HTML object>"
            ],
            "text/html": [
              "\n",
              "    <div>\n",
              "      <progress value='168173568' class='' max='168168549' style='width:300px; height:20px; vertical-align: middle;'></progress>\n",
              "      100.00% [168173568/168168549 00:10&lt;00:00]\n",
              "    </div>\n",
              "    "
            ]
          },
          "metadata": {}
        },
        {
          "output_type": "execute_result",
          "data": {
            "text/plain": [
              "{'airplane',\n",
              " 'automobile',\n",
              " 'bird',\n",
              " 'cat',\n",
              " 'deer',\n",
              " 'dog',\n",
              " 'frog',\n",
              " 'horse',\n",
              " 'ship',\n",
              " 'truck'}"
            ]
          },
          "metadata": {},
          "execution_count": 8
        }
      ],
      "source": [
        "#data: dls, dls_val, dls_test\n",
        "#get the data: Need dls, dls_val, dls_test\n",
        "path = untar_data(URLs.CIFAR)\n",
        "#fnames = get_image_files(path / \"train\")\n",
        "#fnames=fnames.shuffle()\n",
        "# fnames_train = fnames[0:ts]\n",
        "# fnames_val = fnames[ts:]\n",
        "\n",
        "fnames_test = get_image_files(path / \"test\")\n",
        "#fnames_test = fnames[ts+ts_val:ts+ts_val+ts_test]\n",
        "\n",
        "def label_func(fname):\n",
        "    return fname.name.split('_')[1].strip('png').strip('.')\n",
        "\n",
        "#labels for train,eval and test\n",
        "labels = [label_func(fname) for fname in fnames]\n",
        "labels_train = labels[0:ts]\n",
        "labels_val = labels[ts:ts+ts_val]\n",
        "labels_test = [label_func(fname) for fname in fnames_test]\n",
        "\n",
        "#Used for training encoder i.e. BT\n",
        "dls_train = ImageDataLoaders.from_lists(path, fnames_train, labels_train,bs=bs, item_tfms=[Resize(size=size)], #batch_tfms=[ToTensor(), IntToFloatTensor()],\n",
        "                                  valid_pct=0.0,num_workers=12,device=device)\n",
        "dls_tune = dls_train\n",
        "\n",
        "test_eq(ts_val%bs_val,0)\n",
        "dls_valid = ImageDataLoaders.from_lists(path, fnames_val, labels_val,bs=bs_val, item_tfms=[Resize(size=size)], #batch_tfms=[ToTensor(), IntToFloatTensor()],\n",
        "                                  valid_pct=0.0,num_workers=12,device=device,shuffle=False)\n",
        "\n",
        "#Used for evaluating linear classifier\n",
        "dls_test = ImageDataLoaders.from_lists(path, fnames_test, labels_test,bs=bs_test, item_tfms=[Resize(size=size)], #batch_tfms=[ToTensor(), IntToFloatTensor()],\n",
        "                                  valid_pct=0.0,num_workers=12,device=device)\n",
        "\n",
        "# labels = list(set(labels))\n",
        "# dls_train.vocab = labels\n",
        "# dls_tune.vocab = labels\n",
        "# dls_valid.vocab = labels\n",
        "# dls_test.vocab = labels\n",
        "\n",
        "\n",
        "\n",
        "\n",
        "set(labels) #Check that the labels make sense"
      ]
    },
    {
      "cell_type": "markdown",
      "metadata": {
        "id": "qOEtOKl9XYbo"
      },
      "source": [
        "## Load aug pipelines here"
      ]
    },
    {
      "cell_type": "code",
      "execution_count": 9,
      "metadata": {
        "id": "Zh4jyehRp5Vr"
      },
      "outputs": [],
      "source": [
        "#| export\n",
        "\n",
        "BYOL_Augs = dict(flip_p1=0.5,flip_p2=0.5,jitter_p1=0.8,jitter_p2=0.8,bw_p1=0.2,\n",
        "                bw_p2=0.2,blur_p1=1.0,blur_p2=0.1,sol_p1=0.0,sol_p2=0.2,noise_p1=0.0,\n",
        "                noise_p2=0.0,resize_scale=(0.7, 1.0),resize_ratio=(3/4, 4/3),rotate_deg=45.0,\n",
        "                rotate_p=0.5,blur_r=(0.1,2),blur_s=13,sol_t=0.1,sol_a=0.1,noise_std=0.1\n",
        "                )\n",
        "\n",
        "\n",
        "TUNE_Augs=dict(blur_r = BYOL_Augs['blur_r'],blur_s = BYOL_Augs['blur_s'], flip_p=0.25,\n",
        "                rotate_p=0.25,jitter_p=0.0,bw_p=0.0,blur_p=0.0,resize_scale=(0.7, 1.0),\n",
        "                resize_ratio=(3/4, 4/3),rotate_deg=45.0\n",
        "                )\n",
        "\n",
        "Val_Augs = dict(TUNE_Augs)\n",
        "\n",
        "\n",
        "def create_aug_pipelines(size,device,Augs=BYOL_Augs,TUNE_Augs=TUNE_Augs,Val_Augs=Val_Augs):\n",
        "    \"Create the BT pipelines, the tune and val pipelines\"\n",
        "\n",
        "    aug_dict = {}\n",
        "\n",
        "    aug_pipelines_1 = get_barlow_twins_aug_pipelines(size=size,\n",
        "                        rotate=True,jitter=True,noise=True,bw=True,blur=True,solar=True, #Whether to use aug or not\n",
        "                        resize_scale=Augs['resize_scale'],resize_ratio=Augs['resize_ratio'],\n",
        "                        noise_std=Augs['noise_std'], rotate_deg=Augs['rotate_deg'],\n",
        "                        blur_r=Augs['blur_r'],blur_s=Augs['blur_s'],sol_t=Augs['sol_t'],sol_a=Augs['sol_a'],\n",
        "                        flip_p=Augs['flip_p1'], rotate_p=Augs['rotate_p'],noise_p=Augs['noise_p1'],\n",
        "                        jitter_p=Augs['jitter_p1'], bw_p=Augs['bw_p1'], blur_p=Augs['blur_p1'],\n",
        "                        sol_p=Augs['sol_p1'], #prob of performing aug\n",
        "                        same_on_batch=False,stats=Augs['stats'], cuda=(device=='cuda'))\n",
        "\n",
        "    aug_pipelines_2 = get_barlow_twins_aug_pipelines(size=size,\n",
        "                        rotate=True,jitter=True,noise=True,bw=True,blur=True,solar=True, #Whether to use aug or not\n",
        "                        resize_scale=Augs['resize_scale'],resize_ratio=Augs['resize_ratio'],\n",
        "                        noise_std=Augs['noise_std'], rotate_deg=Augs['rotate_deg'],\n",
        "                        blur_r=Augs['blur_r'],blur_s=Augs['blur_s'],sol_t=Augs['sol_t'],sol_a=Augs['sol_a'],\n",
        "                        flip_p=Augs['flip_p2'], rotate_p=Augs['rotate_p'],noise_p=Augs['noise_p2'],\n",
        "                        jitter_p=Augs['jitter_p2'], bw_p=Augs['bw_p2'], blur_p=Augs['blur_p2'],\n",
        "                        sol_p=Augs['sol_p2'], #prob of performing aug\n",
        "                        same_on_batch=False,stats=Augs['stats'], cuda=(device=='cuda'))\n",
        "\n",
        "    aug_pipelines = [aug_pipelines_1,aug_pipelines_2]\n",
        "\n",
        "\n",
        "    aug_pipelines_tune =  [get_barlow_twins_aug_pipelines(size=size,\n",
        "                    rotate=True,jitter=True,noise=False,bw=True,blur=True,solar=False, #Whether to use aug or not\n",
        "                    resize_scale=TUNE_Augs['resize_scale'],resize_ratio=TUNE_Augs['resize_ratio'],noise_std=None,\n",
        "                    blur_r=TUNE_Augs['blur_r'],blur_s=TUNE_Augs['blur_s'], rotate_deg=TUNE_Augs['rotate_deg'],\n",
        "                    sol_t=None,sol_a=None, #hps of augs\n",
        "                    flip_p=TUNE_Augs['flip_p'], rotate_p=TUNE_Augs['rotate_p'],noise_p=0.0, jitter_p=TUNE_Augs['jitter_p'],\n",
        "                    bw_p=TUNE_Augs['bw_p'], blur_p=TUNE_Augs['blur_p'],sol_p=0.0, #prob of performing aug\n",
        "                    same_on_batch=False,stats=Augs['stats'], cuda=(device=='cuda'))]#,P=0.0)\n",
        "\n",
        "\n",
        "\n",
        "\n",
        "    aug_pipelines_test =  [get_barlow_twins_aug_pipelines(size=size,\n",
        "                    rotate=True,jitter=True,noise=False,bw=True,blur=True,solar=False, #Whether to use aug or not\n",
        "                    resize_scale=Val_Augs['resize_scale'],resize_ratio=Val_Augs['resize_ratio'],noise_std=None,\n",
        "                    blur_r=Val_Augs['blur_r'],blur_s=Val_Augs['blur_s'], rotate_deg=Val_Augs['rotate_deg'],\n",
        "                    sol_t=None,sol_a=None, #hps of augs\n",
        "                    flip_p=Val_Augs['flip_p'], rotate_p=Val_Augs['rotate_p'],noise_p=0.0, jitter_p=Val_Augs['jitter_p'],\n",
        "                    bw_p=Val_Augs['bw_p'], blur_p=Val_Augs['blur_p'],sol_p=0.0, #prob of performing aug\n",
        "                    same_on_batch=False,stats=Augs['stats'], cuda=(device=='cuda'))]#,P=0.0)\n",
        "\n",
        "    aug_dict['aug_pipelines'] = aug_pipelines\n",
        "    aug_dict['aug_pipelines_tune'] = aug_pipelines_tune\n",
        "    aug_dict['aug_pipelines_test'] = aug_pipelines_test\n",
        "\n",
        "    return aug_dict\n",
        "\n"
      ]
    },
    {
      "cell_type": "code",
      "execution_count": 10,
      "metadata": {
        "id": "bLXKHGceXYbp"
      },
      "outputs": [],
      "source": [
        "#| hide\n",
        "\n",
        "_Augs = dict(BYOL_Augs)\n",
        "_Augs['stats'] = cifar_stats\n",
        "aug_dict = create_aug_pipelines(size=size,device=device,Augs=_Augs,TUNE_Augs=TUNE_Augs,Val_Augs=Val_Augs)\n",
        "aug_pipelines = aug_dict['aug_pipelines']\n",
        "aug_pipelines_tune = aug_dict['aug_pipelines_tune']\n",
        "aug_pipelines_test = aug_dict['aug_pipelines_test'] "
      ]
    },
    {
      "cell_type": "markdown",
      "metadata": {
        "id": "-NzY_8WjXYbp"
      },
      "source": [
        "## Optionally, display:"
      ]
    },
    {
      "cell_type": "code",
      "execution_count": 13,
      "metadata": {
        "colab": {
          "base_uri": "https://localhost:8080/",
          "height": 698
        },
        "id": "7GEptps-XYbp",
        "outputId": "04e4ffd6-80ff-415b-f171-b64148249b0d"
      },
      "outputs": [
        {
          "output_type": "stream",
          "name": "stdout",
          "text": [
            "Pipeline: RandomResizedCrop -> RandomHorizontalFlip -> ColorJitter -> RandomGrayscale -> RandomGaussianNoise -> RandomGaussianBlur -- {'p': 1.0, 'prob': 1.0, 's': 13, 'sig': None, 'blur_r': (0.1, 2), 'same_on_batch': False} -> RandomSolarize -> Rotate -- {'size': None, 'mode': 'bilinear', 'pad_mode': 'reflection', 'mode_mask': 'nearest', 'align_corners': True, 'p': 1.0} -> Normalize -- {'mean': tensor([[[[0.4910]],\n",
            "\n",
            "         [[0.4820]],\n",
            "\n",
            "         [[0.4470]]]], device='cuda:0'), 'std': tensor([[[[0.2470]],\n",
            "\n",
            "         [[0.2430]],\n",
            "\n",
            "         [[0.2610]]]], device='cuda:0'), 'axes': (0, 2, 3)}\n",
            "Pipeline: RandomResizedCrop -> RandomHorizontalFlip -> ColorJitter -> RandomGrayscale -> RandomGaussianNoise -> RandomGaussianBlur -- {'p': 1.0, 'prob': 0.1, 's': 13, 'sig': None, 'blur_r': (0.1, 2), 'same_on_batch': False} -> RandomSolarize -> Rotate -- {'size': None, 'mode': 'bilinear', 'pad_mode': 'reflection', 'mode_mask': 'nearest', 'align_corners': True, 'p': 1.0} -> Normalize -- {'mean': tensor([[[[0.4910]],\n",
            "\n",
            "         [[0.4820]],\n",
            "\n",
            "         [[0.4470]]]], device='cuda:0'), 'std': tensor([[[[0.2470]],\n",
            "\n",
            "         [[0.2430]],\n",
            "\n",
            "         [[0.2610]]]], device='cuda:0'), 'axes': (0, 2, 3)}\n"
          ]
        },
        {
          "output_type": "display_data",
          "data": {
            "text/plain": [
              "<Figure size 432x432 with 4 Axes>"
            ],
            "image/png": "[encoded data removed]"
          },
          "metadata": {
            "needs_background": "light"
          }
        }
      ],
      "source": [
        "#| hide\n",
        "show_bt_batch(dls=dls_train,aug=aug_pipelines,n_in=3)"
      ]
    },
    {
      "cell_type": "code",
      "execution_count": 14,
      "metadata": {
        "colab": {
          "base_uri": "https://localhost:8080/",
          "height": 556
        },
        "id": "CNoEpeqzXYbq",
        "outputId": "3054aedc-faf4-4184-e1b7-33fad1c8cab2"
      },
      "outputs": [
        {
          "output_type": "stream",
          "name": "stdout",
          "text": [
            "Pipeline: RandomResizedCrop -> RandomHorizontalFlip -> ColorJitter -> RandomGrayscale -> RandomGaussianBlur -- {'p': 1.0, 'prob': 0.0, 's': 13, 'sig': None, 'blur_r': (0.1, 2), 'same_on_batch': False} -> Rotate -- {'size': None, 'mode': 'bilinear', 'pad_mode': 'reflection', 'mode_mask': 'nearest', 'align_corners': True, 'p': 1.0} -> Normalize -- {'mean': tensor([[[[0.4910]],\n",
            "\n",
            "         [[0.4820]],\n",
            "\n",
            "         [[0.4470]]]], device='cuda:0'), 'std': tensor([[[[0.2470]],\n",
            "\n",
            "         [[0.2430]],\n",
            "\n",
            "         [[0.2610]]]], device='cuda:0'), 'axes': (0, 2, 3)}\n",
            "Pipeline: \n"
          ]
        },
        {
          "output_type": "display_data",
          "data": {
            "text/plain": [
              "<Figure size 432x432 with 4 Axes>"
            ],
            "image/png": "[encoded data removed]"
          },
          "metadata": {
            "needs_background": "light"
          }
        }
      ],
      "source": [
        "#| hide\n",
        "\n",
        "show_linear_batch(dls=dls_tune,n_in=3,aug=aug_pipelines_tune,n=2,print_augs=True)"
      ]
    },
    {
      "cell_type": "code",
      "execution_count": 15,
      "metadata": {
        "id": "m5QZhpbVXYbs"
      },
      "outputs": [],
      "source": [
        "#| hide\n",
        "#show_btens_batch(dls_train,3,aug_pipelines,n=2)"
      ]
    },
    {
      "cell_type": "markdown",
      "metadata": {
        "id": "kP6qTOobG_gO"
      },
      "source": [
        "## Step 1) Train two BT models on CIFAR10, and save them"
      ]
    },
    {
      "cell_type": "code",
      "execution_count": 11,
      "metadata": {
        "id": "o2VKx6ipG4ge"
      },
      "outputs": [],
      "source": [
        "import os\n",
        "directory = '/content/drive/My Drive/cifar'\n",
        "if not os.path.exists(directory):\n",
        "    os.makedirs(directory)"
      ]
    },
    {
      "cell_type": "code",
      "execution_count": 12,
      "metadata": {
        "id": "iUxincHF4LIh"
      },
      "outputs": [],
      "source": [
        "lmb=0.5*5e-3\n",
        "lr_max=0.0002754228771664202"
      ]
    },
    {
      "cell_type": "code",
      "execution_count": 13,
      "metadata": {
        "id": "9T2JUeGRNu-U"
      },
      "outputs": [],
      "source": [
        "xval,yval = main_dict[0]['xval'], main_dict[0]['yval']"
      ]
    },
    {
      "cell_type": "markdown",
      "source": [
        "# Train a simple model with CE idea"
      ],
      "metadata": {
        "id": "z_8wZ4mm6QX_"
      }
    },
    {
      "cell_type": "code",
      "source": [
        "class CeBarlowTwinsModel(Module):\n",
        "    \"\"\"An encoder followed by a projector\n",
        "    \"\"\"\n",
        "    def __init__(self,encoder,head):\n",
        "        self.encoder = encoder\n",
        "        self.head=head\n",
        "\n",
        "    def forward(self,x):\n",
        "        tem=self.encoder(x)\n",
        "        return tem,self.head(tem)"
      ],
      "metadata": {
        "id": "0XcBSHSPTsaO"
      },
      "execution_count": 14,
      "outputs": []
    },
    {
      "cell_type": "code",
      "source": [
        "#| export\n",
        "\n",
        "class BarlowTwinsCe(Callback):\n",
        "    order,run_valid = 9,True\n",
        "    def __init__(self, aug_pipelines,n_in, lmb=5e-3,numout=10, print_augs=False):\n",
        "        self.aug1, self.aug2 = aug_pipelines\n",
        "        if print_augs: print(self.aug1), print(self.aug2)\n",
        "        store_attr('lmb')\n",
        "        self.n_in=n_in\n",
        "        self.cross_entropy = CrossEntropyLossFlat()\n",
        "        self.numout=numout\n",
        "        \n",
        "        \n",
        "    def before_fit(self): \n",
        "        self.learn.loss_func = self.lf\n",
        "        #nf = self.learn.model.encoder[-1].out_features\n",
        "        self.nf = 8192\n",
        "        self.I = torch.eye(self.nf).to(self.dls.device)\n",
        "\n",
        "\n",
        "    def before_epoch(self):\n",
        "        pass\n",
        "  \n",
        "    def before_batch(self):\n",
        "        \n",
        "        #TODO: Make this nicer (possibly can load in data as TensorImage(BW) or something?)\n",
        "        #This is a bit of a hack. Can make this more elegant later. But in new version of FastAI\n",
        "        #seems we need to compute TensorImage(BW) here, and depends on whether color or not, i.e. n_in.\n",
        "        if self.n_in == 1:\n",
        "\n",
        "            xi,xj = self.aug1(TensorImageBW(self.x)), self.aug2(TensorImageBW(self.x))\n",
        "            \n",
        "            #print(xi.shape)\n",
        "                                    \n",
        "        elif self.n_in == 3:\n",
        "            \n",
        "            xi,xj = self.aug1(TensorImage(self.x)), self.aug2(TensorImage(self.x))\n",
        "\n",
        "        self.learn.xb = (torch.cat([xi, xj]),)\n",
        "        \n",
        "    def lf(self,pred,*yb):\n",
        "        \n",
        "        I=self.I\n",
        "        lmb=self.lmb\n",
        "        \n",
        "        \n",
        "        pred,out = pred[0],pred[1] #encoder and head(encoder(.))\n",
        "        y = yb[0]\n",
        "  \n",
        "        bs,nf = pred.size(0)//2,pred.size(1)\n",
        "        \n",
        "        z1, z2 = pred[:bs],pred[bs:] #so z1 is bs*projection_size, likewise for z2\n",
        "        out1,out2 = out[:bs],out[bs:]\n",
        "\n",
        "        z1norm = (z1 - z1.mean(0)) / z1.std(0, unbiased=False)\n",
        "        z2norm = (z2 - z2.mean(0)) / z2.std(0, unbiased=False)\n",
        "\n",
        "        C = (z1norm.T @ z2norm) / bs \n",
        "        cdiff = (C - I)**2\n",
        "        #bt_loss = (cdiff*I + cdiff*(1-I)*lmb).sum()  #bt loss\n",
        "        \n",
        "        rr = (cdiff*(1-I)*lmb).sum()\n",
        "        \n",
        "        CE1 = self.cross_entropy(out1,y)\n",
        "        CE2 = self.cross_entropy(out2,y)\n",
        "        \n",
        "        CE = 0.5*(CE1 + CE2)\n",
        "        \n",
        "        loss = (1/nf)*rr + CE\n",
        "        \n",
        "        return loss\n",
        "\n",
        "\n",
        "    @torch.no_grad()\n",
        "    def show(self, n=1): \n",
        "        bs = self.learn.x.size(0)//2\n",
        "        x1,x2  = self.learn.x[:bs], self.learn.x[bs:]\n",
        "        idxs = np.random.choice(range(bs),n,False)\n",
        "        x1 = self.aug1.decode(x1[idxs].to('cpu').clone()).clamp(0,1)\n",
        "        x2 = self.aug2.decode(x2[idxs].to('cpu').clone()).clamp(0,1)\n",
        "        images = []\n",
        "        for i in range(n): images += [x1[i],x2[i]]\n",
        "        return show_batch(x1[0], None, images, max_n=len(images), nrows=n)"
      ],
      "metadata": {
        "id": "EInLbfdVBxw-"
      },
      "execution_count": 15,
      "outputs": []
    },
    {
      "cell_type": "code",
      "source": [
        "#| export\n",
        "\n",
        "def lf_ce(pred,*yb,I,lmb,t,rp1,rp2,criterion=CrossEntropyLossFlat()):\n",
        "    \n",
        "\n",
        "    pred,out = pred[0],pred[1] #encoder and head(encoder(.))\n",
        "    y = yb[0]\n",
        "\n",
        "\n",
        "    bs,nf = pred.size(0)//2,pred.size(1)\n",
        "\n",
        "    z1, z2 = pred[:bs],pred[bs:] #so z1 is bs*projection_size, likewise for z2\n",
        "\n",
        "    #z1,z2 = rp1(z1),rp2(z2)\n",
        "\n",
        "    out1,out2 = out[:bs],out[bs:]\n",
        "\n",
        "\n",
        "    # z1norm = (z1 - z1.mean(0)) / z1.std(0, unbiased=False)\n",
        "    # z2norm = (z2 - z2.mean(0)) / z2.std(0, unbiased=False)\n",
        "\n",
        "    # C = (z1norm.T @ z2norm) / bs \n",
        "    # cdiff = (C - I)**2\n",
        "    # #bt_loss = (cdiff*I + cdiff*(1-I)*lmb).sum()  #bt loss\n",
        "\n",
        "    # rr = (cdiff*(1-I)*lmb).sum()\n",
        "\n",
        "    CE1 = criterion(out1,y)\n",
        "    CE2 = criterion(out2,y)\n",
        "\n",
        "    CE = 0.5*(CE1 + CE2)\n",
        "\n",
        "\n",
        "    s=(out1*out2).mean()\n",
        "    \n",
        "    #loss = t*rr + CE\n",
        "    loss = CE + t*s\n",
        "\n",
        "    loss = CE\n",
        "\n",
        "\n",
        "    return loss\n",
        "\n"
      ],
      "metadata": {
        "id": "2RzQ5h-r7DFZ"
      },
      "execution_count": 16,
      "outputs": []
    },
    {
      "cell_type": "code",
      "source": [
        "class RandProj(nn.Module):\n",
        "    \n",
        "    def __init__(self,\n",
        "                 enc_s=2048,\n",
        "                 proj_s=8192\n",
        "                ):\n",
        "        super().__init__()\n",
        "        \n",
        "        with torch.no_grad():\n",
        "            self.m = nn.Sequential(nn.Linear(enc_s,proj_s),nn.BatchNorm1d(proj_s, eps=1e-05, momentum=0.1, affine=True, track_running_stats=True),\n",
        "                                   nn.ReLU(),\n",
        "                                   nn.Linear(proj_s,proj_s)) #feedforward net one hidden layer\n",
        "        \n",
        "        for param in self.parameters():\n",
        "            param.requires_grad = False\n",
        "\n",
        "        if torch.cuda.is_available(): self.to('cuda')\n",
        "            \n",
        "    def forward(self,x):\n",
        "        return self.m(x)"
      ],
      "metadata": {
        "id": "_piP4xmLSmkR"
      },
      "execution_count": 17,
      "outputs": []
    },
    {
      "cell_type": "code",
      "source": [
        "@patch\n",
        "def before_epoch(self:BarlowTwinsCe):\n",
        "    \n",
        "    \n",
        "    #if self.epoch==0:\n",
        "\n",
        "    # self.learn.head = sequential(nn.Linear(2048,2048),nn.BatchNorm1d(2048, eps=1e-05, momentum=0.1, affine=True, track_running_stats=True),\n",
        "    #                                 nn.ReLU(),nn.Linear(2048,self.numout)) #reininitialise head before every epoch??\n",
        "\n",
        "    self.learn.head = sequential(nn.Linear(2048,2048),nn.BatchNorm1d(2048, eps=1e-05, momentum=0.1, affine=True, track_running_stats=True),\n",
        "                                nn.ReLU(),\n",
        "                                 \n",
        "                                nn.Linear(2048,2048),nn.BatchNorm1d(2048, eps=1e-05, momentum=0.1, affine=True, track_running_stats=True),\n",
        "                                nn.ReLU(),\n",
        "                                 \n",
        "                                 nn.Linear(2048,self.numout))\n",
        "\n",
        "    for p in self.learn.head.parameters():\n",
        "        \n",
        "        p.requires_grad=False\n",
        "\n",
        "    if self.epoch==0:\n",
        "\n",
        "        self.rp1 = RandProj()\n",
        "        self.rp2 = RandProj()\n",
        "\n",
        "        \n",
        "    self.t=0.0"
      ],
      "metadata": {
        "id": "2ol6HOSz6u38"
      },
      "execution_count": 19,
      "outputs": []
    },
    {
      "cell_type": "code",
      "source": [
        "#| export\n",
        "\n",
        "@patch\n",
        "def lf(self:BarlowTwinsCe, pred,*yb): return lf_ce(pred,*yb,I=self.I,lmb=self.lmb,t=self.t,rp1=self.rp1,rp2=self.rp2)"
      ],
      "metadata": {
        "id": "Je3qvZRD6vty"
      },
      "execution_count": 20,
      "outputs": []
    },
    {
      "cell_type": "code",
      "source": [
        "with torch.no_grad():\n",
        "    _,encoder = create_model('no_pretrain',device)\n",
        "    head = nn.Linear(2048,10)\n",
        "\n",
        "    bt_ce_model = CeBarlowTwinsModel(encoder=encoder,head=head)\n",
        "\n",
        "    learn = Learner(dls_train,bt_ce_model,cbs=[BarlowTwinsCe(aug_pipelines,n_in=3,numout=10,lmb=lmb,print_augs=False)])\n",
        "\n"
      ],
      "metadata": {
        "id": "0_XzZNrw6T9n"
      },
      "execution_count": 21,
      "outputs": []
    },
    {
      "cell_type": "code",
      "source": [
        "# lrs = learn.lr_find(start_lr=1e-7,end_lr=0.01,num_it=1000)\n",
        "# lr_max = lrs.valley\n",
        "# print(lr_max)\n",
        "# learn.fit_one_cycle(50,lr_max)"
      ],
      "metadata": {
        "id": "J9cBHR0m6o_4"
      },
      "execution_count": 26,
      "outputs": []
    },
    {
      "cell_type": "code",
      "source": [
        "learn.fit(50)"
      ],
      "metadata": {
        "colab": {
          "base_uri": "https://localhost:8080/",
          "height": 1000
        },
        "id": "6F9HeStgGnGm",
        "outputId": "27943b06-77ae-4276-c975-6c45d413427d"
      },
      "execution_count": 22,
      "outputs": [
        {
          "output_type": "display_data",
          "data": {
            "text/plain": [
              "<IPython.core.display.HTML object>"
            ],
            "text/html": [
              "\n",
              "<style>\n",
              "    /* Turns off some styling */\n",
              "    progress {\n",
              "        /* gets rid of default border in Firefox and Opera. */\n",
              "        border: none;\n",
              "        /* Needs to be in here for Safari polyfill so background images work as expected. */\n",
              "        background-size: auto;\n",
              "    }\n",
              "    progress:not([value]), progress:not([value])::-webkit-progress-bar {\n",
              "        background: repeating-linear-gradient(45deg, #7e7e7e, #7e7e7e 10px, #5c5c5c 10px, #5c5c5c 20px);\n",
              "    }\n",
              "    .progress-bar-interrupted, .progress-bar-interrupted::-webkit-progress-bar {\n",
              "        background: #F44336;\n",
              "    }\n",
              "</style>\n"
            ]
          },
          "metadata": {}
        },
        {
          "output_type": "display_data",
          "data": {
            "text/plain": [
              "<IPython.core.display.HTML object>"
            ],
            "text/html": [
              "<table border=\"1\" class=\"dataframe\">\n",
              "  <thead>\n",
              "    <tr style=\"text-align: left;\">\n",
              "      <th>epoch</th>\n",
              "      <th>train_loss</th>\n",
              "      <th>valid_loss</th>\n",
              "      <th>time</th>\n",
              "    </tr>\n",
              "  </thead>\n",
              "  <tbody>\n",
              "    <tr>\n",
              "      <td>0</td>\n",
              "      <td>2.498573</td>\n",
              "      <td>None</td>\n",
              "      <td>00:12</td>\n",
              "    </tr>\n",
              "    <tr>\n",
              "      <td>1</td>\n",
              "      <td>2.258536</td>\n",
              "      <td>None</td>\n",
              "      <td>00:05</td>\n",
              "    </tr>\n",
              "    <tr>\n",
              "      <td>2</td>\n",
              "      <td>2.129515</td>\n",
              "      <td>None</td>\n",
              "      <td>00:05</td>\n",
              "    </tr>\n",
              "    <tr>\n",
              "      <td>3</td>\n",
              "      <td>2.055514</td>\n",
              "      <td>None</td>\n",
              "      <td>00:05</td>\n",
              "    </tr>\n",
              "    <tr>\n",
              "      <td>4</td>\n",
              "      <td>1.991964</td>\n",
              "      <td>None</td>\n",
              "      <td>00:05</td>\n",
              "    </tr>\n",
              "    <tr>\n",
              "      <td>5</td>\n",
              "      <td>1.934215</td>\n",
              "      <td>None</td>\n",
              "      <td>00:05</td>\n",
              "    </tr>\n",
              "    <tr>\n",
              "      <td>6</td>\n",
              "      <td>1.888270</td>\n",
              "      <td>None</td>\n",
              "      <td>00:05</td>\n",
              "    </tr>\n",
              "    <tr>\n",
              "      <td>7</td>\n",
              "      <td>1.864389</td>\n",
              "      <td>None</td>\n",
              "      <td>00:05</td>\n",
              "    </tr>\n",
              "    <tr>\n",
              "      <td>8</td>\n",
              "      <td>1.831574</td>\n",
              "      <td>None</td>\n",
              "      <td>00:05</td>\n",
              "    </tr>\n",
              "    <tr>\n",
              "      <td>9</td>\n",
              "      <td>1.798927</td>\n",
              "      <td>None</td>\n",
              "      <td>00:05</td>\n",
              "    </tr>\n",
              "    <tr>\n",
              "      <td>10</td>\n",
              "      <td>1.771859</td>\n",
              "      <td>None</td>\n",
              "      <td>00:05</td>\n",
              "    </tr>\n",
              "    <tr>\n",
              "      <td>11</td>\n",
              "      <td>1.769251</td>\n",
              "      <td>None</td>\n",
              "      <td>00:05</td>\n",
              "    </tr>\n",
              "    <tr>\n",
              "      <td>12</td>\n",
              "      <td>1.793778</td>\n",
              "      <td>None</td>\n",
              "      <td>00:05</td>\n",
              "    </tr>\n",
              "    <tr>\n",
              "      <td>13</td>\n",
              "      <td>1.813673</td>\n",
              "      <td>None</td>\n",
              "      <td>00:05</td>\n",
              "    </tr>\n",
              "    <tr>\n",
              "      <td>14</td>\n",
              "      <td>1.792689</td>\n",
              "      <td>None</td>\n",
              "      <td>00:05</td>\n",
              "    </tr>\n",
              "    <tr>\n",
              "      <td>15</td>\n",
              "      <td>1.766234</td>\n",
              "      <td>None</td>\n",
              "      <td>00:05</td>\n",
              "    </tr>\n",
              "    <tr>\n",
              "      <td>16</td>\n",
              "      <td>1.739674</td>\n",
              "      <td>None</td>\n",
              "      <td>00:05</td>\n",
              "    </tr>\n",
              "    <tr>\n",
              "      <td>17</td>\n",
              "      <td>1.714484</td>\n",
              "      <td>None</td>\n",
              "      <td>00:05</td>\n",
              "    </tr>\n",
              "    <tr>\n",
              "      <td>18</td>\n",
              "      <td>1.692617</td>\n",
              "      <td>None</td>\n",
              "      <td>00:05</td>\n",
              "    </tr>\n",
              "    <tr>\n",
              "      <td>19</td>\n",
              "      <td>1.670956</td>\n",
              "      <td>None</td>\n",
              "      <td>00:05</td>\n",
              "    </tr>\n",
              "    <tr>\n",
              "      <td>20</td>\n",
              "      <td>1.649809</td>\n",
              "      <td>None</td>\n",
              "      <td>00:05</td>\n",
              "    </tr>\n",
              "    <tr>\n",
              "      <td>21</td>\n",
              "      <td>1.628708</td>\n",
              "      <td>None</td>\n",
              "      <td>00:05</td>\n",
              "    </tr>\n",
              "    <tr>\n",
              "      <td>22</td>\n",
              "      <td>1.666710</td>\n",
              "      <td>None</td>\n",
              "      <td>00:05</td>\n",
              "    </tr>\n",
              "    <tr>\n",
              "      <td>23</td>\n",
              "      <td>1.665171</td>\n",
              "      <td>None</td>\n",
              "      <td>00:05</td>\n",
              "    </tr>\n",
              "    <tr>\n",
              "      <td>24</td>\n",
              "      <td>1.651073</td>\n",
              "      <td>None</td>\n",
              "      <td>00:05</td>\n",
              "    </tr>\n",
              "    <tr>\n",
              "      <td>25</td>\n",
              "      <td>1.631265</td>\n",
              "      <td>None</td>\n",
              "      <td>00:05</td>\n",
              "    </tr>\n",
              "    <tr>\n",
              "      <td>26</td>\n",
              "      <td>1.622560</td>\n",
              "      <td>None</td>\n",
              "      <td>00:05</td>\n",
              "    </tr>\n",
              "    <tr>\n",
              "      <td>27</td>\n",
              "      <td>1.596274</td>\n",
              "      <td>None</td>\n",
              "      <td>00:05</td>\n",
              "    </tr>\n",
              "    <tr>\n",
              "      <td>28</td>\n",
              "      <td>1.588143</td>\n",
              "      <td>None</td>\n",
              "      <td>00:05</td>\n",
              "    </tr>\n",
              "    <tr>\n",
              "      <td>29</td>\n",
              "      <td>1.579509</td>\n",
              "      <td>None</td>\n",
              "      <td>00:05</td>\n",
              "    </tr>\n",
              "    <tr>\n",
              "      <td>30</td>\n",
              "      <td>1.606568</td>\n",
              "      <td>None</td>\n",
              "      <td>00:05</td>\n",
              "    </tr>\n",
              "    <tr>\n",
              "      <td>31</td>\n",
              "      <td>1.726322</td>\n",
              "      <td>None</td>\n",
              "      <td>00:05</td>\n",
              "    </tr>\n",
              "    <tr>\n",
              "      <td>32</td>\n",
              "      <td>1.752561</td>\n",
              "      <td>None</td>\n",
              "      <td>00:05</td>\n",
              "    </tr>\n",
              "    <tr>\n",
              "      <td>33</td>\n",
              "      <td>1.738361</td>\n",
              "      <td>None</td>\n",
              "      <td>00:05</td>\n",
              "    </tr>\n",
              "    <tr>\n",
              "      <td>34</td>\n",
              "      <td>1.710917</td>\n",
              "      <td>None</td>\n",
              "      <td>00:05</td>\n",
              "    </tr>\n",
              "    <tr>\n",
              "      <td>35</td>\n",
              "      <td>1.678152</td>\n",
              "      <td>None</td>\n",
              "      <td>00:05</td>\n",
              "    </tr>\n",
              "    <tr>\n",
              "      <td>36</td>\n",
              "      <td>1.636326</td>\n",
              "      <td>None</td>\n",
              "      <td>00:05</td>\n",
              "    </tr>\n",
              "    <tr>\n",
              "      <td>37</td>\n",
              "      <td>1.601425</td>\n",
              "      <td>None</td>\n",
              "      <td>00:05</td>\n",
              "    </tr>\n",
              "    <tr>\n",
              "      <td>38</td>\n",
              "      <td>1.576362</td>\n",
              "      <td>None</td>\n",
              "      <td>00:05</td>\n",
              "    </tr>\n",
              "    <tr>\n",
              "      <td>39</td>\n",
              "      <td>1.565008</td>\n",
              "      <td>None</td>\n",
              "      <td>00:05</td>\n",
              "    </tr>\n",
              "    <tr>\n",
              "      <td>40</td>\n",
              "      <td>1.555801</td>\n",
              "      <td>None</td>\n",
              "      <td>00:05</td>\n",
              "    </tr>\n",
              "    <tr>\n",
              "      <td>41</td>\n",
              "      <td>1.538893</td>\n",
              "      <td>None</td>\n",
              "      <td>00:05</td>\n",
              "    </tr>\n",
              "    <tr>\n",
              "      <td>42</td>\n",
              "      <td>1.548375</td>\n",
              "      <td>None</td>\n",
              "      <td>00:05</td>\n",
              "    </tr>\n",
              "    <tr>\n",
              "      <td>43</td>\n",
              "      <td>1.543620</td>\n",
              "      <td>None</td>\n",
              "      <td>00:05</td>\n",
              "    </tr>\n",
              "    <tr>\n",
              "      <td>44</td>\n",
              "      <td>1.530765</td>\n",
              "      <td>None</td>\n",
              "      <td>00:05</td>\n",
              "    </tr>\n",
              "    <tr>\n",
              "      <td>45</td>\n",
              "      <td>1.529747</td>\n",
              "      <td>None</td>\n",
              "      <td>00:05</td>\n",
              "    </tr>\n",
              "    <tr>\n",
              "      <td>46</td>\n",
              "      <td>1.522096</td>\n",
              "      <td>None</td>\n",
              "      <td>00:05</td>\n",
              "    </tr>\n",
              "    <tr>\n",
              "      <td>47</td>\n",
              "      <td>1.513947</td>\n",
              "      <td>None</td>\n",
              "      <td>00:05</td>\n",
              "    </tr>\n",
              "    <tr>\n",
              "      <td>48</td>\n",
              "      <td>1.572372</td>\n",
              "      <td>None</td>\n",
              "      <td>00:05</td>\n",
              "    </tr>\n",
              "    <tr>\n",
              "      <td>49</td>\n",
              "      <td>1.629993</td>\n",
              "      <td>None</td>\n",
              "      <td>00:05</td>\n",
              "    </tr>\n",
              "  </tbody>\n",
              "</table>"
            ]
          },
          "metadata": {}
        },
        {
          "output_type": "stream",
          "name": "stderr",
          "text": [
            "/usr/local/lib/python3.8/dist-packages/fastprogress/fastprogress.py:73: UserWarning: Your generator is empty.\n",
            "  warn(\"Your generator is empty.\")\n"
          ]
        }
      ]
    },
    {
      "cell_type": "markdown",
      "source": [
        "# Fine tune and predictions"
      ],
      "metadata": {
        "id": "tlYRpRAz9I4q"
      }
    },
    {
      "cell_type": "code",
      "source": [
        "vocab = dls_train.vocab\n",
        "\n",
        "model = LM(bt_ce_model.encoder,numout=10)\n",
        "learn = Learner(dls_tune,model,splitter=my_splitter,cbs = [LinearBt(aug_pipelines=aug_pipelines_tune,n_in=3)],wd=0.0)\n",
        "learn.freeze()\n",
        "learn.fit(6)\n",
        "learn.unfreeze()\n",
        "learn.fit(50)\n",
        "\n",
        "scores,preds, acc = predict_model(xval,yval,model=model,aug_pipelines_test=aug_pipelines_test,numavg=10)\n",
        "#metrics dict will have f1 score, auc etc etc\n",
        "metrics = classification_report_wrapper(preds, yval, vocab, print_report=True)\n",
        "auc_dict = plot_roc(yval,preds,vocab,print_plot=True)\n",
        "#metrics['acc'],metrics['auc_dict'],metrics['scores'],metrics['preds'],metrics['xval'],metrics['yval'] = acc,auc_dict,scores,preds,xval,yval\n",
        "\n",
        "print(acc)\n"
      ],
      "metadata": {
        "id": "ILQbqYKi6pC0",
        "colab": {
          "base_uri": "https://localhost:8080/",
          "height": 1000
        },
        "outputId": "8fd34c52-37ff-48d1-c256-e4831aa7fd92"
      },
      "execution_count": 23,
      "outputs": [
        {
          "output_type": "display_data",
          "data": {
            "text/plain": [
              "<IPython.core.display.HTML object>"
            ],
            "text/html": [
              "\n",
              "<style>\n",
              "    /* Turns off some styling */\n",
              "    progress {\n",
              "        /* gets rid of default border in Firefox and Opera. */\n",
              "        border: none;\n",
              "        /* Needs to be in here for Safari polyfill so background images work as expected. */\n",
              "        background-size: auto;\n",
              "    }\n",
              "    progress:not([value]), progress:not([value])::-webkit-progress-bar {\n",
              "        background: repeating-linear-gradient(45deg, #7e7e7e, #7e7e7e 10px, #5c5c5c 10px, #5c5c5c 20px);\n",
              "    }\n",
              "    .progress-bar-interrupted, .progress-bar-interrupted::-webkit-progress-bar {\n",
              "        background: #F44336;\n",
              "    }\n",
              "</style>\n"
            ]
          },
          "metadata": {}
        },
        {
          "output_type": "display_data",
          "data": {
            "text/plain": [
              "<IPython.core.display.HTML object>"
            ],
            "text/html": [
              "<table border=\"1\" class=\"dataframe\">\n",
              "  <thead>\n",
              "    <tr style=\"text-align: left;\">\n",
              "      <th>epoch</th>\n",
              "      <th>train_loss</th>\n",
              "      <th>valid_loss</th>\n",
              "      <th>time</th>\n",
              "    </tr>\n",
              "  </thead>\n",
              "  <tbody>\n",
              "    <tr>\n",
              "      <td>0</td>\n",
              "      <td>1.770251</td>\n",
              "      <td>None</td>\n",
              "      <td>00:04</td>\n",
              "    </tr>\n",
              "    <tr>\n",
              "      <td>1</td>\n",
              "      <td>1.617552</td>\n",
              "      <td>None</td>\n",
              "      <td>00:03</td>\n",
              "    </tr>\n",
              "    <tr>\n",
              "      <td>2</td>\n",
              "      <td>1.558625</td>\n",
              "      <td>None</td>\n",
              "      <td>00:04</td>\n",
              "    </tr>\n",
              "    <tr>\n",
              "      <td>3</td>\n",
              "      <td>1.516000</td>\n",
              "      <td>None</td>\n",
              "      <td>00:04</td>\n",
              "    </tr>\n",
              "    <tr>\n",
              "      <td>4</td>\n",
              "      <td>1.472216</td>\n",
              "      <td>None</td>\n",
              "      <td>00:04</td>\n",
              "    </tr>\n",
              "    <tr>\n",
              "      <td>5</td>\n",
              "      <td>1.447986</td>\n",
              "      <td>None</td>\n",
              "      <td>00:04</td>\n",
              "    </tr>\n",
              "  </tbody>\n",
              "</table>"
            ]
          },
          "metadata": {}
        },
        {
          "output_type": "display_data",
          "data": {
            "text/plain": [
              "<IPython.core.display.HTML object>"
            ],
            "text/html": [
              "\n",
              "<style>\n",
              "    /* Turns off some styling */\n",
              "    progress {\n",
              "        /* gets rid of default border in Firefox and Opera. */\n",
              "        border: none;\n",
              "        /* Needs to be in here for Safari polyfill so background images work as expected. */\n",
              "        background-size: auto;\n",
              "    }\n",
              "    progress:not([value]), progress:not([value])::-webkit-progress-bar {\n",
              "        background: repeating-linear-gradient(45deg, #7e7e7e, #7e7e7e 10px, #5c5c5c 10px, #5c5c5c 20px);\n",
              "    }\n",
              "    .progress-bar-interrupted, .progress-bar-interrupted::-webkit-progress-bar {\n",
              "        background: #F44336;\n",
              "    }\n",
              "</style>\n"
            ]
          },
          "metadata": {}
        },
        {
          "output_type": "display_data",
          "data": {
            "text/plain": [
              "<IPython.core.display.HTML object>"
            ],
            "text/html": [
              "<table border=\"1\" class=\"dataframe\">\n",
              "  <thead>\n",
              "    <tr style=\"text-align: left;\">\n",
              "      <th>epoch</th>\n",
              "      <th>train_loss</th>\n",
              "      <th>valid_loss</th>\n",
              "      <th>time</th>\n",
              "    </tr>\n",
              "  </thead>\n",
              "  <tbody>\n",
              "    <tr>\n",
              "      <td>0</td>\n",
              "      <td>1.605985</td>\n",
              "      <td>None</td>\n",
              "      <td>00:04</td>\n",
              "    </tr>\n",
              "    <tr>\n",
              "      <td>1</td>\n",
              "      <td>1.601069</td>\n",
              "      <td>None</td>\n",
              "      <td>00:04</td>\n",
              "    </tr>\n",
              "    <tr>\n",
              "      <td>2</td>\n",
              "      <td>1.510936</td>\n",
              "      <td>None</td>\n",
              "      <td>00:04</td>\n",
              "    </tr>\n",
              "    <tr>\n",
              "      <td>3</td>\n",
              "      <td>1.433543</td>\n",
              "      <td>None</td>\n",
              "      <td>00:04</td>\n",
              "    </tr>\n",
              "    <tr>\n",
              "      <td>4</td>\n",
              "      <td>1.378833</td>\n",
              "      <td>None</td>\n",
              "      <td>00:04</td>\n",
              "    </tr>\n",
              "    <tr>\n",
              "      <td>5</td>\n",
              "      <td>1.326107</td>\n",
              "      <td>None</td>\n",
              "      <td>00:04</td>\n",
              "    </tr>\n",
              "    <tr>\n",
              "      <td>6</td>\n",
              "      <td>1.257317</td>\n",
              "      <td>None</td>\n",
              "      <td>00:04</td>\n",
              "    </tr>\n",
              "    <tr>\n",
              "      <td>7</td>\n",
              "      <td>1.200822</td>\n",
              "      <td>None</td>\n",
              "      <td>00:04</td>\n",
              "    </tr>\n",
              "    <tr>\n",
              "      <td>8</td>\n",
              "      <td>1.131439</td>\n",
              "      <td>None</td>\n",
              "      <td>00:04</td>\n",
              "    </tr>\n",
              "    <tr>\n",
              "      <td>9</td>\n",
              "      <td>1.114037</td>\n",
              "      <td>None</td>\n",
              "      <td>00:04</td>\n",
              "    </tr>\n",
              "    <tr>\n",
              "      <td>10</td>\n",
              "      <td>1.169202</td>\n",
              "      <td>None</td>\n",
              "      <td>00:04</td>\n",
              "    </tr>\n",
              "    <tr>\n",
              "      <td>11</td>\n",
              "      <td>1.170857</td>\n",
              "      <td>None</td>\n",
              "      <td>00:04</td>\n",
              "    </tr>\n",
              "    <tr>\n",
              "      <td>12</td>\n",
              "      <td>1.166191</td>\n",
              "      <td>None</td>\n",
              "      <td>00:04</td>\n",
              "    </tr>\n",
              "    <tr>\n",
              "      <td>13</td>\n",
              "      <td>1.173123</td>\n",
              "      <td>None</td>\n",
              "      <td>00:04</td>\n",
              "    </tr>\n",
              "    <tr>\n",
              "      <td>14</td>\n",
              "      <td>1.147615</td>\n",
              "      <td>None</td>\n",
              "      <td>00:04</td>\n",
              "    </tr>\n",
              "    <tr>\n",
              "      <td>15</td>\n",
              "      <td>1.094422</td>\n",
              "      <td>None</td>\n",
              "      <td>00:04</td>\n",
              "    </tr>\n",
              "    <tr>\n",
              "      <td>16</td>\n",
              "      <td>1.043352</td>\n",
              "      <td>None</td>\n",
              "      <td>00:04</td>\n",
              "    </tr>\n",
              "    <tr>\n",
              "      <td>17</td>\n",
              "      <td>1.026704</td>\n",
              "      <td>None</td>\n",
              "      <td>00:04</td>\n",
              "    </tr>\n",
              "    <tr>\n",
              "      <td>18</td>\n",
              "      <td>1.022080</td>\n",
              "      <td>None</td>\n",
              "      <td>00:04</td>\n",
              "    </tr>\n",
              "    <tr>\n",
              "      <td>19</td>\n",
              "      <td>0.991018</td>\n",
              "      <td>None</td>\n",
              "      <td>00:04</td>\n",
              "    </tr>\n",
              "    <tr>\n",
              "      <td>20</td>\n",
              "      <td>0.917811</td>\n",
              "      <td>None</td>\n",
              "      <td>00:04</td>\n",
              "    </tr>\n",
              "    <tr>\n",
              "      <td>21</td>\n",
              "      <td>0.861057</td>\n",
              "      <td>None</td>\n",
              "      <td>00:04</td>\n",
              "    </tr>\n",
              "    <tr>\n",
              "      <td>22</td>\n",
              "      <td>0.826127</td>\n",
              "      <td>None</td>\n",
              "      <td>00:04</td>\n",
              "    </tr>\n",
              "    <tr>\n",
              "      <td>23</td>\n",
              "      <td>0.793417</td>\n",
              "      <td>None</td>\n",
              "      <td>00:04</td>\n",
              "    </tr>\n",
              "    <tr>\n",
              "      <td>24</td>\n",
              "      <td>0.781040</td>\n",
              "      <td>None</td>\n",
              "      <td>00:04</td>\n",
              "    </tr>\n",
              "    <tr>\n",
              "      <td>25</td>\n",
              "      <td>0.746869</td>\n",
              "      <td>None</td>\n",
              "      <td>00:04</td>\n",
              "    </tr>\n",
              "    <tr>\n",
              "      <td>26</td>\n",
              "      <td>0.809400</td>\n",
              "      <td>None</td>\n",
              "      <td>00:04</td>\n",
              "    </tr>\n",
              "    <tr>\n",
              "      <td>27</td>\n",
              "      <td>0.859271</td>\n",
              "      <td>None</td>\n",
              "      <td>00:04</td>\n",
              "    </tr>\n",
              "    <tr>\n",
              "      <td>28</td>\n",
              "      <td>0.896794</td>\n",
              "      <td>None</td>\n",
              "      <td>00:04</td>\n",
              "    </tr>\n",
              "    <tr>\n",
              "      <td>29</td>\n",
              "      <td>0.870881</td>\n",
              "      <td>None</td>\n",
              "      <td>00:04</td>\n",
              "    </tr>\n",
              "    <tr>\n",
              "      <td>30</td>\n",
              "      <td>0.826350</td>\n",
              "      <td>None</td>\n",
              "      <td>00:04</td>\n",
              "    </tr>\n",
              "    <tr>\n",
              "      <td>31</td>\n",
              "      <td>0.776931</td>\n",
              "      <td>None</td>\n",
              "      <td>00:04</td>\n",
              "    </tr>\n",
              "    <tr>\n",
              "      <td>32</td>\n",
              "      <td>0.751998</td>\n",
              "      <td>None</td>\n",
              "      <td>00:04</td>\n",
              "    </tr>\n",
              "    <tr>\n",
              "      <td>33</td>\n",
              "      <td>0.714512</td>\n",
              "      <td>None</td>\n",
              "      <td>00:04</td>\n",
              "    </tr>\n",
              "    <tr>\n",
              "      <td>34</td>\n",
              "      <td>0.712603</td>\n",
              "      <td>None</td>\n",
              "      <td>00:04</td>\n",
              "    </tr>\n",
              "    <tr>\n",
              "      <td>35</td>\n",
              "      <td>0.764632</td>\n",
              "      <td>None</td>\n",
              "      <td>00:04</td>\n",
              "    </tr>\n",
              "    <tr>\n",
              "      <td>36</td>\n",
              "      <td>0.818652</td>\n",
              "      <td>None</td>\n",
              "      <td>00:04</td>\n",
              "    </tr>\n",
              "    <tr>\n",
              "      <td>37</td>\n",
              "      <td>0.854523</td>\n",
              "      <td>None</td>\n",
              "      <td>00:04</td>\n",
              "    </tr>\n",
              "    <tr>\n",
              "      <td>38</td>\n",
              "      <td>0.844120</td>\n",
              "      <td>None</td>\n",
              "      <td>00:04</td>\n",
              "    </tr>\n",
              "    <tr>\n",
              "      <td>39</td>\n",
              "      <td>0.809398</td>\n",
              "      <td>None</td>\n",
              "      <td>00:04</td>\n",
              "    </tr>\n",
              "    <tr>\n",
              "      <td>40</td>\n",
              "      <td>0.796595</td>\n",
              "      <td>None</td>\n",
              "      <td>00:04</td>\n",
              "    </tr>\n",
              "    <tr>\n",
              "      <td>41</td>\n",
              "      <td>0.781239</td>\n",
              "      <td>None</td>\n",
              "      <td>00:04</td>\n",
              "    </tr>\n",
              "    <tr>\n",
              "      <td>42</td>\n",
              "      <td>0.775727</td>\n",
              "      <td>None</td>\n",
              "      <td>00:04</td>\n",
              "    </tr>\n",
              "    <tr>\n",
              "      <td>43</td>\n",
              "      <td>0.760040</td>\n",
              "      <td>None</td>\n",
              "      <td>00:04</td>\n",
              "    </tr>\n",
              "    <tr>\n",
              "      <td>44</td>\n",
              "      <td>0.721202</td>\n",
              "      <td>None</td>\n",
              "      <td>00:04</td>\n",
              "    </tr>\n",
              "    <tr>\n",
              "      <td>45</td>\n",
              "      <td>0.677371</td>\n",
              "      <td>None</td>\n",
              "      <td>00:04</td>\n",
              "    </tr>\n",
              "    <tr>\n",
              "      <td>46</td>\n",
              "      <td>0.670710</td>\n",
              "      <td>None</td>\n",
              "      <td>00:04</td>\n",
              "    </tr>\n",
              "    <tr>\n",
              "      <td>47</td>\n",
              "      <td>0.619031</td>\n",
              "      <td>None</td>\n",
              "      <td>00:04</td>\n",
              "    </tr>\n",
              "    <tr>\n",
              "      <td>48</td>\n",
              "      <td>0.589351</td>\n",
              "      <td>None</td>\n",
              "      <td>00:04</td>\n",
              "    </tr>\n",
              "    <tr>\n",
              "      <td>49</td>\n",
              "      <td>0.605262</td>\n",
              "      <td>None</td>\n",
              "      <td>00:04</td>\n",
              "    </tr>\n",
              "  </tbody>\n",
              "</table>"
            ]
          },
          "metadata": {}
        },
        {
          "output_type": "stream",
          "name": "stdout",
          "text": [
            "              precision    recall  f1-score   support\n",
            "\n",
            "    airplane       0.66      0.76      0.70        25\n",
            "  automobile       0.67      0.80      0.73        20\n",
            "        bird       0.49      0.67      0.56        27\n",
            "         cat       0.58      0.44      0.50        25\n",
            "        deer       0.34      0.67      0.45        15\n",
            "         dog       0.70      0.57      0.63        28\n",
            "        frog       0.77      0.57      0.65        30\n",
            "       horse       0.81      0.70      0.75        30\n",
            "        ship       0.91      0.85      0.88        34\n",
            "       truck       0.67      0.45      0.54        22\n",
            "\n",
            "    accuracy                           0.65       256\n",
            "   macro avg       0.66      0.65      0.64       256\n",
            "weighted avg       0.68      0.65      0.66       256\n",
            "\n",
            "0.65234375\n"
          ]
        },
        {
          "output_type": "display_data",
          "data": {
            "text/plain": [
              "<Figure size 504x360 with 1 Axes>"
            ],
            "image/png": "[encoded data removed]"
          },
          "metadata": {
            "needs_background": "light"
          }
        }
      ]
    },
    {
      "cell_type": "code",
      "source": [
        "for i in range(6):\n",
        "    print(main_dict[i]['acc'])"
      ],
      "metadata": {
        "id": "EyahWH236pGV",
        "colab": {
          "base_uri": "https://localhost:8080/"
        },
        "outputId": "ef9bb7d1-7c25-4afa-9957-8b856ac37075"
      },
      "execution_count": 51,
      "outputs": [
        {
          "output_type": "stream",
          "name": "stdout",
          "text": [
            "0.58984375\n",
            "0.6328125\n",
            "0.59765625\n",
            "0.62109375\n",
            "0.62109375\n",
            "0.62109375\n"
          ]
        }
      ]
    },
    {
      "cell_type": "code",
      "source": [
        "main_dict[0].keys()"
      ],
      "metadata": {
        "id": "FOT3SjHW6pIp",
        "colab": {
          "base_uri": "https://localhost:8080/"
        },
        "outputId": "3c7d2bfb-29cb-4cd2-a581-c1b5520e96ea"
      },
      "execution_count": 24,
      "outputs": [
        {
          "output_type": "execute_result",
          "data": {
            "text/plain": [
              "dict_keys(['airplane', 'automobile', 'bird', 'cat', 'deer', 'dog', 'frog', 'horse', 'ship', 'truck', 'accuracy', 'macro avg', 'weighted avg', 'acc', 'auc_dict', 'scores', 'preds', 'xval', 'yval', 'classif_model_path', 'bt_model_path', 'tune_model_path'])"
            ]
          },
          "metadata": {},
          "execution_count": 24
        }
      ]
    },
    {
      "cell_type": "code",
      "source": [],
      "metadata": {
        "id": "OBMcPrXK6pLX"
      },
      "execution_count": null,
      "outputs": []
    },
    {
      "cell_type": "markdown",
      "source": [
        "# End new stuff"
      ],
      "metadata": {
        "id": "FtwfouYP7FfZ"
      }
    },
    {
      "cell_type": "code",
      "source": [
        "assert False"
      ],
      "metadata": {
        "id": "WY-PS4kC6pSB"
      },
      "execution_count": null,
      "outputs": []
    },
    {
      "cell_type": "code",
      "execution_count": null,
      "metadata": {
        "id": "_w8_ULYKHMdi"
      },
      "outputs": [],
      "source": [
        "def run_main_train(pretrain=True,initial_weights='no_pretrain',num_epochs=300,freeze_num_epochs=1,freeze_numfit=6,numfit=75,num=2):\n",
        "    \"run main_train num times.\"\n",
        "\n",
        "\n",
        "    main_dict = {}\n",
        "    for i in range(num):\n",
        "\n",
        "        tune_model_path = directory + f'/pretrain={pretrain}_{i}.pth'\n",
        "        main = main_train(dls_train=dls_train,dls_tune=dls_tune,dls_valid=dls_valid, xval=xval, yval=yval,\n",
        "                aug_pipelines=aug_pipelines, aug_pipelines_tune=aug_pipelines_tune, aug_pipelines_test=aug_pipelines_test, \n",
        "                initial_weights=initial_weights,pretrain=pretrain,\n",
        "                num_epochs=num_epochs,numfit=numfit,freeze_num_epochs=freeze_num_epochs,freeze_numfit=freeze_numfit,\n",
        "                print_report=True,\n",
        "                lmb=lmb,\n",
        "                lr_max=lr_max,\n",
        "                tune_model_path = tune_model_path\n",
        "                        )\n",
        "        \n",
        "        #This is so we can re-use the models we train here elsewhere...\n",
        "        if pretrain==True:\n",
        "            main.train_encoder()\n",
        "            bt_model_path = directory+f'/bt_model_{i}'\n",
        "            torch.save(main.bt_model.state_dict(), bt_model_path) #i.e. bt_model_{0,1,2 etc}\n",
        "        else:\n",
        "            bt_model_path=None\n",
        "\n",
        "        metrics = main.fine_tune()\n",
        "        \n",
        "        metrics['bt_model_path'] =  bt_model_path #only interesting under bt pretraining...\n",
        "        metrics['tune_model_path'] = tune_model_path\n",
        "\n",
        "        main_dict[i] = metrics\n",
        "\n",
        "        #can use to debug if needed\n",
        "        # model = main.model\n",
        "        # probs,ypred,acc =  predict_model(xval=xval,yval=yval,model=model,aug_pipelines_test=aug_pipelines_test,numavg=30)\n",
        "\n",
        "        # print(acc)\n",
        "    return main_dict"
      ]
    },
    {
      "cell_type": "code",
      "execution_count": null,
      "metadata": {
        "id": "O6zaJel2HhD1"
      },
      "outputs": [],
      "source": [
        "num=3\n",
        "\n",
        "main_dict = run_main_train(pretrain=True,num_epochs=200,freeze_num_epochs=1,freeze_numfit=6,numfit=50,num=num)\n",
        "main_dict['fnames']=fnames\n",
        "main_dict['fnames_train']=fnames_train\n",
        "main_dict['fnames_val']=fnames_val\n",
        "save_dict_to_gdrive(d=main_dict,directory=directory,filename='main_dict')\n",
        "\n",
        "for i in range(num):\n",
        "    print(main_dict[i]['acc'])"
      ]
    },
    {
      "cell_type": "markdown",
      "metadata": {
        "id": "8ABJM__HH9Us"
      },
      "source": [
        "# Ok, now ensemble decorrelation stuff"
      ]
    },
    {
      "cell_type": "markdown",
      "metadata": {
        "id": "enuOQa_ApX2a"
      },
      "source": [
        "First load old results from above:"
      ]
    },
    {
      "cell_type": "code",
      "execution_count": null,
      "metadata": {
        "id": "XM79afDmrQGc"
      },
      "outputs": [],
      "source": [
        "#save_dict_to_gdrive(d=main_dict,directory=directory,filename='main_dict')"
      ]
    },
    {
      "cell_type": "code",
      "execution_count": null,
      "metadata": {
        "id": "RhfcVhIEnIUM"
      },
      "outputs": [],
      "source": [
        "@patch\n",
        "def before_epoch(self:BarlowTwinsEns):\n",
        "    \"This is explicitly assuming that we train for 300 epochs. Need to patch in otherwise...\"\n",
        "    \n",
        "    self.t=0.0\n",
        "    epoch=self.epoch\n",
        "    s=self.s\n",
        "\n",
        "    self.rp1 = RandProj()\n",
        "    self.rp2 = RandProj()\n",
        "\n",
        "    if epoch < 5:\n",
        "        s=0.9\n",
        "\n",
        "    if epoch == 5:\n",
        "        s=0.5\n",
        "\n",
        "    if epoch == 25:\n",
        "        s=0.25\n",
        "\n",
        "    if epoch == 100:\n",
        "        s=0.125\n",
        "\n",
        "    if epoch == 200:\n",
        "        s=0.05\n",
        "\n",
        "    if epoch == 290:\n",
        "        s=0.0\n",
        "\n",
        "    self.s=s\n",
        "\n",
        "\n",
        "    return"
      ]
    },
    {
      "cell_type": "code",
      "execution_count": null,
      "metadata": {
        "id": "UnkH_G9AnQGN"
      },
      "outputs": [],
      "source": [
        "#| export\n",
        "\n",
        "def lf_2_proj(pred,I,lmb,\n",
        "               t,\n",
        "               s,\n",
        "               ):\n",
        "    \"Type 2 loss in projector space\"\n",
        "\n",
        "    \n",
        "    pred1 = pred[0] #frozen\n",
        "    pred2 = pred[1] #has gradients\n",
        "    \n",
        "    \n",
        "    bs,nf = pred1.size(0)//2,pred1.size(1)\n",
        "\n",
        "    #All standard, from BT\n",
        "    z1, z2 = pred1[:bs],pred1[bs:] #so z1 is bs*projection_size, likewise for z2\n",
        "    z1norm = (z1 - z1.mean(0)) / (z1.std(0, unbiased=False) + 1e-7)\n",
        "    z2norm = (z2 - z2.mean(0)) / (z2.std(0, unbiased=False) + 1e-7)\n",
        "    \n",
        "    z1_2, z2_2 = pred2[:bs],pred2[bs:] #so z1 is bs*projection_size, likewise for z2\n",
        "    z1norm_2 = (z1_2 - z1_2.mean(0)) / (z1_2.std(0, unbiased=False) + 1e-7)\n",
        "    z2norm_2 = (z2_2 - z2_2.mean(0)) / (z2_2.std(0, unbiased=False) + 1e-7)\n",
        "\n",
        "    #pointwise multiply z^A1 with Z^A2, likewise for B\n",
        "    z1_3 = z1*z1_2\n",
        "    z2_3 = z2*z2_2\n",
        "    z1norm_3 = (z1_3 - z1_3.mean(0)) / (z1_3.std(0, unbiased=False) + 1e-7)\n",
        "    z2norm_3 = (z2_3 - z2_3.mean(0)) / (z2_3.std(0, unbiased=False) + 1e-7)\n",
        "\n",
        "\n",
        "    #Make sure gradients are turned off / turned on appropriately\n",
        "    test_eq(pred1.requires_grad,False)\n",
        "    test_eq(pred2.requires_grad,True)\n",
        "\n",
        "    # #Within frozen model \n",
        "    # C = (z1norm.T @ z2norm) / bs \n",
        "    # cdiff = (C - I)**2\n",
        "    \n",
        "    #Within model_2 (unfrozen)\n",
        "    C2 = (z1norm_2.T @ z2norm_2) / bs \n",
        "    cdiff_2 = (C2 - I)**2\n",
        "\n",
        "    #between model for rr\n",
        "    # C_rr1=(z1norm.T @ z1norm_2) / bs\n",
        "    # cdiff_rr_1 = C_rr1.pow(2)\n",
        "\n",
        "    # C_rr2=(z2norm.T @ z2norm_2) / bs\n",
        "    # cdiff_rr_2 = C_rr2.pow(2)\n",
        "\n",
        "    # cdiff_rr = 0.5*(cdiff_rr_1 + cdiff_rr_2)\n",
        "\n",
        "    # t1 = z1norm*z1norm_2 #like z^A1 * Z^A2 ...\n",
        "    # t2 = z2norm*z2norm_2\n",
        "    #cdiff_rr = (C_rr.pow(2) + 1e-7).pow(0.5) #keep the units the same\n",
        "\n",
        "    C_rr = z1norm_3.T @ z2norm_3 / bs\n",
        "\n",
        "    cdiff_rr = C_rr.pow(2)\n",
        "\n",
        "    #between model for inv\n",
        "    C_inva1 = (z1norm.T @ z2norm_2) / bs\n",
        "    cdiff_inva_1 = (C_inva1-I).pow(2)\n",
        "\n",
        "    C_inva2 = (z2norm.T @ z1norm_2) / bs\n",
        "    cdiff_inva_2 = (C_inva2-I).pow(2)\n",
        "\n",
        "    cdiff_inva = 0.5*(cdiff_inva_1 + cdiff_inva_2)\n",
        "\n",
        "    # print(f'lmb-scaled between rr is: {lmb*(cdiff_rr*(1-I)).sum()}')\n",
        "    # print(f'lmb-scaled within rr is: {lmb*(cdiff_2*(1-I)).sum()}')\n",
        "\n",
        "    # input()\n",
        "    # assert False\n",
        "\n",
        "    loss = (1-t)*(cdiff_2*I).sum() + t*(cdiff_inva*I).sum() + (1-s)*lmb*(cdiff_2*(1-I)).sum() + s*lmb*(cdiff_rr*(1-I)).sum()\n",
        "\n",
        "    torch.cuda.empty_cache()\n",
        "    return loss\n"
      ]
    },
    {
      "cell_type": "code",
      "execution_count": null,
      "metadata": {
        "id": "3HU25nRS6Wzj"
      },
      "outputs": [],
      "source": [
        "#| export\n",
        "\n",
        "class RandProj(nn.Module):\n",
        "    \n",
        "    def __init__(self,\n",
        "                 enc_s=2048,\n",
        "                 proj_s=8192\n",
        "                ):\n",
        "        super().__init__()\n",
        "        \n",
        "        with torch.no_grad():\n",
        "            self.m = nn.Sequential(nn.Linear(enc_s,proj_s),nn.ReLU(),nn.Linear(proj_s,proj_s)) #feedforward net one hidden layer\n",
        "        \n",
        "        for param in self.parameters():\n",
        "            param.requires_grad = False\n",
        "\n",
        "        if torch.cuda.is_available(): self.to('cuda')\n",
        "            \n",
        "    def forward(self,x):\n",
        "        return self.m(x)"
      ]
    },
    {
      "cell_type": "code",
      "execution_count": null,
      "metadata": {
        "id": "aEFnkK676FtW"
      },
      "outputs": [],
      "source": [
        "#| export\n",
        "\n",
        "    \n",
        "def lf_3_enc(pred,I,lmb,\n",
        "               t,\n",
        "               s,\n",
        "               rp1=None,\n",
        "               rp2=None,\n",
        "               ):\n",
        "    \n",
        "    \"Standard between model rr except we pass frozen encoder through a random projector\"\n",
        "    pred1 = pred[0] #frozen\n",
        "    pred2 = pred[1] #has gradients\n",
        "\n",
        "    pred1_enc = pred[2]\n",
        "    pred2_enc = pred[3]\n",
        "    \n",
        "    \n",
        "    bs,nf = pred1.size(0)//2,pred1.size(1)\n",
        "\n",
        "    #All standard, from BT\n",
        "    z1, z2 = pred1[:bs],pred1[bs:] #so z1 is bs*projection_size, likewise for z2\n",
        "    z1norm = (z1 - z1.mean(0)) / (z1.std(0, unbiased=False) + 1e-7)\n",
        "    z2norm = (z2 - z2.mean(0)) / (z2.std(0, unbiased=False) + 1e-7)\n",
        "    \n",
        "    z1_2, z2_2 = pred2[:bs],pred2[bs:] #so z1 is bs*projection_size, likewise for z2\n",
        "    z1norm_2 = (z1_2 - z1_2.mean(0)) / (z1_2.std(0, unbiased=False) + 1e-7)\n",
        "    z2norm_2 = (z2_2 - z2_2.mean(0)) / (z2_2.std(0, unbiased=False) + 1e-7)\n",
        "\n",
        "    z1, z2 = pred1_enc[:bs],pred1_enc[bs:] #so z1 is bs*projection_size, likewise for z2\n",
        "    \n",
        "    # rp1 = RandProj()\n",
        "    # rp2 = RandProj()\n",
        "\n",
        "    z1,z2 = rp1(z1),rp2(z2)\n",
        "    \n",
        "    z1norm_rand = (z1 - z1.mean(0)) / (z1.std(0, unbiased=False) + 1e-7)\n",
        "    z2norm_rand = (z2 - z2.mean(0)) / (z2.std(0, unbiased=False) + 1e-7)\n",
        "\n",
        "    #We don't actually need encoder for unfrozen model, I believe, at this point.\n",
        "    \n",
        "    #Make sure gradients are turned off / turned on appropriately\n",
        "    test_eq(pred1.requires_grad,False)\n",
        "    test_eq(pred2.requires_grad,True)\n",
        "\n",
        "    # #Within frozen model \n",
        "    # C = (z1norm.T @ z2norm) / bs \n",
        "    # cdiff = (C - I)**2\n",
        "    \n",
        "    #Within model_2 (unfrozen)\n",
        "    C2 = (z1norm_2.T @ z2norm_2) / bs \n",
        "    cdiff_2 = (C2 - I)**2\n",
        "    \n",
        "    #between model rr\n",
        "    C_rr1=(z1norm_rand.T @ z1norm_2) / bs\n",
        "    cdiff_rr_1 = C_rr1.pow(2)\n",
        "\n",
        "    C_rr2=(z2norm_rand.T @ z2norm_2) / bs\n",
        "    cdiff_rr_2 = C_rr2.pow(2)\n",
        "\n",
        "    cdiff_rr = 0.5*(cdiff_rr_1 + cdiff_rr_2)\n",
        "\n",
        "    #between model for inv\n",
        "    C_inva1 = (z1norm.T @ z2norm_2) / bs\n",
        "    cdiff_inva_1 = (C_inva1-I).pow(2)\n",
        "\n",
        "    C_inva2 = (z2norm.T @ z1norm_2) / bs\n",
        "    cdiff_inva_2 = (C_inva2-I).pow(2)\n",
        "\n",
        "    cdiff_inva = 0.5*(cdiff_inva_1 + cdiff_inva_2)\n",
        "\n",
        "    #loss = (1-t)*(cdiff_2*I).sum() + t*(cdiff_inva*I).sum() + (1-s)*lmb*(cdiff_2*(1-I)).sum() + s*lmb*(cdiff_rr*(1-I)).sum()\n",
        "    #loss = (cdiff_2*I).sum() + lmb*(cdiff_2*(1-I)).sum() + t*lmb*(cdiff_rr*(1-I)).sum()\n",
        "\n",
        "    #loss = (1-t)*(cdiff_2*I).sum() + t*(cdiff_inva*I).sum()  + lmb*(cdiff_rr*(1-I)).sum()\n",
        "\n",
        "    loss = (cdiff_2*I).sum()  + (1-s)*lmb*(cdiff_2*(1-I)).sum() + s*lmb*(cdiff_rr*(1-I)).sum()\n",
        "\n",
        "    torch.cuda.empty_cache()\n",
        "    return loss"
      ]
    },
    {
      "cell_type": "code",
      "execution_count": null,
      "metadata": {
        "id": "A0RaZ-Sl8aep"
      },
      "outputs": [],
      "source": [
        "#| export\n",
        "\n",
        "    \n",
        "def lf_4_enc(pred,I,lmb,\n",
        "               t,\n",
        "               s,\n",
        "               rp1=None,\n",
        "               rp2=None,\n",
        "               ):\n",
        "    \n",
        "    \"random projector, negatively correlate the encoder representations\"\n",
        "    pred1 = pred[0] #frozen\n",
        "    pred2 = pred[1] #has gradients\n",
        "\n",
        "    pred1_enc = pred[2]\n",
        "    pred2_enc = pred[3]\n",
        "    \n",
        "    \n",
        "    bs,nf = pred1.size(0)//2,pred1.size(1)\n",
        "\n",
        "    #All standard, from BT\n",
        "    z1, z2 = pred1[:bs],pred1[bs:] #so z1 is bs*projection_size, likewise for z2\n",
        "    z1norm = (z1 - z1.mean(0)) / (z1.std(0, unbiased=False) + 1e-7)\n",
        "    z2norm = (z2 - z2.mean(0)) / (z2.std(0, unbiased=False) + 1e-7)\n",
        "    \n",
        "    z1_2, z2_2 = pred2[:bs],pred2[bs:] #so z1 is bs*projection_size, likewise for z2\n",
        "    z1norm_2 = (z1_2 - z1_2.mean(0)) / (z1_2.std(0, unbiased=False) + 1e-7)\n",
        "    z2norm_2 = (z2_2 - z2_2.mean(0)) / (z2_2.std(0, unbiased=False) + 1e-7)\n",
        "\n",
        "    z1, z2 = pred1_enc[:bs],pred1_enc[bs:] #so z1 is bs*projection_size, likewise for z2\n",
        "\n",
        "    z1norm_enc = (z1 - z1.mean(0)) / (z1.std(0, unbiased=False) + 1e-7)\n",
        "    z2norm_enc = (z2 - z2.mean(0)) / (z2.std(0, unbiased=False) + 1e-7)\n",
        "    \n",
        "    # rp1 = RandProj()\n",
        "    # rp2 = RandProj()\n",
        "\n",
        "    z1,z2 = rp1(z1),rp2(z2)\n",
        "    \n",
        "    z1norm_rand = (z1 - z1.mean(0)) / (z1.std(0, unbiased=False) + 1e-7)\n",
        "    z2norm_rand = (z2 - z2.mean(0)) / (z2.std(0, unbiased=False) + 1e-7)\n",
        "\n",
        "    z1_2, z2_2 = pred2_enc[:bs],pred2_enc[bs:] #so z1 is bs*projection_size, likewise for z2\n",
        "\n",
        "    z1norm_2_enc = (z1_2 - z1_2.mean(0)) / (z1_2.std(0, unbiased=False) + 1e-7)\n",
        "    z2norm_2_enc = (z2_2 - z2_2.mean(0)) / (z2_2.std(0, unbiased=False) + 1e-7)\n",
        "\n",
        "\n",
        "    #We don't actually need encoder for unfrozen model, I believe, at this point.\n",
        "    \n",
        "    #Make sure gradients are turned off / turned on appropriately\n",
        "    test_eq(pred1.requires_grad,False)\n",
        "    test_eq(pred2.requires_grad,True)\n",
        "\n",
        "    # #Within frozen model \n",
        "    # C = (z1norm.T @ z2norm) / bs \n",
        "    # cdiff = (C - I)**2\n",
        "    \n",
        "    #Within model_2 (unfrozen)\n",
        "    C2 = (z1norm_2.T @ z2norm_2) / bs \n",
        "    cdiff_2 = (C2 - I)**2\n",
        "    \n",
        "    #between model rr\n",
        "    C_rr1=(z1norm_rand.T @ z1norm_2) / bs\n",
        "    cdiff_rr_1 = C_rr1.pow(2)\n",
        "\n",
        "    C_rr2=(z2norm_rand.T @ z2norm_2) / bs\n",
        "    cdiff_rr_2 = C_rr2.pow(2)\n",
        "\n",
        "    cdiff_rr = 0.5*(cdiff_rr_1 + cdiff_rr_2)\n",
        "\n",
        "    #between model for inv\n",
        "    #input('hi')\n",
        "    I_enc = torch.eye(2048).cuda()\n",
        "    C_inva1 = (z1norm_enc.T @ z2norm_2_enc) / bs\n",
        "    cdiff_inva_1 = (C_inva1+I_enc).pow(2)\n",
        "\n",
        "    #input('cdiff_inva_1 ok')\n",
        "\n",
        "    C_inva2 = (z2norm_enc.T @ z1norm_2_enc) / bs\n",
        "    cdiff_inva_2 = (C_inva2+I_enc).pow(2)\n",
        "\n",
        "    #input('cdiff_inva_2 ok')\n",
        "\n",
        "    cdiff_inva = 0.5*(cdiff_inva_1 + cdiff_inva_2)\n",
        "\n",
        "    loss = (1-t)*(cdiff_2*I).sum() + t*(cdiff_inva*I_enc).sum() + (1-s)*lmb*(cdiff_2*(1-I)).sum() + s*lmb*(cdiff_rr*(1-I)).sum()\n",
        "\n",
        "    torch.cuda.empty_cache()\n",
        "    return loss"
      ]
    },
    {
      "cell_type": "code",
      "execution_count": null,
      "metadata": {
        "id": "KmJUutfOTX0N"
      },
      "outputs": [],
      "source": [
        "#| export\n",
        "\n",
        "    \n",
        "def lf_5_enc(pred,I,lmb,\n",
        "               t,\n",
        "               s,\n",
        "               rp1=None,\n",
        "               rp2=None,\n",
        "               ):\n",
        "    \n",
        "    \"random projector, negatively correlate the encoder representations\"\n",
        "    pred1 = pred[0] #frozen\n",
        "    pred2 = pred[1] #has gradients\n",
        "\n",
        "    pred1_enc = pred[2]\n",
        "    pred2_enc = pred[3]\n",
        "    \n",
        "    \n",
        "    bs,nf = pred1.size(0)//2,pred1.size(1)\n",
        "\n",
        "    #All standard, from BT\n",
        "    z1, z2 = pred1[:bs],pred1[bs:] #so z1 is bs*projection_size, likewise for z2\n",
        "    z1norm = (z1 - z1.mean(0)) / (z1.std(0, unbiased=False) + 1e-7)\n",
        "    z2norm = (z2 - z2.mean(0)) / (z2.std(0, unbiased=False) + 1e-7)\n",
        "    \n",
        "    z1_2, z2_2 = pred2[:bs],pred2[bs:] #so z1 is bs*projection_size, likewise for z2\n",
        "    z1norm_2 = (z1_2 - z1_2.mean(0)) / (z1_2.std(0, unbiased=False) + 1e-7)\n",
        "    z2norm_2 = (z2_2 - z2_2.mean(0)) / (z2_2.std(0, unbiased=False) + 1e-7)\n",
        "\n",
        "    z1, z2 = pred1_enc[:bs],pred1_enc[bs:] #so z1 is bs*projection_size, likewise for z2\n",
        "    z1norm_enc = (z1 - z1.mean(0)) / (z1.std(0, unbiased=False) + 1e-7)\n",
        "    z2norm_enc = (z2 - z2.mean(0)) / (z2.std(0, unbiased=False) + 1e-7)\n",
        "\n",
        "    z1_2, z2_2 = pred2_enc[:bs],pred2_enc[bs:] #so z1 is bs*projection_size, likewise for z2\n",
        "    z1norm_2_enc = (z1_2 - z1_2.mean(0)) / (z1_2.std(0, unbiased=False) + 1e-7)\n",
        "    z2norm_2_enc = (z2_2 - z2_2.mean(0)) / (z2_2.std(0, unbiased=False) + 1e-7)\n",
        "\n",
        "\n",
        "    #We don't actually need encoder for unfrozen model, I believe, at this point.\n",
        "    \n",
        "    #Make sure gradients are turned off / turned on appropriately\n",
        "    test_eq(pred1.requires_grad,False)\n",
        "    test_eq(pred2.requires_grad,True)\n",
        "\n",
        "    # #Within frozen model \n",
        "    # C = (z1norm.T @ z2norm) / bs \n",
        "    # cdiff = (C - I)**2\n",
        "    \n",
        "    #Within model_2 (unfrozen)\n",
        "    C2 = (z1norm_2.T @ z2norm_2) / bs \n",
        "    cdiff_2 = (C2 - I)**2\n",
        "    \n",
        "    #between model rr\n",
        "    C_rr1=(z1norm_enc.T @ z2norm_2_enc) / bs\n",
        "    cdiff_rr_1 = C_rr1.pow(2)\n",
        "\n",
        "    C_rr2=(z2norm_enc.T @ z1norm_2_enc) / bs\n",
        "    cdiff_rr_2 = C_rr2.pow(2)\n",
        "\n",
        "    cdiff_rr = 0.5*(cdiff_rr_1 + cdiff_rr_2)\n",
        "\n",
        "    #between model for inv\n",
        "    #input('hi')\n",
        "    I_enc = torch.eye(2048).cuda()\n",
        "    C_inva1 = (z1norm_enc.T @ z2norm_2_enc) / bs\n",
        "    cdiff_inva_1 = (C_inva1+I_enc).pow(2)\n",
        "\n",
        "    #input('cdiff_inva_1 ok')\n",
        "\n",
        "    C_inva2 = (z2norm_enc.T @ z1norm_2_enc) / bs\n",
        "    cdiff_inva_2 = (C_inva2+I_enc).pow(2)\n",
        "\n",
        "    #input('cdiff_inva_2 ok')\n",
        "\n",
        "    cdiff_inva = 0.5*(cdiff_inva_1 + cdiff_inva_2)\n",
        "\n",
        "    loss = (cdiff_2*I).sum() + lmb*(cdiff_2*(1-I)).sum() + t*(cdiff_rr*(1-I_enc)).sum()\n",
        "\n",
        "    torch.cuda.empty_cache()\n",
        "    return loss"
      ]
    },
    {
      "cell_type": "code",
      "execution_count": null,
      "metadata": {
        "id": "u4-Q75B_UvtM"
      },
      "outputs": [],
      "source": [
        "(1/(2048)*(2048-1))"
      ]
    },
    {
      "cell_type": "code",
      "execution_count": null,
      "metadata": {
        "id": "z3FmuzdxPpOr"
      },
      "outputs": [],
      "source": [
        "import gc\n",
        "\n",
        "#lf can be: lf_1_enc, lf_1_proj, lf_2_enc, lf_2_proj\n",
        "def run_main_train_ens(main_dict_1,num_epochs=300,freeze_num_epochs=1,freeze_numfit=6,numfit=75,num=3,_lf=lf_1_enc):\n",
        "\n",
        "    if _lf == lf_3_enc or _lf == lf_4_enc:\n",
        "\n",
        "        @patch\n",
        "        def lf(self:BarlowTwinsEns, pred,*yb): return _lf(pred,I=self.I,lmb=self.lmb,t=self.t,s=self.s,rp1=self.rp1,rp2=self.rp2) #pass them to loss function\n",
        "\n",
        "    else:\n",
        "\n",
        "        @patch\n",
        "        def lf(self:BarlowTwinsEns, pred,*yb): return _lf(pred,I=self.I,lmb=self.lmb,t=self.t,s=self.s) #pass them to loss function\n",
        "\n",
        "\n",
        "\n",
        "    main_dict_2 = {}\n",
        "    results = {'net_1':main_dict_1}\n",
        "\n",
        "    for i in range(num):\n",
        "\n",
        "        # if i !=2:\n",
        "        #     continue\n",
        "\n",
        "        # print(i)\n",
        "\n",
        "        #load 300-epoch model here...\n",
        "        with torch.no_grad():\n",
        "            #path = '/content/drive/My Drive/proj_net_1_'+f'{i}'\n",
        "            path = main_dict_1[i]['bt_model_path'] #300 epoch\n",
        "            \n",
        "            bt_model,_ = create_model(which_model='no_pretrain',ps=8192,device=device)\n",
        "            bt_model.load_state_dict(torch.load(path, map_location='cuda:0'))\n",
        "\n",
        "\n",
        "        with torch.no_grad():\n",
        "\n",
        "            main_ens = main_train_ensemble(dls_train=dls_train,dls_tune=dls_tune,dls_valid=dls_valid, xval=xval, yval=yval,\n",
        "                    aug_pipelines=aug_pipelines, aug_pipelines_tune=aug_pipelines_tune, aug_pipelines_test=aug_pipelines_test, \n",
        "                    initial_weights='no_pretrain',pretrain=True,\n",
        "                    num_epochs=num_epochs,numfit=numfit,freeze_num_epochs=freeze_num_epochs,freeze_numfit=freeze_numfit,\n",
        "                    print_report=True,model=bt_model,\n",
        "                    lmb=lmb,\n",
        "                    lr_max=lr_max,\n",
        "                    tune_model_path = directory + f'/tune_net_2' + '_' f'{_lf.__name__}' + '_' f'{i}'\n",
        "                            )\n",
        "        \n",
        "        main_ens.train_encoder()\n",
        "        print('trained second encoder')\n",
        "\n",
        "        #metrics = main.fine_tune()\n",
        "        \n",
        "        print('fine tuned number 1')\n",
        "        metrics_ens = main_ens.fine_tune()\n",
        "        print('fine tuned number 2')\n",
        "\n",
        "        #main_dict_1[i] = metrics\n",
        "        main_dict_2[i] = metrics_ens\n",
        "\n",
        "  \n",
        "    results['net_2'] = main_dict_2\n",
        "\n",
        "    print(f'{_lf.__name__}'+'_results')\n",
        "\n",
        "    save_dict_to_gdrive(d=results,directory=directory,filename=f'{_lf.__name__}'+'_results')\n",
        "\n"
      ]
    },
    {
      "cell_type": "code",
      "execution_count": null,
      "metadata": {
        "id": "_jrbkhvD81YH"
      },
      "outputs": [],
      "source": [
        "gc.collect()\n",
        "torch.cuda.empty_cache()"
      ]
    },
    {
      "cell_type": "code",
      "source": [],
      "metadata": {
        "id": "ZUdrLyEfVMQY"
      },
      "execution_count": null,
      "outputs": []
    },
    {
      "cell_type": "code",
      "execution_count": null,
      "metadata": {
        "id": "_S7lL-NQPDrA"
      },
      "outputs": [],
      "source": [
        "#run_main_train(main_dict_1,_lf=lf_1_enc\n",
        "run_main_train_ens(main_dict,_lf=lf_3_enc,num_epochs=200,freeze_num_epochs=1,freeze_numfit=6,numfit=50,num=num)"
      ]
    },
    {
      "cell_type": "markdown",
      "metadata": {
        "id": "XjtTkt3M5YAG"
      },
      "source": [
        "#Load results, and display:"
      ]
    },
    {
      "cell_type": "code",
      "execution_count": null,
      "metadata": {
        "id": "Ai0aiE1WKTjJ"
      },
      "outputs": [],
      "source": [
        "from statistics import mean,stdev\n",
        "\n",
        "def load_results(_lf):\n",
        "    #_directory = '/content/drive/My Drive/random_initial_weights'\n",
        "    filename=f'{_lf.__name__}'+'_results'\n",
        "    results = load_dict_from_gdrive(directory=directory,filename=f'{_lf.__name__}'+'_results')\n",
        "    main_dict_1 = results['net_1']\n",
        "    main_dict_2 = results['net_2']\n",
        "    main_dict_1 = {i:main_dict_1[i] for i in range(num)}\n",
        "    results = {'net_1':main_dict_1,'net_2':main_dict_2}\n",
        "\n",
        "    return results,main_dict_1,main_dict_2\n",
        "\n",
        "\n",
        "from itertools import combinations\n",
        "def within_ensemble_results(results,key,param='pretrain'):\n",
        "\n",
        "    print(f'Results for {key}')\n",
        "\n",
        "    _results = list(results[key].values())\n",
        "    _results = list(combinations(_results,2)) #all pairs of results. So for num=3, will be 3\n",
        "    lst=[]\n",
        "    for v in _results:\n",
        "\n",
        "        print(f\"\\nAcc of first guy in ensemble is: {v[0]['acc']}\")\n",
        "        print(f\"Acc of second guy in ensemble is: {v[1]['acc']}\")\n",
        "\n",
        "        _,acc = predict_ensemble(yval=yval,scores1=v[0]['scores'],scores2=v[1]['scores'])\n",
        "        #acc = predict_ensemble(v[0]['probs'],v[1]['probs'],dls_valid)\n",
        "\n",
        "        print(f'Acc of ensemble is:{acc}\\n')\n",
        "        lst.append(acc)\n",
        "\n",
        "    print(f\"mean is: {mean(lst)}\")\n",
        "    print(f\"std is: {stdev(lst)}\\n\")\n",
        "\n",
        "\n",
        "import itertools\n",
        "def between_ensemble_results(results,key1,key2,param='pretrain'):\n",
        "\n",
        "    _results = list(zip(results[key1].values(), results[key2].values()))\n",
        "    lst=[]\n",
        "\n",
        "    for v in _results:\n",
        "\n",
        "        print(f\"\\nAcc of first guy in ensemble ({key1}) is: {v[0]['acc']}\")\n",
        "        print(f\"Acc of second guy in ensemble ({key2}) is: {v[1]['acc']}\")\n",
        "        #acc = predict_cifar_ensemble(v[0]['probs_dict'],v[1]['probs_dict'],dls_valid)\n",
        "        _,acc = predict_ensemble(yval=yval,scores1=v[0]['scores'],scores2=v[1]['scores'])\n",
        "        lst.append(acc)\n",
        "        print(f'Acc of ensemble is:{acc}\\n')\n",
        "\n",
        "    print(f\"mean is: {mean(lst)}\")\n",
        "    print(f\"std is: {stdev(lst)}\\n\")\n"
      ]
    },
    {
      "cell_type": "markdown",
      "metadata": {
        "id": "7NUiIHF08BTF"
      },
      "source": [
        "# Experiment 0): Train baselines, and also use them in what follows:"
      ]
    },
    {
      "cell_type": "code",
      "execution_count": null,
      "metadata": {
        "id": "q2023Fpd-IH6"
      },
      "outputs": [],
      "source": [
        "num=6\n",
        "num_epochs=300\n",
        "freeze_num_epochs=1\n",
        "freeze_numfit=6\n",
        "numfit=50\n",
        "\n",
        "main_dict = run_main_train(pretrain=True,num_epochs=num_epochs,freeze_num_epochs=freeze_num_epochs,\n",
        "                           freeze_numfit=freeze_numfit,numfit=numfit,num=num\n",
        "                           )\n",
        "main_dict['fnames']=fnames\n",
        "main_dict['fnames_train']=fnames_train\n",
        "main_dict['fnames_val']=fnames_val\n",
        "save_dict_to_gdrive(d=main_dict,directory=directory,filename='main_dict')\n",
        "\n",
        "for i in range(num):\n",
        "    print(main_dict[i]['acc'])"
      ]
    },
    {
      "cell_type": "markdown",
      "metadata": {
        "id": "MTC3GKjs5otx"
      },
      "source": [
        "#Experiments:"
      ]
    },
    {
      "cell_type": "code",
      "execution_count": null,
      "metadata": {
        "id": "SJTlG-tPAcjj"
      },
      "outputs": [],
      "source": [
        "lr_max=0.0005495408549904823"
      ]
    },
    {
      "cell_type": "code",
      "execution_count": null,
      "metadata": {
        "id": "9aH2ktAGAMBC"
      },
      "outputs": [],
      "source": [
        "\n",
        "@patch\n",
        "def before_epoch(self:BarlowTwinsEns):\n",
        "    \"This is explicitly assuming that we train for 300 epochs. Need to patch in otherwise...\"\n",
        "    \n",
        "    self.t=0.0\n",
        "    epoch=self.epoch\n",
        "    s=self.s\n",
        "    t=self.t\n",
        "\n",
        "    # self.rp1 = RandProj()\n",
        "    # self.rp2 = RandProj()\n",
        "\n",
        "\n",
        "\n",
        "    if epoch < 5:\n",
        "        s=0.9\n",
        "\n",
        "    if epoch == 5:\n",
        "        s=0.5\n",
        "\n",
        "    if epoch == 200:\n",
        "        s=0.25\n",
        "\n",
        "    if epoch == 250:\n",
        "        s=0.125\n",
        "\n",
        "    if epoch == 275:\n",
        "        s=0.05\n",
        "\n",
        "    if epoch == 290:\n",
        "        s=0.0\n",
        "\n",
        "\n",
        "    self.t=t\n",
        "    self.s=s\n"
      ]
    },
    {
      "cell_type": "code",
      "execution_count": null,
      "metadata": {
        "id": "RAsZBYdl5hop"
      },
      "outputs": [],
      "source": [
        "#run experiment\n",
        "\n",
        "def run_experiment(_lf,main_dict,num_epochs,freeze_num_epochs,\n",
        "                            freeze_numfit,numfit,num):\n",
        "\n",
        "    #run experiment\n",
        "    run_main_train_ens(main_dict,_lf=_lf,num_epochs=num_epochs,freeze_num_epochs=freeze_num_epochs,\n",
        "                            freeze_numfit=freeze_numfit,numfit=numfit,num=num\n",
        "                            )\n",
        "    #get results and print\n",
        "\n",
        "    print(f'results for _lf={_lf.__name__}')\n",
        "    results,main_dict_1,main_dict_2 =  load_results(_lf=_lf)\n",
        "    \n",
        "    print('First nets trained have acc: ')\n",
        "    lst_1 = [main_dict_1[i]['acc'] for i in range(num)]\n",
        "    print(lst_1)\n",
        "    print(f'And the mean for first nets is: {mean(lst_1)}')\n",
        "\n",
        "    print('Second nets trained have acc: ')\n",
        "    lst_2 = [main_dict_2[i]['acc'] for i in range(num)]\n",
        "    print(lst_2)\n",
        "    print(f'And the mean for second nets is: {mean(lst_2)}')\n",
        "\n",
        "    print('within ensemble results for net_1:')\n",
        "    within_ensemble_results(results,key='net_1',param='pretrain')\n",
        "    print('within ensemble results for net_2:')\n",
        "    within_ensemble_results(results,key='net_2',param='pretrain')\n",
        "    print('between ensemble results:')\n",
        "    between_ensemble_results(results,key1='net_1',key2='net_2',param='pretrain')\n",
        "\n"
      ]
    },
    {
      "cell_type": "code",
      "execution_count": null,
      "metadata": {
        "id": "7cSts4K1CKDz"
      },
      "outputs": [],
      "source": [
        "num=6\n",
        "num_epochs=300\n",
        "freeze_num_epochs=1\n",
        "freeze_numfit=6\n",
        "numfit=50\n",
        "\n",
        "run_experiment(_lf=lf_3_enc,main_dict=main_dict,num_epochs=num_epochs,freeze_num_epochs=freeze_num_epochs,\n",
        "                        freeze_numfit=freeze_numfit,numfit=numfit,num=num)"
      ]
    },
    {
      "cell_type": "code",
      "execution_count": null,
      "metadata": {
        "id": "qBT5ZR4h7_lD"
      },
      "outputs": [],
      "source": [
        "main_dict.keys()"
      ]
    },
    {
      "cell_type": "code",
      "execution_count": null,
      "metadata": {
        "id": "M-zf2OOzj2YH"
      },
      "outputs": [],
      "source": [
        "learn.lr_find??\n",
        "\n",
        "def lr_find(self:Learner, start_lr=1e-7, end_lr=10, num_it=100, stop_div=True, show_plot=True, suggest_funcs=(SuggestionMethod.Valley))"
      ]
    },
    {
      "cell_type": "code",
      "execution_count": null,
      "metadata": {
        "id": "ZmjGP_6QoTAw"
      },
      "outputs": [],
      "source": [
        "for i in range(num):\n",
        "    print(main_dict[i]['acc'])"
      ]
    },
    {
      "cell_type": "code",
      "execution_count": null,
      "metadata": {
        "id": "ysNehHk9YYp2"
      },
      "outputs": [],
      "source": [
        "# path = main_dict[1]['bt_model_path'] #300 epoch\n",
        "    \n",
        "# bt_model,_ = create_model(which_model='no_pretrain',ps=8192,device=device)\n",
        "# bt_model.load_state_dict(torch.load(path, map_location='cuda:0'))\n",
        "\n",
        "\n",
        "# with torch.no_grad():\n",
        "\n",
        "    \n",
        "#     bt_model2,encoder2 = create_ens_model(model=bt_model,ps=8192,device=device)\n",
        "\n",
        "\n",
        "\n",
        "with torch.no_grad():\n",
        "    path = main_dict[1]['tune_model_path']\n",
        "    _,encoder = create_model(which_model='no_pretrain',ps=8192,device=device)\n",
        "    model = LM(encoder,numout=10)\n",
        "    model.load_state_dict(torch.load(path, map_location='cuda:0'))\n",
        "    model.cpu()\n",
        "\n",
        "    #Ok as for lf_3_enc we don't actually use the projector at the moment...\n",
        "    model = create_barlow_twins_model(model.encoder,8192,8192)\n",
        "    model.cuda()\n",
        "\n",
        "    bt_model2,encoder2 = create_ens_model(model=model,ps=8192,device=device)\n",
        "\n",
        "\n",
        "\n",
        "@patch\n",
        "def lf(self:BarlowTwinsEns, pred,*yb): return lf_3_enc(pred,I=self.I,lmb=self.lmb,t=self.t,s=self.s,rp1=self.rp1,rp2=self.rp2) #pass them to loss function\n",
        "\n",
        "learn = Learner(dls_train,bt_model2,cbs=[BarlowTwinsEns(aug_pipelines,n_in=3,lmb=lmb,print_augs=False)])\n",
        "lrs = learn.lr_find(start_lr=1e-7,end_lr=0.01,num_it=1000)\n",
        "\n",
        "print(lrs.valley)\n",
        "\n",
        "lr_max=lrs.valley\n",
        "\n",
        "#0.0005128613556735218 i=1\n"
      ]
    },
    {
      "cell_type": "code",
      "source": [
        "0.00018836490926332772 #s=0.5"
      ],
      "metadata": {
        "id": "qxxU9LQ_jUd_"
      },
      "execution_count": null,
      "outputs": []
    },
    {
      "cell_type": "code",
      "execution_count": null,
      "metadata": {
        "id": "v1n7mAmNadUh"
      },
      "outputs": [],
      "source": [
        "@patch\n",
        "def before_epoch(self:BarlowTwinsEns):\n",
        "    \"This is explicitly assuming that we train for 300 epochs. Need to patch in otherwise...\"\n",
        "    \n",
        "    self.t=0.0\n",
        "    epoch=self.epoch\n",
        "    s=self.s\n",
        "    t=self.t\n",
        "\n",
        "    self.rp1 = RandProj()\n",
        "    self.rp2 = RandProj()\n",
        "\n",
        "    s=None\n",
        "    t=None\n",
        "\n",
        "    s=0.5\n",
        "\n",
        "    #t=0.2\n",
        "\n",
        "\n",
        "    # self.rp1=None\n",
        "    # self.rp2=None\n",
        "\n",
        "  \n",
        " \n",
        "    self.s=s\n",
        "    self.t=t\n",
        "\n",
        "\n",
        "    return"
      ]
    },
    {
      "cell_type": "code",
      "source": [
        "main_dict[1].keys()\n",
        "\n",
        "\n",
        "with torch.no_grad():\n",
        "    path = main_dict[1]['tune_model_path']\n",
        "    _,encoder = create_model(which_model='no_pretrain',ps=8192,device=device)\n",
        "    model = LM(encoder,numout=10)\n",
        "    model.load_state_dict(torch.load(path, map_location='cuda:0'))\n",
        "    model.cpu()\n",
        "\n",
        "    model = create_barlow_twins_model(model.encoder,8192,8192)\n",
        "    model.cuda()\n",
        "\n",
        "print(model(xval).shape)"
      ],
      "metadata": {
        "id": "upW7X6PDxSBU"
      },
      "execution_count": null,
      "outputs": []
    },
    {
      "cell_type": "code",
      "execution_count": null,
      "metadata": {
        "id": "Tw4bTpjLEm7G"
      },
      "outputs": [],
      "source": [
        "#just run second guy\n",
        "\n",
        "\n",
        "\n",
        "#lf can be: lf_1_enc, lf_1_proj, lf_2_enc, lf_2_proj\n",
        "def run_main_train_ens(main_dict_1,num_epochs=300,freeze_num_epochs=1,freeze_numfit=6,numfit=75,num=3,_lf=lf_1_enc):\n",
        "\n",
        "    if _lf == lf_3_enc or _lf==lf_4_enc:\n",
        "\n",
        "        @patch\n",
        "        def lf(self:BarlowTwinsEns, pred,*yb): return _lf(pred,I=self.I,lmb=self.lmb,t=self.t,s=self.s,rp1=self.rp1,rp2=self.rp2) #pass them to loss function\n",
        "\n",
        "    else:\n",
        "\n",
        "        @patch\n",
        "        def lf(self:BarlowTwinsEns, pred,*yb): return _lf(pred,I=self.I,lmb=self.lmb,t=self.t,s=self.s) #pass them to loss function\n",
        "\n",
        "\n",
        "    main_dict_2 = {}\n",
        "    results = {'net_1':main_dict_1}\n",
        "\n",
        "    for i in range(num):\n",
        "\n",
        "        # if i !=1:\n",
        "        #     continue\n",
        "\n",
        "        print(i)\n",
        "\n",
        "        #load 300-epoch model here...\n",
        "        # with torch.no_grad():\n",
        "        #     #path = '/content/drive/My Drive/proj_net_1_'+f'{i}'\n",
        "        #     path = main_dict_1[i]['bt_model_path'] #300 epoch\n",
        "            \n",
        "        #     bt_model,_ = create_model(which_model='no_pretrain',ps=8192,device=device)\n",
        "        #     bt_model.load_state_dict(torch.load(path, map_location='cuda:0'))\n",
        "\n",
        "        with torch.no_grad():\n",
        "            path = main_dict[i]['tune_model_path']\n",
        "            _,encoder = create_model(which_model='no_pretrain',ps=8192,device=device)\n",
        "            model = LM(encoder,numout=10)\n",
        "            model.load_state_dict(torch.load(path, map_location='cuda:0'))\n",
        "            model.cpu()\n",
        "\n",
        "            #Ok as for lf_3_enc we don't actually use the projector at the moment...\n",
        "            bt_model = create_barlow_twins_model(model.encoder,8192,8192)\n",
        "            bt_model.cuda()\n",
        "\n",
        "\n",
        "            print(lr_max)\n",
        "\n",
        "\n",
        "            main_ens = main_train_ensemble(dls_train=dls_train,dls_tune=dls_tune,dls_valid=dls_valid, xval=xval, yval=yval,\n",
        "                    aug_pipelines=aug_pipelines, aug_pipelines_tune=aug_pipelines_tune, aug_pipelines_test=aug_pipelines_test, \n",
        "                    initial_weights='no_pretrain',pretrain=True,\n",
        "                    num_epochs=num_epochs,numfit=numfit,freeze_num_epochs=freeze_num_epochs,freeze_numfit=freeze_numfit,\n",
        "                    print_report=True,model=bt_model,\n",
        "                    lmb=lmb,\n",
        "                    lr_max=lr_max,\n",
        "                    tune_model_path = directory + f'/tune_net_2' + '_' f'{_lf.__name__}' + '_' f'{i}'\n",
        "                            )\n",
        "        \n",
        "        main_ens.train_encoder()\n",
        "        print('trained second encoder')\n",
        "\n",
        "        #metrics = main.fine_tune()\n",
        "        \n",
        "        print('fine tuned number 1')\n",
        "        metrics_ens = main_ens.fine_tune()\n",
        "        print('fine tuned number 2')\n",
        "\n",
        "        #main_dict_1[i] = metrics\n",
        "        main_dict_2[i] = metrics_ens\n",
        "  \n",
        "    results['net_2'] = main_dict_2\n",
        "\n",
        "    print(f'{_lf.__name__}'+'_results')\n",
        "\n",
        "    save_dict_to_gdrive(d=results,directory=directory,filename=f'{_lf.__name__}'+'_results')\n",
        "\n",
        "run_main_train_ens(main_dict,num_epochs=300,freeze_num_epochs=1,freeze_numfit=6,numfit=75,num=3,_lf=lf_3_enc)\n",
        "#"
      ]
    },
    {
      "cell_type": "code",
      "execution_count": null,
      "metadata": {
        "id": "7sR_VXAfi1CV"
      },
      "outputs": [],
      "source": [
        "results,main_dict_1,main_dict_2 = load_results(lf_3_enc)\n",
        "results.keys()"
      ]
    },
    {
      "cell_type": "code",
      "execution_count": null,
      "metadata": {
        "id": "2MUH3Ua35cd5"
      },
      "outputs": [],
      "source": [
        "results['net_1'][1]['scores']"
      ]
    },
    {
      "cell_type": "code",
      "execution_count": null,
      "metadata": {
        "id": "eHN5sHGnS4DS"
      },
      "outputs": [],
      "source": [
        "results['net_2'][1]['scores']"
      ]
    },
    {
      "cell_type": "code",
      "execution_count": null,
      "metadata": {
        "id": "MAKHXieDIa6o"
      },
      "outputs": [],
      "source": [
        "#load results from above cell and run...\n",
        "num=6\n",
        "results,main_dict_1,main_dict_2 = load_results(lf_3_enc)\n",
        "results.keys()\n",
        "\n",
        "print(results['net_1'][1]['acc'])\n",
        "print(results['net_2'][1]['acc'])\n",
        "_,acc = predict_ensemble(yval=yval,scores1=results['net_1'][1]['scores'],scores2=results['net_2'][1]['scores'])\n",
        "print(acc)\n",
        "#s=0.2"
      ]
    },
    {
      "cell_type": "code",
      "source": [
        "#This was with s=0.5, fixed\n",
        "\n",
        "0.6328125\n",
        "0.61328125\n",
        "0.66796875"
      ],
      "metadata": {
        "id": "53I-237vRqkO"
      },
      "execution_count": null,
      "outputs": []
    },
    {
      "cell_type": "code",
      "execution_count": null,
      "metadata": {
        "id": "H2jjoAbUV-bD"
      },
      "outputs": [],
      "source": [
        "run_experiment(_lf=lf_2_proj,main_dict=main_dict,num_epochs=num_epochs,freeze_num_epochs=freeze_num_epochs,\n",
        "                        freeze_numfit=freeze_numfit,numfit=numfit,num=num)"
      ]
    }
  ],
  "metadata": {
    "accelerator": "GPU",
    "colab": {
      "machine_shape": "hm",
      "provenance": [],
      "include_colab_link": true
    },
    "gpuClass": "premium",
    "kernelspec": {
      "display_name": "Python 3 (ipykernel)",
      "language": "python",
      "name": "python3"
    }
  },
  "nbformat": 4,
  "nbformat_minor": 0
}