{
  "cells": [
    {
      "cell_type": "markdown",
      "metadata": {
        "id": "view-in-github",
        "colab_type": "text"
      },
      "source": [
        "<a href=\"https://colab.research.google.com/github/hamish-haggerty/AI-hacking/blob/master/SSL/tune_hacking_cancer_maintrain.ipynb\" target=\"_parent\"><img src=\"https://colab.research.google.com/assets/colab-badge.svg\" alt=\"Open In Colab\"/></a>"
      ]
    },
    {
      "cell_type": "markdown",
      "metadata": {
        "id": "JqZPF94637Fk"
      },
      "source": [
        "# cancer_maintrain\n",
        "\n",
        "> Please add a description. Don't forgot to edit the below cell!!"
      ]
    },
    {
      "cell_type": "code",
      "execution_count": 1,
      "metadata": {
        "id": "gFWev-_Q37Fm"
      },
      "outputs": [],
      "source": [
        "#| default_exp cancer_maintrain"
      ]
    },
    {
      "cell_type": "markdown",
      "metadata": {
        "id": "-Cat536_37Fn"
      },
      "source": [
        "Setup: Surely there is a way to get rid of having to put this cell everywhere. hmmm.\n",
        "\n",
        "Or we can just copy paste / delete this in and out when needed. Either way, getting close to a decent workable workflow."
      ]
    },
    {
      "cell_type": "code",
      "execution_count": 2,
      "metadata": {
        "id": "fO8vhi6b37Fn",
        "colab": {
          "base_uri": "https://localhost:8080/"
        },
        "outputId": "b971871d-5064-47d1-b39c-cd052c7c5f98"
      },
      "outputs": [
        {
          "output_type": "stream",
          "name": "stdout",
          "text": [
            "Mounted at /content/drive\n"
          ]
        }
      ],
      "source": [
        "#| hide\n",
        "\n",
        "def colab_is_true():\n",
        "\n",
        "    try: \n",
        "        from google.colab import drive\n",
        "\n",
        "        return True \n",
        "    except ModuleNotFoundError:\n",
        "        return False\n",
        "\n",
        "def setup_colab():\n",
        "    import os\n",
        "    from google.colab import drive\n",
        "    drive.mount('/content/drive',force_remount=True)\n",
        "    #os.system('unzip -q \"/content/drive/My Drive/archive (1).zip\"')\n",
        "    os.system('git clone https://github.com/hamish-haggerty/cancer-proj.git')\n",
        "    os.chdir('cancer-proj')\n",
        "    os.system('unzip -q \"/content/drive/My Drive/archive (1).zip\"') #does this work?\n",
        "    os.system('pip install -e .')\n",
        "    os.system('pip install -qU nbdev')\n",
        "    os.system('nbdev_install_quarto')\n",
        "\n",
        "if __name__ == \"__main__\":\n",
        "    on_colab = colab_is_true()\n",
        "    if on_colab:\n",
        "        setup_colab()"
      ]
    },
    {
      "cell_type": "code",
      "execution_count": 3,
      "metadata": {
        "id": "VNjMrD_W37Fo"
      },
      "outputs": [],
      "source": [
        "#| hide\n",
        "\n",
        "from nbdev.showdoc import *"
      ]
    },
    {
      "cell_type": "code",
      "execution_count": 4,
      "metadata": {
        "id": "1RZVlbHF37Fo"
      },
      "outputs": [],
      "source": [
        "#| export\n",
        "from fastai.vision.all import *\n",
        "#| export\n",
        "from base_rbt.all import *\n",
        "from cancer_proj.cancer_dataloading import *\n",
        "from cancer_proj.cancer_metrics import *"
      ]
    },
    {
      "cell_type": "code",
      "source": [
        "def get_fnames_dict(train_dir,test_dir,class_names):\n",
        "    \"get dictionary of fnames\"\n",
        "\n",
        "        #files names\n",
        "    fnames = get_image_files(train_dir)\n",
        "\n",
        "    #Extract training set\n",
        "    max_num =100 #maximum number of samples in each class\n",
        "    count_dict = {i:0 for i in class_names}\n",
        "    fnames_train = []\n",
        "    for i in fnames:\n",
        "        #st=extract_text(i.as_posix())\n",
        "        st=label_func(i)\n",
        "        \n",
        "        if count_dict[st]<max_num: #no more than 100 samples per category\n",
        "            fnames_train.append(i)\n",
        "            count_dict[st]+=1\n",
        "                    \n",
        "    #We further partition fnames_train into a tune-valiation set\n",
        "    count_dict2 = {i:0 for i in class_names}\n",
        "    fnames_tune = []\n",
        "    for i in fnames_train:\n",
        "        st = label_func(i)\n",
        "        if count_dict2[st] < 0.8*count_dict[st]:\n",
        "            fnames_tune.append(i)\n",
        "            count_dict2[st]+=1\n",
        "            \n",
        "\n",
        "\n",
        "    fnames_valid = get_difference(fnames_train,fnames_tune)\n",
        "\n",
        "    fnames_test = get_difference(fnames,fnames_train) + get_image_files(test_dir)\n",
        "\n",
        "    fnames_train = fnames_tune\n",
        "\n",
        "    return {'fnames':fnames,'fnames_train':fnames_train,'fnames_tune':fnames_tune,\n",
        "            'fnames_valid':fnames_valid,\n",
        "            'fnames_test':fnames_test\n",
        "            }"
      ],
      "metadata": {
        "id": "oG0ucDMpxaYP"
      },
      "execution_count": 5,
      "outputs": []
    },
    {
      "cell_type": "markdown",
      "metadata": {
        "id": "UOarq5rB37Fp"
      },
      "source": [
        "For now just get the data however it works. Will fix this later. But want to get `main_train` working for now"
      ]
    },
    {
      "cell_type": "code",
      "source": [
        "#| export\n",
        "\n",
        "def get_fnames_dls_dict(train_dir,test_dir,\n",
        "                        device,bs_val,bs=256,bs_tune=256,size=128,n_in=3,\n",
        "                        ):\n",
        "\n",
        "    \"Wrapper that returns a dictionary with the fnames, dls etc\"\n",
        "\n",
        "    #do stuff\n",
        "\n",
        "    class_names = get_file_lists(train_dir)['class_names']\n",
        "    \n",
        "    fnames_dict = get_fnames_dict(train_dir,test_dir,class_names)\n",
        "\n",
        "    data_dict = get_data_dict(fnames_dict,train_dir,test_dir, #basic stuff needed\n",
        "                  device,bs_val,bs=bs,bs_tune=bs_tune,size=size,n_in=n_in #hyperparameters\n",
        "                 )\n",
        "\n",
        "    d = {**fnames_dict,**data_dict}\n",
        "    \n",
        "    return d\n",
        "\n"
      ],
      "metadata": {
        "id": "b13SmrX5L0C8"
      },
      "execution_count": 6,
      "outputs": []
    },
    {
      "cell_type": "markdown",
      "metadata": {
        "id": "eN4Js6uo37Fq"
      },
      "source": [
        "## Load the data"
      ]
    },
    {
      "cell_type": "code",
      "execution_count": 7,
      "metadata": {
        "id": "pp3x3wbL37Fq"
      },
      "outputs": [],
      "source": [
        "#| hide\n",
        "\n",
        "#Since we have cloned repository and cd'd into it (and the data itself is not stored in the\n",
        "#repo) we need cd out of it, get the data, then cd back into the repo `cancer-proj`.\n",
        "#This is a bit annoying, can maybe remove this later\n",
        "if on_colab:\n",
        "    #os.chdir('..') #assumes we are currently in cancer-proj directory\n",
        "    train_dir = colab_train_dir\n",
        "    test_dir = colab_test_dir\n",
        "else:\n",
        "    train_dir = local_train_dir\n",
        "    test_dir = local_test_dir\n",
        "    \n",
        "\n",
        "\n",
        "#define general hps\n",
        "device ='cuda' if torch.cuda.is_available() else 'cpu'\n",
        "#bs=256\n",
        "#bs=698\n",
        "bs=256\n",
        "bs_tune=256\n",
        "size=128\n",
        "bs_val=174\n",
        "\n",
        "#get the data dictionary\n",
        "data_dict = get_fnames_dls_dict(train_dir=train_dir,test_dir=test_dir,\n",
        "                    device=device,bs_val=bs_val,bs=bs,bs_tune=bs_tune,size=size,n_in=3)\n",
        "\n",
        "#get the dataloaders\n",
        "dls_train,dls_tune,dls_valid = data_dict['dls_train'],data_dict['dls_tune'],data_dict['dls_valid']\n",
        "x,y = data_dict['x'],data_dict['y']\n",
        "xval,yval = data_dict['xval'],data_dict['yval']\n",
        "xtune,ytune = data_dict['xtune'],data_dict['ytune']\n",
        "vocab = data_dict['vocab']\n",
        "\n",
        "#If we want to write some tests (make sure the data is same every time etc):\n",
        "fnames,fnames_train,fnames_tune,fnames_valid,fnames_test = data_dict['fnames'],data_dict['fnames_train'],data_dict['fnames_tune'],data_dict['fnames_valid'],data_dict['fnames_test']\n",
        "\n",
        "# if on_colab:\n",
        "#     os.chdir('cancer-proj')"
      ]
    },
    {
      "cell_type": "code",
      "source": [
        "len(fnames_tune)"
      ],
      "metadata": {
        "id": "8e4trnAxyWgi",
        "colab": {
          "base_uri": "https://localhost:8080/"
        },
        "outputId": "d50594be-0506-47ac-db62-0528745b4b8b"
      },
      "execution_count": 8,
      "outputs": [
        {
          "output_type": "execute_result",
          "data": {
            "text/plain": [
              "698"
            ]
          },
          "metadata": {},
          "execution_count": 8
        }
      ]
    },
    {
      "cell_type": "markdown",
      "metadata": {
        "id": "6PpIwqfu37Fr"
      },
      "source": [
        "## Load aug pipelines here"
      ]
    },
    {
      "cell_type": "code",
      "execution_count": 9,
      "metadata": {
        "id": "Ntc4hMMj37Fr"
      },
      "outputs": [],
      "source": [
        "#| hide\n",
        "\n",
        "\n",
        "aug_dict = create_aug_pipelines(size=size,device=device,Augs=BYOL_Augs,TUNE_Augs=TUNE_Augs,Val_Augs=Val_Augs)\n",
        "aug_pipelines = aug_dict['aug_pipelines']\n",
        "aug_pipelines_tune = aug_dict['aug_pipelines_tune']\n",
        "aug_pipelines_test = aug_dict['aug_pipelines_test'] "
      ]
    },
    {
      "cell_type": "code",
      "source": [
        "xval.shape"
      ],
      "metadata": {
        "id": "FGTZEaWoMwtZ",
        "colab": {
          "base_uri": "https://localhost:8080/"
        },
        "outputId": "e4826660-7279-4337-b125-1ef1f1cc60bf"
      },
      "execution_count": 10,
      "outputs": [
        {
          "output_type": "execute_result",
          "data": {
            "text/plain": [
              "torch.Size([174, 3, 128, 128])"
            ]
          },
          "metadata": {},
          "execution_count": 10
        }
      ]
    },
    {
      "cell_type": "code",
      "execution_count": 11,
      "metadata": {
        "id": "PP7Sp4P837Fr"
      },
      "outputs": [],
      "source": [
        "#| hide\n",
        "#show_bt_batch(dls=dls_train,aug=aug_pipelines,n_in=3)"
      ]
    },
    {
      "cell_type": "code",
      "execution_count": 12,
      "metadata": {
        "id": "foWFxkv_37Fr"
      },
      "outputs": [],
      "source": [
        "#| hide\n",
        "\n",
        "#show_linear_batch(dls=dls_tune,n_in=3,aug=aug_pipelines_tune,n=2,print_augs=True)"
      ]
    },
    {
      "cell_type": "markdown",
      "metadata": {
        "id": "_EcjObcZ37Fs"
      },
      "source": [
        "## TODO: Can probably put this in `dataloading`. No need to clog this notebook up."
      ]
    },
    {
      "cell_type": "code",
      "execution_count": 13,
      "metadata": {
        "id": "KAW1Mwwa37Fs"
      },
      "outputs": [],
      "source": [
        "#| hide\n",
        "\n",
        "@patch\n",
        "def lf(self:BarlowTwins, pred,*yb): return lf_bt(pred,I=self.I,lmb=self.lmb)"
      ]
    },
    {
      "cell_type": "markdown",
      "metadata": {
        "id": "tXoWi7IJ37Fs"
      },
      "source": [
        "## main training api"
      ]
    },
    {
      "cell_type": "code",
      "execution_count": 14,
      "metadata": {
        "id": "ydRfaCy537Fs",
        "colab": {
          "base_uri": "https://localhost:8080/"
        },
        "outputId": "4d56bc79-5e61-4a8f-9b04-9a525973ef84"
      },
      "outputs": [
        {
          "output_type": "stream",
          "name": "stdout",
          "text": [
            "no_pretrain\n",
            "no_pretrain\n",
            "supervised_pretrain\n",
            "supervised_pretrain\n"
          ]
        }
      ],
      "source": [
        "#| hide\n",
        "\n",
        "import itertools\n",
        "initialweights = ['no_pretrain','supervised_pretrain']\n",
        "fitpolicy = ['fit_one_cycle','fit']\n",
        "\n",
        "#cartesian product of hps\n",
        "MyTuple = namedtuple('MyTuple', 'initialweights fitpolicy')\n",
        "HPs = [MyTuple(x,y) for x,y in list(itertools.product(initialweights, fitpolicy))]\n",
        "\n",
        "for hp in HPs:\n",
        "    print(hp.initialweights)"
      ]
    },
    {
      "cell_type": "code",
      "source": [
        "BYOL_Augs\n",
        "\n"
      ],
      "metadata": {
        "id": "7LBt--HTE2Q5",
        "colab": {
          "base_uri": "https://localhost:8080/"
        },
        "outputId": "862c9975-2705-4efd-dd5a-a2de60907dbe"
      },
      "execution_count": 15,
      "outputs": [
        {
          "output_type": "execute_result",
          "data": {
            "text/plain": [
              "{'flip_p1': 0.5,\n",
              " 'flip_p2': 0.5,\n",
              " 'jitter_p1': 0.8,\n",
              " 'jitter_p2': 0.8,\n",
              " 'bw_p1': 0.2,\n",
              " 'bw_p2': 0.2,\n",
              " 'blur_p1': 1.0,\n",
              " 'blur_p2': 0.1,\n",
              " 'sol_p1': 0.0,\n",
              " 'sol_p2': 0.2,\n",
              " 'noise_p1': 0.0,\n",
              " 'noise_p2': 0.0,\n",
              " 'resize_scale': (0.7, 1.0),\n",
              " 'resize_ratio': (0.75, 1.3333333333333333),\n",
              " 'rotate_deg': 45.0,\n",
              " 'rotate_p': 0.5,\n",
              " 'blur_r': (0.1, 2),\n",
              " 'blur_s': 13,\n",
              " 'sol_t': 0.1,\n",
              " 'sol_a': 0.1,\n",
              " 'noise_std': 0.1}"
            ]
          },
          "metadata": {},
          "execution_count": 15
        }
      ]
    },
    {
      "cell_type": "code",
      "source": [
        "new_Augs = dict(BYOL_Augs)"
      ],
      "metadata": {
        "id": "iE-T21k4GFJf"
      },
      "execution_count": 16,
      "outputs": []
    },
    {
      "cell_type": "code",
      "source": [
        "create_aug_pipelines??"
      ],
      "metadata": {
        "id": "shZaFVXSGKQm"
      },
      "execution_count": 17,
      "outputs": []
    },
    {
      "cell_type": "code",
      "source": [
        "# new_Augs['jitter_p1']=0.\n",
        "# new_Augs['jitter_p2']=0.\n",
        "\n",
        "new_Augs['blur_p1']=0.0\n",
        "new_Augs['blur_p2']=0.0\n",
        "\n",
        "new_Augs['sol_p1']=0.0\n",
        "new_Augs['sol_p2']=0.0\n",
        "\n",
        "new_Augs['bw_p1']=0.0\n",
        "new_Augs['bw_p2']=0.0\n",
        "\n",
        "# new_Augs['rotate_p']=0.8\n",
        "# new_Augs['rotate_deg'] = 90\n",
        "\n",
        "new_aug_dict = create_aug_pipelines(size=size,device=device,Augs=new_Augs,TUNE_Augs=TUNE_Augs,Val_Augs=Val_Augs)\n",
        "new_aug_pipelines = new_aug_dict['aug_pipelines']\n",
        "\n",
        "show_bt_batch(dls=dls_train,aug=new_aug_pipelines,n_in=3)"
      ],
      "metadata": {
        "id": "7wBerRy6FIkc",
        "colab": {
          "base_uri": "https://localhost:8080/",
          "height": 413
        },
        "outputId": "0cd411b6-f7e8-4a42-86c9-bd81ebc35c71"
      },
      "execution_count": 18,
      "outputs": [
        {
          "output_type": "stream",
          "name": "stdout",
          "text": [
            "Pipeline: RandomResizedCrop -> RandomHorizontalFlip -> ColorJitter -> RandomGrayscale -> RandomGaussianNoise -> RandomGaussianBlur -- {'p': 1.0, 'prob': 0.0, 's': 13, 'sig': None, 'blur_r': (0.1, 2), 'same_on_batch': False} -> RandomSolarize -> Rotate -- {'size': None, 'mode': 'bilinear', 'pad_mode': 'reflection', 'mode_mask': 'nearest', 'align_corners': True, 'p': 1.0}\n",
            "Pipeline: RandomResizedCrop -> RandomHorizontalFlip -> ColorJitter -> RandomGrayscale -> RandomGaussianNoise -> RandomGaussianBlur -- {'p': 1.0, 'prob': 0.0, 's': 13, 'sig': None, 'blur_r': (0.1, 2), 'same_on_batch': False} -> RandomSolarize -> Rotate -- {'size': None, 'mode': 'bilinear', 'pad_mode': 'reflection', 'mode_mask': 'nearest', 'align_corners': True, 'p': 1.0}\n"
          ]
        },
        {
          "output_type": "display_data",
          "data": {
            "text/plain": [
              "<Figure size 432x432 with 4 Axes>"
            ],
            "image/png": "[encoded data removed]"
          },
          "metadata": {
            "needs_background": "light"
          }
        }
      ]
    },
    {
      "cell_type": "markdown",
      "source": [],
      "metadata": {
        "id": "T-BvXeU9giaM"
      }
    },
    {
      "cell_type": "code",
      "source": [
        "def freeze_encoder(model):\n",
        "    for param in model.encoder.parameters():\n",
        "        param.requires_grad = False\n",
        "\n",
        "def unfreeze_encoder(model):\n",
        "    for param in model.encoder.parameters():\n",
        "        param.requires_grad = True"
      ],
      "metadata": {
        "id": "AN7uPVGd9XTM"
      },
      "execution_count": 19,
      "outputs": []
    },
    {
      "cell_type": "code",
      "source": [
        "def head_freeze_resnet(model):\n",
        "    for param in model.encoder.encoder.parameters():\n",
        "\n",
        "            param.requires_grad = False\n",
        "\n",
        "def head_unfreeze_resnet(model):\n",
        "    for param in model.encoder.encoder.parameters():\n",
        "\n",
        "            param.requires_grad = True"
      ],
      "metadata": {
        "id": "56UBpqtvMYtk"
      },
      "execution_count": 20,
      "outputs": []
    },
    {
      "cell_type": "code",
      "source": [
        "def freeze_resnet(model):\n",
        "\n",
        "    if model.model_type == 'res_proj': #means is resnet + projector\n",
        "        freeze_encoder(model)\n",
        "\n",
        "    elif model.model_type == 'res_head_proj': #means is resnet + head + projector\n",
        "        head_freeze_resnet(model)\n",
        "\n",
        "    elif model.model_type == 'res_linear': #means is resnet + linear_classifier\n",
        "        freeze_encoder(model)\n",
        "\n",
        "    elif model.model_type == 'res_head_linear': #means is resnet + head + linear_classifier\n",
        "\n",
        "        head_freeze_resnet(model)\n",
        "\n",
        "def unfreeze_resnet(model):\n",
        "\n",
        "    if model.model_type == 'res_proj': #means is resnet + projector\n",
        "        unfreeze_encoder(model)\n",
        "\n",
        "    elif model.model_type == 'res_head_proj': #means is resnet + head + projector\n",
        "        head_unfreeze_resnet(model)\n",
        "\n",
        "    elif model.model_type == 'res_linear': #means is resnet + linear_classifier\n",
        "        unfreeze_encoder(model)\n",
        "\n",
        "    elif model.model_type == 'res_head_linear': #means is resnet + head + linear_classifier\n",
        "\n",
        "        head_unfreeze_resnet(model)\n",
        "\n"
      ],
      "metadata": {
        "id": "C3TV1eD0gNQP"
      },
      "execution_count": 21,
      "outputs": []
    },
    {
      "cell_type": "code",
      "source": [
        "def create_model(which_model,device,ps=8192,n_in=3):\n",
        "\n",
        "    #pretrained=True if 'which_model' in ['bt_pretrain', 'supervised_pretrain'] else False\n",
        "\n",
        "    if which_model == 'bt_pretrain': model = torch.hub.load('facebookresearch/barlowtwins:main', 'resnet50')\n",
        "    \n",
        "    elif which_model == 'no_pretrain': model = resnet50()\n",
        "\n",
        "    elif which_model == 'supervised_pretrain': model = resnet50(weights='IMAGENET1K_V2')\n",
        "\n",
        "    #ignore the 'pretrained=False' argument here. Just means we use the weights above \n",
        "    #(which themselves are either pretrained or not)\n",
        "    encoder = get_resnet_encoder(model)\n",
        "\n",
        "    model = create_barlow_twins_model(encoder, hidden_size=ps,projection_size=ps,nlayers=3)\n",
        "\n",
        "    if device == 'cuda':\n",
        "        model.cuda()\n",
        "        encoder.cuda()\n",
        "\n",
        "\n",
        "    return model,encoder"
      ],
      "metadata": {
        "id": "n6Mhxm9dHNF-"
      },
      "execution_count": 22,
      "outputs": []
    },
    {
      "cell_type": "code",
      "source": [
        "def create_model_head(which_model,device,ps=8192,n_in=3):\n",
        "\n",
        "    #pretrained=True if 'which_model' in ['bt_pretrain', 'supervised_pretrain'] else False\n",
        "\n",
        "    if which_model == 'bt_pretrain': model = torch.hub.load('facebookresearch/barlowtwins:main', 'resnet50')\n",
        "    \n",
        "    elif which_model == 'no_pretrain': model = resnet50()\n",
        "\n",
        "    elif which_model == 'supervised_pretrain': model = resnet50(weights='IMAGENET1K_V2')\n",
        "\n",
        "    #ignore the 'pretrained=False' argument here. Just means we use the weights above \n",
        "    #(which themselves are either pretrained or not)\n",
        "    encoder = get_resnet_encoder(model)\n",
        "\n",
        "    encoder = create_barlow_twins_model(encoder, hidden_size=2048,projection_size=2048,nlayers=2) #so one hidden layer...\n",
        "\n",
        "    model = create_barlow_twins_model(encoder, hidden_size=ps,projection_size=ps,nlayers=2)\n",
        "    \n",
        "\n",
        "    if device == 'cuda':\n",
        "        model.cuda()\n",
        "        encoder.cuda()\n",
        "\n",
        "\n",
        "    return model,encoder"
      ],
      "metadata": {
        "id": "TFDaCEBWK8KP"
      },
      "execution_count": 23,
      "outputs": []
    },
    {
      "cell_type": "code",
      "source": [
        "@patch\n",
        "@delegates(Learner.fit_one_cycle)\n",
        "def fine_tune(self:Learner, epochs, base_lr=2e-3, freeze_epochs=1, lr_mult=100,\n",
        "              pct_start=0.3, div=5.0, **kwargs):\n",
        "    \"Fine tune with `Learner.freeze` for `freeze_epochs`, then with `Learner.unfreeze` for `epochs`, using discriminative LR.\"\n",
        "    self.freeze()\n",
        "    self.fit_one_cycle(freeze_epochs, slice(base_lr), pct_start=0.99, **kwargs)\n",
        "    base_lr /= 2\n",
        "    self.unfreeze()\n",
        "    self.fit_one_cycle(epochs, slice(base_lr/lr_mult, base_lr), pct_start=pct_start, div=div, **kwargs)"
      ],
      "metadata": {
        "id": "j849MgNc9XWM"
      },
      "execution_count": 24,
      "outputs": []
    },
    {
      "cell_type": "code",
      "source": [
        "@patch\n",
        "@delegates(Learner.fit_one_cycle)\n",
        "def resnet_fine_tune(self:Learner, epochs, base_lr=2e-3, freeze_epochs=1, lr_mult=100,\n",
        "              pct_start=0.3, div=5.0, **kwargs):\n",
        "    \n",
        "    \"\"\"Freeze resnet, tune non resnet layers, then unfreeze resnet and train as usual...\"\"\"\n",
        "\n",
        "    #self.freeze()\n",
        "    freeze_resnet(self.model)\n",
        "    print('froze resnet')\n",
        "    self.fit_one_cycle(freeze_epochs, slice(base_lr), pct_start=0.99, **kwargs)\n",
        "    base_lr /= 2\n",
        "    #self.unfreeze()\n",
        "    unfreeze_resnet(self.model)\n",
        "    print('unfroze resnet')\n",
        "    self.fit_one_cycle(epochs, slice(base_lr/lr_mult, base_lr), pct_start=pct_start, div=div, **kwargs)\n",
        "\n",
        "    #new_unfreeze_encoder(self.model)\n",
        "    #print('unfroze encoder')"
      ],
      "metadata": {
        "id": "4E9-hgxm9XZM"
      },
      "execution_count": 25,
      "outputs": []
    },
    {
      "cell_type": "code",
      "source": [
        "@patch\n",
        "@delegates(Learner.fit_one_cycle)\n",
        "def encoder_fine_tune(self:Learner, epochs, base_lr=2e-3, freeze_epochs=1, lr_mult=100,\n",
        "              pct_start=0.3, div=5.0, **kwargs):\n",
        "    \n",
        "    \"\"\"Freeze encoder, tune non encoder layers, then unfreeze encoder and train as usual... Note that\n",
        "        encoder is either a resnet, or resnet+head\"\"\"\n",
        "\n",
        "    \n",
        "    # #self.freeze()\n",
        "    freeze_encoder(self.model) #freeze head + resnet\n",
        "    print('froze encoder')\n",
        "    _base_lr=0.01\n",
        "    #_base_lr = base_lr\n",
        "    self.fit_one_cycle(freeze_epochs, slice(_base_lr), pct_start=0.99, **kwargs)\n",
        "    base_lr /= 2\n",
        "    #self.unfreeze()\n",
        "    unfreeze_encoder(self.model) #unfreeze head + resnet\n",
        "    print('unfroze encoder')\n",
        "    self.fit_one_cycle(epochs, slice(base_lr/lr_mult, base_lr), pct_start=pct_start, div=div, **kwargs)\n",
        "\n",
        "\n",
        "    #new_unfreeze_encoder(self.model)\n",
        "    #print('unfroze encoder')"
      ],
      "metadata": {
        "id": "h4_92-P-YeZK"
      },
      "execution_count": 26,
      "outputs": []
    },
    {
      "cell_type": "code",
      "source": [
        "x.shape"
      ],
      "metadata": {
        "id": "pAgtUChO6Ecd",
        "colab": {
          "base_uri": "https://localhost:8080/"
        },
        "outputId": "ced661c8-61a9-4a0e-8055-954076e6d780"
      },
      "execution_count": 27,
      "outputs": [
        {
          "output_type": "execute_result",
          "data": {
            "text/plain": [
              "torch.Size([256, 3, 128, 128])"
            ]
          },
          "metadata": {},
          "execution_count": 27
        }
      ]
    },
    {
      "cell_type": "code",
      "source": [
        "@patch\n",
        "@delegates(Learner.fit_one_cycle)\n",
        "def no_resnet_encoder_fine_tune(self:Learner, epochs, base_lr=2e-3, freeze_epochs=1, lr_mult=100,\n",
        "              pct_start=0.3, div=5.0, **kwargs):\n",
        "    \n",
        "    \"\"\"Freeze resnet whole way through\"\"\"\n",
        "\n",
        "    \n",
        "    #self.freeze()\n",
        "    freeze_encoder(self.model) #freeze head + resnet\n",
        "    print('froze encoder')\n",
        "    self.fit_one_cycle(freeze_epochs, slice(base_lr), pct_start=0.99, **kwargs)\n",
        "    base_lr /= 2\n",
        "    #self.unfreeze()\n",
        "    unfreeze_encoder(self.model) \n",
        "    freeze_resnet(self.model)\n",
        "    print('unfroze encoder, kept resnet frozen')\n",
        "    self.fit_one_cycle(epochs, slice(base_lr/lr_mult, base_lr), pct_start=pct_start, div=div, **kwargs)\n",
        "\n",
        "    #new_unfreeze_encoder(self.model)\n",
        "    #print('unfroze encoder')"
      ],
      "metadata": {
        "id": "r5g9KPW2lUhp"
      },
      "execution_count": 28,
      "outputs": []
    },
    {
      "cell_type": "code",
      "source": [
        "@patch\n",
        "@delegates(Learner.fit_one_cycle)\n",
        "def no_resnet_fine_tune(self:Learner, epochs, base_lr=2e-3, freeze_epochs=1, lr_mult=100,\n",
        "              pct_start=0.3, div=5.0, **kwargs):\n",
        "    \n",
        "    \"\"\"Freeze resnet whole way through\"\"\"\n",
        "\n",
        "    \n",
        "    #self.freeze()\n",
        "    freeze_resnet(self.model) #freeze head + resnet\n",
        "    print('froze resnet')\n",
        "    self.fit_one_cycle(freeze_epochs, slice(base_lr), pct_start=0.99, **kwargs)\n",
        "    base_lr /= 2\n",
        "    #self.unfreeze()\n",
        "    self.fit_one_cycle(epochs, slice(base_lr/lr_mult, base_lr), pct_start=pct_start, div=div, **kwargs)\n",
        "\n",
        "    unfreeze_resnet(self.model)\n",
        "    print('unfroze resnet')"
      ],
      "metadata": {
        "id": "C1TvohSnwNva"
      },
      "execution_count": 29,
      "outputs": []
    },
    {
      "cell_type": "code",
      "source": [
        "import gc\n",
        "gc.collect()"
      ],
      "metadata": {
        "id": "YwSgrVFG6WD4",
        "colab": {
          "base_uri": "https://localhost:8080/"
        },
        "outputId": "4bd9d0ed-571a-47b4-e751-fbd07c5f6eb5"
      },
      "execution_count": 30,
      "outputs": [
        {
          "output_type": "execute_result",
          "data": {
            "text/plain": [
              "8148"
            ]
          },
          "metadata": {},
          "execution_count": 30
        }
      ]
    },
    {
      "cell_type": "code",
      "source": [
        "def freeze_upto_last_layer(model):\n",
        "    \"We freeze the last convolutional block. Not `exactly` the last layer, but kind of...\"\n",
        "\n",
        "    layers = list(model.children())\n",
        "    N = len(layers)\n",
        "\n",
        "    for p in model.parameters():\n",
        "        p.requires_grad=False\n",
        "\n",
        "    for p in layers[-3].parameters():\n",
        "        p.requires_grad=True\n",
        "\n",
        "def unfreeze_upto_last_layer(model):\n",
        "    \n",
        "    layers = list(model.children())\n",
        "    N = len(layers)\n",
        "\n",
        "    for p in model.parameters():\n",
        "        p.requires_grad=True\n",
        "\n",
        "    for p in layers[-3].parameters():\n",
        "        p.requires_grad=True\n",
        "\n"
      ],
      "metadata": {
        "id": "NfX6vSwe0x25"
      },
      "execution_count": 31,
      "outputs": []
    },
    {
      "cell_type": "code",
      "source": [
        "encoder = get_resnet_encoder(torch.hub.load('facebookresearch/barlowtwins:main', 'resnet50'))\n",
        "\n"
      ],
      "metadata": {
        "id": "5fQfYNWkzr1_",
        "colab": {
          "base_uri": "https://localhost:8080/",
          "height": 176,
          "referenced_widgets": [
            "eca37e07e6b34663981eb7dce813d2fa",
            "9a0d7dff2f79431a8b70f42f0d6e5f73",
            "7eb14a04b5cb4292b17f062b1cd6678a",
            "a403896382ed4dd5adb49049fe65c10a",
            "9a2f5a01e5a64f31ab48db7ae9501247",
            "975aa9202d004ccab8bb96114a08d474",
            "1716cca609ee4e4a83788c583cd41064",
            "a363096267084d5f8480d1c8cd590c26",
            "3d84f28a15e54e95a316835d76612d28",
            "983c783e7cd044179f3209c4e789bf19",
            "3590727262bc4b339e7e21771c7b898d"
          ]
        },
        "outputId": "7b640ff8-1798-48a1-8008-5580d9ecbd33"
      },
      "execution_count": 32,
      "outputs": [
        {
          "output_type": "stream",
          "name": "stderr",
          "text": [
            "Downloading: \"https://github.com/facebookresearch/barlowtwins/zipball/main\" to /root/.cache/torch/hub/main.zip\n",
            "/usr/local/lib/python3.8/dist-packages/torchvision/models/_utils.py:208: UserWarning: The parameter 'pretrained' is deprecated since 0.13 and may be removed in the future, please use 'weights' instead.\n",
            "  warnings.warn(\n",
            "/usr/local/lib/python3.8/dist-packages/torchvision/models/_utils.py:223: UserWarning: Arguments other than a weight enum or `None` for 'weights' are deprecated since 0.13 and may be removed in the future. The current behavior is equivalent to passing `weights=None`.\n",
            "  warnings.warn(msg)\n",
            "Downloading: \"https://dl.fbaipublicfiles.com/barlowtwins/ep1000_bs2048_lrw0.2_lrb0.0048_lambd0.0051/resnet50.pth\" to /root/.cache/torch/hub/checkpoints/resnet50.pth\n"
          ]
        },
        {
          "output_type": "display_data",
          "data": {
            "text/plain": [
              "  0%|          | 0.00/90.0M [00:00<?, ?B/s]"
            ],
            "application/vnd.jupyter.widget-view+json": {
              "version_major": 2,
              "version_minor": 0,
              "model_id": "eca37e07e6b34663981eb7dce813d2fa"
            }
          },
          "metadata": {}
        }
      ]
    },
    {
      "cell_type": "code",
      "source": [
        "encoder[7][2]"
      ],
      "metadata": {
        "id": "n8dHZHIXz0CH",
        "colab": {
          "base_uri": "https://localhost:8080/"
        },
        "outputId": "2662a8a3-ccac-4c7a-c8ab-7fcaafd319eb"
      },
      "execution_count": 33,
      "outputs": [
        {
          "output_type": "execute_result",
          "data": {
            "text/plain": [
              "Bottleneck(\n",
              "  (conv1): Conv2d(2048, 512, kernel_size=(1, 1), stride=(1, 1), bias=False)\n",
              "  (bn1): BatchNorm2d(512, eps=1e-05, momentum=0.1, affine=True, track_running_stats=True)\n",
              "  (conv2): Conv2d(512, 512, kernel_size=(3, 3), stride=(1, 1), padding=(1, 1), bias=False)\n",
              "  (bn2): BatchNorm2d(512, eps=1e-05, momentum=0.1, affine=True, track_running_stats=True)\n",
              "  (conv3): Conv2d(512, 2048, kernel_size=(1, 1), stride=(1, 1), bias=False)\n",
              "  (bn3): BatchNorm2d(2048, eps=1e-05, momentum=0.1, affine=True, track_running_stats=True)\n",
              "  (relu): ReLU(inplace=True)\n",
              ")"
            ]
          },
          "metadata": {},
          "execution_count": 33
        }
      ]
    },
    {
      "cell_type": "code",
      "source": [
        "encoder[7]"
      ],
      "metadata": {
        "id": "6OaORe0M0LS2",
        "colab": {
          "base_uri": "https://localhost:8080/"
        },
        "outputId": "7189d973-9985-459c-e6e6-9611f75fb524"
      },
      "execution_count": 34,
      "outputs": [
        {
          "output_type": "execute_result",
          "data": {
            "text/plain": [
              "Sequential(\n",
              "  (0): Bottleneck(\n",
              "    (conv1): Conv2d(1024, 512, kernel_size=(1, 1), stride=(1, 1), bias=False)\n",
              "    (bn1): BatchNorm2d(512, eps=1e-05, momentum=0.1, affine=True, track_running_stats=True)\n",
              "    (conv2): Conv2d(512, 512, kernel_size=(3, 3), stride=(2, 2), padding=(1, 1), bias=False)\n",
              "    (bn2): BatchNorm2d(512, eps=1e-05, momentum=0.1, affine=True, track_running_stats=True)\n",
              "    (conv3): Conv2d(512, 2048, kernel_size=(1, 1), stride=(1, 1), bias=False)\n",
              "    (bn3): BatchNorm2d(2048, eps=1e-05, momentum=0.1, affine=True, track_running_stats=True)\n",
              "    (relu): ReLU(inplace=True)\n",
              "    (downsample): Sequential(\n",
              "      (0): Conv2d(1024, 2048, kernel_size=(1, 1), stride=(2, 2), bias=False)\n",
              "      (1): BatchNorm2d(2048, eps=1e-05, momentum=0.1, affine=True, track_running_stats=True)\n",
              "    )\n",
              "  )\n",
              "  (1): Bottleneck(\n",
              "    (conv1): Conv2d(2048, 512, kernel_size=(1, 1), stride=(1, 1), bias=False)\n",
              "    (bn1): BatchNorm2d(512, eps=1e-05, momentum=0.1, affine=True, track_running_stats=True)\n",
              "    (conv2): Conv2d(512, 512, kernel_size=(3, 3), stride=(1, 1), padding=(1, 1), bias=False)\n",
              "    (bn2): BatchNorm2d(512, eps=1e-05, momentum=0.1, affine=True, track_running_stats=True)\n",
              "    (conv3): Conv2d(512, 2048, kernel_size=(1, 1), stride=(1, 1), bias=False)\n",
              "    (bn3): BatchNorm2d(2048, eps=1e-05, momentum=0.1, affine=True, track_running_stats=True)\n",
              "    (relu): ReLU(inplace=True)\n",
              "  )\n",
              "  (2): Bottleneck(\n",
              "    (conv1): Conv2d(2048, 512, kernel_size=(1, 1), stride=(1, 1), bias=False)\n",
              "    (bn1): BatchNorm2d(512, eps=1e-05, momentum=0.1, affine=True, track_running_stats=True)\n",
              "    (conv2): Conv2d(512, 512, kernel_size=(3, 3), stride=(1, 1), padding=(1, 1), bias=False)\n",
              "    (bn2): BatchNorm2d(512, eps=1e-05, momentum=0.1, affine=True, track_running_stats=True)\n",
              "    (conv3): Conv2d(512, 2048, kernel_size=(1, 1), stride=(1, 1), bias=False)\n",
              "    (bn3): BatchNorm2d(2048, eps=1e-05, momentum=0.1, affine=True, track_running_stats=True)\n",
              "    (relu): ReLU(inplace=True)\n",
              "  )\n",
              ")"
            ]
          },
          "metadata": {},
          "execution_count": 34
        }
      ]
    },
    {
      "cell_type": "code",
      "source": [
        "def create_model_freeze(which_model,device,ps=8192,n_in=3):\n",
        "\n",
        "    #pretrained=True if 'which_model' in ['bt_pretrain', 'supervised_pretrain'] else False\n",
        "\n",
        "    if which_model == 'bt_pretrain': model = torch.hub.load('facebookresearch/barlowtwins:main', 'resnet50')\n",
        "    \n",
        "    elif which_model == 'no_pretrain': model = resnet50()\n",
        "\n",
        "    elif which_model == 'supervised_pretrain': model = resnet50(weights='IMAGENET1K_V2')\n",
        "\n",
        "    #ignore the 'pretrained=False' argument here. Just means we use the weights above \n",
        "    #(which themselves are either pretrained or not)\n",
        "    encoder = get_resnet_encoder(model)\n",
        "\n",
        "    for p in encoder[7][2].parameters():\n",
        "        p.requires_grad=False\n",
        "\n",
        "    #freeze_upto_last_layer(encoder)\n",
        "\n",
        "    model = create_barlow_twins_model(encoder, hidden_size=ps,projection_size=ps,nlayers=3)\n",
        "\n",
        "    if device == 'cuda':\n",
        "        model.cuda()\n",
        "        encoder.cuda()\n",
        "\n",
        "\n",
        "    return model,encoder"
      ],
      "metadata": {
        "id": "KIisZ9Q13dR2"
      },
      "execution_count": 35,
      "outputs": []
    },
    {
      "cell_type": "code",
      "source": [
        "def predict_ensemble(yval,scores1,scores2):\n",
        "\n",
        "    N=yval.shape[0]\n",
        "\n",
        "    scores = 0.5*scores1 + 0.5*scores2\n",
        "\n",
        "    ypred = cast(torch.argmax(scores, dim=1),TensorCategory)\n",
        "\n",
        "    correct = (ypred == yval)#.type(torch.FloatTensor)\n",
        "\n",
        "    #correct = (torch.argmax(ypred,dim=1) == yval).type(torch.FloatTensor)\n",
        "    num_correct = correct.sum()\n",
        "    accuracy = num_correct/N\n",
        "    \n",
        "    return ypred,accuracy.item()"
      ],
      "metadata": {
        "id": "LmtCUiv3DBYk"
      },
      "execution_count": 36,
      "outputs": []
    },
    {
      "cell_type": "code",
      "source": [
        "xval.shape"
      ],
      "metadata": {
        "colab": {
          "base_uri": "https://localhost:8080/"
        },
        "id": "Goex9_hrSabi",
        "outputId": "22ec63de-6590-4e3c-b99d-a4b370192ea6"
      },
      "execution_count": 37,
      "outputs": [
        {
          "output_type": "execute_result",
          "data": {
            "text/plain": [
              "torch.Size([174, 3, 128, 128])"
            ]
          },
          "metadata": {},
          "execution_count": 37
        }
      ]
    },
    {
      "cell_type": "code",
      "execution_count": 60,
      "metadata": {
        "id": "nKQwA4Tl37Ft",
        "colab": {
          "base_uri": "https://localhost:8080/",
          "height": 1000
        },
        "outputId": "83c9fe3c-f17b-4f83-f965-e5bdf7b22a46"
      },
      "outputs": [
        {
          "output_type": "stream",
          "name": "stderr",
          "text": [
            "Using cache found in /root/.cache/torch/hub/facebookresearch_barlowtwins_main\n",
            "/usr/local/lib/python3.8/dist-packages/torchvision/models/_utils.py:208: UserWarning: The parameter 'pretrained' is deprecated since 0.13 and may be removed in the future, please use 'weights' instead.\n",
            "  warnings.warn(\n",
            "/usr/local/lib/python3.8/dist-packages/torchvision/models/_utils.py:223: UserWarning: Arguments other than a weight enum or `None` for 'weights' are deprecated since 0.13 and may be removed in the future. The current behavior is equivalent to passing `weights=None`.\n",
            "  warnings.warn(msg)\n"
          ]
        },
        {
          "output_type": "display_data",
          "data": {
            "text/plain": [
              "<IPython.core.display.HTML object>"
            ],
            "text/html": [
              "\n",
              "<style>\n",
              "    /* Turns off some styling */\n",
              "    progress {\n",
              "        /* gets rid of default border in Firefox and Opera. */\n",
              "        border: none;\n",
              "        /* Needs to be in here for Safari polyfill so background images work as expected. */\n",
              "        background-size: auto;\n",
              "    }\n",
              "    progress:not([value]), progress:not([value])::-webkit-progress-bar {\n",
              "        background: repeating-linear-gradient(45deg, #7e7e7e, #7e7e7e 10px, #5c5c5c 10px, #5c5c5c 20px);\n",
              "    }\n",
              "    .progress-bar-interrupted, .progress-bar-interrupted::-webkit-progress-bar {\n",
              "        background: #F44336;\n",
              "    }\n",
              "</style>\n"
            ]
          },
          "metadata": {}
        },
        {
          "output_type": "display_data",
          "data": {
            "text/plain": [
              "<IPython.core.display.HTML object>"
            ],
            "text/html": [
              "<table border=\"1\" class=\"dataframe\">\n",
              "  <thead>\n",
              "    <tr style=\"text-align: left;\">\n",
              "      <th>epoch</th>\n",
              "      <th>train_loss</th>\n",
              "      <th>valid_loss</th>\n",
              "      <th>time</th>\n",
              "    </tr>\n",
              "  </thead>\n",
              "  <tbody>\n",
              "    <tr>\n",
              "      <td>0</td>\n",
              "      <td>2.199647</td>\n",
              "      <td>None</td>\n",
              "      <td>00:06</td>\n",
              "    </tr>\n",
              "  </tbody>\n",
              "</table>"
            ]
          },
          "metadata": {}
        },
        {
          "output_type": "stream",
          "name": "stderr",
          "text": [
            "/usr/local/lib/python3.8/dist-packages/fastprogress/fastprogress.py:73: UserWarning: Your generator is empty.\n",
            "  warn(\"Your generator is empty.\")\n"
          ]
        },
        {
          "output_type": "display_data",
          "data": {
            "text/plain": [
              "<IPython.core.display.HTML object>"
            ],
            "text/html": [
              "\n",
              "<style>\n",
              "    /* Turns off some styling */\n",
              "    progress {\n",
              "        /* gets rid of default border in Firefox and Opera. */\n",
              "        border: none;\n",
              "        /* Needs to be in here for Safari polyfill so background images work as expected. */\n",
              "        background-size: auto;\n",
              "    }\n",
              "    progress:not([value]), progress:not([value])::-webkit-progress-bar {\n",
              "        background: repeating-linear-gradient(45deg, #7e7e7e, #7e7e7e 10px, #5c5c5c 10px, #5c5c5c 20px);\n",
              "    }\n",
              "    .progress-bar-interrupted, .progress-bar-interrupted::-webkit-progress-bar {\n",
              "        background: #F44336;\n",
              "    }\n",
              "</style>\n"
            ]
          },
          "metadata": {}
        },
        {
          "output_type": "display_data",
          "data": {
            "text/plain": [
              "<IPython.core.display.HTML object>"
            ],
            "text/html": [
              "<table border=\"1\" class=\"dataframe\">\n",
              "  <thead>\n",
              "    <tr style=\"text-align: left;\">\n",
              "      <th>epoch</th>\n",
              "      <th>train_loss</th>\n",
              "      <th>valid_loss</th>\n",
              "      <th>time</th>\n",
              "    </tr>\n",
              "  </thead>\n",
              "  <tbody>\n",
              "    <tr>\n",
              "      <td>0</td>\n",
              "      <td>2.181615</td>\n",
              "      <td>None</td>\n",
              "      <td>00:06</td>\n",
              "    </tr>\n",
              "    <tr>\n",
              "      <td>1</td>\n",
              "      <td>2.176543</td>\n",
              "      <td>None</td>\n",
              "      <td>00:06</td>\n",
              "    </tr>\n",
              "    <tr>\n",
              "      <td>2</td>\n",
              "      <td>2.171028</td>\n",
              "      <td>None</td>\n",
              "      <td>00:07</td>\n",
              "    </tr>\n",
              "    <tr>\n",
              "      <td>3</td>\n",
              "      <td>2.167265</td>\n",
              "      <td>None</td>\n",
              "      <td>00:06</td>\n",
              "    </tr>\n",
              "    <tr>\n",
              "      <td>4</td>\n",
              "      <td>2.161235</td>\n",
              "      <td>None</td>\n",
              "      <td>00:06</td>\n",
              "    </tr>\n",
              "    <tr>\n",
              "      <td>5</td>\n",
              "      <td>2.154984</td>\n",
              "      <td>None</td>\n",
              "      <td>00:06</td>\n",
              "    </tr>\n",
              "    <tr>\n",
              "      <td>6</td>\n",
              "      <td>2.148136</td>\n",
              "      <td>None</td>\n",
              "      <td>00:06</td>\n",
              "    </tr>\n",
              "    <tr>\n",
              "      <td>7</td>\n",
              "      <td>2.139529</td>\n",
              "      <td>None</td>\n",
              "      <td>00:06</td>\n",
              "    </tr>\n",
              "    <tr>\n",
              "      <td>8</td>\n",
              "      <td>2.130917</td>\n",
              "      <td>None</td>\n",
              "      <td>00:06</td>\n",
              "    </tr>\n",
              "    <tr>\n",
              "      <td>9</td>\n",
              "      <td>2.118875</td>\n",
              "      <td>None</td>\n",
              "      <td>00:06</td>\n",
              "    </tr>\n",
              "    <tr>\n",
              "      <td>10</td>\n",
              "      <td>2.104951</td>\n",
              "      <td>None</td>\n",
              "      <td>00:06</td>\n",
              "    </tr>\n",
              "    <tr>\n",
              "      <td>11</td>\n",
              "      <td>2.086826</td>\n",
              "      <td>None</td>\n",
              "      <td>00:06</td>\n",
              "    </tr>\n",
              "    <tr>\n",
              "      <td>12</td>\n",
              "      <td>2.064857</td>\n",
              "      <td>None</td>\n",
              "      <td>00:06</td>\n",
              "    </tr>\n",
              "    <tr>\n",
              "      <td>13</td>\n",
              "      <td>2.036564</td>\n",
              "      <td>None</td>\n",
              "      <td>00:06</td>\n",
              "    </tr>\n",
              "    <tr>\n",
              "      <td>14</td>\n",
              "      <td>2.002428</td>\n",
              "      <td>None</td>\n",
              "      <td>00:06</td>\n",
              "    </tr>\n",
              "    <tr>\n",
              "      <td>15</td>\n",
              "      <td>1.961039</td>\n",
              "      <td>None</td>\n",
              "      <td>00:06</td>\n",
              "    </tr>\n",
              "    <tr>\n",
              "      <td>16</td>\n",
              "      <td>1.918465</td>\n",
              "      <td>None</td>\n",
              "      <td>00:06</td>\n",
              "    </tr>\n",
              "    <tr>\n",
              "      <td>17</td>\n",
              "      <td>1.874054</td>\n",
              "      <td>None</td>\n",
              "      <td>00:06</td>\n",
              "    </tr>\n",
              "    <tr>\n",
              "      <td>18</td>\n",
              "      <td>1.822180</td>\n",
              "      <td>None</td>\n",
              "      <td>00:06</td>\n",
              "    </tr>\n",
              "    <tr>\n",
              "      <td>19</td>\n",
              "      <td>1.766786</td>\n",
              "      <td>None</td>\n",
              "      <td>00:06</td>\n",
              "    </tr>\n",
              "    <tr>\n",
              "      <td>20</td>\n",
              "      <td>1.711105</td>\n",
              "      <td>None</td>\n",
              "      <td>00:06</td>\n",
              "    </tr>\n",
              "    <tr>\n",
              "      <td>21</td>\n",
              "      <td>1.655465</td>\n",
              "      <td>None</td>\n",
              "      <td>00:06</td>\n",
              "    </tr>\n",
              "    <tr>\n",
              "      <td>22</td>\n",
              "      <td>1.598770</td>\n",
              "      <td>None</td>\n",
              "      <td>00:06</td>\n",
              "    </tr>\n",
              "    <tr>\n",
              "      <td>23</td>\n",
              "      <td>1.543287</td>\n",
              "      <td>None</td>\n",
              "      <td>00:06</td>\n",
              "    </tr>\n",
              "    <tr>\n",
              "      <td>24</td>\n",
              "      <td>1.487877</td>\n",
              "      <td>None</td>\n",
              "      <td>00:06</td>\n",
              "    </tr>\n",
              "    <tr>\n",
              "      <td>25</td>\n",
              "      <td>1.432970</td>\n",
              "      <td>None</td>\n",
              "      <td>00:06</td>\n",
              "    </tr>\n",
              "    <tr>\n",
              "      <td>26</td>\n",
              "      <td>1.381298</td>\n",
              "      <td>None</td>\n",
              "      <td>00:06</td>\n",
              "    </tr>\n",
              "    <tr>\n",
              "      <td>27</td>\n",
              "      <td>1.330453</td>\n",
              "      <td>None</td>\n",
              "      <td>00:06</td>\n",
              "    </tr>\n",
              "    <tr>\n",
              "      <td>28</td>\n",
              "      <td>1.279066</td>\n",
              "      <td>None</td>\n",
              "      <td>00:06</td>\n",
              "    </tr>\n",
              "    <tr>\n",
              "      <td>29</td>\n",
              "      <td>1.231801</td>\n",
              "      <td>None</td>\n",
              "      <td>00:06</td>\n",
              "    </tr>\n",
              "    <tr>\n",
              "      <td>30</td>\n",
              "      <td>1.184756</td>\n",
              "      <td>None</td>\n",
              "      <td>00:07</td>\n",
              "    </tr>\n",
              "    <tr>\n",
              "      <td>31</td>\n",
              "      <td>1.141519</td>\n",
              "      <td>None</td>\n",
              "      <td>00:06</td>\n",
              "    </tr>\n",
              "    <tr>\n",
              "      <td>32</td>\n",
              "      <td>1.097636</td>\n",
              "      <td>None</td>\n",
              "      <td>00:06</td>\n",
              "    </tr>\n",
              "    <tr>\n",
              "      <td>33</td>\n",
              "      <td>1.057155</td>\n",
              "      <td>None</td>\n",
              "      <td>00:06</td>\n",
              "    </tr>\n",
              "    <tr>\n",
              "      <td>34</td>\n",
              "      <td>1.017445</td>\n",
              "      <td>None</td>\n",
              "      <td>00:06</td>\n",
              "    </tr>\n",
              "    <tr>\n",
              "      <td>35</td>\n",
              "      <td>0.980692</td>\n",
              "      <td>None</td>\n",
              "      <td>00:06</td>\n",
              "    </tr>\n",
              "    <tr>\n",
              "      <td>36</td>\n",
              "      <td>0.944958</td>\n",
              "      <td>None</td>\n",
              "      <td>00:06</td>\n",
              "    </tr>\n",
              "    <tr>\n",
              "      <td>37</td>\n",
              "      <td>0.911149</td>\n",
              "      <td>None</td>\n",
              "      <td>00:06</td>\n",
              "    </tr>\n",
              "    <tr>\n",
              "      <td>38</td>\n",
              "      <td>0.878948</td>\n",
              "      <td>None</td>\n",
              "      <td>00:06</td>\n",
              "    </tr>\n",
              "    <tr>\n",
              "      <td>39</td>\n",
              "      <td>0.848129</td>\n",
              "      <td>None</td>\n",
              "      <td>00:06</td>\n",
              "    </tr>\n",
              "    <tr>\n",
              "      <td>40</td>\n",
              "      <td>0.819960</td>\n",
              "      <td>None</td>\n",
              "      <td>00:06</td>\n",
              "    </tr>\n",
              "    <tr>\n",
              "      <td>41</td>\n",
              "      <td>0.792961</td>\n",
              "      <td>None</td>\n",
              "      <td>00:06</td>\n",
              "    </tr>\n",
              "    <tr>\n",
              "      <td>42</td>\n",
              "      <td>0.767835</td>\n",
              "      <td>None</td>\n",
              "      <td>00:06</td>\n",
              "    </tr>\n",
              "    <tr>\n",
              "      <td>43</td>\n",
              "      <td>0.743343</td>\n",
              "      <td>None</td>\n",
              "      <td>00:06</td>\n",
              "    </tr>\n",
              "    <tr>\n",
              "      <td>44</td>\n",
              "      <td>0.719553</td>\n",
              "      <td>None</td>\n",
              "      <td>00:06</td>\n",
              "    </tr>\n",
              "    <tr>\n",
              "      <td>45</td>\n",
              "      <td>0.697200</td>\n",
              "      <td>None</td>\n",
              "      <td>00:06</td>\n",
              "    </tr>\n",
              "    <tr>\n",
              "      <td>46</td>\n",
              "      <td>0.676649</td>\n",
              "      <td>None</td>\n",
              "      <td>00:06</td>\n",
              "    </tr>\n",
              "    <tr>\n",
              "      <td>47</td>\n",
              "      <td>0.657094</td>\n",
              "      <td>None</td>\n",
              "      <td>00:06</td>\n",
              "    </tr>\n",
              "    <tr>\n",
              "      <td>48</td>\n",
              "      <td>0.637650</td>\n",
              "      <td>None</td>\n",
              "      <td>00:06</td>\n",
              "    </tr>\n",
              "    <tr>\n",
              "      <td>49</td>\n",
              "      <td>0.618401</td>\n",
              "      <td>None</td>\n",
              "      <td>00:06</td>\n",
              "    </tr>\n",
              "  </tbody>\n",
              "</table>"
            ]
          },
          "metadata": {}
        },
        {
          "output_type": "stream",
          "name": "stdout",
          "text": [
            "                            precision    recall  f1-score   support\n",
            "\n",
            "         actinic keratosis       0.64      0.70      0.67        20\n",
            "      basal cell carcinoma       0.59      0.50      0.54        20\n",
            "            dermatofibroma       0.73      0.84      0.78        19\n",
            "                  melanoma       0.43      0.45      0.44        20\n",
            "                     nevus       0.45      0.25      0.32        20\n",
            "pigmented benign keratosis       0.47      0.75      0.58        20\n",
            "      seborrheic keratosis       0.40      0.27      0.32        15\n",
            "   squamous cell carcinoma       0.60      0.60      0.60        20\n",
            "           vascular lesion       0.84      0.80      0.82        20\n",
            "\n",
            "                  accuracy                           0.58       174\n",
            "                 macro avg       0.57      0.57      0.56       174\n",
            "              weighted avg       0.58      0.58      0.57       174\n",
            "\n",
            "0.5804597735404968\n",
            "0.5804597735404968\n",
            "bt pretrain numfit=50\n",
            "tinkering with encoder_fine_tune\n"
          ]
        }
      ],
      "source": [
        "#| export\n",
        "\n",
        "class main_train:\n",
        "    \"\"\"Instantiate and (optionally) train the encoder. Then fine-tune the supervised model. \n",
        "    Outputs metrics on validation data\"\"\"\n",
        "\n",
        "    def __init__(self,\n",
        "                 dls_train, #used for training BT (if pretrain=True)\n",
        "                 dls_tune , #used for tuning\n",
        "                 dls_valid, #used to compute metrics / evaluate results. \n",
        "                 xval, #currently `predict_model` below assumes this is entire validation / test data\n",
        "                 yval,\n",
        "                 aug_pipelines, #the aug pipeline for self-supervised learning\n",
        "                 aug_pipelines_tune, #the aug pipeline for supervised learning\n",
        "                 aug_pipelines_test, #test (or valid) time augmentations \n",
        "                 initial_weights, #Which initial weights to use\n",
        "                 pretrain, #Whether to fit BT\n",
        "                 fit_policy, #policy for fitting BT\n",
        "                 tune_fit_policy,\n",
        "                 num_epochs, #number of BT fit epochs\n",
        "                 numfit, #number of tune_fit epochs\n",
        "                 ps=8192, #projection size\n",
        "                 n_in=3, #color channels\n",
        "                 indim=2048, #dimension output of encoder (2048 for resnet50)\n",
        "                 outdim=9, #number of classes\n",
        "                 print_report=False, #F1 metrics etc\n",
        "                 print_plot=False, #ROC curve\n",
        "                 model_type='res_proj',\n",
        "                 tune_model_type = 'res_linear'\n",
        "                 ):\n",
        "                 store_attr()\n",
        "                 self.vocab = self.dls_valid.vocab\n",
        "\n",
        "                 if self.model_type  == 'res_proj': test_ne(self.fit_policy,'no_resnet_encoder_fine_tune') #Doing this would make no sense\n",
        "\n",
        "\n",
        "                 #if self.model_type == 'res_proj': test_eq(self.fit_policy,'resnet_fine_tune') #I THINK this is only viable option?\n",
        "\n",
        "                 #self.encoder_path = f'/content/drive/My Drive/models/baselineencoder_initial_weights={self.initial_weights}_pretrain={self.pretrain}.pth'\n",
        "                 #self.tuned_model_path = f'/content/drive/My Drive/models/baselinefinetuned_initial_weights={self.initial_weights}_pretrain={self.pretrain}.pth'\n",
        "\n",
        "    @staticmethod\n",
        "    def fit(learn,fit_policy,epochs):\n",
        "\n",
        "        if fit_policy == 'fit':\n",
        "            learn.fit(epochs)\n",
        "        \n",
        "        elif fit_policy == 'fit_one_cycle':\n",
        "            learn.fit_one_cycle(epochs)\n",
        "       \n",
        "        elif fit_policy == 'fine_tune':\n",
        "\n",
        "            #learn.fine_tune(epochs,freeze_epochs=3,base_lr=0.01)\n",
        "            learn.fine_tune(epochs)\n",
        "\n",
        "        elif fit_policy == 'resnet_fine_tune':\n",
        "            learn.resnet_fine_tune(epochs,freeze_epochs=1)\n",
        "\n",
        "        elif fit_policy == 'encoder_fine_tune':\n",
        "            learn.encoder_fine_tune(epochs,freeze_epochs=3)\n",
        "\n",
        "        elif fit_policy == 'no_resnet_encoder_fine_tune':\n",
        "            learn.no_resnet_encoder_fine_tune(epochs,freeze_epochs=1)\n",
        "\n",
        "        elif fit_policy == 'no_resnet_fine_tune':\n",
        "            learn.no_resnet_fine_tune(epochs,freeze_epochs=1)\n",
        "\n",
        "        else: raise Exception('Fit policy not of expected form')\n",
        "\n",
        "\n",
        "    def train_encoder(self):\n",
        "        \"create encoder and (optionally, if pretrain=True) train with BT algorith, according to fit_policy\"\n",
        "\n",
        "        if self.model_type == 'res_proj':\n",
        "\n",
        "            bt_model,encoder = create_model(which_model=self.initial_weights,ps=self.ps,device=device) #resnet + projector\n",
        "\n",
        "            #bt_model,encoder = create_model_freeze(which_model=self.initial_weights,ps=self.ps,device=device)\n",
        "\n",
        "            bt_model.model_type=self.model_type\n",
        "\n",
        "        # elif self.model_type == 'res_head_proj':\n",
        "        #     bt_model,encoder = create_model_head(which_model=self.initial_weights,device=device) #resnet + head + projector\n",
        "        #     bt_model.model_type=self.model_type\n",
        "\n",
        "        if self.pretrain: #train encoder according to fit policy\n",
        "\n",
        "            \n",
        "            learn = Learner(self.dls_train,bt_model, cbs=[BarlowTwins(self.aug_pipelines,n_in=self.n_in,lmb=1/self.ps,print_augs=False)])\n",
        "\n",
        "            main_train.fit(learn,self.fit_policy,epochs=self.num_epochs)\n",
        "\n",
        "            #torch.save(encoder.state_dict(), self.encoder_path)\n",
        "\n",
        "        self.encoder = bt_model.encoder\n",
        "\n",
        "\n",
        "    def fine_tune(self):\n",
        "        \"fine tune in supervised fashion, according to tune_fit_policy\"\n",
        "\n",
        "        #encoder = pickle.loads(pickle.dumps(self.encoder)) #We might want to pretrain once and fine tune several times (varying e.g. tune augs)\n",
        "\n",
        "        model = LinearModel(encoder=self.encoder,indim=self.indim,outdim=self.outdim) #create 'linear' model (encoder + linear head)\n",
        "        \n",
        "        model.model_type = self.tune_model_type\n",
        "\n",
        "        learn = Learner(self.dls_tune,model,cbs = [LinearBt(aug_pipelines=self.aug_pipelines_tune,n_in=self.n_in)],wd=0.0)\n",
        "\n",
        "        main_train.fit(learn,fit_policy=self.tune_fit_policy,epochs=self.numfit) #fine tuning (don't confuse this with fit policy!)\n",
        "\n",
        "        scores,preds, acc = predict_model(self.xval,self.yval,model=model,aug_pipelines_test=self.aug_pipelines_test,numavg=3)\n",
        "\n",
        "        #metrics dict will have f1 score, auc etc etc\n",
        "        metrics = classification_report_wrapper(preds, self.yval, self.vocab, print_report=self.print_report)\n",
        "        metrics['acc'] = acc\n",
        "        auc_dict = plot_roc(self.yval,preds,self.vocab,print_plot=self.print_plot)\n",
        "        metrics['auc_dict'] = auc_dict\n",
        "\n",
        "        metrics['scores'] = scores\n",
        "        metrics['preds'] = preds\n",
        "        \n",
        "        #torch.save(model.state_dict(), self.tuned_model_path)\n",
        "        return metrics #\n",
        "\n",
        "    def __call__(self):\n",
        "\n",
        "        self.train_encoder() #train (or extract) the encoder\n",
        "        metrics = self.fine_tune()\n",
        "        \n",
        "        return metrics\n",
        "\n",
        "if __name__ == '__main__' and on_colab:\n",
        "    #del main\n",
        "    torch.cuda.empty_cache()\n",
        "\n",
        "\n",
        "    # initialweights = ['bt_pretrain','supervised_pretrain']\n",
        "    # fitpolicy = ['fit_one_cycle','fit']\n",
        "\n",
        "    # #cartesian product of hps\n",
        "    # MyTuple = namedtuple('MyTuple', 'initialweights fitpolicy')\n",
        "    # HPs = [MyTuple(x,y) for x,y in list(itertools.product(initialweights, fitpolicy))]\n",
        "\n",
        "\n",
        "    # for _ in range(1):\n",
        "\n",
        "    #     d={}\n",
        "    #     for initial_weights in initialweights:\n",
        "    #         metrics = main_train(dls_train=dls_train,dls_tune=dls_tune,dls_valid=dls_valid, xval=xval, yval=yval,\n",
        "    #             aug_pipelines=aug_pipelines, aug_pipelines_tune=aug_pipelines_tune, aug_pipelines_test=aug_pipelines_test, \n",
        "    #             initial_weights='supervised_pretrain',pretrain=True,fit_policy='fit',tune_fit_policy='fine_tune',num_epochs=20,numfit=20, \n",
        "    #             )()\n",
        "\n",
        "    #         d[initial_weights] = {}\n",
        "\n",
        "    #         d[initial_weights]['acc'] = metrics['acc']\n",
        "\n",
        "    #         d[initial_weights]['scores'] = metrics['scores']\n",
        "\n",
        "    #         print(f\"With initial_weights={initial_weights}, acc is {d[initial_weights]['acc']}\")\n",
        "\n",
        "\n",
        "    #     ypred,acc = predict_ensemble(yval,scores1=d['bt_pretrain']['scores'],scores2=d['supervised_pretrain']['scores'])\n",
        "\n",
        "    #     print(f'Acc of ensemble is {acc}')\n",
        "\n",
        "\n",
        "\n",
        "    aug_dict = create_aug_pipelines(size=size,device=device,Augs=BYOL_Augs,TUNE_Augs=TUNE_Augs,Val_Augs=Val_Augs)\n",
        "    aug_pipelines = aug_dict['aug_pipelines']\n",
        "    aug_pipelines_tune = aug_dict['aug_pipelines_tune']\n",
        "    aug_pipelines_test = aug_dict['aug_pipelines_test'] \n",
        "\n",
        "\n",
        "    num=1\n",
        "    mean_acc = 0.0\n",
        "    numfit=50\n",
        "\n",
        "    for _ in range(num):\n",
        "        main = main_train(dls_train=dls_train,dls_tune=dls_tune,dls_valid=dls_valid, xval=xval, yval=yval,\n",
        "                    aug_pipelines=aug_pipelines, aug_pipelines_tune=aug_pipelines_tune, aug_pipelines_test=aug_pipelines_test, \n",
        "                    initial_weights='bt_pretrain',pretrain=False,fit_policy='encoder_fine_tune',tune_fit_policy='fine_tune',num_epochs=10,numfit=numfit,\n",
        "                    model_type='res_proj',\n",
        "                    tune_model_type='res_linear',\n",
        "                    print_report=True,\n",
        "                    ps=8192\n",
        "                          )\n",
        "        \n",
        "        metrics = main()\n",
        "\n",
        "        acc = metrics['acc']\n",
        "        print(acc)\n",
        "        mean_acc += acc\n",
        "\n",
        "    print(mean_acc/num)\n",
        "\n",
        "    print(f'bt pretrain numfit={numfit}')\n",
        "\n",
        "    print('tinkering with encoder_fine_tune')\n",
        "  \n"
      ]
    },
    {
      "cell_type": "code",
      "source": [
        "#metrics11 = metrics\n",
        "metrics11['acc']"
      ],
      "metadata": {
        "colab": {
          "base_uri": "https://localhost:8080/"
        },
        "id": "FV0YgdaFMnhs",
        "outputId": "fea310e3-52fe-4fb4-fc34-fe125759122b"
      },
      "execution_count": 61,
      "outputs": [
        {
          "output_type": "execute_result",
          "data": {
            "text/plain": [
              "0.6264367699623108"
            ]
          },
          "metadata": {},
          "execution_count": 61
        }
      ]
    },
    {
      "cell_type": "code",
      "source": [
        "metrics22 = metrics\n",
        "metrics22['acc']"
      ],
      "metadata": {
        "colab": {
          "base_uri": "https://localhost:8080/"
        },
        "id": "YTHgQTnXh1iJ",
        "outputId": "a9c3bfe7-196e-425a-e4ff-800b8f9986a7"
      },
      "execution_count": 62,
      "outputs": [
        {
          "output_type": "execute_result",
          "data": {
            "text/plain": [
              "0.5804597735404968"
            ]
          },
          "metadata": {},
          "execution_count": 62
        }
      ]
    },
    {
      "cell_type": "code",
      "source": [
        "preds,acc = predict_ensemble(yval=yval,scores1=metrics11['scores'],scores2=metrics22['scores'])\n",
        "acc"
      ],
      "metadata": {
        "colab": {
          "base_uri": "https://localhost:8080/"
        },
        "id": "XdWt4H_Yai2I",
        "outputId": "714ebdba-8aa3-41ab-fe3d-60f00f16ddc7"
      },
      "execution_count": 63,
      "outputs": [
        {
          "output_type": "execute_result",
          "data": {
            "text/plain": [
              "0.6551724076271057"
            ]
          },
          "metadata": {},
          "execution_count": 63
        }
      ]
    },
    {
      "cell_type": "code",
      "source": [
        "metrics11['acc']"
      ],
      "metadata": {
        "id": "PG9MQzuTc-en"
      },
      "execution_count": null,
      "outputs": []
    },
    {
      "cell_type": "markdown",
      "source": [
        "Baseline: "
      ],
      "metadata": {
        "id": "G_Mhgb_-WT8s"
      }
    },
    {
      "cell_type": "code",
      "source": [
        "metrics2['acc']"
      ],
      "metadata": {
        "id": "lxrUgoK0UMqW"
      },
      "execution_count": null,
      "outputs": []
    },
    {
      "cell_type": "code",
      "source": [
        "metrics1['acc']"
      ],
      "metadata": {
        "id": "zg9nyDdYSu_V"
      },
      "execution_count": null,
      "outputs": []
    },
    {
      "cell_type": "code",
      "source": [
        "preds,acc = predict_ensemble(yval=yval,scores1=metrics1['scores'],scores2=metrics2['scores'])\n",
        "acc #so ensemble goes from ~0.58 to ~0.6"
      ],
      "metadata": {
        "id": "3-6DuG0XEJ8H"
      },
      "execution_count": null,
      "outputs": []
    },
    {
      "cell_type": "code",
      "source": [
        "from statistics import mean"
      ],
      "metadata": {
        "id": "g8YsYNGilt9s"
      },
      "execution_count": null,
      "outputs": []
    },
    {
      "cell_type": "code",
      "source": [
        "mean([0.59,0.60919,0.597701,0.614942,0.58620]) #baseline with no pre-pre training..."
      ],
      "metadata": {
        "id": "zhlBrrlecgal"
      },
      "execution_count": null,
      "outputs": []
    },
    {
      "cell_type": "code",
      "source": [
        "del main"
      ],
      "metadata": {
        "id": "sq_wnLSauKqw"
      },
      "execution_count": null,
      "outputs": []
    },
    {
      "cell_type": "code",
      "source": [],
      "metadata": {
        "id": "1dEdIlv4uI6z"
      },
      "execution_count": null,
      "outputs": []
    },
    {
      "cell_type": "code",
      "source": [
        "num_epochs=20\n",
        "\n",
        "0.6724137663841248\n",
        "0.6724137663841248\n",
        "base augs + jitter\n",
        "\n",
        "0.6954023241996765\n",
        "0.6954023241996765\n",
        "base augs + jitter\n",
        "\n",
        "0.6494252681732178\n",
        "0.6494252681732178\n",
        "base augs + jitter\n",
        "\n",
        "\n",
        "\n",
        "0.6551724076271057\n",
        "0.6551724076271057\n",
        "base augs + jitter + num_epochs=100"
      ],
      "metadata": {
        "id": "XxTvndDXXrTa"
      },
      "execution_count": null,
      "outputs": []
    },
    {
      "cell_type": "code",
      "source": [
        "#Only base augs. Melanoma sucked. \n",
        "metrics1\n"
      ],
      "metadata": {
        "id": "kPXsVcPqS4xZ"
      },
      "execution_count": null,
      "outputs": []
    },
    {
      "cell_type": "code",
      "execution_count": null,
      "metadata": {
        "id": "gnmcBKbf37Fu"
      },
      "outputs": [],
      "source": [
        "#| hide\n",
        "import nbdev; nbdev.nbdev_export()"
      ]
    }
  ],
  "metadata": {
    "kernelspec": {
      "display_name": "Python 3 (ipykernel)",
      "language": "python",
      "name": "python3"
    },
    "colab": {
      "provenance": [],
      "machine_shape": "hm",
      "include_colab_link": true
    },
    "accelerator": "GPU",
    "gpuClass": "premium",
    "widgets": {
      "application/vnd.jupyter.widget-state+json": {
        "eca37e07e6b34663981eb7dce813d2fa": {
          "model_module": "@jupyter-widgets/controls",
          "model_name": "HBoxModel",
          "model_module_version": "1.5.0",
          "state": {
            "_dom_classes": [],
            "_model_module": "@jupyter-widgets/controls",
            "_model_module_version": "1.5.0",
            "_model_name": "HBoxModel",
            "_view_count": null,
            "_view_module": "@jupyter-widgets/controls",
            "_view_module_version": "1.5.0",
            "_view_name": "HBoxView",
            "box_style": "",
            "children": [
              "IPY_MODEL_9a0d7dff2f79431a8b70f42f0d6e5f73",
              "IPY_MODEL_7eb14a04b5cb4292b17f062b1cd6678a",
              "IPY_MODEL_a403896382ed4dd5adb49049fe65c10a"
            ],
            "layout": "IPY_MODEL_9a2f5a01e5a64f31ab48db7ae9501247"
          }
        },
        "9a0d7dff2f79431a8b70f42f0d6e5f73": {
          "model_module": "@jupyter-widgets/controls",
          "model_name": "HTMLModel",
          "model_module_version": "1.5.0",
          "state": {
            "_dom_classes": [],
            "_model_module": "@jupyter-widgets/controls",
            "_model_module_version": "1.5.0",
            "_model_name": "HTMLModel",
            "_view_count": null,
            "_view_module": "@jupyter-widgets/controls",
            "_view_module_version": "1.5.0",
            "_view_name": "HTMLView",
            "description": "",
            "description_tooltip": null,
            "layout": "IPY_MODEL_975aa9202d004ccab8bb96114a08d474",
            "placeholder": "​",
            "style": "IPY_MODEL_1716cca609ee4e4a83788c583cd41064",
            "value": "100%"
          }
        },
        "7eb14a04b5cb4292b17f062b1cd6678a": {
          "model_module": "@jupyter-widgets/controls",
          "model_name": "FloatProgressModel",
          "model_module_version": "1.5.0",
          "state": {
            "_dom_classes": [],
            "_model_module": "@jupyter-widgets/controls",
            "_model_module_version": "1.5.0",
            "_model_name": "FloatProgressModel",
            "_view_count": null,
            "_view_module": "@jupyter-widgets/controls",
            "_view_module_version": "1.5.0",
            "_view_name": "ProgressView",
            "bar_style": "success",
            "description": "",
            "description_tooltip": null,
            "layout": "IPY_MODEL_a363096267084d5f8480d1c8cd590c26",
            "max": 94355933,
            "min": 0,
            "orientation": "horizontal",
            "style": "IPY_MODEL_3d84f28a15e54e95a316835d76612d28",
            "value": 94355933
          }
        },
        "a403896382ed4dd5adb49049fe65c10a": {
          "model_module": "@jupyter-widgets/controls",
          "model_name": "HTMLModel",
          "model_module_version": "1.5.0",
          "state": {
            "_dom_classes": [],
            "_model_module": "@jupyter-widgets/controls",
            "_model_module_version": "1.5.0",
            "_model_name": "HTMLModel",
            "_view_count": null,
            "_view_module": "@jupyter-widgets/controls",
            "_view_module_version": "1.5.0",
            "_view_name": "HTMLView",
            "description": "",
            "description_tooltip": null,
            "layout": "IPY_MODEL_983c783e7cd044179f3209c4e789bf19",
            "placeholder": "​",
            "style": "IPY_MODEL_3590727262bc4b339e7e21771c7b898d",
            "value": " 90.0M/90.0M [00:01&lt;00:00, 67.5MB/s]"
          }
        },
        "9a2f5a01e5a64f31ab48db7ae9501247": {
          "model_module": "@jupyter-widgets/base",
          "model_name": "LayoutModel",
          "model_module_version": "1.2.0",
          "state": {
            "_model_module": "@jupyter-widgets/base",
            "_model_module_version": "1.2.0",
            "_model_name": "LayoutModel",
            "_view_count": null,
            "_view_module": "@jupyter-widgets/base",
            "_view_module_version": "1.2.0",
            "_view_name": "LayoutView",
            "align_content": null,
            "align_items": null,
            "align_self": null,
            "border": null,
            "bottom": null,
            "display": null,
            "flex": null,
            "flex_flow": null,
            "grid_area": null,
            "grid_auto_columns": null,
            "grid_auto_flow": null,
            "grid_auto_rows": null,
            "grid_column": null,
            "grid_gap": null,
            "grid_row": null,
            "grid_template_areas": null,
            "grid_template_columns": null,
            "grid_template_rows": null,
            "height": null,
            "justify_content": null,
            "justify_items": null,
            "left": null,
            "margin": null,
            "max_height": null,
            "max_width": null,
            "min_height": null,
            "min_width": null,
            "object_fit": null,
            "object_position": null,
            "order": null,
            "overflow": null,
            "overflow_x": null,
            "overflow_y": null,
            "padding": null,
            "right": null,
            "top": null,
            "visibility": null,
            "width": null
          }
        },
        "975aa9202d004ccab8bb96114a08d474": {
          "model_module": "@jupyter-widgets/base",
          "model_name": "LayoutModel",
          "model_module_version": "1.2.0",
          "state": {
            "_model_module": "@jupyter-widgets/base",
            "_model_module_version": "1.2.0",
            "_model_name": "LayoutModel",
            "_view_count": null,
            "_view_module": "@jupyter-widgets/base",
            "_view_module_version": "1.2.0",
            "_view_name": "LayoutView",
            "align_content": null,
            "align_items": null,
            "align_self": null,
            "border": null,
            "bottom": null,
            "display": null,
            "flex": null,
            "flex_flow": null,
            "grid_area": null,
            "grid_auto_columns": null,
            "grid_auto_flow": null,
            "grid_auto_rows": null,
            "grid_column": null,
            "grid_gap": null,
            "grid_row": null,
            "grid_template_areas": null,
            "grid_template_columns": null,
            "grid_template_rows": null,
            "height": null,
            "justify_content": null,
            "justify_items": null,
            "left": null,
            "margin": null,
            "max_height": null,
            "max_width": null,
            "min_height": null,
            "min_width": null,
            "object_fit": null,
            "object_position": null,
            "order": null,
            "overflow": null,
            "overflow_x": null,
            "overflow_y": null,
            "padding": null,
            "right": null,
            "top": null,
            "visibility": null,
            "width": null
          }
        },
        "1716cca609ee4e4a83788c583cd41064": {
          "model_module": "@jupyter-widgets/controls",
          "model_name": "DescriptionStyleModel",
          "model_module_version": "1.5.0",
          "state": {
            "_model_module": "@jupyter-widgets/controls",
            "_model_module_version": "1.5.0",
            "_model_name": "DescriptionStyleModel",
            "_view_count": null,
            "_view_module": "@jupyter-widgets/base",
            "_view_module_version": "1.2.0",
            "_view_name": "StyleView",
            "description_width": ""
          }
        },
        "a363096267084d5f8480d1c8cd590c26": {
          "model_module": "@jupyter-widgets/base",
          "model_name": "LayoutModel",
          "model_module_version": "1.2.0",
          "state": {
            "_model_module": "@jupyter-widgets/base",
            "_model_module_version": "1.2.0",
            "_model_name": "LayoutModel",
            "_view_count": null,
            "_view_module": "@jupyter-widgets/base",
            "_view_module_version": "1.2.0",
            "_view_name": "LayoutView",
            "align_content": null,
            "align_items": null,
            "align_self": null,
            "border": null,
            "bottom": null,
            "display": null,
            "flex": null,
            "flex_flow": null,
            "grid_area": null,
            "grid_auto_columns": null,
            "grid_auto_flow": null,
            "grid_auto_rows": null,
            "grid_column": null,
            "grid_gap": null,
            "grid_row": null,
            "grid_template_areas": null,
            "grid_template_columns": null,
            "grid_template_rows": null,
            "height": null,
            "justify_content": null,
            "justify_items": null,
            "left": null,
            "margin": null,
            "max_height": null,
            "max_width": null,
            "min_height": null,
            "min_width": null,
            "object_fit": null,
            "object_position": null,
            "order": null,
            "overflow": null,
            "overflow_x": null,
            "overflow_y": null,
            "padding": null,
            "right": null,
            "top": null,
            "visibility": null,
            "width": null
          }
        },
        "3d84f28a15e54e95a316835d76612d28": {
          "model_module": "@jupyter-widgets/controls",
          "model_name": "ProgressStyleModel",
          "model_module_version": "1.5.0",
          "state": {
            "_model_module": "@jupyter-widgets/controls",
            "_model_module_version": "1.5.0",
            "_model_name": "ProgressStyleModel",
            "_view_count": null,
            "_view_module": "@jupyter-widgets/base",
            "_view_module_version": "1.2.0",
            "_view_name": "StyleView",
            "bar_color": null,
            "description_width": ""
          }
        },
        "983c783e7cd044179f3209c4e789bf19": {
          "model_module": "@jupyter-widgets/base",
          "model_name": "LayoutModel",
          "model_module_version": "1.2.0",
          "state": {
            "_model_module": "@jupyter-widgets/base",
            "_model_module_version": "1.2.0",
            "_model_name": "LayoutModel",
            "_view_count": null,
            "_view_module": "@jupyter-widgets/base",
            "_view_module_version": "1.2.0",
            "_view_name": "LayoutView",
            "align_content": null,
            "align_items": null,
            "align_self": null,
            "border": null,
            "bottom": null,
            "display": null,
            "flex": null,
            "flex_flow": null,
            "grid_area": null,
            "grid_auto_columns": null,
            "grid_auto_flow": null,
            "grid_auto_rows": null,
            "grid_column": null,
            "grid_gap": null,
            "grid_row": null,
            "grid_template_areas": null,
            "grid_template_columns": null,
            "grid_template_rows": null,
            "height": null,
            "justify_content": null,
            "justify_items": null,
            "left": null,
            "margin": null,
            "max_height": null,
            "max_width": null,
            "min_height": null,
            "min_width": null,
            "object_fit": null,
            "object_position": null,
            "order": null,
            "overflow": null,
            "overflow_x": null,
            "overflow_y": null,
            "padding": null,
            "right": null,
            "top": null,
            "visibility": null,
            "width": null
          }
        },
        "3590727262bc4b339e7e21771c7b898d": {
          "model_module": "@jupyter-widgets/controls",
          "model_name": "DescriptionStyleModel",
          "model_module_version": "1.5.0",
          "state": {
            "_model_module": "@jupyter-widgets/controls",
            "_model_module_version": "1.5.0",
            "_model_name": "DescriptionStyleModel",
            "_view_count": null,
            "_view_module": "@jupyter-widgets/base",
            "_view_module_version": "1.2.0",
            "_view_name": "StyleView",
            "description_width": ""
          }
        }
      }
    }
  },
  "nbformat": 4,
  "nbformat_minor": 0
}