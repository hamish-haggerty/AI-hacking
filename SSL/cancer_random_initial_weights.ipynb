{
  "cells": [
    {
      "cell_type": "markdown",
      "metadata": {
        "id": "view-in-github",
        "colab_type": "text"
      },
      "source": [
        "<a href=\"https://colab.research.google.com/github/hamish-haggerty/AI-hacking/blob/master/SSL/cancer_random_initial_weights.ipynb\" target=\"_parent\"><img src=\"https://colab.research.google.com/assets/colab-badge.svg\" alt=\"Open In Colab\"/></a>"
      ]
    },
    {
      "cell_type": "markdown",
      "metadata": {
        "id": "JqZPF94637Fk"
      },
      "source": [
        "# cancer_random_initial_weights\n",
        "\n",
        "> Ok, purpose of this notebook is to do the following:\n",
        "\n",
        "    1) Fine tune models across two conditions: pretrain=True and pretrain=False. We show that ensembling across conditions is better than within. Also, importantly, save all the results: Then we can re-use e.g. the BT trained nets (but not fine tuned) in other ensemble experiments. Cool.\n",
        "    2) Check list: copy paste `main_train` in temporarily, as well as `predict` (average in probability space rather than score space for stability). ALSO importantly try and ensure reproducibility by setting the appropriate flags (seed_everything etc)\n"
      ]
    },
    {
      "cell_type": "markdown",
      "source": [
        "Speaking a bit more generally, the plan of attack for the rest of today is the following: Work towards training final models for this notebook and the supervised vs self-supervised intitial weights. Tinker with the decorrelation idea concurrently, but we are not going to spend too long on that. It either works or it doesn't, basically. Then perhaps by tomorrow we will be training our final models on the decorrelation idea as well. So, by THURSDAY we can have 100% (basically) of our results, and writing the paper can continue in earnest. Getting the results is the hard part, once we have that we can do shit loads of writing in 1 week alone (but we don't want to leave it too late). \n",
        "\n",
        "You can do it, but you have to work well from this point on. The key is consistency, not intensity. So what, you procrastinated for an hour. So long as you then work well for a few hours. Cool."
      ],
      "metadata": {
        "id": "2Xz3B54A3RdC"
      }
    },
    {
      "cell_type": "code",
      "execution_count": 1,
      "metadata": {
        "id": "gFWev-_Q37Fm"
      },
      "outputs": [],
      "source": [
        "#| default_exp cancer_random_initial_weights"
      ]
    },
    {
      "cell_type": "code",
      "execution_count": 2,
      "metadata": {
        "id": "fO8vhi6b37Fn",
        "colab": {
          "base_uri": "https://localhost:8080/"
        },
        "outputId": "c8f8e045-f9b2-4a8d-9f1f-e487f2673a37"
      },
      "outputs": [
        {
          "output_type": "stream",
          "name": "stdout",
          "text": [
            "Mounted at /content/drive\n"
          ]
        }
      ],
      "source": [
        "#| hide\n",
        "import os\n",
        "from google.colab import drive\n",
        "\n",
        "def colab_is_true():\n",
        "\n",
        "    try: \n",
        "        from google.colab import drive\n",
        "\n",
        "        return True \n",
        "    except ModuleNotFoundError:\n",
        "        return False\n",
        "\n",
        "def setup_colab():\n",
        "\n",
        "    drive.mount('/content/drive',force_remount=True)\n",
        "    #os.system('unzip -q \"/content/drive/My Drive/archive (1).zip\"')\n",
        "    os.system('git clone https://github.com/hamish-haggerty/cancer-proj.git')\n",
        "\n",
        "    os.chdir('cancer-proj')\n",
        "    \n",
        "    os.system('pip install .')\n",
        "    os.system('pip install -qU nbdev')\n",
        "    os.system('nbdev_install_quarto')\n",
        "\n",
        "    os.system('unzip -q \"/content/drive/My Drive/archive (1).zip\"')\n",
        "\n",
        "if __name__ == \"__main__\":\n",
        "    on_colab = colab_is_true()\n",
        "    if on_colab:\n",
        "        setup_colab()"
      ]
    },
    {
      "cell_type": "code",
      "execution_count": 3,
      "metadata": {
        "id": "VNjMrD_W37Fo"
      },
      "outputs": [],
      "source": [
        "#| hide\n",
        "from nbdev.showdoc import *"
      ]
    },
    {
      "cell_type": "code",
      "execution_count": 4,
      "metadata": {
        "id": "1RZVlbHF37Fo"
      },
      "outputs": [],
      "source": [
        "#| export\n",
        "from fastai.vision.all import *\n",
        "from base_rbt.all import *\n",
        "from cancer_proj.cancer_dataloading import *\n",
        "from cancer_proj.cancer_metrics import *\n",
        "from cancer_proj.cancer_maintrain import *"
      ]
    },
    {
      "cell_type": "markdown",
      "metadata": {
        "id": "eN4Js6uo37Fq"
      },
      "source": [
        "## Load the data"
      ]
    },
    {
      "cell_type": "code",
      "execution_count": 5,
      "metadata": {
        "id": "pp3x3wbL37Fq"
      },
      "outputs": [],
      "source": [
        "#| hide\n",
        "\n",
        "#Since we have cloned repository and cd'd into it (and the data itself is not stored in the\n",
        "#repo) we need cd out of it, get the data, then cd back into the repo `cancer-proj`.\n",
        "#This is a bit annoying, can maybe remove this later\n",
        "if on_colab:\n",
        "    #os.chdir('..') #assumes we are currently in cancer-proj directory\n",
        "    train_dir = colab_train_dir\n",
        "    test_dir = colab_test_dir\n",
        "else:\n",
        "    train_dir = local_train_dir\n",
        "    test_dir = local_test_dir\n",
        "\n",
        "#define general hps\n",
        "device ='cuda' if torch.cuda.is_available() else 'cpu'\n",
        "#bs=256\n",
        "#bs=698\n",
        "bs=256\n",
        "bs_tune=256\n",
        "size=128\n",
        "bs_val=174\n",
        "\n",
        "#get the data dictionary\n",
        "data_dict = get_fnames_dls_dict(train_dir=train_dir,test_dir=test_dir,\n",
        "                    device=device,bs_val=bs_val,bs=bs,bs_tune=bs_tune,size=size,n_in=3)\n",
        "\n",
        "#get the dataloaders\n",
        "dls_train,dls_tune,dls_valid = data_dict['dls_train'],data_dict['dls_tune'],data_dict['dls_valid']\n",
        "x,y = data_dict['x'],data_dict['y']\n",
        "xval,yval = data_dict['xval'],data_dict['yval']\n",
        "xtune,ytune = data_dict['xtune'],data_dict['ytune']\n",
        "vocab = data_dict['vocab']\n",
        "\n",
        "#If we want to write some tests (make sure the data is same every time etc):\n",
        "fnames,fnames_train,fnames_tune,fnames_valid,fnames_test = data_dict['fnames'],data_dict['fnames_train'],data_dict['fnames_tune'],data_dict['fnames_valid'],data_dict['fnames_test']\n",
        "\n",
        "test_eq(x.shape,xtune.shape)\n",
        "\n",
        "# if on_colab:\n",
        "#     os.chdir('cancer-proj')"
      ]
    },
    {
      "cell_type": "markdown",
      "metadata": {
        "id": "6PpIwqfu37Fr"
      },
      "source": [
        "## Load aug pipelines here"
      ]
    },
    {
      "cell_type": "code",
      "execution_count": 6,
      "metadata": {
        "id": "Ntc4hMMj37Fr"
      },
      "outputs": [],
      "source": [
        "#| hide\n",
        "\n",
        "aug_dict = create_aug_pipelines(size=size,device=device,Augs=BYOL_Augs,TUNE_Augs=TUNE_Augs,Val_Augs=Val_Augs)\n",
        "aug_pipelines = aug_dict['aug_pipelines']\n",
        "aug_pipelines_tune = aug_dict['aug_pipelines_tune']\n",
        "aug_pipelines_test = aug_dict['aug_pipelines_test'] "
      ]
    },
    {
      "cell_type": "markdown",
      "source": [
        "## Optionally, display:"
      ],
      "metadata": {
        "id": "zlZuNHTW34iy"
      }
    },
    {
      "cell_type": "code",
      "execution_count": 7,
      "metadata": {
        "id": "PP7Sp4P837Fr"
      },
      "outputs": [],
      "source": [
        "#| hide\n",
        "#show_bt_batch(dls=dls_train,aug=aug_pipelines,n_in=3)"
      ]
    },
    {
      "cell_type": "code",
      "execution_count": 8,
      "metadata": {
        "id": "foWFxkv_37Fr"
      },
      "outputs": [],
      "source": [
        "#| hide\n",
        "\n",
        "#show_linear_batch(dls=dls_tune,n_in=3,aug=aug_pipelines_tune,n=2,print_augs=True)"
      ]
    },
    {
      "cell_type": "code",
      "execution_count": 9,
      "metadata": {
        "id": "KAW1Mwwa37Fs"
      },
      "outputs": [],
      "source": [
        "#| export\n",
        "\n",
        "@patch\n",
        "def lf(self:BarlowTwins, pred,*yb): return lf_bt(pred,I=self.I,lmb=self.lmb)"
      ]
    },
    {
      "cell_type": "markdown",
      "source": [
        "## Note: using this default encoder, for random weights, doesn't seem to work real well."
      ],
      "metadata": {
        "id": "Tlkfp1TezbH5"
      }
    },
    {
      "cell_type": "code",
      "source": [
        "#| export\n",
        "\n",
        "# \"\"\"@patch\n",
        "# @delegates(Learner.fit_one_cycle)\n",
        "# def encoder_fine_tune(self:Learner, epochs, base_lr=2e-3, freeze_epochs=1, lr_mult=100,\n",
        "#               pct_start=0.3, div=5.0, **kwargs):\n",
        "#     \"Fine tuner to use with bt initial weights\"\n",
        "    \n",
        "#     #self.freeze() #freeze the resnet\n",
        "#     self.fit_one_cycle(freeze_epochs, slice(base_lr), pct_start=0.99, **kwargs)\n",
        "#     base_lr /= 2\n",
        "#     #self.unfreeze() #unfreeze the resnet. \n",
        "#     #self.fit_one_cycle(epochs, slice(base_lr/lr_mult, base_lr), pct_start=pct_start, div=div, **kwargs)\n",
        "#     self.fit_one_cycle(epochs, slice(base_lr, base_lr), pct_start=pct_start, div=div, **kwargs)\n",
        "\n",
        "#     self.unfreeze() #We can unfreeze at the end\"\"\""
      ],
      "metadata": {
        "id": "0q915iOR-gFj"
      },
      "execution_count": 10,
      "outputs": []
    },
    {
      "cell_type": "markdown",
      "source": [
        "## Note: we don't actually want to freeze the resnet when pretraining in this notebook, since the initial weights are random. So we just need to make sure encoder_fine_tune isn't doing that"
      ],
      "metadata": {
        "id": "n7R2EQ2nJbQD"
      }
    },
    {
      "cell_type": "markdown",
      "source": [
        "## Test: make sure that it freezes the appropriate part of model:"
      ],
      "metadata": {
        "id": "KSmOr7mKH3JL"
      }
    },
    {
      "cell_type": "markdown",
      "source": [
        "Make sure resnet frozen, linear head unfrozen:"
      ],
      "metadata": {
        "id": "U9HK97kMJ6Ow"
      }
    },
    {
      "cell_type": "code",
      "source": [
        "bt_model,encoder = create_model(which_model='bt_pretrain',ps=8192,device=device)\n",
        "model = LM(encoder)\n",
        "test_eq(len(my_splitter(model)),2)\n",
        "test_eq(len(my_splitter_bt(bt_model)),2)\n",
        "\n",
        "learn = Learner(dls_tune,model,splitter=my_splitter,cbs = [LinearBt(aug_pipelines=aug_pipelines_tune,n_in=3)],wd=0.0)\n",
        "learn.freeze()\n",
        "print('body should be frozen, (sans batchnorm) linear head unfrozen')\n",
        "learn.summary()"
      ],
      "metadata": {
        "id": "ecr1hutkH7_3",
        "colab": {
          "base_uri": "https://localhost:8080/",
          "height": 1000,
          "referenced_widgets": [
            "b47799ccaad04e21afc40cf7c596c168",
            "f479f8c74e0a462290313d3f28de42be",
            "eadbe7509969421baa5075fad3cfdec1",
            "4a614699f7bb49f5ad6ac930c77411d4",
            "0ae862dc570f4e858e77c464a8527656",
            "bdce1a2024b7436ea12a06e905b8478c",
            "1aafe012aa794d6e888b30c554411f24",
            "09da4fd62c924c0f9e0a7eec7d2c6d23",
            "e42128d9b2ce4bddac452c7acd58b03e",
            "6a1e61af9f0a4ebe85ca6184385793b7",
            "750e453eaa6c4497a463ad7a5f952747"
          ]
        },
        "outputId": "d2ffb159-8f7f-4546-d8bf-d4873847b83a"
      },
      "execution_count": 11,
      "outputs": [
        {
          "output_type": "stream",
          "name": "stderr",
          "text": [
            "Downloading: \"https://github.com/facebookresearch/barlowtwins/zipball/main\" to /root/.cache/torch/hub/main.zip\n",
            "/usr/local/lib/python3.8/dist-packages/torchvision/models/_utils.py:208: UserWarning: The parameter 'pretrained' is deprecated since 0.13 and may be removed in the future, please use 'weights' instead.\n",
            "  warnings.warn(\n",
            "/usr/local/lib/python3.8/dist-packages/torchvision/models/_utils.py:223: UserWarning: Arguments other than a weight enum or `None` for 'weights' are deprecated since 0.13 and may be removed in the future. The current behavior is equivalent to passing `weights=None`.\n",
            "  warnings.warn(msg)\n",
            "Downloading: \"https://dl.fbaipublicfiles.com/barlowtwins/ep1000_bs2048_lrw0.2_lrb0.0048_lambd0.0051/resnet50.pth\" to /root/.cache/torch/hub/checkpoints/resnet50.pth\n"
          ]
        },
        {
          "output_type": "display_data",
          "data": {
            "text/plain": [
              "  0%|          | 0.00/90.0M [00:00<?, ?B/s]"
            ],
            "application/vnd.jupyter.widget-view+json": {
              "version_major": 2,
              "version_minor": 0,
              "model_id": "b47799ccaad04e21afc40cf7c596c168"
            }
          },
          "metadata": {}
        },
        {
          "output_type": "stream",
          "name": "stdout",
          "text": [
            "body should be frozen, (sans batchnorm) linear head unfrozen\n"
          ]
        },
        {
          "output_type": "display_data",
          "data": {
            "text/plain": [
              "<IPython.core.display.HTML object>"
            ],
            "text/html": [
              "\n",
              "<style>\n",
              "    /* Turns off some styling */\n",
              "    progress {\n",
              "        /* gets rid of default border in Firefox and Opera. */\n",
              "        border: none;\n",
              "        /* Needs to be in here for Safari polyfill so background images work as expected. */\n",
              "        background-size: auto;\n",
              "    }\n",
              "    progress:not([value]), progress:not([value])::-webkit-progress-bar {\n",
              "        background: repeating-linear-gradient(45deg, #7e7e7e, #7e7e7e 10px, #5c5c5c 10px, #5c5c5c 20px);\n",
              "    }\n",
              "    .progress-bar-interrupted, .progress-bar-interrupted::-webkit-progress-bar {\n",
              "        background: #F44336;\n",
              "    }\n",
              "</style>\n"
            ]
          },
          "metadata": {}
        },
        {
          "output_type": "display_data",
          "data": {
            "text/plain": [
              "<IPython.core.display.HTML object>"
            ],
            "text/html": []
          },
          "metadata": {}
        },
        {
          "output_type": "execute_result",
          "data": {
            "text/plain": [
              "LM (Input shape: 256 x 3 x 128 x 128)\n",
              "============================================================================\n",
              "Layer (type)         Output Shape         Param #    Trainable \n",
              "============================================================================\n",
              "                     256 x 64 x 64 x 64  \n",
              "Conv2d                                    9408       False     \n",
              "BatchNorm2d                               128        True      \n",
              "ReLU                                                           \n",
              "____________________________________________________________________________\n",
              "                     256 x 64 x 32 x 32  \n",
              "MaxPool2d                                                      \n",
              "Conv2d                                    4096       False     \n",
              "BatchNorm2d                               128        True      \n",
              "Conv2d                                    36864      False     \n",
              "BatchNorm2d                               128        True      \n",
              "____________________________________________________________________________\n",
              "                     256 x 256 x 32 x 32 \n",
              "Conv2d                                    16384      False     \n",
              "BatchNorm2d                               512        True      \n",
              "ReLU                                                           \n",
              "Conv2d                                    16384      False     \n",
              "BatchNorm2d                               512        True      \n",
              "____________________________________________________________________________\n",
              "                     256 x 64 x 32 x 32  \n",
              "Conv2d                                    16384      False     \n",
              "BatchNorm2d                               128        True      \n",
              "Conv2d                                    36864      False     \n",
              "BatchNorm2d                               128        True      \n",
              "____________________________________________________________________________\n",
              "                     256 x 256 x 32 x 32 \n",
              "Conv2d                                    16384      False     \n",
              "BatchNorm2d                               512        True      \n",
              "ReLU                                                           \n",
              "____________________________________________________________________________\n",
              "                     256 x 64 x 32 x 32  \n",
              "Conv2d                                    16384      False     \n",
              "BatchNorm2d                               128        True      \n",
              "Conv2d                                    36864      False     \n",
              "BatchNorm2d                               128        True      \n",
              "____________________________________________________________________________\n",
              "                     256 x 256 x 32 x 32 \n",
              "Conv2d                                    16384      False     \n",
              "BatchNorm2d                               512        True      \n",
              "ReLU                                                           \n",
              "____________________________________________________________________________\n",
              "                     256 x 128 x 32 x 32 \n",
              "Conv2d                                    32768      False     \n",
              "BatchNorm2d                               256        True      \n",
              "____________________________________________________________________________\n",
              "                     256 x 128 x 16 x 16 \n",
              "Conv2d                                    147456     False     \n",
              "BatchNorm2d                               256        True      \n",
              "____________________________________________________________________________\n",
              "                     256 x 512 x 16 x 16 \n",
              "Conv2d                                    65536      False     \n",
              "BatchNorm2d                               1024       True      \n",
              "ReLU                                                           \n",
              "Conv2d                                    131072     False     \n",
              "BatchNorm2d                               1024       True      \n",
              "____________________________________________________________________________\n",
              "                     256 x 128 x 16 x 16 \n",
              "Conv2d                                    65536      False     \n",
              "BatchNorm2d                               256        True      \n",
              "Conv2d                                    147456     False     \n",
              "BatchNorm2d                               256        True      \n",
              "____________________________________________________________________________\n",
              "                     256 x 512 x 16 x 16 \n",
              "Conv2d                                    65536      False     \n",
              "BatchNorm2d                               1024       True      \n",
              "ReLU                                                           \n",
              "____________________________________________________________________________\n",
              "                     256 x 128 x 16 x 16 \n",
              "Conv2d                                    65536      False     \n",
              "BatchNorm2d                               256        True      \n",
              "Conv2d                                    147456     False     \n",
              "BatchNorm2d                               256        True      \n",
              "____________________________________________________________________________\n",
              "                     256 x 512 x 16 x 16 \n",
              "Conv2d                                    65536      False     \n",
              "BatchNorm2d                               1024       True      \n",
              "ReLU                                                           \n",
              "____________________________________________________________________________\n",
              "                     256 x 128 x 16 x 16 \n",
              "Conv2d                                    65536      False     \n",
              "BatchNorm2d                               256        True      \n",
              "Conv2d                                    147456     False     \n",
              "BatchNorm2d                               256        True      \n",
              "____________________________________________________________________________\n",
              "                     256 x 512 x 16 x 16 \n",
              "Conv2d                                    65536      False     \n",
              "BatchNorm2d                               1024       True      \n",
              "ReLU                                                           \n",
              "____________________________________________________________________________\n",
              "                     256 x 256 x 16 x 16 \n",
              "Conv2d                                    131072     False     \n",
              "BatchNorm2d                               512        True      \n",
              "____________________________________________________________________________\n",
              "                     256 x 256 x 8 x 8   \n",
              "Conv2d                                    589824     False     \n",
              "BatchNorm2d                               512        True      \n",
              "____________________________________________________________________________\n",
              "                     256 x 1024 x 8 x 8  \n",
              "Conv2d                                    262144     False     \n",
              "BatchNorm2d                               2048       True      \n",
              "ReLU                                                           \n",
              "Conv2d                                    524288     False     \n",
              "BatchNorm2d                               2048       True      \n",
              "____________________________________________________________________________\n",
              "                     256 x 256 x 8 x 8   \n",
              "Conv2d                                    262144     False     \n",
              "BatchNorm2d                               512        True      \n",
              "Conv2d                                    589824     False     \n",
              "BatchNorm2d                               512        True      \n",
              "____________________________________________________________________________\n",
              "                     256 x 1024 x 8 x 8  \n",
              "Conv2d                                    262144     False     \n",
              "BatchNorm2d                               2048       True      \n",
              "ReLU                                                           \n",
              "____________________________________________________________________________\n",
              "                     256 x 256 x 8 x 8   \n",
              "Conv2d                                    262144     False     \n",
              "BatchNorm2d                               512        True      \n",
              "Conv2d                                    589824     False     \n",
              "BatchNorm2d                               512        True      \n",
              "____________________________________________________________________________\n",
              "                     256 x 1024 x 8 x 8  \n",
              "Conv2d                                    262144     False     \n",
              "BatchNorm2d                               2048       True      \n",
              "ReLU                                                           \n",
              "____________________________________________________________________________\n",
              "                     256 x 256 x 8 x 8   \n",
              "Conv2d                                    262144     False     \n",
              "BatchNorm2d                               512        True      \n",
              "Conv2d                                    589824     False     \n",
              "BatchNorm2d                               512        True      \n",
              "____________________________________________________________________________\n",
              "                     256 x 1024 x 8 x 8  \n",
              "Conv2d                                    262144     False     \n",
              "BatchNorm2d                               2048       True      \n",
              "ReLU                                                           \n",
              "____________________________________________________________________________\n",
              "                     256 x 256 x 8 x 8   \n",
              "Conv2d                                    262144     False     \n",
              "BatchNorm2d                               512        True      \n",
              "Conv2d                                    589824     False     \n",
              "BatchNorm2d                               512        True      \n",
              "____________________________________________________________________________\n",
              "                     256 x 1024 x 8 x 8  \n",
              "Conv2d                                    262144     False     \n",
              "BatchNorm2d                               2048       True      \n",
              "ReLU                                                           \n",
              "____________________________________________________________________________\n",
              "                     256 x 256 x 8 x 8   \n",
              "Conv2d                                    262144     False     \n",
              "BatchNorm2d                               512        True      \n",
              "Conv2d                                    589824     False     \n",
              "BatchNorm2d                               512        True      \n",
              "____________________________________________________________________________\n",
              "                     256 x 1024 x 8 x 8  \n",
              "Conv2d                                    262144     False     \n",
              "BatchNorm2d                               2048       True      \n",
              "ReLU                                                           \n",
              "____________________________________________________________________________\n",
              "                     256 x 512 x 8 x 8   \n",
              "Conv2d                                    524288     False     \n",
              "BatchNorm2d                               1024       True      \n",
              "____________________________________________________________________________\n",
              "                     256 x 512 x 4 x 4   \n",
              "Conv2d                                    2359296    False     \n",
              "BatchNorm2d                               1024       True      \n",
              "____________________________________________________________________________\n",
              "                     256 x 2048 x 4 x 4  \n",
              "Conv2d                                    1048576    False     \n",
              "BatchNorm2d                               4096       True      \n",
              "ReLU                                                           \n",
              "Conv2d                                    2097152    False     \n",
              "BatchNorm2d                               4096       True      \n",
              "____________________________________________________________________________\n",
              "                     256 x 512 x 4 x 4   \n",
              "Conv2d                                    1048576    False     \n",
              "BatchNorm2d                               1024       True      \n",
              "Conv2d                                    2359296    False     \n",
              "BatchNorm2d                               1024       True      \n",
              "____________________________________________________________________________\n",
              "                     256 x 2048 x 4 x 4  \n",
              "Conv2d                                    1048576    False     \n",
              "BatchNorm2d                               4096       True      \n",
              "ReLU                                                           \n",
              "____________________________________________________________________________\n",
              "                     256 x 512 x 4 x 4   \n",
              "Conv2d                                    1048576    False     \n",
              "BatchNorm2d                               1024       True      \n",
              "Conv2d                                    2359296    False     \n",
              "BatchNorm2d                               1024       True      \n",
              "____________________________________________________________________________\n",
              "                     256 x 2048 x 4 x 4  \n",
              "Conv2d                                    1048576    False     \n",
              "BatchNorm2d                               4096       True      \n",
              "ReLU                                                           \n",
              "____________________________________________________________________________\n",
              "                     256 x 2048 x 1 x 1  \n",
              "AdaptiveAvgPool2d                                              \n",
              "____________________________________________________________________________\n",
              "                     256 x 2048          \n",
              "Flatten                                                        \n",
              "____________________________________________________________________________\n",
              "                     256 x 9             \n",
              "Linear                                    18441      True      \n",
              "____________________________________________________________________________\n",
              "\n",
              "Total params: 23,526,473\n",
              "Total trainable params: 71,561\n",
              "Total non-trainable params: 23,454,912\n",
              "\n",
              "Optimizer used: <function Adam at 0x7f01c14c2e50>\n",
              "Loss function: <bound method LinearBt.lf of LinearBt>\n",
              "\n",
              "Model frozen up to parameter group #1\n",
              "\n",
              "Callbacks:\n",
              "  - TrainEvalCallback\n",
              "  - CastToTensor\n",
              "  - LinearBt\n",
              "  - Recorder\n",
              "  - ProgressCallback"
            ],
            "application/vnd.google.colaboratory.intrinsic+json": {
              "type": "string"
            }
          },
          "metadata": {},
          "execution_count": 11
        }
      ]
    },
    {
      "cell_type": "markdown",
      "source": [
        "## We can use this to check the  bt-model is of the appropriate type: resnet + projector"
      ],
      "metadata": {
        "id": "fVAyAUf1JqZp"
      }
    },
    {
      "cell_type": "code",
      "source": [
        "#| hide\n",
        "\n",
        "#test : manual. BT\n",
        "\n",
        "learn = Learner(dls_train,bt_model,splitter=my_splitter_bt,cbs=[BarlowTwins(aug_pipelines,n_in=3,lmb=1/8192,print_augs=False)])\n",
        "learn.freeze()\n",
        "print('body should be frozen, (sans batchnorm) projector unfrozen')\n",
        "learn.summary()"
      ],
      "metadata": {
        "colab": {
          "base_uri": "https://localhost:8080/",
          "height": 1000
        },
        "id": "Hck0vAIHjP0_",
        "outputId": "eab21cab-694d-4d06-8a92-875e8fb415fa"
      },
      "execution_count": 12,
      "outputs": [
        {
          "output_type": "stream",
          "name": "stdout",
          "text": [
            "body should be frozen, (sans batchnorm) projector unfrozen\n"
          ]
        },
        {
          "output_type": "display_data",
          "data": {
            "text/plain": [
              "<IPython.core.display.HTML object>"
            ],
            "text/html": [
              "\n",
              "<style>\n",
              "    /* Turns off some styling */\n",
              "    progress {\n",
              "        /* gets rid of default border in Firefox and Opera. */\n",
              "        border: none;\n",
              "        /* Needs to be in here for Safari polyfill so background images work as expected. */\n",
              "        background-size: auto;\n",
              "    }\n",
              "    progress:not([value]), progress:not([value])::-webkit-progress-bar {\n",
              "        background: repeating-linear-gradient(45deg, #7e7e7e, #7e7e7e 10px, #5c5c5c 10px, #5c5c5c 20px);\n",
              "    }\n",
              "    .progress-bar-interrupted, .progress-bar-interrupted::-webkit-progress-bar {\n",
              "        background: #F44336;\n",
              "    }\n",
              "</style>\n"
            ]
          },
          "metadata": {}
        },
        {
          "output_type": "display_data",
          "data": {
            "text/plain": [
              "<IPython.core.display.HTML object>"
            ],
            "text/html": []
          },
          "metadata": {}
        },
        {
          "output_type": "execute_result",
          "data": {
            "text/plain": [
              "BarlowTwinsModel (Input shape: 256 x 3 x 128 x 128)\n",
              "============================================================================\n",
              "Layer (type)         Output Shape         Param #    Trainable \n",
              "============================================================================\n",
              "                     256 x 64 x 64 x 64  \n",
              "Conv2d                                    9408       False     \n",
              "BatchNorm2d                               128        True      \n",
              "ReLU                                                           \n",
              "____________________________________________________________________________\n",
              "                     256 x 64 x 32 x 32  \n",
              "MaxPool2d                                                      \n",
              "Conv2d                                    4096       False     \n",
              "BatchNorm2d                               128        True      \n",
              "Conv2d                                    36864      False     \n",
              "BatchNorm2d                               128        True      \n",
              "____________________________________________________________________________\n",
              "                     256 x 256 x 32 x 32 \n",
              "Conv2d                                    16384      False     \n",
              "BatchNorm2d                               512        True      \n",
              "ReLU                                                           \n",
              "Conv2d                                    16384      False     \n",
              "BatchNorm2d                               512        True      \n",
              "____________________________________________________________________________\n",
              "                     256 x 64 x 32 x 32  \n",
              "Conv2d                                    16384      False     \n",
              "BatchNorm2d                               128        True      \n",
              "Conv2d                                    36864      False     \n",
              "BatchNorm2d                               128        True      \n",
              "____________________________________________________________________________\n",
              "                     256 x 256 x 32 x 32 \n",
              "Conv2d                                    16384      False     \n",
              "BatchNorm2d                               512        True      \n",
              "ReLU                                                           \n",
              "____________________________________________________________________________\n",
              "                     256 x 64 x 32 x 32  \n",
              "Conv2d                                    16384      False     \n",
              "BatchNorm2d                               128        True      \n",
              "Conv2d                                    36864      False     \n",
              "BatchNorm2d                               128        True      \n",
              "____________________________________________________________________________\n",
              "                     256 x 256 x 32 x 32 \n",
              "Conv2d                                    16384      False     \n",
              "BatchNorm2d                               512        True      \n",
              "ReLU                                                           \n",
              "____________________________________________________________________________\n",
              "                     256 x 128 x 32 x 32 \n",
              "Conv2d                                    32768      False     \n",
              "BatchNorm2d                               256        True      \n",
              "____________________________________________________________________________\n",
              "                     256 x 128 x 16 x 16 \n",
              "Conv2d                                    147456     False     \n",
              "BatchNorm2d                               256        True      \n",
              "____________________________________________________________________________\n",
              "                     256 x 512 x 16 x 16 \n",
              "Conv2d                                    65536      False     \n",
              "BatchNorm2d                               1024       True      \n",
              "ReLU                                                           \n",
              "Conv2d                                    131072     False     \n",
              "BatchNorm2d                               1024       True      \n",
              "____________________________________________________________________________\n",
              "                     256 x 128 x 16 x 16 \n",
              "Conv2d                                    65536      False     \n",
              "BatchNorm2d                               256        True      \n",
              "Conv2d                                    147456     False     \n",
              "BatchNorm2d                               256        True      \n",
              "____________________________________________________________________________\n",
              "                     256 x 512 x 16 x 16 \n",
              "Conv2d                                    65536      False     \n",
              "BatchNorm2d                               1024       True      \n",
              "ReLU                                                           \n",
              "____________________________________________________________________________\n",
              "                     256 x 128 x 16 x 16 \n",
              "Conv2d                                    65536      False     \n",
              "BatchNorm2d                               256        True      \n",
              "Conv2d                                    147456     False     \n",
              "BatchNorm2d                               256        True      \n",
              "____________________________________________________________________________\n",
              "                     256 x 512 x 16 x 16 \n",
              "Conv2d                                    65536      False     \n",
              "BatchNorm2d                               1024       True      \n",
              "ReLU                                                           \n",
              "____________________________________________________________________________\n",
              "                     256 x 128 x 16 x 16 \n",
              "Conv2d                                    65536      False     \n",
              "BatchNorm2d                               256        True      \n",
              "Conv2d                                    147456     False     \n",
              "BatchNorm2d                               256        True      \n",
              "____________________________________________________________________________\n",
              "                     256 x 512 x 16 x 16 \n",
              "Conv2d                                    65536      False     \n",
              "BatchNorm2d                               1024       True      \n",
              "ReLU                                                           \n",
              "____________________________________________________________________________\n",
              "                     256 x 256 x 16 x 16 \n",
              "Conv2d                                    131072     False     \n",
              "BatchNorm2d                               512        True      \n",
              "____________________________________________________________________________\n",
              "                     256 x 256 x 8 x 8   \n",
              "Conv2d                                    589824     False     \n",
              "BatchNorm2d                               512        True      \n",
              "____________________________________________________________________________\n",
              "                     256 x 1024 x 8 x 8  \n",
              "Conv2d                                    262144     False     \n",
              "BatchNorm2d                               2048       True      \n",
              "ReLU                                                           \n",
              "Conv2d                                    524288     False     \n",
              "BatchNorm2d                               2048       True      \n",
              "____________________________________________________________________________\n",
              "                     256 x 256 x 8 x 8   \n",
              "Conv2d                                    262144     False     \n",
              "BatchNorm2d                               512        True      \n",
              "Conv2d                                    589824     False     \n",
              "BatchNorm2d                               512        True      \n",
              "____________________________________________________________________________\n",
              "                     256 x 1024 x 8 x 8  \n",
              "Conv2d                                    262144     False     \n",
              "BatchNorm2d                               2048       True      \n",
              "ReLU                                                           \n",
              "____________________________________________________________________________\n",
              "                     256 x 256 x 8 x 8   \n",
              "Conv2d                                    262144     False     \n",
              "BatchNorm2d                               512        True      \n",
              "Conv2d                                    589824     False     \n",
              "BatchNorm2d                               512        True      \n",
              "____________________________________________________________________________\n",
              "                     256 x 1024 x 8 x 8  \n",
              "Conv2d                                    262144     False     \n",
              "BatchNorm2d                               2048       True      \n",
              "ReLU                                                           \n",
              "____________________________________________________________________________\n",
              "                     256 x 256 x 8 x 8   \n",
              "Conv2d                                    262144     False     \n",
              "BatchNorm2d                               512        True      \n",
              "Conv2d                                    589824     False     \n",
              "BatchNorm2d                               512        True      \n",
              "____________________________________________________________________________\n",
              "                     256 x 1024 x 8 x 8  \n",
              "Conv2d                                    262144     False     \n",
              "BatchNorm2d                               2048       True      \n",
              "ReLU                                                           \n",
              "____________________________________________________________________________\n",
              "                     256 x 256 x 8 x 8   \n",
              "Conv2d                                    262144     False     \n",
              "BatchNorm2d                               512        True      \n",
              "Conv2d                                    589824     False     \n",
              "BatchNorm2d                               512        True      \n",
              "____________________________________________________________________________\n",
              "                     256 x 1024 x 8 x 8  \n",
              "Conv2d                                    262144     False     \n",
              "BatchNorm2d                               2048       True      \n",
              "ReLU                                                           \n",
              "____________________________________________________________________________\n",
              "                     256 x 256 x 8 x 8   \n",
              "Conv2d                                    262144     False     \n",
              "BatchNorm2d                               512        True      \n",
              "Conv2d                                    589824     False     \n",
              "BatchNorm2d                               512        True      \n",
              "____________________________________________________________________________\n",
              "                     256 x 1024 x 8 x 8  \n",
              "Conv2d                                    262144     False     \n",
              "BatchNorm2d                               2048       True      \n",
              "ReLU                                                           \n",
              "____________________________________________________________________________\n",
              "                     256 x 512 x 8 x 8   \n",
              "Conv2d                                    524288     False     \n",
              "BatchNorm2d                               1024       True      \n",
              "____________________________________________________________________________\n",
              "                     256 x 512 x 4 x 4   \n",
              "Conv2d                                    2359296    False     \n",
              "BatchNorm2d                               1024       True      \n",
              "____________________________________________________________________________\n",
              "                     256 x 2048 x 4 x 4  \n",
              "Conv2d                                    1048576    False     \n",
              "BatchNorm2d                               4096       True      \n",
              "ReLU                                                           \n",
              "Conv2d                                    2097152    False     \n",
              "BatchNorm2d                               4096       True      \n",
              "____________________________________________________________________________\n",
              "                     256 x 512 x 4 x 4   \n",
              "Conv2d                                    1048576    False     \n",
              "BatchNorm2d                               1024       True      \n",
              "Conv2d                                    2359296    False     \n",
              "BatchNorm2d                               1024       True      \n",
              "____________________________________________________________________________\n",
              "                     256 x 2048 x 4 x 4  \n",
              "Conv2d                                    1048576    False     \n",
              "BatchNorm2d                               4096       True      \n",
              "ReLU                                                           \n",
              "____________________________________________________________________________\n",
              "                     256 x 512 x 4 x 4   \n",
              "Conv2d                                    1048576    False     \n",
              "BatchNorm2d                               1024       True      \n",
              "Conv2d                                    2359296    False     \n",
              "BatchNorm2d                               1024       True      \n",
              "____________________________________________________________________________\n",
              "                     256 x 2048 x 4 x 4  \n",
              "Conv2d                                    1048576    False     \n",
              "BatchNorm2d                               4096       True      \n",
              "ReLU                                                           \n",
              "____________________________________________________________________________\n",
              "                     256 x 2048 x 1 x 1  \n",
              "AdaptiveAvgPool2d                                              \n",
              "____________________________________________________________________________\n",
              "                     256 x 2048          \n",
              "Flatten                                                        \n",
              "____________________________________________________________________________\n",
              "                     256 x 8192          \n",
              "Linear                                    16785408   True      \n",
              "BatchNorm1d                               16384      True      \n",
              "ReLU                                                           \n",
              "Linear                                    67117056   True      \n",
              "BatchNorm1d                               16384      True      \n",
              "ReLU                                                           \n",
              "Linear                                    67117056   True      \n",
              "____________________________________________________________________________\n",
              "\n",
              "Total params: 174,560,320\n",
              "Total trainable params: 151,105,408\n",
              "Total non-trainable params: 23,454,912\n",
              "\n",
              "Optimizer used: <function Adam at 0x7f01c14c2e50>\n",
              "Loss function: <bound method BarlowTwins.lf of BarlowTwins>\n",
              "\n",
              "Model frozen up to parameter group #1\n",
              "\n",
              "Callbacks:\n",
              "  - TrainEvalCallback\n",
              "  - CastToTensor\n",
              "  - BarlowTwins\n",
              "  - Recorder\n",
              "  - ProgressCallback"
            ],
            "application/vnd.google.colaboratory.intrinsic+json": {
              "type": "string"
            }
          },
          "metadata": {},
          "execution_count": 12
        }
      ]
    },
    {
      "cell_type": "markdown",
      "source": [
        "## Ok, so `fit_one_cycle` works the best! So let's patch it back in. Also, just need to add `pretrain` argument to `fine_tune`"
      ],
      "metadata": {
        "id": "uPGfc2cYWAww"
      }
    },
    {
      "cell_type": "markdown",
      "source": [
        "We copy paste a few things in here for now, but need to commit to github once OS is updated:"
      ],
      "metadata": {
        "id": "Jvp71JOB4vYZ"
      }
    },
    {
      "cell_type": "code",
      "source": [
        "#need to put this in a commit...\n",
        "\n",
        "class main_train:\n",
        "    \"\"\"Instantiate and (optionally) train the encoder. Then fine-tune the supervised model. \n",
        "    Outputs metrics on validation data\"\"\"\n",
        "\n",
        "    def __init__(self,\n",
        "                 dls_train, #used for training BT (if pretrain=True)\n",
        "                 dls_tune , #used for tuning\n",
        "                 dls_valid, #used to compute metrics / evaluate results. \n",
        "                 xval, #currently `predict_model` below assumes this is entire validation / test data\n",
        "                 yval,\n",
        "                 aug_pipelines, #the aug pipeline for self-supervised learning\n",
        "                 aug_pipelines_tune, #the aug pipeline for supervised learning\n",
        "                 aug_pipelines_test, #test (or valid) time augmentations \n",
        "                 initial_weights, #Which initial weights to use\n",
        "                 pretrain, #Whether to fit BT\n",
        "                 num_epochs, #number of BT fit epochs\n",
        "                 numfit, #number of tune_fit epochs\n",
        "                 freeze_num_epochs, #How many epochs to freeze body for when training BT\n",
        "                 freeze_numfit, #How many epochs to freeze body for when fine tuning\n",
        "                 ps=8192, #projection size\n",
        "                 n_in=3, #color channels\n",
        "                 indim=2048, #dimension output of encoder (2048 for resnet50)\n",
        "                 outdim=9, #number of classes\n",
        "                 print_report=False, #F1 metrics etc\n",
        "                 print_plot=False, #ROC curve\n",
        "                 tune_model_path=None, #save models after fine tuning\n",
        "                 ):\n",
        "        store_attr()\n",
        "        self.vocab = self.dls_valid.vocab\n",
        "        self.device = 'cuda' if torch.cuda.is_available() else 'cpu'\n",
        "\n",
        " \n",
        "    @staticmethod\n",
        "    def fit(learn,fit_type,epochs,freeze_epochs,initial_weights):\n",
        "        \"\"\"We can patch in a modification, e.g. if we want subtype of fine_tune:supervised_pretrain to be different\n",
        "        to fine_tune:bt_pretrain\"\"\"\n",
        "\n",
        "        if fit_type == 'encoder_fine_tune': #i.e. barlow twins\n",
        "\n",
        "            learn.encoder_fine_tune(epochs,freeze_epochs=freeze_epochs) \n",
        "\n",
        "        elif fit_type == 'fine_tune':\n",
        "            \n",
        "            #elif initial_weights == 'supervised_pretrain':\n",
        "            learn.linear_fine_tune(epochs,freeze_epochs=freeze_epochs) \n",
        "            #learn.fine_tune(epochs,freeze_epochs=freeze_epochs)\n",
        "\n",
        "        else: raise Exception('Fit policy not of expected form')\n",
        "\n",
        "    def train_encoder(self):\n",
        "        \"create encoder and (optionally, if pretrain=True) train with BT algorithm, according to fit_policy\"\n",
        "\n",
        "        try: #get existing encoder and plonk on new projector\n",
        "            encoder = self.encoder\n",
        "            encoder.cpu()\n",
        "            bt_model = create_barlow_twins_model(encoder, hidden_size=self.ps,projection_size=self.ps,nlayers=3)\n",
        "            bt_model.cuda()\n",
        "\n",
        "        except AttributeError: #otherwise, create\n",
        "            bt_model,encoder = create_model(which_model=self.initial_weights,ps=self.ps,device=self.device)\n",
        "\n",
        "        if self.pretrain: #train encoder according to fit policy\n",
        "\n",
        "            learn = Learner(self.dls_train,bt_model,splitter=my_splitter_bt,cbs=[BarlowTwins(self.aug_pipelines,n_in=self.n_in,lmb=1/self.ps,print_augs=False)])\n",
        "            main_train.fit(learn,fit_type='encoder_fine_tune',\n",
        "                           epochs=self.num_epochs,freeze_epochs=self.freeze_num_epochs,\n",
        "                           initial_weights=self.initial_weights\n",
        "                          )\n",
        "            \n",
        "        self.encoder = bt_model.encoder\n",
        "        self.bt_model = bt_model\n",
        "\n",
        "    def fine_tune(self):\n",
        "        \"fine tune in supervised fashion, according to tune_fit_policy, and get metrics\"\n",
        "\n",
        "        #encoder = pickle.loads(pickle.dumps(self.encoder)) #We might want to pretrain once and fine tune several times (varying e.g. tune augs)\n",
        "\n",
        "        try: \n",
        "            encoder = self.encoder\n",
        "        \n",
        "        except AttributeError:\n",
        "            _,self.encoder = create_model(which_model=self.initial_weights,ps=self.ps,device=self.device)\n",
        "\n",
        "        model = LM(self.encoder)\n",
        "        learn = Learner(self.dls_tune,model,splitter=my_splitter,cbs = [LinearBt(aug_pipelines=self.aug_pipelines_tune,n_in=self.n_in)],wd=0.0)\n",
        "        \n",
        "        #debugging\n",
        "        #learn = Learner(self.dls_tune,model,cbs = [LinearBt(aug_pipelines=self.aug_pipelines_tune,n_in=self.n_in)],wd=0.0)\n",
        "\n",
        "        main_train.fit(learn,fit_type='fine_tune',\n",
        "                       epochs=self.numfit,freeze_epochs=self.freeze_numfit,\n",
        "                       initial_weights=self.initial_weights\n",
        "                      ) #fine tuning (don't confuse this with fit policy!)\n",
        "        scores,preds, acc = predict_model(self.xval,self.yval,model=model,aug_pipelines_test=self.aug_pipelines_test,numavg=10)\n",
        "        #metrics dict will have f1 score, auc etc etc\n",
        "        metrics = classification_report_wrapper(preds, self.yval, self.vocab, print_report=self.print_report)\n",
        "        auc_dict = plot_roc(self.yval,preds,self.vocab,print_plot=self.print_plot)\n",
        "        metrics['acc'],metrics['auc_dict'],metrics['scores'],metrics['preds'],metrics['xval'],metrics['yval'] = acc,auc_dict,scores,preds,self.xval,self.yval\n",
        "  \n",
        "\n",
        "        if self.tune_model_path != None:\n",
        "            metrics['classif_model_path'] = self.tune_model_path\n",
        "            torch.save(model.state_dict(), self.tune_model_path)\n",
        "        return metrics #\n",
        "\n",
        "    def __call__(self):\n",
        "\n",
        "        self.train_encoder() #train (or extract) the encoder\n",
        "        metrics = self.fine_tune()\n",
        "        \n",
        "        return metrics\n"
      ],
      "metadata": {
        "id": "RziKutQ741-7"
      },
      "execution_count": 13,
      "outputs": []
    },
    {
      "cell_type": "code",
      "source": [
        "@patch_to(main_train)\n",
        "def fit(learn,fit_type,epochs,freeze_epochs,initial_weights,pretrain):\n",
        "    \"\"\"We can patch in a modification, e.g. if we want subtype of fine_tune:supervised_pretrain to be different\n",
        "    to fine_tune:bt_pretrain\"\"\"\n",
        "\n",
        "    if fit_type == 'encoder_fine_tune': #i.e. barlow twins\n",
        "\n",
        "        #learn.encoder_fine_tune(epochs,freeze_epochs=freeze_epochs)\n",
        "        lr_max=0.0030199517495930195\n",
        "        print(f'lr_max={lr_max}')\n",
        "        learn.fit_one_cycle(epochs,lr_max= lr_max)\n",
        "\n",
        "    elif fit_type == 'fine_tune':\n",
        "\n",
        "        if pretrain == False:\n",
        "            print('pretrain was False, and about to fit_one_cycle')\n",
        "            learn.fit_one_cycle(epochs,lr_max=0.00027542) \n",
        "\n",
        "        elif pretrain == True:\n",
        "            print('pretrain was True, and about to linear_fine_tune')\n",
        "            learn.linear_fine_tune(epochs,freeze_epochs=freeze_epochs) #This gave very similar performance, when pretrain=False (see above / earlier commit)\n",
        "\n",
        "        #learn.no_freeze_linear_fine_tune(epochs,freeze_epochs=freeze_epochs) \n",
        "\n",
        "    else: raise Exception('Fit policy not of expected form')\n",
        "\n",
        "\n",
        "@patch\n",
        "def fine_tune(self:main_train):\n",
        "    \"fine tune in supervised fashion, according to tune_fit_policy, and get metrics\"\n",
        "\n",
        "    #encoder = pickle.loads(pickle.dumps(self.encoder)) #We might want to pretrain once and fine tune several times (varying e.g. tune augs)\n",
        "\n",
        "    try: \n",
        "        encoder = self.encoder\n",
        "    \n",
        "    except AttributeError:\n",
        "        _,self.encoder = create_model(which_model=self.initial_weights,ps=self.ps,device=self.device)\n",
        "\n",
        "    model = LM(self.encoder)\n",
        "    learn = Learner(self.dls_tune,model,splitter=my_splitter,cbs = [LinearBt(aug_pipelines=self.aug_pipelines_tune,n_in=self.n_in)],wd=0.0)\n",
        "\n",
        "    #debugging\n",
        "    #learn = Learner(self.dls_tune,model,cbs = [LinearBt(aug_pipelines=self.aug_pipelines_tune,n_in=self.n_in)],wd=0.0)\n",
        "\n",
        "    main_train.fit(learn,fit_type='fine_tune',\n",
        "                    epochs=self.numfit,freeze_epochs=self.freeze_numfit,\n",
        "                    initial_weights=self.initial_weights,\n",
        "                    pretrain=self.pretrain\n",
        "                    ) #fine tuning (don't confuse this with fit policy!)\n",
        "    scores,preds, acc = predict_model(self.xval,self.yval,model=model,aug_pipelines_test=self.aug_pipelines_test,numavg=3)\n",
        "    #metrics dict will have f1 score, auc etc etc\n",
        "    metrics = classification_report_wrapper(preds, self.yval, self.vocab, print_report=self.print_report)\n",
        "    auc_dict = plot_roc(self.yval,preds,self.vocab,print_plot=self.print_plot)\n",
        "    metrics['acc'],metrics['auc_dict'],metrics['scores'],metrics['preds'],metrics['xval'],metrics['yval'] = acc,auc_dict,scores,preds,self.xval,self.yval\n",
        "\n",
        "    if self.tune_model_path != None:\n",
        "        metrics['classif_model_path'] = self.tune_model_path\n",
        "        torch.save(model.state_dict(), self.tune_model_path)\n",
        "     \n",
        "    return metrics \n",
        "\n",
        "@patch\n",
        "def train_encoder(self:main_train):\n",
        "    \"create encoder and (optionally, if pretrain=True) train with BT algorithm, according to fit_policy\"\n",
        "\n",
        "    try: #get existing encoder and plonk on new projector\n",
        "        encoder = self.encoder\n",
        "        encoder.cpu()\n",
        "        bt_model = create_barlow_twins_model(encoder, hidden_size=self.ps,projection_size=self.ps,nlayers=3)\n",
        "        bt_model.cuda()\n",
        "\n",
        "    except AttributeError: #otherwise, create\n",
        "        bt_model,encoder = create_model(which_model=self.initial_weights,ps=self.ps,device=self.device)\n",
        "\n",
        "    if self.pretrain: #train encoder according to fit policy\n",
        "\n",
        "        #lmb=0.005 #this guy doesn't seem to work\n",
        "        lmb=1/8192\n",
        "        print(f'lmb={lmb}')\n",
        "        learn = Learner(self.dls_train,bt_model,cbs=[BarlowTwins(self.aug_pipelines,n_in=self.n_in,lmb=lmb,print_augs=False)])\n",
        "        main_train.fit(learn,fit_type='encoder_fine_tune',\n",
        "                        epochs=self.num_epochs,freeze_epochs=self.freeze_num_epochs,\n",
        "                        initial_weights=self.initial_weights,\n",
        "                        pretrain=self.pretrain\n",
        "                        )\n",
        "        \n",
        "    self.encoder = bt_model.encoder\n",
        "    self.bt_model=bt_model"
      ],
      "metadata": {
        "id": "GDWig10cXYJY"
      },
      "execution_count": 14,
      "outputs": []
    },
    {
      "cell_type": "markdown",
      "source": [
        "## Reproducibility"
      ],
      "metadata": {
        "id": "8plDNEq965R6"
      }
    },
    {
      "cell_type": "code",
      "source": [
        "torch.backends.cudnn.deterministic = True\n",
        "torch.backends.cudnn.benchmark = False"
      ],
      "metadata": {
        "id": "4xLhlK0Z66zt"
      },
      "execution_count": 15,
      "outputs": []
    },
    {
      "cell_type": "code",
      "source": [
        "#| export\n",
        "import pickle\n",
        "\n",
        "def save_dict_to_gdrive(d,directory, filename):\n",
        "    #e.g. directory='/content/drive/My Drive/random_initial_weights'\n",
        "    filepath = directory + '/' + filename + '.pkl'\n",
        "    with open(filepath, \"wb\") as f:\n",
        "        pickle.dump(d, f)\n",
        "\n",
        "def load_dict_from_gdrive(directory,filename):\n",
        "    #e.g. directory='/content/drive/My Drive/random_initial_weights'\n",
        "    filepath = directory + '/' + filename + '.pkl'\n",
        "    with open(filepath, \"rb\") as f:\n",
        "        d = pickle.load(f)\n",
        "    return d\n"
      ],
      "metadata": {
        "id": "Nxq1HFJL_ZPM"
      },
      "execution_count": 16,
      "outputs": []
    },
    {
      "cell_type": "code",
      "source": [
        "import os\n",
        "\n",
        "directory = '/content/drive/My Drive/random_initial_weights'\n",
        "\n",
        "if not os.path.exists(directory):\n",
        "    os.makedirs(directory)"
      ],
      "metadata": {
        "id": "Uaj5YEJrtbxD"
      },
      "execution_count": 17,
      "outputs": []
    },
    {
      "cell_type": "code",
      "source": [
        "def run_main_train(pretrain,initial_weights='no_pretrain',num_epochs=300,freeze_num_epochs=1,freeze_numfit=6,numfit=75,num=5):\n",
        "    \"run main_train num times.\"\n",
        "\n",
        "\n",
        "    main_dict = {}\n",
        "    for i in range(num):\n",
        "\n",
        "        main = main_train(dls_train=dls_train,dls_tune=dls_tune,dls_valid=dls_valid, xval=xval, yval=yval,\n",
        "                aug_pipelines=aug_pipelines, aug_pipelines_tune=aug_pipelines_tune, aug_pipelines_test=aug_pipelines_test, \n",
        "                initial_weights=initial_weights,pretrain=pretrain,\n",
        "                num_epochs=num_epochs,numfit=numfit,freeze_num_epochs=freeze_num_epochs,freeze_numfit=freeze_numfit,\n",
        "                print_report=True,\n",
        "                tune_model_path = directory + f'/pretrain={pretrain}_{num}.pth'\n",
        "                        )\n",
        "        \n",
        "\n",
        "        #This is so we can re-use the models we train here elsewhere...\n",
        "        if pretrain==True:\n",
        "            main.train_encoder()\n",
        "            bt_model_path = directory+f'/bt_model_{i}'\n",
        "            torch.save(main.bt_model.state_dict(), bt_model_path) #i.e. bt_model_{0,1,2 etc}\n",
        "        else:\n",
        "            bt_model_path=None\n",
        "\n",
        "        metrics = main.fine_tune()\n",
        "        \n",
        "        metrics['bt_model_path'] =  bt_model_path #only interesting under bt pretraining...\n",
        "\n",
        "        main_dict[i] = metrics\n",
        "\n",
        "    return main_dict\n",
        "        "
      ],
      "metadata": {
        "id": "a4ux74eoiMkh"
      },
      "execution_count": 18,
      "outputs": []
    },
    {
      "cell_type": "code",
      "source": [
        "lst = [False,True] #pretrain or not\n",
        "results={False:None,True:None} \n",
        "\n",
        "for pretrain in lst:\n",
        "    main_dict = run_main_train(pretrain=pretrain,num_epochs=300,freeze_num_epochs=1,freeze_numfit=6,numfit=75,num=6)\n",
        "    results[pretrain] = main_dict #main_dict has result of running main num=3 times.\n",
        "\n",
        "save_dict_to_gdrive(d=results,directory=directory,filename='results')"
      ],
      "metadata": {
        "id": "gkfVUzYY6wAP"
      },
      "execution_count": null,
      "outputs": []
    },
    {
      "cell_type": "code",
      "source": [
        "results = load_dict_from_gdrive(directory=directory,filename='results')\n",
        "\n",
        "xval = results[False][0]['xval']\n",
        "yval = results[False][0]['yval']\n",
        "\n",
        "lst = [False,True] #pretrain or not\n"
      ],
      "metadata": {
        "id": "6KeGfzR1FBxQ"
      },
      "execution_count": 26,
      "outputs": []
    },
    {
      "cell_type": "markdown",
      "source": [],
      "metadata": {
        "id": "kuGk5kxyE47l"
      }
    },
    {
      "cell_type": "code",
      "source": [
        "results[False][0].keys()"
      ],
      "metadata": {
        "id": "82WUiPuoFWP8"
      },
      "execution_count": null,
      "outputs": []
    },
    {
      "cell_type": "code",
      "source": [
        "# #How to load\n",
        "# results = load_dict_from_gdrive(directory=directory,filename='results')\n",
        "# path = results[False][0]['classif_model_path']\n",
        "# # #init model\n",
        "# _,encoder = create_model(which_model='no_pretrain',ps=8192,device=device)\n",
        "# model = LM(encoder)\n",
        "# model.load_state_dict(torch.load(path, map_location='cuda:0'))"
      ],
      "metadata": {
        "id": "ljniHrac7Rpw"
      },
      "execution_count": null,
      "outputs": []
    },
    {
      "cell_type": "code",
      "source": [
        "results[True][0]['bt_model_path']"
      ],
      "metadata": {
        "id": "ZNqVIHVTRlQJ"
      },
      "execution_count": null,
      "outputs": []
    },
    {
      "cell_type": "code",
      "source": [
        "#How to load\n",
        "#results = load_dict_from_gdrive(directory=directory,filename='results')\n",
        "# path = results[False][0]['classif_model_path']\n",
        "# # #init model\n",
        "# _,encoder = create_model(which_model='no_pretrain',ps=8192,device=device)\n",
        "# model = LM(encoder)\n",
        "# model.load_state_dict(torch.load(path, map_location='cuda:0'))"
      ],
      "metadata": {
        "id": "4qlBsaaEvy6c"
      },
      "execution_count": null,
      "outputs": []
    },
    {
      "cell_type": "markdown",
      "source": [
        "#Print out result of each run:"
      ],
      "metadata": {
        "id": "M9ePzpRaQ7Kz"
      }
    },
    {
      "cell_type": "code",
      "source": [
        "from statistics import mean,stdev\n",
        "print('random initial weights: ')\n",
        "for pretrain in lst:\n",
        "\n",
        "    _results = [results[pretrain][i]['acc'] for i in range(len(results[pretrain]))]\n",
        "\n",
        "    print(f\"\\npretrain={pretrain}, results are: {_results}\")\n",
        "    print(f\"mean is: {mean(_results)}\")\n",
        "    print(f\"std is: {stdev(_results)}/n\")\n"
      ],
      "metadata": {
        "colab": {
          "base_uri": "https://localhost:8080/"
        },
        "id": "BzObhoRcr1Hh",
        "outputId": "41d75fb6-9c4f-4f18-9fc5-605a62d1d20f"
      },
      "execution_count": 27,
      "outputs": [
        {
          "output_type": "stream",
          "name": "stdout",
          "text": [
            "random initial weights: \n",
            "\n",
            "pretrain=False, results are: [0.45402297377586365, 0.44252872467041016, 0.43103447556495667, 0.43103447556495667, 0.43103447556495667, 0.4655172526836395]\n",
            "mean is: 0.44252872963746387\n",
            "std is: 0.014539212290958248/n\n",
            "\n",
            "pretrain=True, results are: [0.4655172526836395, 0.568965494632721, 0.540229856967926, 0.48275861144065857, 0.5114942789077759, 0.5114942789077759]\n",
            "mean is: 0.5134099622567495\n",
            "std is: 0.037540060075574234/n\n"
          ]
        }
      ]
    },
    {
      "cell_type": "code",
      "source": [
        "from itertools import combinations\n",
        "\n",
        "print('Ensembling within type of initial weights')\n",
        "\n",
        "def within_ensemble_results(results,key,param='pretrain'):\n",
        "\n",
        "    print(f'Results for {param}={key}')\n",
        "\n",
        "    _results = list(results[key].values())\n",
        "    _results = list(combinations(_results,2)) #all pairs of results. So for num=3, will be 3\n",
        "    for v in _results:\n",
        "\n",
        "        print(f\"\\nAcc of first guy in ensemble is: {v[0]['acc']}\")\n",
        "        print(f\"Acc of second guy in ensemble is: {v[1]['acc']}\")\n",
        "        _,acc = predict_ensemble(yval=yval,scores1=v[0]['scores'],scores2=v[1]['scores'])\n",
        "        print(f'Acc of ensemble is:{acc}\\n')"
      ],
      "metadata": {
        "colab": {
          "base_uri": "https://localhost:8080/"
        },
        "id": "jq2yyzjemUw8",
        "outputId": "af1c4361-21c2-45cb-ee0c-d6e17971784f"
      },
      "execution_count": 28,
      "outputs": [
        {
          "output_type": "stream",
          "name": "stdout",
          "text": [
            "Ensembling within type of initial weights\n"
          ]
        }
      ]
    },
    {
      "cell_type": "code",
      "source": [
        "within_ensemble_results(results,key=False)"
      ],
      "metadata": {
        "colab": {
          "base_uri": "https://localhost:8080/"
        },
        "id": "7YYy4YJOqYa7",
        "outputId": "f23053ed-81b5-4a0c-f292-7f7586505687"
      },
      "execution_count": 29,
      "outputs": [
        {
          "output_type": "stream",
          "name": "stdout",
          "text": [
            "Results for pretrain=False\n",
            "\n",
            "Acc of first guy in ensemble is: 0.45402297377586365\n",
            "Acc of second guy in ensemble is: 0.44252872467041016\n",
            "Acc of ensemble is:0.4712643623352051\n",
            "\n",
            "\n",
            "Acc of first guy in ensemble is: 0.45402297377586365\n",
            "Acc of second guy in ensemble is: 0.43103447556495667\n",
            "Acc of ensemble is:0.4597701132297516\n",
            "\n",
            "\n",
            "Acc of first guy in ensemble is: 0.45402297377586365\n",
            "Acc of second guy in ensemble is: 0.43103447556495667\n",
            "Acc of ensemble is:0.4655172526836395\n",
            "\n",
            "\n",
            "Acc of first guy in ensemble is: 0.45402297377586365\n",
            "Acc of second guy in ensemble is: 0.43103447556495667\n",
            "Acc of ensemble is:0.44252872467041016\n",
            "\n",
            "\n",
            "Acc of first guy in ensemble is: 0.45402297377586365\n",
            "Acc of second guy in ensemble is: 0.4655172526836395\n",
            "Acc of ensemble is:0.48275861144065857\n",
            "\n",
            "\n",
            "Acc of first guy in ensemble is: 0.44252872467041016\n",
            "Acc of second guy in ensemble is: 0.43103447556495667\n",
            "Acc of ensemble is:0.4712643623352051\n",
            "\n",
            "\n",
            "Acc of first guy in ensemble is: 0.44252872467041016\n",
            "Acc of second guy in ensemble is: 0.43103447556495667\n",
            "Acc of ensemble is:0.48275861144065857\n",
            "\n",
            "\n",
            "Acc of first guy in ensemble is: 0.44252872467041016\n",
            "Acc of second guy in ensemble is: 0.43103447556495667\n",
            "Acc of ensemble is:0.4655172526836395\n",
            "\n",
            "\n",
            "Acc of first guy in ensemble is: 0.44252872467041016\n",
            "Acc of second guy in ensemble is: 0.4655172526836395\n",
            "Acc of ensemble is:0.48275861144065857\n",
            "\n",
            "\n",
            "Acc of first guy in ensemble is: 0.43103447556495667\n",
            "Acc of second guy in ensemble is: 0.43103447556495667\n",
            "Acc of ensemble is:0.4482758641242981\n",
            "\n",
            "\n",
            "Acc of first guy in ensemble is: 0.43103447556495667\n",
            "Acc of second guy in ensemble is: 0.43103447556495667\n",
            "Acc of ensemble is:0.4367816150188446\n",
            "\n",
            "\n",
            "Acc of first guy in ensemble is: 0.43103447556495667\n",
            "Acc of second guy in ensemble is: 0.4655172526836395\n",
            "Acc of ensemble is:0.4655172526836395\n",
            "\n",
            "\n",
            "Acc of first guy in ensemble is: 0.43103447556495667\n",
            "Acc of second guy in ensemble is: 0.43103447556495667\n",
            "Acc of ensemble is:0.4597701132297516\n",
            "\n",
            "\n",
            "Acc of first guy in ensemble is: 0.43103447556495667\n",
            "Acc of second guy in ensemble is: 0.4655172526836395\n",
            "Acc of ensemble is:0.4655172526836395\n",
            "\n",
            "\n",
            "Acc of first guy in ensemble is: 0.43103447556495667\n",
            "Acc of second guy in ensemble is: 0.4655172526836395\n",
            "Acc of ensemble is:0.4655172526836395\n",
            "\n"
          ]
        }
      ]
    },
    {
      "cell_type": "code",
      "source": [
        "within_ensemble_results(results,key=True)"
      ],
      "metadata": {
        "id": "qDXhJGlv1S_g"
      },
      "execution_count": null,
      "outputs": []
    },
    {
      "cell_type": "code",
      "source": [
        "import itertools\n",
        "print('Ensembling between')\n",
        "\n",
        "def between_ensemble_results(results,key1,key2,param='pretrain'):\n",
        "\n",
        "    #could use zip here also for uniformity\n",
        "\n",
        "    _results = list(itertools.product(results[key1].values(),results[key2].values()))\n",
        "\n",
        "    for v in _results:\n",
        "\n",
        "        print(f\"\\nAcc of first guy in ensemble ({key1}) is: {v[0]['acc']}\")\n",
        "        print(f\"Acc of second guy in ensemble ({key2}) is: {v[1]['acc']}\")\n",
        "        _,acc = predict_ensemble(yval=yval,scores1=v[0]['scores'],scores2=v[1]['scores'])\n",
        "        print(f'Acc of ensemble is:{acc}\\n')\n",
        "\n",
        "\n",
        " "
      ],
      "metadata": {
        "colab": {
          "base_uri": "https://localhost:8080/"
        },
        "id": "pB99R2MlnjdX",
        "outputId": "de06e536-944b-4fda-9175-65ef5f25193a"
      },
      "execution_count": 30,
      "outputs": [
        {
          "output_type": "stream",
          "name": "stdout",
          "text": [
            "Ensembling between\n"
          ]
        }
      ]
    },
    {
      "cell_type": "markdown",
      "source": [
        "Between ensemble doesn't matter as much here: i.e. between is between pretrain=True and pretrain=False"
      ],
      "metadata": {
        "id": "Y_RlnHPo2EZi"
      }
    },
    {
      "cell_type": "code",
      "source": [
        "between_ensemble_results(results,key1=True,key2=False)"
      ],
      "metadata": {
        "colab": {
          "base_uri": "https://localhost:8080/"
        },
        "id": "HtYK5C48rMZK",
        "outputId": "fc235b53-39cb-4408-ac29-6791f9ed32bf"
      },
      "execution_count": 31,
      "outputs": [
        {
          "output_type": "stream",
          "name": "stdout",
          "text": [
            "\n",
            "Acc of first guy in ensemble (True) is: 0.4655172526836395\n",
            "Acc of second guy in ensemble (False) is: 0.45402297377586365\n",
            "Acc of ensemble is:0.4885057508945465\n",
            "\n",
            "\n",
            "Acc of first guy in ensemble (True) is: 0.4655172526836395\n",
            "Acc of second guy in ensemble (False) is: 0.44252872467041016\n",
            "Acc of ensemble is:0.4885057508945465\n",
            "\n",
            "\n",
            "Acc of first guy in ensemble (True) is: 0.4655172526836395\n",
            "Acc of second guy in ensemble (False) is: 0.43103447556495667\n",
            "Acc of ensemble is:0.5\n",
            "\n",
            "\n",
            "Acc of first guy in ensemble (True) is: 0.4655172526836395\n",
            "Acc of second guy in ensemble (False) is: 0.43103447556495667\n",
            "Acc of ensemble is:0.4885057508945465\n",
            "\n",
            "\n",
            "Acc of first guy in ensemble (True) is: 0.4655172526836395\n",
            "Acc of second guy in ensemble (False) is: 0.43103447556495667\n",
            "Acc of ensemble is:0.477011501789093\n",
            "\n",
            "\n",
            "Acc of first guy in ensemble (True) is: 0.4655172526836395\n",
            "Acc of second guy in ensemble (False) is: 0.4655172526836395\n",
            "Acc of ensemble is:0.477011501789093\n",
            "\n",
            "\n",
            "Acc of first guy in ensemble (True) is: 0.568965494632721\n",
            "Acc of second guy in ensemble (False) is: 0.45402297377586365\n",
            "Acc of ensemble is:0.545976996421814\n",
            "\n",
            "\n",
            "Acc of first guy in ensemble (True) is: 0.568965494632721\n",
            "Acc of second guy in ensemble (False) is: 0.44252872467041016\n",
            "Acc of ensemble is:0.5344827771186829\n",
            "\n",
            "\n",
            "Acc of first guy in ensemble (True) is: 0.568965494632721\n",
            "Acc of second guy in ensemble (False) is: 0.43103447556495667\n",
            "Acc of ensemble is:0.545976996421814\n",
            "\n",
            "\n",
            "Acc of first guy in ensemble (True) is: 0.568965494632721\n",
            "Acc of second guy in ensemble (False) is: 0.43103447556495667\n",
            "Acc of ensemble is:0.5287356376647949\n",
            "\n",
            "\n",
            "Acc of first guy in ensemble (True) is: 0.568965494632721\n",
            "Acc of second guy in ensemble (False) is: 0.43103447556495667\n",
            "Acc of ensemble is:0.5344827771186829\n",
            "\n",
            "\n",
            "Acc of first guy in ensemble (True) is: 0.568965494632721\n",
            "Acc of second guy in ensemble (False) is: 0.4655172526836395\n",
            "Acc of ensemble is:0.568965494632721\n",
            "\n",
            "\n",
            "Acc of first guy in ensemble (True) is: 0.540229856967926\n",
            "Acc of second guy in ensemble (False) is: 0.45402297377586365\n",
            "Acc of ensemble is:0.5114942789077759\n",
            "\n",
            "\n",
            "Acc of first guy in ensemble (True) is: 0.540229856967926\n",
            "Acc of second guy in ensemble (False) is: 0.44252872467041016\n",
            "Acc of ensemble is:0.5287356376647949\n",
            "\n",
            "\n",
            "Acc of first guy in ensemble (True) is: 0.540229856967926\n",
            "Acc of second guy in ensemble (False) is: 0.43103447556495667\n",
            "Acc of ensemble is:0.540229856967926\n",
            "\n",
            "\n",
            "Acc of first guy in ensemble (True) is: 0.540229856967926\n",
            "Acc of second guy in ensemble (False) is: 0.43103447556495667\n",
            "Acc of ensemble is:0.517241358757019\n",
            "\n",
            "\n",
            "Acc of first guy in ensemble (True) is: 0.540229856967926\n",
            "Acc of second guy in ensemble (False) is: 0.43103447556495667\n",
            "Acc of ensemble is:0.5057471394538879\n",
            "\n",
            "\n",
            "Acc of first guy in ensemble (True) is: 0.540229856967926\n",
            "Acc of second guy in ensemble (False) is: 0.4655172526836395\n",
            "Acc of ensemble is:0.5114942789077759\n",
            "\n",
            "\n",
            "Acc of first guy in ensemble (True) is: 0.48275861144065857\n",
            "Acc of second guy in ensemble (False) is: 0.45402297377586365\n",
            "Acc of ensemble is:0.4885057508945465\n",
            "\n",
            "\n",
            "Acc of first guy in ensemble (True) is: 0.48275861144065857\n",
            "Acc of second guy in ensemble (False) is: 0.44252872467041016\n",
            "Acc of ensemble is:0.5\n",
            "\n",
            "\n",
            "Acc of first guy in ensemble (True) is: 0.48275861144065857\n",
            "Acc of second guy in ensemble (False) is: 0.43103447556495667\n",
            "Acc of ensemble is:0.5057471394538879\n",
            "\n",
            "\n",
            "Acc of first guy in ensemble (True) is: 0.48275861144065857\n",
            "Acc of second guy in ensemble (False) is: 0.43103447556495667\n",
            "Acc of ensemble is:0.4885057508945465\n",
            "\n",
            "\n",
            "Acc of first guy in ensemble (True) is: 0.48275861144065857\n",
            "Acc of second guy in ensemble (False) is: 0.43103447556495667\n",
            "Acc of ensemble is:0.5\n",
            "\n",
            "\n",
            "Acc of first guy in ensemble (True) is: 0.48275861144065857\n",
            "Acc of second guy in ensemble (False) is: 0.4655172526836395\n",
            "Acc of ensemble is:0.5114942789077759\n",
            "\n",
            "\n",
            "Acc of first guy in ensemble (True) is: 0.5114942789077759\n",
            "Acc of second guy in ensemble (False) is: 0.45402297377586365\n",
            "Acc of ensemble is:0.5\n",
            "\n",
            "\n",
            "Acc of first guy in ensemble (True) is: 0.5114942789077759\n",
            "Acc of second guy in ensemble (False) is: 0.44252872467041016\n",
            "Acc of ensemble is:0.5287356376647949\n",
            "\n",
            "\n",
            "Acc of first guy in ensemble (True) is: 0.5114942789077759\n",
            "Acc of second guy in ensemble (False) is: 0.43103447556495667\n",
            "Acc of ensemble is:0.5057471394538879\n",
            "\n",
            "\n",
            "Acc of first guy in ensemble (True) is: 0.5114942789077759\n",
            "Acc of second guy in ensemble (False) is: 0.43103447556495667\n",
            "Acc of ensemble is:0.48275861144065857\n",
            "\n",
            "\n",
            "Acc of first guy in ensemble (True) is: 0.5114942789077759\n",
            "Acc of second guy in ensemble (False) is: 0.43103447556495667\n",
            "Acc of ensemble is:0.5\n",
            "\n",
            "\n",
            "Acc of first guy in ensemble (True) is: 0.5114942789077759\n",
            "Acc of second guy in ensemble (False) is: 0.4655172526836395\n",
            "Acc of ensemble is:0.5114942789077759\n",
            "\n",
            "\n",
            "Acc of first guy in ensemble (True) is: 0.5114942789077759\n",
            "Acc of second guy in ensemble (False) is: 0.45402297377586365\n",
            "Acc of ensemble is:0.4885057508945465\n",
            "\n",
            "\n",
            "Acc of first guy in ensemble (True) is: 0.5114942789077759\n",
            "Acc of second guy in ensemble (False) is: 0.44252872467041016\n",
            "Acc of ensemble is:0.5\n",
            "\n",
            "\n",
            "Acc of first guy in ensemble (True) is: 0.5114942789077759\n",
            "Acc of second guy in ensemble (False) is: 0.43103447556495667\n",
            "Acc of ensemble is:0.49425286054611206\n",
            "\n",
            "\n",
            "Acc of first guy in ensemble (True) is: 0.5114942789077759\n",
            "Acc of second guy in ensemble (False) is: 0.43103447556495667\n",
            "Acc of ensemble is:0.48275861144065857\n",
            "\n",
            "\n",
            "Acc of first guy in ensemble (True) is: 0.5114942789077759\n",
            "Acc of second guy in ensemble (False) is: 0.43103447556495667\n",
            "Acc of ensemble is:0.5114942789077759\n",
            "\n",
            "\n",
            "Acc of first guy in ensemble (True) is: 0.5114942789077759\n",
            "Acc of second guy in ensemble (False) is: 0.4655172526836395\n",
            "Acc of ensemble is:0.517241358757019\n",
            "\n"
          ]
        }
      ]
    }
  ],
  "metadata": {
    "kernelspec": {
      "display_name": "Python 3 (ipykernel)",
      "language": "python",
      "name": "python3"
    },
    "colab": {
      "provenance": [],
      "machine_shape": "hm",
      "include_colab_link": true
    },
    "accelerator": "GPU",
    "gpuClass": "premium",
    "widgets": {
      "application/vnd.jupyter.widget-state+json": {
        "b47799ccaad04e21afc40cf7c596c168": {
          "model_module": "@jupyter-widgets/controls",
          "model_name": "HBoxModel",
          "model_module_version": "1.5.0",
          "state": {
            "_dom_classes": [],
            "_model_module": "@jupyter-widgets/controls",
            "_model_module_version": "1.5.0",
            "_model_name": "HBoxModel",
            "_view_count": null,
            "_view_module": "@jupyter-widgets/controls",
            "_view_module_version": "1.5.0",
            "_view_name": "HBoxView",
            "box_style": "",
            "children": [
              "IPY_MODEL_f479f8c74e0a462290313d3f28de42be",
              "IPY_MODEL_eadbe7509969421baa5075fad3cfdec1",
              "IPY_MODEL_4a614699f7bb49f5ad6ac930c77411d4"
            ],
            "layout": "IPY_MODEL_0ae862dc570f4e858e77c464a8527656"
          }
        },
        "f479f8c74e0a462290313d3f28de42be": {
          "model_module": "@jupyter-widgets/controls",
          "model_name": "HTMLModel",
          "model_module_version": "1.5.0",
          "state": {
            "_dom_classes": [],
            "_model_module": "@jupyter-widgets/controls",
            "_model_module_version": "1.5.0",
            "_model_name": "HTMLModel",
            "_view_count": null,
            "_view_module": "@jupyter-widgets/controls",
            "_view_module_version": "1.5.0",
            "_view_name": "HTMLView",
            "description": "",
            "description_tooltip": null,
            "layout": "IPY_MODEL_bdce1a2024b7436ea12a06e905b8478c",
            "placeholder": "​",
            "style": "IPY_MODEL_1aafe012aa794d6e888b30c554411f24",
            "value": "100%"
          }
        },
        "eadbe7509969421baa5075fad3cfdec1": {
          "model_module": "@jupyter-widgets/controls",
          "model_name": "FloatProgressModel",
          "model_module_version": "1.5.0",
          "state": {
            "_dom_classes": [],
            "_model_module": "@jupyter-widgets/controls",
            "_model_module_version": "1.5.0",
            "_model_name": "FloatProgressModel",
            "_view_count": null,
            "_view_module": "@jupyter-widgets/controls",
            "_view_module_version": "1.5.0",
            "_view_name": "ProgressView",
            "bar_style": "success",
            "description": "",
            "description_tooltip": null,
            "layout": "IPY_MODEL_09da4fd62c924c0f9e0a7eec7d2c6d23",
            "max": 94355933,
            "min": 0,
            "orientation": "horizontal",
            "style": "IPY_MODEL_e42128d9b2ce4bddac452c7acd58b03e",
            "value": 94355933
          }
        },
        "4a614699f7bb49f5ad6ac930c77411d4": {
          "model_module": "@jupyter-widgets/controls",
          "model_name": "HTMLModel",
          "model_module_version": "1.5.0",
          "state": {
            "_dom_classes": [],
            "_model_module": "@jupyter-widgets/controls",
            "_model_module_version": "1.5.0",
            "_model_name": "HTMLModel",
            "_view_count": null,
            "_view_module": "@jupyter-widgets/controls",
            "_view_module_version": "1.5.0",
            "_view_name": "HTMLView",
            "description": "",
            "description_tooltip": null,
            "layout": "IPY_MODEL_6a1e61af9f0a4ebe85ca6184385793b7",
            "placeholder": "​",
            "style": "IPY_MODEL_750e453eaa6c4497a463ad7a5f952747",
            "value": " 90.0M/90.0M [00:02&lt;00:00, 49.3MB/s]"
          }
        },
        "0ae862dc570f4e858e77c464a8527656": {
          "model_module": "@jupyter-widgets/base",
          "model_name": "LayoutModel",
          "model_module_version": "1.2.0",
          "state": {
            "_model_module": "@jupyter-widgets/base",
            "_model_module_version": "1.2.0",
            "_model_name": "LayoutModel",
            "_view_count": null,
            "_view_module": "@jupyter-widgets/base",
            "_view_module_version": "1.2.0",
            "_view_name": "LayoutView",
            "align_content": null,
            "align_items": null,
            "align_self": null,
            "border": null,
            "bottom": null,
            "display": null,
            "flex": null,
            "flex_flow": null,
            "grid_area": null,
            "grid_auto_columns": null,
            "grid_auto_flow": null,
            "grid_auto_rows": null,
            "grid_column": null,
            "grid_gap": null,
            "grid_row": null,
            "grid_template_areas": null,
            "grid_template_columns": null,
            "grid_template_rows": null,
            "height": null,
            "justify_content": null,
            "justify_items": null,
            "left": null,
            "margin": null,
            "max_height": null,
            "max_width": null,
            "min_height": null,
            "min_width": null,
            "object_fit": null,
            "object_position": null,
            "order": null,
            "overflow": null,
            "overflow_x": null,
            "overflow_y": null,
            "padding": null,
            "right": null,
            "top": null,
            "visibility": null,
            "width": null
          }
        },
        "bdce1a2024b7436ea12a06e905b8478c": {
          "model_module": "@jupyter-widgets/base",
          "model_name": "LayoutModel",
          "model_module_version": "1.2.0",
          "state": {
            "_model_module": "@jupyter-widgets/base",
            "_model_module_version": "1.2.0",
            "_model_name": "LayoutModel",
            "_view_count": null,
            "_view_module": "@jupyter-widgets/base",
            "_view_module_version": "1.2.0",
            "_view_name": "LayoutView",
            "align_content": null,
            "align_items": null,
            "align_self": null,
            "border": null,
            "bottom": null,
            "display": null,
            "flex": null,
            "flex_flow": null,
            "grid_area": null,
            "grid_auto_columns": null,
            "grid_auto_flow": null,
            "grid_auto_rows": null,
            "grid_column": null,
            "grid_gap": null,
            "grid_row": null,
            "grid_template_areas": null,
            "grid_template_columns": null,
            "grid_template_rows": null,
            "height": null,
            "justify_content": null,
            "justify_items": null,
            "left": null,
            "margin": null,
            "max_height": null,
            "max_width": null,
            "min_height": null,
            "min_width": null,
            "object_fit": null,
            "object_position": null,
            "order": null,
            "overflow": null,
            "overflow_x": null,
            "overflow_y": null,
            "padding": null,
            "right": null,
            "top": null,
            "visibility": null,
            "width": null
          }
        },
        "1aafe012aa794d6e888b30c554411f24": {
          "model_module": "@jupyter-widgets/controls",
          "model_name": "DescriptionStyleModel",
          "model_module_version": "1.5.0",
          "state": {
            "_model_module": "@jupyter-widgets/controls",
            "_model_module_version": "1.5.0",
            "_model_name": "DescriptionStyleModel",
            "_view_count": null,
            "_view_module": "@jupyter-widgets/base",
            "_view_module_version": "1.2.0",
            "_view_name": "StyleView",
            "description_width": ""
          }
        },
        "09da4fd62c924c0f9e0a7eec7d2c6d23": {
          "model_module": "@jupyter-widgets/base",
          "model_name": "LayoutModel",
          "model_module_version": "1.2.0",
          "state": {
            "_model_module": "@jupyter-widgets/base",
            "_model_module_version": "1.2.0",
            "_model_name": "LayoutModel",
            "_view_count": null,
            "_view_module": "@jupyter-widgets/base",
            "_view_module_version": "1.2.0",
            "_view_name": "LayoutView",
            "align_content": null,
            "align_items": null,
            "align_self": null,
            "border": null,
            "bottom": null,
            "display": null,
            "flex": null,
            "flex_flow": null,
            "grid_area": null,
            "grid_auto_columns": null,
            "grid_auto_flow": null,
            "grid_auto_rows": null,
            "grid_column": null,
            "grid_gap": null,
            "grid_row": null,
            "grid_template_areas": null,
            "grid_template_columns": null,
            "grid_template_rows": null,
            "height": null,
            "justify_content": null,
            "justify_items": null,
            "left": null,
            "margin": null,
            "max_height": null,
            "max_width": null,
            "min_height": null,
            "min_width": null,
            "object_fit": null,
            "object_position": null,
            "order": null,
            "overflow": null,
            "overflow_x": null,
            "overflow_y": null,
            "padding": null,
            "right": null,
            "top": null,
            "visibility": null,
            "width": null
          }
        },
        "e42128d9b2ce4bddac452c7acd58b03e": {
          "model_module": "@jupyter-widgets/controls",
          "model_name": "ProgressStyleModel",
          "model_module_version": "1.5.0",
          "state": {
            "_model_module": "@jupyter-widgets/controls",
            "_model_module_version": "1.5.0",
            "_model_name": "ProgressStyleModel",
            "_view_count": null,
            "_view_module": "@jupyter-widgets/base",
            "_view_module_version": "1.2.0",
            "_view_name": "StyleView",
            "bar_color": null,
            "description_width": ""
          }
        },
        "6a1e61af9f0a4ebe85ca6184385793b7": {
          "model_module": "@jupyter-widgets/base",
          "model_name": "LayoutModel",
          "model_module_version": "1.2.0",
          "state": {
            "_model_module": "@jupyter-widgets/base",
            "_model_module_version": "1.2.0",
            "_model_name": "LayoutModel",
            "_view_count": null,
            "_view_module": "@jupyter-widgets/base",
            "_view_module_version": "1.2.0",
            "_view_name": "LayoutView",
            "align_content": null,
            "align_items": null,
            "align_self": null,
            "border": null,
            "bottom": null,
            "display": null,
            "flex": null,
            "flex_flow": null,
            "grid_area": null,
            "grid_auto_columns": null,
            "grid_auto_flow": null,
            "grid_auto_rows": null,
            "grid_column": null,
            "grid_gap": null,
            "grid_row": null,
            "grid_template_areas": null,
            "grid_template_columns": null,
            "grid_template_rows": null,
            "height": null,
            "justify_content": null,
            "justify_items": null,
            "left": null,
            "margin": null,
            "max_height": null,
            "max_width": null,
            "min_height": null,
            "min_width": null,
            "object_fit": null,
            "object_position": null,
            "order": null,
            "overflow": null,
            "overflow_x": null,
            "overflow_y": null,
            "padding": null,
            "right": null,
            "top": null,
            "visibility": null,
            "width": null
          }
        },
        "750e453eaa6c4497a463ad7a5f952747": {
          "model_module": "@jupyter-widgets/controls",
          "model_name": "DescriptionStyleModel",
          "model_module_version": "1.5.0",
          "state": {
            "_model_module": "@jupyter-widgets/controls",
            "_model_module_version": "1.5.0",
            "_model_name": "DescriptionStyleModel",
            "_view_count": null,
            "_view_module": "@jupyter-widgets/base",
            "_view_module_version": "1.2.0",
            "_view_name": "StyleView",
            "description_width": ""
          }
        }
      }
    }
  },
  "nbformat": 4,
  "nbformat_minor": 0
}