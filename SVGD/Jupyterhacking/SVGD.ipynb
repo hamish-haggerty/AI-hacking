{
 "cells": [
  {
   "cell_type": "code",
   "execution_count": null,
   "id": "12cea05c",
   "metadata": {},
   "outputs": [],
   "source": [
    "#First go at implementing SVGD. View towards applying to BT sampling."
   ]
  },
  {
   "cell_type": "code",
   "execution_count": 62,
   "id": "a02e3871",
   "metadata": {},
   "outputs": [],
   "source": [
    "import torch\n",
    "import math\n",
    "import inspect"
   ]
  },
  {
   "cell_type": "code",
   "execution_count": 63,
   "id": "ff3f8f7a",
   "metadata": {},
   "outputs": [],
   "source": [
    "zdim=1\n",
    "loc = torch.zeros(zdim,1)\n",
    "cov_mat=torch.eye(zdim)\n",
    "inv_cov_mat = torch.inverse(cov_mat)\n",
    "\n",
    "Normal = torch.distributions.multivariate_normal.MultivariateNormal\\\n",
    "    (loc=loc, covariance_matrix=cov_mat, precision_matrix=None, scale_tril=None, validate_args=None)\n"
   ]
  },
  {
   "cell_type": "code",
   "execution_count": 64,
   "id": "ef012478",
   "metadata": {},
   "outputs": [],
   "source": [
    "Normal_density = lambda x: torch.exp(Normal.log_prob(x))\n",
    "N=10\n",
    "Particles = torch.rand(N,zdim,1) #so dim=2"
   ]
  },
  {
   "cell_type": "code",
   "execution_count": 7,
   "id": "4d7addde",
   "metadata": {},
   "outputs": [],
   "source": [
    "#Array decorator to be used later\n",
    "\n",
    "def array_decorator(f):\n",
    "    \n",
    "    def wrapper(X,*args,**kwargs):\n",
    "        \n",
    "        if len(X.shape)<=2: \n",
    "                \n",
    "            return f(X,*args,**kwargs)\n",
    "            \n",
    "        N=X.shape[0]\n",
    "\n",
    "        if 'z' in inspect.getfullargspec(f)[0]:\n",
    "            \n",
    "            z = kwargs['z']\n",
    "            kwargs.pop('z', None)\n",
    "            \n",
    "            \n",
    "            tem = [f(X[i],X[j],z=z[i,j],**kwargs) \\\n",
    "                for i in range(N) \\\n",
    "                for j in range(N)]\n",
    "\n",
    "        else:\n",
    "        \n",
    "            tem = [f(X[i],X[j],**kwargs) \\\n",
    "                   for i in range(N) \\\n",
    "                   for j in range(N)]\n",
    "       \n",
    "        #Now we want to reshape the list of tensors tem to be NxNxd where d are dimensions of output of f\n",
    "        d=tem[0] #Just grab the first entry. So this will be e.g. f(X[0],X[0],...)\n",
    "        d=tuple(d.shape) #so e.g. this might be 2x1\n",
    "        tem = torch.stack(tem,dim=0).view(N,N,*d) #Reshape\n",
    "   \n",
    "        return tem\n",
    "    \n",
    "    return wrapper\n"
   ]
  },
  {
   "cell_type": "code",
   "execution_count": 8,
   "id": "77e3b1c2",
   "metadata": {},
   "outputs": [],
   "source": [
    "@array_decorator\n",
    "def rbf(x,y,sig=1.0):\n",
    "    \"\"\"\"Works for any dimensionality\n",
    "    \"\"\"\n",
    "    \n",
    "    assert(sig>0)\n",
    "    v = (-1/(2*sig))*torch.linalg.vector_norm(x-y)**2\n",
    "    return torch.exp(v)\n",
    "    "
   ]
  },
  {
   "cell_type": "code",
   "execution_count": 9,
   "id": "efcc9645",
   "metadata": {},
   "outputs": [],
   "source": [
    "rbf(Particles[0],Particles[1])\n",
    "\n",
    "x=torch.tensor([0.,1.])\n",
    "y=torch.tensor([0.,4.])\n",
    "torch.linalg.vector_norm(x-y)\n",
    "assert rbf(x,y) == torch.exp(-0.5*torch.tensor([9.]))"
   ]
  },
  {
   "cell_type": "code",
   "execution_count": 10,
   "id": "2891b94b",
   "metadata": {},
   "outputs": [],
   "source": [
    "@array_decorator\n",
    "def dist(x,y):\n",
    "    \n",
    "    return torch.norm(x-y)"
   ]
  },
  {
   "cell_type": "code",
   "execution_count": 11,
   "id": "9611b388",
   "metadata": {},
   "outputs": [],
   "source": [
    "#Test\n",
    "x=torch.tensor([1.,0])\n",
    "y=torch.tensor([2.,1])\n",
    "assert (dist(x,y) == (2**0.5))\n",
    "\n",
    "Particles = 10*torch.rand(10,3,1)-10 #so zdim=3\n",
    "\n",
    "assert dist(Particles)[2,3] == torch.norm(Particles[2]-Particles[3])\n"
   ]
  },
  {
   "cell_type": "code",
   "execution_count": 12,
   "id": "1d2db7de",
   "metadata": {},
   "outputs": [
    {
     "name": "stdout",
     "output_type": "stream",
     "text": [
      "tensor(6.5084)\n",
      "tensor(7.0486)\n"
     ]
    }
   ],
   "source": [
    "tem=dist(Particles)\n",
    "print(torch.mean(tem))\n",
    "print(torch.median(tem))"
   ]
  },
  {
   "cell_type": "code",
   "execution_count": 13,
   "id": "426cd56e",
   "metadata": {},
   "outputs": [],
   "source": [
    "#TODO: Rewrite these tests with pytest!\n",
    "\n",
    "#2d\n",
    "x=torch.ones(2,1)\n",
    "y=torch.zeros(2,1)\n",
    "assert(abs(rbf(x,y,sig=1) - 0.36787944117144233)<1e-4)\n",
    "\n",
    "#NOTE: Writing this out twice is redundant!!\n",
    "\n",
    "#2d\n",
    "x=torch.tensor([[1.],[2.]])\n",
    "y=torch.tensor([[0.],[1.]])\n",
    "sig=0.5\n",
    "assert(abs(rbf(x,y,sig=sig) - math.exp(-2)) < 1e-4)\n",
    "\n",
    "#1d\n",
    "x = torch.tensor([[4.]])\n",
    "y = torch.tensor([[2.]])\n",
    "sig=1\n",
    "assert(abs(rbf(x,y,sig=sig) - math.exp(-2)) < 1e-4)\n",
    "\n",
    "#TODO: Array\n",
    "#Notice redundancy here!\n",
    "\n",
    "X = torch.rand(10,2,1)\n",
    "\n",
    "x1,y1 = X[0],X[4]\n",
    "sig=0.02\n",
    "V1 = rbf(X,sig=sig)\n",
    "assert((rbf(x1,y1,sig=sig) == V1[0,4]).item())\n",
    "\n",
    "\n",
    "x2,y2 = X[0],X[4]\n",
    "sig=1.2\n",
    "V2 = rbf(X,sig=sig)\n",
    "assert((rbf(x2,y2,sig=sig) == V2[0,4]).item())\n",
    "\n",
    "\n",
    "\n"
   ]
  },
  {
   "cell_type": "code",
   "execution_count": 14,
   "id": "9c2ab2ca",
   "metadata": {},
   "outputs": [],
   "source": [
    "#So function that operates on rows can operate on collection together\n",
    "\n",
    "#i.e. if we apply this decorator to functions that work on, in our case zdim x 1 arrays, e.g. the score function\n",
    "#now we can apply them \"batch wise\" across N x zdim x 1 arrays, by simply applying the decorator!\n",
    "\n",
    "def row_decorator(f):\n",
    "    \n",
    "    def wrapper(X):\n",
    "        \n",
    "        #If this condition holds reduces to old case\n",
    "        if len(X.shape)==2:\n",
    "            return f(X)\n",
    "        \n",
    "        N=X.shape[0]\n",
    "    \n",
    "        return torch.stack([f(X[i]) for i in range(N)])\n",
    "    \n",
    "    return wrapper "
   ]
  },
  {
   "cell_type": "code",
   "execution_count": 15,
   "id": "d89c806a",
   "metadata": {},
   "outputs": [],
   "source": [
    "#Need gradient of log_density, or score function, for N(zdim)\n",
    "\n",
    "@row_decorator\n",
    "def score(x):\n",
    "    tem = -1*torch.mm(inv_cov_mat,x-loc) #Works independently of dimension!\n",
    "    \n",
    "    assert(tem.shape[1]==1)\n",
    "    \n",
    "    return tem"
   ]
  },
  {
   "cell_type": "code",
   "execution_count": 16,
   "id": "bda5c4c8",
   "metadata": {},
   "outputs": [],
   "source": [
    "#Test above function. Relies on being standard 2d case\n",
    "x=torch.rand(zdim,1)\n",
    "score(x)\n",
    "\n",
    "assert(torch.all(score(x)==-x)) #test default behaviour\n",
    "\n",
    "#row test\n",
    "Particles = torch.rand(10,zdim,1) #Relies on being zdim\n",
    "\n",
    "assert(torch.all(score(Particles)[4] == score(Particles[4]))) #Test decorator extension, i.e. @row_decorator\n",
    "\n"
   ]
  },
  {
   "cell_type": "code",
   "execution_count": 17,
   "id": "117b71f4",
   "metadata": {},
   "outputs": [],
   "source": [
    "#Need gradient of kernel wrt FIRST argment\n",
    "\n",
    "#Grad kernel works just passing in x,y,sig, OR if pass in, additionally, x,y,sig and array of\n",
    "#precomputed rbf_xy with an index i,j that corresponds to rbf_xy[i,j,sig]=rbf(x,y,sig)\n",
    "@array_decorator\n",
    "def grad_kernel(x,y,z=None,sig=1.0):\n",
    "    \"\"\"\"Since gradient of kernel depends on z=rbf(x,y) we just compute it once \n",
    "        elsewhere and pass it in here. IMPORTANT: Computed wrt first argument x. \n",
    "    \"\"\"\n",
    "    \n",
    "    #Instead of Particles[i],Particles[j] we now want Particles[i],Particles[j],rbf_xy[i,j]\n",
    "    if z is None:\n",
    "        z = rbf(x,y,sig=sig)\n",
    "\n",
    "    return (-1/sig)*z*(x-y)\n",
    "    \n",
    "    #syntax of decorator: dec(grad_kernel(X,...)) = grad_kernel(X[i],X[j],...)\n",
    "  \n",
    "    #g = (-1/sig)*rbf_xy*(x-y) formula given all the values. \n",
    "    \n"
   ]
  },
  {
   "cell_type": "code",
   "execution_count": 18,
   "id": "9822c4e6",
   "metadata": {},
   "outputs": [],
   "source": [
    "#TODO: Test more. But note that also need to make sure gradient computations are correct!!!\n",
    "#Test\n",
    "x=torch.tensor([[1.],[2.]])\n",
    "y=torch.tensor([[0.],[1.]])\n",
    "sig=0.5\n",
    "\n",
    "rbf_xy = rbf(x,y,sig=sig)\n",
    "grad_kernel(x,y,z=rbf_xy,sig=sig) #Make sure runs\n",
    "#input()\n",
    "\n",
    "#Higher dimensional test\n",
    "rbf_xy = rbf(Particles,sig=sig)\n",
    "assert(torch.all(grad_kernel(Particles[3],Particles[4],z=rbf_xy[3,4],sig=sig)==grad_kernel(Particles,z=rbf_xy,sig=sig)[3,4])) #woohoo, seems to work!!!\n",
    "\n"
   ]
  },
  {
   "cell_type": "code",
   "execution_count": null,
   "id": "b8cd3b9d",
   "metadata": {},
   "outputs": [],
   "source": []
  },
  {
   "cell_type": "code",
   "execution_count": 19,
   "id": "add0adc1",
   "metadata": {},
   "outputs": [],
   "source": [
    "#Now have 1,2,3 so essentially have phi\n",
    "\n",
    "def phi(Particles,N,sig):\n",
    "    \n",
    "    K = rbf(Particles,sig=sig) #kernel\n",
    "\n",
    "    S = score(Particles).view(N,-1) #score\n",
    "    \n",
    "    DK = grad_kernel(Particles,z=K,sig=sig).view(N,N,-1) #derivative of kernel\n",
    " \n",
    "        \n",
    "            #First term             #Second term\n",
    "    return (1/N)*(torch.mm(K.T,S) + torch.sum(DK,axis=0)).view(N,-1,1)\n",
    "\n"
   ]
  },
  {
   "cell_type": "code",
   "execution_count": 20,
   "id": "7abecaa7",
   "metadata": {},
   "outputs": [
    {
     "name": "stdout",
     "output_type": "stream",
     "text": [
      "tensor([2.2314, 1.2380, 0.8986])\n",
      "tensor([1.0921, 1.9037, 1.3722])\n",
      "tensor([[0.8599, 0.0735, 0.1587],\n",
      "        [0.5262, 0.9087, 0.4689],\n",
      "        [0.8454, 0.2558, 0.2710]])\n",
      "tensor([2.2314, 1.2380, 0.8986])\n",
      "tensor([1.0921, 1.9037, 1.3722])\n"
     ]
    }
   ],
   "source": [
    "K = rbf(Particles,sig=sig) #kernel\n",
    "DK = grad_kernel(Particles,z=K,sig=sig).view(N,N,-1) #derivative of kernel\n",
    "\n",
    "\n",
    "X=torch.rand(3,3)\n",
    "print(X.sum(0))\n",
    "print(X.sum(1))\n",
    "print(X)\n",
    "print(torch.sum(X,axis=0)) #Sum rows\n",
    "print(torch.sum(X,axis=1)) #Sum cols\n",
    "\n",
    "\n"
   ]
  },
  {
   "cell_type": "code",
   "execution_count": 21,
   "id": "0a602e7f",
   "metadata": {},
   "outputs": [],
   "source": [
    "def SVGD(Particles,N,sig,eta=0.01):\n",
    "    return Particles + eta*phi(Particles,N,sig)"
   ]
  },
  {
   "cell_type": "code",
   "execution_count": 22,
   "id": "54079a05",
   "metadata": {},
   "outputs": [],
   "source": [
    "def Adam_SVGD(Particles,g,m=None,v=None,eta=1e-3,beta1=0.9,beta2=0.999,eps=1e-8):\n",
    "    \n",
    "    #Initialization of m and v\n",
    "    if m is None:\n",
    "        \n",
    "        m=0*g\n",
    "        v=0*g\n",
    "        \n",
    "    m = beta1*m + (1-beta1)*g\n",
    "    v = beta2*v + (1-beta2)*g.pow(2)\n",
    "    \n",
    "    mhat = m/(1-beta1)\n",
    "    vhat = v/(1-beta2)\n",
    "    \n",
    "    \n",
    "    Particles = Particles + eta/(vhat.pow(0.5) + eps) * mhat\n",
    "    \n",
    "    return Particles,m,v\n",
    "    \n",
    "    "
   ]
  },
  {
   "cell_type": "code",
   "execution_count": 23,
   "id": "90a05727",
   "metadata": {},
   "outputs": [
    {
     "name": "stdout",
     "output_type": "stream",
     "text": [
      "tensor(0.7552)\n",
      "tensor(-2.1168)\n",
      "tensor(-0.3081)\n"
     ]
    }
   ],
   "source": [
    "tem=Normal.rsample(sample_shape=torch.Size([15]))\n",
    "print(tem.max())\n",
    "print(tem.min())\n",
    "print(tem.mean())"
   ]
  },
  {
   "cell_type": "code",
   "execution_count": 25,
   "id": "08e80ec7",
   "metadata": {},
   "outputs": [
    {
     "name": "stdout",
     "output_type": "stream",
     "text": [
      "The snakeviz extension is already loaded. To reload it, use:\n",
      "  %reload_ext snakeviz\n"
     ]
    }
   ],
   "source": [
    "#import snakeviz\n",
    "\n",
    "%load_ext snakeviz\n",
    "import numpy as np"
   ]
  },
  {
   "cell_type": "code",
   "execution_count": 61,
   "id": "e50e9800",
   "metadata": {},
   "outputs": [
    {
     "name": "stdout",
     "output_type": "stream",
     "text": [
      "4.612829208374023\n"
     ]
    }
   ],
   "source": [
    "#Comparison of ways to compute rbf kernel\n",
    "\n",
    "#My way:\n",
    "\n",
    "S=0\n",
    "for n in range(10):\n",
    "    t1=time()\n",
    "    Particles = torch.rand(500,zdim,1)\n",
    "    K = dist(Particles)\n",
    "    t2=time()\n",
    "    print(t2-t1)\n"
   ]
  },
  {
   "cell_type": "code",
   "execution_count": 50,
   "id": "c0c12190",
   "metadata": {},
   "outputs": [],
   "source": [
    "from time import time"
   ]
  },
  {
   "cell_type": "code",
   "execution_count": null,
   "id": "ede58120",
   "metadata": {},
   "outputs": [],
   "source": [
    "#Method 1: With some vectorization\n",
    "\n",
    "#Use fact that ||x-y||^2 = ||x||^2 + ||y||^2 - - 2 * x^T * y"
   ]
  },
  {
   "cell_type": "code",
   "execution_count": null,
   "id": "54d98e18",
   "metadata": {},
   "outputs": [],
   "source": [
    "X_norm = np.sum(X ** 2, axis = -1)\n",
    "\n",
    "K = var * np.exp(-gamma * (X_norm[:,None] + X_norm[None,:] - 2 * np.dot(X, X.T)))"
   ]
  },
  {
   "cell_type": "code",
   "execution_count": null,
   "id": "d53e2d54",
   "metadata": {},
   "outputs": [],
   "source": []
  },
  {
   "cell_type": "code",
   "execution_count": 55,
   "id": "2c6e15d4",
   "metadata": {},
   "outputs": [
    {
     "name": "stdout",
     "output_type": "stream",
     "text": [
      " \n",
      "*** Profile stats marshalled to file '/var/folders/95/qkdymsl93lz1tvnqky1vn_p00000gn/T/tmph1tk7ytw'. \n",
      "Embedding SnakeViz in this document...\n"
     ]
    },
    {
     "data": {
      "text/html": [
       "\n",
       "<iframe id='snakeviz-e8404bbe-e850-11ec-befb-faffc2547185' frameborder=0 seamless width='100%' height='1000'></iframe>\n",
       "<script>document.getElementById(\"snakeviz-e8404bbe-e850-11ec-befb-faffc2547185\").setAttribute(\"src\", \"http://\" + document.location.hostname + \":8080/snakeviz/%2Fvar%2Ffolders%2F95%2Fqkdymsl93lz1tvnqky1vn_p00000gn%2FT%2Ftmph1tk7ytw\")</script>\n"
      ],
      "text/plain": [
       "<IPython.core.display.HTML object>"
      ]
     },
     "metadata": {},
     "output_type": "display_data"
    }
   ],
   "source": [
    "#TODO: Profile where code is slow and make it faster\n",
    "#import cProfile\n",
    "\n",
    "def main():\n",
    "\n",
    "    N=100\n",
    "    Particles = torch.rand(N,zdim,1)\n",
    "    #sig=2\n",
    "    #L=100\n",
    "    L=1\n",
    "    eta=0.1\n",
    "\n",
    "    #Initialize m and v \n",
    "    m=None\n",
    "    v=None\n",
    "\n",
    "    for l in range(L):\n",
    "\n",
    "        #print('About to get pairwise distance')\n",
    "        #t1=time()\n",
    "        d = dist(Particles) #Get pairwise distance\n",
    "        #t2=time()\n",
    "    #     print((t2-t1))\n",
    "    #     print('Got pairwise distance in {}s'.format((t2-t1)))\n",
    "    #     input()\n",
    "\n",
    "        sig = 0.5*torch.median(d)**2 / math.log(N) #Adaptively\n",
    "        #sig = 1.0\n",
    "\n",
    "        #print('about to run phi')\n",
    "        #t1=time()\n",
    "        g = phi(Particles,N,sig)\n",
    "        #t2=time()\n",
    "        #print('Ran phi in {}'.format((t2-t1)))\n",
    "\n",
    "        #input()\n",
    "        Particles,m,v = Adam_SVGD(Particles,g=g,m=m,v=v,eta=eta)\n",
    "\n",
    "        if l == 250:\n",
    "            eta=0.01\n",
    "\n",
    "        elif l == 500:\n",
    "            eta=0.001\n",
    "\n",
    "        #print(l)\n",
    "\n",
    "        #print(torch.max(Particles))\n",
    "        #print(torch.min(Particles))\n",
    "\n",
    "\n",
    "        #Particles = SVGD(Particles,N,sig=sig,eta=eta) #How to choose step size?\n",
    "\n",
    "        #print(Particles)\n",
    "\n",
    "# print(torch.max(Particles))\n",
    "# print(torch.min(Particles))\n",
    "# print(torch.mean(Particles))\n",
    "\n",
    "\n",
    "%snakeviz main()"
   ]
  },
  {
   "cell_type": "code",
   "execution_count": 319,
   "id": "fa3811a4",
   "metadata": {},
   "outputs": [
    {
     "data": {
      "text/plain": [
       "(array([0, 2, 1]), array([0, 1, 2, 3]))"
      ]
     },
     "execution_count": 319,
     "metadata": {},
     "output_type": "execute_result"
    }
   ],
   "source": [
    "import numpy as np\n",
    "np.histogram([1, 2, 1], bins=[0, 1, 2, 3])"
   ]
  },
  {
   "cell_type": "code",
   "execution_count": 427,
   "id": "7980a1ec",
   "metadata": {},
   "outputs": [],
   "source": [
    "import seaborn as sns\n",
    "import numpy as np\n",
    "data=Particles.detach().numpy()\n",
    "data=np.reshape(data,N)\n",
    "data=np.sort(data)\n"
   ]
  },
  {
   "cell_type": "code",
   "execution_count": 428,
   "id": "04512115",
   "metadata": {},
   "outputs": [
    {
     "data": {
      "text/plain": [
       "<matplotlib.legend.Legend at 0x7f7b92c558b0>"
      ]
     },
     "execution_count": 428,
     "metadata": {},
     "output_type": "execute_result"
    },
    {
     "data": {
      "image/png": "[encoded data removed]",
      "text/plain": [
       "<Figure size 432x288 with 1 Axes>"
      ]
     },
     "metadata": {
      "needs_background": "light"
     },
     "output_type": "display_data"
    }
   ],
   "source": [
    "#Useful code cell\n",
    "import scipy\n",
    "x = np.random.standard_normal(1000)\n",
    "\n",
    "#ax = sns.histplot(x, kde=False, stat='density', label='samples')\n",
    "ax = sns.histplot(data, kde=False, stat='density', label='samples')\n",
    "\n",
    "sns.kdeplot(data,label='kde of data')\n",
    "\n",
    "# calculate the pdf\n",
    "x0, x1 = ax.get_xlim()  # extract the endpoints for the x-axis\n",
    "x_pdf = np.linspace(x0, x1, 100)\n",
    "y_pdf = scipy.stats.norm.pdf(x_pdf)\n",
    "\n",
    "ax.plot(x_pdf, y_pdf, 'r', lw=2, label='normal pdf')                                                   \n",
    "ax.legend()"
   ]
  },
  {
   "cell_type": "code",
   "execution_count": 388,
   "id": "f6d25b6e",
   "metadata": {},
   "outputs": [
    {
     "data": {
      "text/plain": [
       "<matplotlib.legend.Legend at 0x7f7bae2c4be0>"
      ]
     },
     "execution_count": 388,
     "metadata": {},
     "output_type": "execute_result"
    },
    {
     "data": {
      "image/png": "[encoded data removed]",
      "text/plain": [
       "<Figure size 432x288 with 1 Axes>"
      ]
     },
     "metadata": {
      "needs_background": "light"
     },
     "output_type": "display_data"
    }
   ],
   "source": [
    "ax = sns.kdeplot(data,label='kde of data')\n",
    "x0, x1 = ax.get_xlim()  # extract the endpoints for the x-axis\n",
    "x_pdf = np.linspace(x0, x1, 100)\n",
    "y_pdf = scipy.stats.norm.pdf(x_pdf)\n",
    "\n",
    "ax.plot(x_pdf, y_pdf, 'r', lw=2, label='normal pdf')                                                   \n",
    "ax.legend()\n"
   ]
  },
  {
   "cell_type": "code",
   "execution_count": null,
   "id": "5248c253",
   "metadata": {},
   "outputs": [],
   "source": []
  }
 ],
 "metadata": {
  "kernelspec": {
   "display_name": "Python 3 (ipykernel)",
   "language": "python",
   "name": "python3"
  },
  "language_info": {
   "codemirror_mode": {
    "name": "ipython",
    "version": 3
   },
   "file_extension": ".py",
   "mimetype": "text/x-python",
   "name": "python",
   "nbconvert_exporter": "python",
   "pygments_lexer": "ipython3",
   "version": "3.9.7"
  }
 },
 "nbformat": 4,
 "nbformat_minor": 5
}
