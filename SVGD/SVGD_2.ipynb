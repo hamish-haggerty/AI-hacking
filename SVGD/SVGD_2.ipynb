{
 "cells": [
  {
   "cell_type": "code",
   "execution_count": 1,
   "id": "12cea05c",
   "metadata": {},
   "outputs": [],
   "source": [
    "#Second go at implementing SVGD. Learned a lot about the benefits of vectorization via first attempt:\n",
    "#see pythonbasics and particularly array_operations (and possibly other files) for more info. So let's clean up this \n",
    "#file with some vectorization.\n",
    "\n",
    "#View towards applying to BT sampling."
   ]
  },
  {
   "cell_type": "code",
   "execution_count": 19,
   "id": "a02e3871",
   "metadata": {},
   "outputs": [],
   "source": [
    "import torch\n",
    "import torch.nn.functional as F\n",
    "import torch.nn as nn\n",
    "import math\n",
    "import inspect"
   ]
  },
  {
   "cell_type": "code",
   "execution_count": 3,
   "id": "6b24f830",
   "metadata": {},
   "outputs": [],
   "source": [
    "import ipytest\n",
    "ipytest.autoconfig()\n",
    "import pytest"
   ]
  },
  {
   "cell_type": "code",
   "execution_count": 4,
   "id": "ef012478",
   "metadata": {},
   "outputs": [],
   "source": [
    "Normal_density = lambda x: torch.exp(Normal.log_prob(x))\n",
    "N=10\n",
    "zdim=2\n",
    "Particles = torch.rand(N,zdim) #so dim=2"
   ]
  },
  {
   "cell_type": "code",
   "execution_count": 5,
   "id": "6f3de03a",
   "metadata": {},
   "outputs": [],
   "source": [
    "def norm2(X):\n",
    "    \"\"\"\"Vectorized implementation of norm squared. X is collection of N x,y points, and\n",
    "        returns Y, where Y[i,j] = norm(X[i],X[j])**2. X has shape N*zdim, Y has shape NxN.\n",
    "    \"\"\"\n",
    "    \n",
    "    #Use formula ||(x-y)||**2 = ||x||**2 + ||y||**2 - 2x.T*y. in 1d this is just the \n",
    "    #familiar formula (x-y)**2 expanded. \n",
    "    \n",
    "    X_norm = torch.sum(X ** 2, axis = -1) #gives x[i]**2 for each i\n",
    "\n",
    "    #This First part is \"matrix mult\" viewed as addition\n",
    "    tem1 = X_norm[:,None] + X_norm[None,:] #gives x[i]**2 + x[j]**2 for each i,j\n",
    " \n",
    "    tem2 = - 2 * torch.mm(X, X.T) #last part of above formula\n",
    "    \n",
    "    return tem1 + tem2\n",
    "        \n",
    "    "
   ]
  },
  {
   "cell_type": "code",
   "execution_count": 6,
   "id": "1c520d70",
   "metadata": {},
   "outputs": [
    {
     "name": "stdout",
     "output_type": "stream",
     "text": [
      "\u001b[32m.\u001b[0m\u001b[32m.\u001b[0m\u001b[32m.\u001b[0m\u001b[32m                                                                                          [100%]\u001b[0m\n"
     ]
    }
   ],
   "source": [
    "%%ipytest -qq\n",
    "\n",
    "@pytest.mark.parametrize('i,j,N,zdim',\n",
    "[(0,0,1,1),(1,1,10,1),(2,3,15,2)])\n",
    "\n",
    "def test1_norm2(i,j,N,zdim):\n",
    "    \"\"\"Test norm2 function above with several different values of: N=number of particles,zdim=dim of each \n",
    "        particle and i,j the index.\"\"\"\n",
    "    \n",
    "    X = torch.rand(N,zdim)\n",
    "\n",
    "    assert norm2(X)[i,j] - torch.linalg.vector_norm(X[i]-X[j])**2 < 1e-06\n",
    "    \n",
    "    \n",
    "    "
   ]
  },
  {
   "cell_type": "code",
   "execution_count": 7,
   "id": "77e3b1c2",
   "metadata": {},
   "outputs": [],
   "source": [
    "def rbf(NORM2,sig=1.0):\n",
    "    \"\"\"\"Assumes have already computed norm2(X). So can call as: rbf(norm2(X),sig)\n",
    "    \"\"\"\n",
    "    \n",
    "    assert(sig>0)\n",
    "    assert NORM2.shape[0] == NORM2.shape[1]\n",
    "    \n",
    "    return torch.exp(-1/(2*sig)*NORM2)\n",
    "    "
   ]
  },
  {
   "cell_type": "code",
   "execution_count": 8,
   "id": "973ff109",
   "metadata": {},
   "outputs": [
    {
     "name": "stdout",
     "output_type": "stream",
     "text": [
      "\u001b[32m.\u001b[0m\u001b[32m.\u001b[0m\u001b[32m.\u001b[0m\u001b[32m                                                                                          [100%]\u001b[0m\n"
     ]
    }
   ],
   "source": [
    "%%ipytest -qq\n",
    "\n",
    "@pytest.mark.parametrize('i,j,N,zdim,sig',\n",
    "[(0,0,1,1,1.0),(1,1,10,1,0.5),(2,3,15,2,1.01)])\n",
    "\n",
    "def test1_rbf(i,j,N,zdim,sig):\n",
    "        \n",
    "    X = torch.rand(N,zdim)\n",
    "    NORM2 = norm2(X)\n",
    "\n",
    "    assert rbf(NORM2,sig=sig)[i,j] - torch.exp((-1/(2*sig)*NORM2[i,j])) < 1e-6\n",
    "    "
   ]
  },
  {
   "cell_type": "code",
   "execution_count": 9,
   "id": "c5c17924",
   "metadata": {},
   "outputs": [],
   "source": [
    "#Need gradient of log_density, or score function, for N(zdim)\n",
    "\n",
    "def score(X,inv_cov_mat,loc_t):\n",
    "    \n",
    "    tem = -1*torch.mm(inv_cov_mat, (X-loc_t).T).T #broadcasting\n",
    "        \n",
    "    return tem"
   ]
  },
  {
   "cell_type": "code",
   "execution_count": 10,
   "id": "bda5c4c8",
   "metadata": {},
   "outputs": [
    {
     "name": "stdout",
     "output_type": "stream",
     "text": [
      "\u001b[32m.\u001b[0m\u001b[32m.\u001b[0m\u001b[32m.\u001b[0m\u001b[32m                                                                                          [100%]\u001b[0m\n"
     ]
    }
   ],
   "source": [
    "%%ipytest -qq\n",
    "\n",
    "\n",
    "\n",
    "@pytest.mark.parametrize('N,zdim',\n",
    "[(1,1),(10,1),(10,2)])\n",
    "def test1_score(N,zdim):\n",
    "    #Only tested for basic case of identity covariance matrix in which case score(x)=-x\n",
    "    \n",
    "    #global loc_t,inv_cov_mat #Since score uses these\n",
    "    \n",
    "    #Only tested for this basic case of zero mean and identity covariance matric\n",
    "    loc = torch.zeros(zdim,1)\n",
    "    loc_t = loc.T\n",
    "    cov_mat=torch.eye(zdim)\n",
    "    inv_cov_mat = torch.inverse(cov_mat)\n",
    "    Particles = torch.rand(N,zdim)\n",
    "\n",
    "    torch.mm(inv_cov_mat, (Particles-loc_t).T).T\n",
    "    \n",
    "    assert torch.all(score(Particles,inv_cov_mat,loc_t) == -Particles)\n",
    "    \n",
    "    #assert torch.all(Particles == -score(Particles))\n",
    "\n",
    "    \n"
   ]
  },
  {
   "cell_type": "code",
   "execution_count": 11,
   "id": "117b71f4",
   "metadata": {},
   "outputs": [],
   "source": [
    "#Need gradient of kernel wrt FIRST argment\n",
    "\n",
    "#Grad kernel works just passing in x,y,sig, OR if pass in, additionally, x,y,sig and array of\n",
    "#precomputed rbf_xy with an index i,j that corresponds to rbf_xy[i,j,sig]=rbf(x,y,sig)\n",
    "def grad_kernel(Particles,rbf_xy=None,sig=1.0):\n",
    "    \"\"\"\"Since gradient of kernel depends on z=rbf(x,y) we just compute it once \n",
    "        elsewhere and pass it in here. IMPORTANT: Computed wrt first argument x. \n",
    "    \"\"\"\n",
    "\n",
    "    x_y = (Particles[:,None]-Particles[None,:]) #This is collection of all: Particles[i]-Particles[j] over all i,j\n",
    "    \n",
    "    rbf_xy=torch.unsqueeze(rbf_xy,-1)#make N*N*1 for broadcasting, since x_y is N*N*zdim\n",
    "\n",
    "    return (-1/sig)*rbf_xy*(x_y) #\n",
    "    \n",
    "    \n",
    "    #syntax of decorator: dec(grad_kernel(X,...)) = grad_kernel(X[i],X[j],...)\n",
    "  \n",
    "    #g = (-1/sig)*rbf_xy*(x-y) formula given all the values. \n",
    "    \n"
   ]
  },
  {
   "cell_type": "code",
   "execution_count": 11,
   "id": "1dd8ecb5",
   "metadata": {},
   "outputs": [
    {
     "name": "stdout",
     "output_type": "stream",
     "text": [
      "\u001b[31mE\u001b[0m\u001b[31mE\u001b[0m\u001b[31mE\u001b[0m\u001b[32m.\u001b[0m\u001b[31m                                                                                         [100%]\u001b[0m\n",
      "============================================== ERRORS ==============================================\n",
      "\u001b[31m\u001b[1m_________________ ERROR at setup of Test_gradkernel.test_DK_pairwise[0-0-1-1-0.01] _________________\u001b[0m\n",
      "file /var/folders/95/qkdymsl93lz1tvnqky1vn_p00000gn/T/ipykernel_31904/3991393602.py, line 31\n",
      "      @pytest.mark.parametrize('i,j,N,zdim,sig',\n",
      "          [(0,0,1,1,0.01),(2,4,10,1,1.0),(5,6,10,2,1.01)])\n",
      "\n",
      "      #Uses DK and pairwise_grad_kernel\n",
      "      def test_DK_pairwise(self,i,j,N,zdim,sig,pairwise_grad_kernel):\n",
      "\u001b[31mE       fixture 'pairwise_grad_kernel' not found\u001b[0m\n",
      "\u001b[31m>       available fixtures: cache, capfd, capfdbinary, caplog, capsys, capsysbinary, doctest_namespace, monkeypatch, pytestconfig, record_property, record_testsuite_property, record_xml_attribute, recwarn, tmp_path, tmp_path_factory, tmpdir, tmpdir_factory\u001b[0m\n",
      "\u001b[31m>       use 'pytest --fixtures [testpath]' for help on them.\u001b[0m\n",
      "\n",
      "/var/folders/95/qkdymsl93lz1tvnqky1vn_p00000gn/T/ipykernel_31904/3991393602.py:31\n",
      "\u001b[31m\u001b[1m_________________ ERROR at setup of Test_gradkernel.test_DK_pairwise[2-4-10-1-1.0] _________________\u001b[0m\n",
      "file /var/folders/95/qkdymsl93lz1tvnqky1vn_p00000gn/T/ipykernel_31904/3991393602.py, line 31\n",
      "      @pytest.mark.parametrize('i,j,N,zdim,sig',\n",
      "          [(0,0,1,1,0.01),(2,4,10,1,1.0),(5,6,10,2,1.01)])\n",
      "\n",
      "      #Uses DK and pairwise_grad_kernel\n",
      "      def test_DK_pairwise(self,i,j,N,zdim,sig,pairwise_grad_kernel):\n",
      "\u001b[31mE       fixture 'pairwise_grad_kernel' not found\u001b[0m\n",
      "\u001b[31m>       available fixtures: cache, capfd, capfdbinary, caplog, capsys, capsysbinary, doctest_namespace, monkeypatch, pytestconfig, record_property, record_testsuite_property, record_xml_attribute, recwarn, tmp_path, tmp_path_factory, tmpdir, tmpdir_factory\u001b[0m\n",
      "\u001b[31m>       use 'pytest --fixtures [testpath]' for help on them.\u001b[0m\n",
      "\n",
      "/var/folders/95/qkdymsl93lz1tvnqky1vn_p00000gn/T/ipykernel_31904/3991393602.py:31\n",
      "\u001b[31m\u001b[1m________________ ERROR at setup of Test_gradkernel.test_DK_pairwise[5-6-10-2-1.01] _________________\u001b[0m\n",
      "file /var/folders/95/qkdymsl93lz1tvnqky1vn_p00000gn/T/ipykernel_31904/3991393602.py, line 31\n",
      "      @pytest.mark.parametrize('i,j,N,zdim,sig',\n",
      "          [(0,0,1,1,0.01),(2,4,10,1,1.0),(5,6,10,2,1.01)])\n",
      "\n",
      "      #Uses DK and pairwise_grad_kernel\n",
      "      def test_DK_pairwise(self,i,j,N,zdim,sig,pairwise_grad_kernel):\n",
      "\u001b[31mE       fixture 'pairwise_grad_kernel' not found\u001b[0m\n",
      "\u001b[31m>       available fixtures: cache, capfd, capfdbinary, caplog, capsys, capsysbinary, doctest_namespace, monkeypatch, pytestconfig, record_property, record_testsuite_property, record_xml_attribute, recwarn, tmp_path, tmp_path_factory, tmpdir, tmpdir_factory\u001b[0m\n",
      "\u001b[31m>       use 'pytest --fixtures [testpath]' for help on them.\u001b[0m\n",
      "\n",
      "/var/folders/95/qkdymsl93lz1tvnqky1vn_p00000gn/T/ipykernel_31904/3991393602.py:31\n",
      "===================================== short test summary info ======================================\n",
      "ERROR tmp2o59oa9d.py::Test_gradkernel::test_DK_pairwise[0-0-1-1-0.01]\n",
      "ERROR tmp2o59oa9d.py::Test_gradkernel::test_DK_pairwise[2-4-10-1-1.0]\n",
      "ERROR tmp2o59oa9d.py::Test_gradkernel::test_DK_pairwise[5-6-10-2-1.01]\n"
     ]
    }
   ],
   "source": [
    "%%ipytest -qq\n",
    "\n",
    "#TODO: Finish testing this \n",
    "\n",
    "#Put this function in the class? Put @pytest.fixture(scope=\"function\") decorator on them? To be determined\n",
    "\n",
    "def pairwise_grad_kernel(self,i,j,sig):\n",
    "        \n",
    "    x = Particles[i]\n",
    "    y = Particles[j]\n",
    "\n",
    "    pairwise_rbf = torch.exp(-1/(2*sig) * torch.sum((x-y)**2))\n",
    "\n",
    "    return (-1/sig)*pairwise_rbf*(x-y)\n",
    "\n",
    "def DK(self,Particles,sig):\n",
    "\n",
    "    rbf_xy = rbf(norm2(Particles),sig=sig)\n",
    "    dk = grad_kernel(Particles,rbf_xy=rbf_xy,sig=sig) \n",
    "\n",
    "    return dk\n",
    "    \n",
    "\n",
    "#Want to compute DK ONCE for each pass through mark.parametrize input values\n",
    "class Test_gradkernel:\n",
    "    \n",
    "    #What we want to do: Compute DK through:\n",
    "        #rbf_xy = rbf(norm2(Particles),sig=sig)\n",
    "        #DK = grad_kernel(Particles,rbf_xy=rbf_xy,sig=sig)   \n",
    "        \n",
    "    #ONCE and then reuse throughout the test.\n",
    "\n",
    "    @pytest.mark.parametrize('i,j,N,zdim,sig',\n",
    "        [(0,0,1,1,0.01),(2,4,10,1,1.0),(5,6,10,2,1.01)])\n",
    "\n",
    "    #Uses DK and pairwise_grad_kernel\n",
    "    def test_DK_pairwise(self,i,j,N,zdim,sig,pairwise_grad_kernel):\n",
    "        \"\"\"\"Compare i,j entry of grad_kernel to a pairwise computation of the derivative\"\"\"\n",
    "  \n",
    "        rbf_xy = rbf(norm2(Particles),sig=sig)\n",
    "        DK = grad_kernel(Particles,rbf_xy=rbf_xy,sig=sig)\n",
    "        #input(pairwise_grad_kernel)\n",
    "          \n",
    "        assert torch.all((DK(Particles,sig)[i,j] - pairwise_grad_kernel) < 1e-6)\n",
    "        \n",
    "        \n",
    "    def test_DK_numerically(self):\n",
    "        pass\n",
    "    "
   ]
  },
  {
   "cell_type": "code",
   "execution_count": 28,
   "id": "425387fc",
   "metadata": {},
   "outputs": [],
   "source": [
    "    #TODO put this in above cell\n",
    "#     def test_numerical_grad_kernel(self,i,j,N,zdim,sig,pairwise_grad_kernel,eps=1):\n",
    "        \n",
    "#         \"\"\"\"Are we actually computing the pairwise grad_kernel correctly - i.e. is out formula for derivatives\n",
    "#             correct?\n",
    "#         \"\"\"\n",
    "        \n",
    "#         #TODO: Want to just compute this once \n",
    "#         #We are recomputing this - redundancy!!!\n",
    "        \n",
    "#         #Possibly helpful: https://stackoverflow.com/questions/18011902/pass-a-parameter-to-a-fixture-function\n",
    "#         rbf_xy = rbf(norm2(Particles),sig=sig)\n",
    "#         DK = grad_kernel(Particles,rbf_xy=rbf_xy,sig=sig)\n",
    "        \n",
    "#         rbf_xy_eps = rbf(norm2(Particles+eps),sig=sig)\n",
    "#         DK_eps = grad_kernel(Particles+eps,rbf_xy=rbf_xy_eps,sig=sig)\n",
    "        \n",
    "        \n",
    "#         input(Particles[0])\n",
    "#         input((Particles+eps)[0])\n",
    "        \n",
    "#         numerical_DK = (DK_eps-DK)/eps\n",
    "        \n",
    "        \n",
    "#         assert torch.all((numerical_DK[i,j] - pairwise_grad_kernel)<1e-2)\n",
    "    \n",
    " "
   ]
  },
  {
   "cell_type": "code",
   "execution_count": 12,
   "id": "add0adc1",
   "metadata": {},
   "outputs": [],
   "source": [
    "#Now have 1,2,3 so essentially have phi\n",
    "\n",
    "def phi(Particles,inv_cov_mat,loc_t,NORM2,N,sig):\n",
    "        \n",
    "    K = rbf(NORM2,sig=sig) #kernel\n",
    "\n",
    "    S = score(Particles,inv_cov_mat,loc_t).view(N,-1) #score\n",
    "    \n",
    "    DK = grad_kernel(Particles,rbf_xy=K,sig=sig).view(N,N,-1) #derivative of kernel\n",
    "    \n",
    " \n",
    "        \n",
    "            #First term             #Second term\n",
    "    return (1/N)*(torch.mm(K.T,S) + torch.sum(DK,axis=0))\n",
    "\n"
   ]
  },
  {
   "cell_type": "code",
   "execution_count": 25,
   "id": "08e80ec7",
   "metadata": {},
   "outputs": [
    {
     "name": "stdout",
     "output_type": "stream",
     "text": [
      "The snakeviz extension is already loaded. To reload it, use:\n",
      "  %reload_ext snakeviz\n"
     ]
    }
   ],
   "source": [
    "#import snakeviz\n",
    "\n",
    "%load_ext snakeviz\n",
    "import numpy as np"
   ]
  },
  {
   "cell_type": "code",
   "execution_count": 16,
   "id": "03f42a7b",
   "metadata": {},
   "outputs": [],
   "source": [
    "#Do some practise with subclasses etc, even if not perfectly elegant at first\n",
    "class base_SVGD:\n",
    "    \"\"\"Base SVGD object - input N number of particles, zdim size of normal dist.\n",
    "        Also inits shape of normal dist, and most importantly inits the particles randomly.\n",
    "        Has method to compute the gradient and dynamically update sig.\n",
    "    \"\"\"\n",
    "    \n",
    "    def __init__(self,N=100,zdim=1):\n",
    "\n",
    "        self.N=N #number of particles\n",
    "        self.zdim=zdim #dimensionality of particles\n",
    "        \n",
    "        self.loc=torch.zeros(zdim,1) #mean of normal distribution\n",
    "        self.loc_t = self.loc.T\n",
    "        \n",
    "        self.cov_mat=torch.eye(zdim) #covariance\n",
    "        self.inv_cov_mat = torch.inverse(self.cov_mat)\n",
    "        \n",
    "        self._Particles = 8*torch.rand(self.N,self.zdim)-4 #initialize particles\n",
    "    \n",
    "    @property   \n",
    "    def Particles(self):\n",
    "        return self._Particles \n",
    "    \n",
    "    @Particles.setter\n",
    "    def Particles(self, val):\n",
    "        self._Particles = val\n",
    "    \n",
    "      \n",
    "    @property\n",
    "    def sig(self):\n",
    "        #Get pairwise distance between particles (used to compute sig, kernel width adaptively on each iteration)\n",
    "        \n",
    "        d2 = self.d2 #get d2\n",
    "        d = d2**0.5 #Problem: may be nan after this step. e.g. if d2 <=0 through rounding errors\n",
    "        d=torch.nan_to_num(d,posinf=float('inf'),neginf=-float('inf')) #replace nan but leave inf values \n",
    "        sig = 0.5*torch.median(d)**2 / math.log(N) #Adaptively\n",
    " \n",
    "        return sig #Dynamically set sig\n",
    "       \n",
    "\n",
    "    def get_gradient(self):\n",
    "        \n",
    "        Particles=self.Particles\n",
    "        N=self.N\n",
    "        \n",
    "        self.d2 = norm2(Particles) #set d2\n",
    "        \n",
    "        sig=self.sig #Inside sig we get d2\n",
    "\n",
    "        #Getting ugly. Clearly phi only depends on the class\n",
    "        g = phi(Particles=Particles,inv_cov_mat=self.inv_cov_mat,\\\n",
    "                loc_t=self.loc_t,NORM2=self.d2,N=N,sig=sig\n",
    "               )\n",
    "        \n",
    "        \n",
    "        return g\n"
   ]
  },
  {
   "cell_type": "code",
   "execution_count": 17,
   "id": "0c297cc5",
   "metadata": {},
   "outputs": [],
   "source": [
    "class trainable_SVGD(base_SVGD):\n",
    "    \n",
    "    def __init__(self,N=100,zdim=1,eta=0.001,beta1=0.9,beta2=0.999,eps=1e-8):\n",
    "        super().__init__(N,zdim)\n",
    "\n",
    "        self.eta=eta #initial learning rate\n",
    "        \n",
    "        self.beta1=beta1 #Adam specific hps\n",
    "        self.beta2=beta2\n",
    "        self.eps=eps\n",
    "        \n",
    "        self._m=torch.zeros(N,zdim)\n",
    "        self._v=torch.zeros(N,zdim)\n",
    "        \n",
    "        self._x=None\n",
    "\n",
    "    #Open problem: Reduce having to repeat this twice for m and v respectively. \n",
    "    #There is obvious redundancy here. \n",
    "    @property\n",
    "    def m(self):\n",
    "        return self._m\n",
    "\n",
    "    @m.setter\n",
    "    def m(self, value):\n",
    "        self._m = value\n",
    "\n",
    "\n",
    "    @property\n",
    "    def v(self):\n",
    "        return self._v\n",
    "\n",
    "    @v.setter\n",
    "    def v(self, value):\n",
    "        self._v = value\n",
    "        \n",
    "    \n",
    "    def AdamStep(self,gradient):\n",
    "        \"\"\"Runs one step of Adam, given gradients g.\n",
    "        \"\"\"\n",
    "                \n",
    "        #Current values, which all get updated\n",
    "        Particles = self.Particles\n",
    "        \n",
    "        m = self.m\n",
    "        v = self.v\n",
    "        \n",
    "        #hps\n",
    "        eta = self.eta\n",
    "        eps = self.eps\n",
    "        beta1 = self.beta1\n",
    "        beta2 = self.beta2\n",
    "        \n",
    "        #Update m and v\n",
    "        self.m = beta1*m + (1-beta1)*gradient\n",
    "        self.v = beta2*v + (1-beta2)*gradient.pow(2)\n",
    "\n",
    "        mhat = self.m/(1-beta1)\n",
    "        vhat = self.v/(1-beta2)\n",
    "  \n",
    "        #One step of Adam\n",
    "        self.Particles = self.Particles + eta/(vhat.pow(0.5) + eps) * mhat\n",
    "        return self.Particles,self.m,self.v\n",
    "    \n"
   ]
  },
  {
   "cell_type": "code",
   "execution_count": 86,
   "id": "afc84679",
   "metadata": {},
   "outputs": [
    {
     "name": "stdout",
     "output_type": "stream",
     "text": [
      "tensor(3.6425)\n",
      "tensor(2.3801)\n"
     ]
    }
   ],
   "source": [
    "def train(N=100,zdim=1,steps=1000):\n",
    "    \n",
    "    svgd = trainable_SVGD(N=N,zdim=zdim,eta=0.01)\n",
    "\n",
    "    for l in range(steps):\n",
    "        g = svgd.get_gradient() # \"Like forward\"         \n",
    "        svgd.AdamStep(gradient=g) #\"Like step\"\n",
    "        \n",
    "    return svgd.Particles\n",
    "        \n",
    "\n",
    "N=100\n",
    "zdim=1\n",
    "Particles = train(N,zdim,steps=10)\n",
    "print(torch.max(Particles))\n",
    "    \n",
    "m = torch.distributions.normal.Normal(torch.tensor([0.0]), torch.tensor([1.0]))\n",
    "print(torch.max(m.sample(sample_shape=torch.tensor([N]))))"
   ]
  },
  {
   "cell_type": "code",
   "execution_count": 128,
   "id": "74bcbe74",
   "metadata": {},
   "outputs": [
    {
     "name": "stdout",
     "output_type": "stream",
     "text": [
      "tensor(1.9057)\n"
     ]
    }
   ],
   "source": [
    "class Enc(torch.nn.Module):\n",
    "    \n",
    "    def __init__(self):\n",
    "        super().__init__()\n",
    "        self.fc1 = nn.Linear(1,2)\n",
    "        self.fc2 = nn.Linear(2,1)\n",
    "        \n",
    "        self.fc1.weight = torch.nn.Parameter(torch.tensor([[2.],[2.]]))\n",
    "        self.fc2.weight = torch.nn.Parameter(torch.tensor([[2.,2.]]))\n",
    "\n",
    "    \n",
    "    def forward(self,x):\n",
    "        #x=F.softmax(self.fc1(x),dim=1)\n",
    "        x=nn.Tanh()(self.fc1(x))\n",
    "        #x=F.relu(self.fc1(x))\n",
    "        x=self.fc2(x)\n",
    "\n",
    "        return x\n",
    "\n",
    "N=100\n",
    "E = Enc()\n",
    "optimizer = torch.optim.Adam(E.parameters(),lr=0.01)\n",
    "criterion = nn.MSELoss()\n",
    "\n",
    "\n",
    "#Outer loop\n",
    "for epoch in range(10000):\n",
    "    \n",
    "    svgd = trainable_SVGD(N=N,zdim=1,eta=0.01)\n",
    "\n",
    "    Ep = E(svgd.Particles)\n",
    "    Ep_detached = Ep.detach()\n",
    "    svgd.Particles = Ep_detached\n",
    "\n",
    "    #Inner loop\n",
    "    for l in range(10):\n",
    "        g = svgd.get_gradient() # \"Like forward\"\n",
    "        svgd.AdamStep(gradient=g) #\"Like step\"\n",
    "    \n",
    "    loss = criterion(Ep,svgd.Particles)\n",
    "    #print(loss)\n",
    "    optimizer.zero_grad()\n",
    "\n",
    "    loss.backward()\n",
    "    optimizer.step()\n",
    "\n",
    "print(torch.max(svgd.Particles))"
   ]
  },
  {
   "cell_type": "code",
   "execution_count": 138,
   "id": "2b6d43f6",
   "metadata": {},
   "outputs": [],
   "source": [
    "\n",
    "# for l in range(1000):\n",
    "#     g = svgd.get_gradient() # \"Like forward\"\n",
    "#     svgd.AdamStep(gradient=g) #\"Like step\"\n"
   ]
  },
  {
   "cell_type": "code",
   "execution_count": 139,
   "id": "d0ba1176",
   "metadata": {},
   "outputs": [],
   "source": [
    "Particles = svgd.Particles.detach()"
   ]
  },
  {
   "cell_type": "code",
   "execution_count": 140,
   "id": "3a08ac5d",
   "metadata": {},
   "outputs": [],
   "source": [
    "\n",
    "# base_SVGD(N=N,zdim=1)\n",
    "\n",
    "# Ep = E(svgd.Particles)\n",
    "# Ep_detached = Ep.detach()\n",
    "# #svgd.Particles = Ep_detached\n",
    "\n",
    "# Particles = Ep_detached"
   ]
  },
  {
   "cell_type": "code",
   "execution_count": 141,
   "id": "98704324",
   "metadata": {},
   "outputs": [],
   "source": [
    "# svgd=base_SVGD(N=N,zdim=1)\n",
    "# Particle=svgd.Particles"
   ]
  },
  {
   "cell_type": "code",
   "execution_count": 142,
   "id": "7980a1ec",
   "metadata": {},
   "outputs": [],
   "source": [
    "import seaborn as sns\n",
    "import numpy as np\n",
    "data=Particles.detach().numpy()\n",
    "data=np.reshape(data,N)\n",
    "data=np.sort(data)\n"
   ]
  },
  {
   "cell_type": "code",
   "execution_count": 143,
   "id": "04512115",
   "metadata": {},
   "outputs": [
    {
     "data": {
      "text/plain": [
       "<matplotlib.legend.Legend at 0x7fc9bd5a8bb0>"
      ]
     },
     "execution_count": 143,
     "metadata": {},
     "output_type": "execute_result"
    },
    {
     "data": {
      "image/png": "[encoded data removed]",
      "text/plain": [
       "<Figure size 432x288 with 1 Axes>"
      ]
     },
     "metadata": {
      "needs_background": "light"
     },
     "output_type": "display_data"
    }
   ],
   "source": [
    "#Useful code cell\n",
    "import scipy\n",
    "x = np.random.standard_normal(1000)\n",
    "\n",
    "#ax = sns.histplot(x, kde=False, stat='density', label='samples')\n",
    "ax = sns.histplot(data, kde=False, stat='density', label='samples')\n",
    "\n",
    "sns.kdeplot(data,label='kde of data')\n",
    "\n",
    "# calculate the pdf\n",
    "x0, x1 = ax.get_xlim()  # extract the endpoints for the x-axis\n",
    "x_pdf = np.linspace(x0, x1, 100)\n",
    "y_pdf = scipy.stats.norm.pdf(x_pdf)\n",
    "\n",
    "ax.plot(x_pdf, y_pdf, 'r', lw=2, label='normal pdf')                                                   \n",
    "ax.legend()"
   ]
  },
  {
   "cell_type": "code",
   "execution_count": null,
   "id": "f6d25b6e",
   "metadata": {},
   "outputs": [],
   "source": [
    "ax = sns.kdeplot(data,label='kde of data')\n",
    "x0, x1 = ax.get_xlim()  # extract the endpoints for the x-axis\n",
    "x_pdf = np.linspace(x0, x1, 100)\n",
    "y_pdf = scipy.stats.norm.pdf(x_pdf)\n",
    "\n",
    "ax.plot(x_pdf, y_pdf, 'r', lw=2, label='normal pdf')                                                   \n",
    "ax.legend()\n"
   ]
  },
  {
   "cell_type": "code",
   "execution_count": null,
   "id": "80ac47be",
   "metadata": {},
   "outputs": [],
   "source": []
  },
  {
   "cell_type": "code",
   "execution_count": null,
   "id": "5248c253",
   "metadata": {},
   "outputs": [],
   "source": []
  }
 ],
 "metadata": {
  "kernelspec": {
   "display_name": "Python 3 (ipykernel)",
   "language": "python",
   "name": "python3"
  },
  "language_info": {
   "codemirror_mode": {
    "name": "ipython",
    "version": 3
   },
   "file_extension": ".py",
   "mimetype": "text/x-python",
   "name": "python",
   "nbconvert_exporter": "python",
   "pygments_lexer": "ipython3",
   "version": "3.9.7"
  }
 },
 "nbformat": 4,
 "nbformat_minor": 5
}
