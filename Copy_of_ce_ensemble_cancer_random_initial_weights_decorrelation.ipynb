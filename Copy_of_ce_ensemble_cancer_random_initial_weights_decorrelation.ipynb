{
  "cells": [
    {
      "cell_type": "markdown",
      "metadata": {
        "id": "view-in-github",
        "colab_type": "text"
      },
      "source": [
        "<a href=\"https://colab.research.google.com/github/hamish-haggerty/AI-hacking/blob/master/Copy_of_ce_ensemble_cancer_random_initial_weights_decorrelation.ipynb\" target=\"_parent\"><img src=\"https://colab.research.google.com/assets/colab-badge.svg\" alt=\"Open In Colab\"/></a>"
      ]
    },
    {
      "cell_type": "markdown",
      "metadata": {
        "id": "92vWYgIFXYbh"
      },
      "source": [
        "<a href=\"https://colab.research.google.com/github/hamish-haggerty/AI-hacking/blob/master/SSL/cancer_validation_ensemble.ipynb\" target=\"_parent\"><img src=\"https://colab.research.google.com/assets/colab-badge.svg\" alt=\"Open In Colab\"/></a>"
      ]
    },
    {
      "cell_type": "markdown",
      "metadata": {
        "id": "9bJO1nXHXYbj"
      },
      "source": [
        "# ce_ensemble_cancer_random_initial_weights_decorrelation\n",
        "\n",
        "> Currently main idea is the following: pretrain ensemble in supervised fashion, with a score \"decorrelation\" term."
      ]
    },
    {
      "cell_type": "code",
      "execution_count": 1,
      "metadata": {
        "id": "0PuDo3faXYbk"
      },
      "outputs": [],
      "source": [
        "#| default_exp ce_ensemble_cancer_random_initial_weights_decorrelation"
      ]
    },
    {
      "cell_type": "code",
      "execution_count": 2,
      "metadata": {
        "colab": {
          "base_uri": "https://localhost:8080/"
        },
        "id": "PAFkssKBXYbl",
        "outputId": "f4d231ce-ae1f-4edf-942b-fd31ceaee5f2"
      },
      "outputs": [
        {
          "output_type": "stream",
          "name": "stdout",
          "text": [
            "Mounted at /content/drive\n"
          ]
        }
      ],
      "source": [
        "#| hide\n",
        "# import os\n",
        "# from google.colab import drive\n",
        "\n",
        "def colab_is_true():\n",
        "\n",
        "    try: \n",
        "        from google.colab import drive\n",
        "\n",
        "        return True \n",
        "    except ModuleNotFoundError:\n",
        "        return False\n",
        "\n",
        "def setup_colab():\n",
        "    from google.colab import drive\n",
        "    import os\n",
        "    drive.mount('/content/drive',force_remount=True)\n",
        "    #os.system('unzip -q \"/content/drive/My Drive/archive (1).zip\"')\n",
        "    os.system('git clone https://github.com/hamish-haggerty/cancer-proj.git')\n",
        "\n",
        "    os.chdir('cancer-proj')\n",
        "    \n",
        "    os.system('pip install .')\n",
        "    os.system('pip install -qU nbdev')\n",
        "    os.system('nbdev_install_quarto')\n",
        "\n",
        "    os.system('unzip -q \"/content/drive/My Drive/archive (1).zip\"') #does this work?\n",
        "\n",
        "if __name__ == \"__main__\":\n",
        "    on_colab = colab_is_true()\n",
        "    if on_colab:\n",
        "        setup_colab()"
      ]
    },
    {
      "cell_type": "code",
      "execution_count": 3,
      "metadata": {
        "colab": {
          "base_uri": "https://localhost:8080/"
        },
        "id": "vmaz19FNolsc",
        "outputId": "bd26333e-b92c-4f80-9636-3f13d7f4fee0"
      },
      "outputs": [
        {
          "output_type": "execute_result",
          "data": {
            "text/plain": [
              "0"
            ]
          },
          "metadata": {},
          "execution_count": 3
        }
      ],
      "source": [
        "import os\n",
        "os.system('pip install .')\n",
        "os.system('pip install git+https://github.com/hamish-haggerty/base_rbt.git')"
      ]
    },
    {
      "cell_type": "code",
      "execution_count": 4,
      "metadata": {
        "id": "mEZyj1ycXYbm"
      },
      "outputs": [],
      "source": [
        "#| hide\n",
        "from nbdev.showdoc import *"
      ]
    },
    {
      "cell_type": "code",
      "execution_count": 5,
      "metadata": {
        "id": "6WBHcYiGXYbn"
      },
      "outputs": [],
      "source": [
        "#| export\n",
        "from fastai.vision.all import *\n",
        "from base_rbt.all import *\n",
        "from cancer_proj.cancer_dataloading import *\n",
        "from cancer_proj.cancer_metrics import *\n",
        "from cancer_proj.cancer_maintrain import *\n",
        "from cancer_proj.cancer_maintrain_ensemble import *\n",
        "from cancer_proj.cancer_maintrain_ce import *\n",
        "from self_supervised.augmentations import assert_aug_pipelines\n",
        "from self_supervised.layers import create_mlp_module\n",
        "\n",
        "import fastai\n",
        "test_eq(fastai.__version__,'2.7.11')\n",
        "\n",
        "import torch\n",
        "test_eq(torch.__version__,'1.13.1+cu116')\n"
      ]
    },
    {
      "cell_type": "markdown",
      "metadata": {
        "id": "4DvdPk2nXYbn"
      },
      "source": [
        "## Load the data"
      ]
    },
    {
      "cell_type": "code",
      "execution_count": 6,
      "metadata": {
        "id": "nc37xCQwXYbn"
      },
      "outputs": [],
      "source": [
        "#| hide\n",
        "\n",
        "#Since we have cloned repository and cd'd into it (and the data itself is not stored in the\n",
        "#repo) we need cd out of it, get the data, then cd back into the repo `cancer-proj`.\n",
        "#This is a bit annoying, can maybe remove this later\n",
        "if on_colab:\n",
        "    #os.chdir('..') #assumes we are currently in cancer-proj directory\n",
        "    train_dir = colab_train_dir\n",
        "    test_dir = colab_test_dir\n",
        "else:\n",
        "    train_dir = local_train_dir\n",
        "    test_dir = local_test_dir\n",
        "\n",
        "#define general hps\n",
        "device ='cuda' if torch.cuda.is_available() else 'cpu'\n",
        "bs_test=297\n",
        "bs=32 #256 if doing BT though...\n",
        "bs_tune=32\n",
        "size=128\n",
        "bs_val=174\n",
        "\n",
        "#get the data dictionary\n",
        "data_dict = get_fnames_dls_dict(train_dir=train_dir,test_dir=test_dir,\n",
        "                    device=device,bs_val=bs_val,bs=bs,bs_tune=bs_tune,size=size,n_in=3)\n",
        "\n",
        "#get the dataloaders\n",
        "dls_train,dls_tune,dls_valid,dls_test = data_dict['dls_train'],data_dict['dls_tune'],data_dict['dls_valid'],data_dict['dls_test']\n",
        "x,y = data_dict['x'],data_dict['y']\n",
        "xval,yval = data_dict['xval'],data_dict['yval']\n",
        "xtune,ytune = data_dict['xtune'],data_dict['ytune']\n",
        "vocab = data_dict['vocab']\n",
        "\n",
        "#If we want to write some tests (make sure the data is same every time etc):\n",
        "fnames,fnames_train,fnames_tune,fnames_valid,fnames_test = data_dict['fnames'],data_dict['fnames_train'],data_dict['fnames_tune'],data_dict['fnames_valid'],data_dict['fnames_test']\n",
        "\n",
        "#test_eq(x.shape,xtune.shape)\n",
        "\n",
        "# if on_colab:\n",
        "#     os.chdir('cancer-proj')"
      ]
    },
    {
      "cell_type": "markdown",
      "source": [
        "# Test data is of expected form:"
      ],
      "metadata": {
        "id": "4YJaNvvrG09q"
      }
    },
    {
      "cell_type": "code",
      "source": [
        "test_data(fnames_train,fnames_valid,fnames_test)\n",
        "test_dls_data(train_dir,test_dir,device)\n",
        "\n",
        "test_eq(len(dls_test.train),5) #test set is 297*5 = 1485\n"
      ],
      "metadata": {
        "id": "xdEgter7G3io"
      },
      "execution_count": 7,
      "outputs": []
    },
    {
      "cell_type": "markdown",
      "metadata": {
        "id": "qOEtOKl9XYbo"
      },
      "source": [
        "## Load aug pipelines here"
      ]
    },
    {
      "cell_type": "code",
      "execution_count": 8,
      "metadata": {
        "id": "bLXKHGceXYbp"
      },
      "outputs": [],
      "source": [
        "#| hide\n",
        "\n",
        "aug_dict = create_aug_pipelines(size=size,device=device,Augs=BYOL_Augs,TUNE_Augs=TUNE_Augs,Val_Augs=Val_Augs)\n",
        "aug_pipelines = aug_dict['aug_pipelines']\n",
        "aug_pipelines_tune = aug_dict['aug_pipelines_tune']\n",
        "aug_pipelines_test = aug_dict['aug_pipelines_test'] "
      ]
    },
    {
      "cell_type": "code",
      "source": [
        "#aug_pipelines_tune = [aug_pipelines_tune[0],aug_pipelines_tune[0]]"
      ],
      "metadata": {
        "id": "1H-Ls-kygM6P"
      },
      "execution_count": 9,
      "outputs": []
    },
    {
      "cell_type": "markdown",
      "metadata": {
        "id": "-NzY_8WjXYbp"
      },
      "source": [
        "## Optionally, display:"
      ]
    },
    {
      "cell_type": "code",
      "execution_count": 10,
      "metadata": {
        "colab": {
          "base_uri": "https://localhost:8080/",
          "height": 413
        },
        "id": "7GEptps-XYbp",
        "outputId": "10eb6fec-851b-49a8-cfc0-49f0aed589e4"
      },
      "outputs": [
        {
          "output_type": "stream",
          "name": "stdout",
          "text": [
            "Pipeline: RandomResizedCrop -> RandomHorizontalFlip -> ColorJitter -> RandomGrayscale -> RandomGaussianNoise -> RandomGaussianBlur -- {'p': 1.0, 'prob': 1.0, 's': 13, 'sig': None, 'blur_r': (0.1, 2), 'same_on_batch': False} -> RandomSolarize -> Rotate -- {'size': None, 'mode': 'bilinear', 'pad_mode': 'reflection', 'mode_mask': 'nearest', 'align_corners': True, 'p': 1.0}\n",
            "Pipeline: RandomResizedCrop -> RandomHorizontalFlip -> ColorJitter -> RandomGrayscale -> RandomGaussianNoise -> RandomGaussianBlur -- {'p': 1.0, 'prob': 0.1, 's': 13, 'sig': None, 'blur_r': (0.1, 2), 'same_on_batch': False} -> RandomSolarize -> Rotate -- {'size': None, 'mode': 'bilinear', 'pad_mode': 'reflection', 'mode_mask': 'nearest', 'align_corners': True, 'p': 1.0}\n"
          ]
        },
        {
          "output_type": "display_data",
          "data": {
            "text/plain": [
              "<Figure size 432x432 with 4 Axes>"
            ],
            "image/png": "[encoded data removed]"
          },
          "metadata": {
            "needs_background": "light"
          }
        }
      ],
      "source": [
        "#| hide\n",
        "show_bt_batch(dls=dls_train,aug=aug_pipelines,n_in=3)"
      ]
    },
    {
      "cell_type": "code",
      "execution_count": 11,
      "metadata": {
        "colab": {
          "base_uri": "https://localhost:8080/",
          "height": 413
        },
        "id": "CNoEpeqzXYbq",
        "outputId": "6ab3d229-bd5c-454b-b7f4-340e9f5e2664"
      },
      "outputs": [
        {
          "output_type": "stream",
          "name": "stdout",
          "text": [
            "Pipeline: RandomResizedCrop -> RandomHorizontalFlip -> ColorJitter -> RandomGrayscale -> RandomGaussianBlur -- {'p': 1.0, 'prob': 0.0, 's': 13, 'sig': None, 'blur_r': (0.1, 2), 'same_on_batch': False} -> Rotate -- {'size': None, 'mode': 'bilinear', 'pad_mode': 'reflection', 'mode_mask': 'nearest', 'align_corners': True, 'p': 1.0}\n",
            "Pipeline: \n"
          ]
        },
        {
          "output_type": "display_data",
          "data": {
            "text/plain": [
              "<Figure size 432x432 with 4 Axes>"
            ],
            "image/png": "[encoded data removed]"
          },
          "metadata": {
            "needs_background": "light"
          }
        }
      ],
      "source": [
        "#| hide\n",
        "\n",
        "show_linear_batch(dls=dls_tune,n_in=3,aug=aug_pipelines_tune,n=2,print_augs=True)"
      ]
    },
    {
      "cell_type": "code",
      "execution_count": 12,
      "metadata": {
        "id": "m5QZhpbVXYbs"
      },
      "outputs": [],
      "source": [
        "#| hide\n",
        "#show_btens_batch(dls_train,3,aug_pipelines,n=2)"
      ]
    },
    {
      "cell_type": "markdown",
      "metadata": {
        "id": "kP6qTOobG_gO"
      },
      "source": [
        "## Step 1) Train two BT models on CIFAR10, and save them"
      ]
    },
    {
      "cell_type": "code",
      "execution_count": 13,
      "metadata": {
        "id": "o2VKx6ipG4ge"
      },
      "outputs": [],
      "source": [
        "import os\n",
        "\n",
        "directory = '/content/drive/My Drive/random_initial_weights'\n",
        "\n",
        "if not os.path.exists(directory):\n",
        "    os.makedirs(directory)"
      ]
    },
    {
      "cell_type": "code",
      "source": [
        "len(aug_pipelines_tune)"
      ],
      "metadata": {
        "colab": {
          "base_uri": "https://localhost:8080/"
        },
        "id": "htGfqYfkgZQ1",
        "outputId": "42d78849-f305-49f8-b056-d873f122305c"
      },
      "execution_count": 14,
      "outputs": [
        {
          "output_type": "execute_result",
          "data": {
            "text/plain": [
              "1"
            ]
          },
          "metadata": {},
          "execution_count": 14
        }
      ]
    },
    {
      "cell_type": "markdown",
      "source": [
        "# Train a simple model with CE idea"
      ],
      "metadata": {
        "id": "z_8wZ4mm6QX_"
      }
    },
    {
      "cell_type": "code",
      "source": [
        "# class BarlowTwinsModel(Module):\n",
        "#     \"\"\"An encoder followed by a projector\n",
        "#     \"\"\"\n",
        "#     def __init__(self,encoder,projector):\n",
        "#         self.encoder = encoder\n",
        "#         self.projector = projector\n",
        "        \n",
        "#     def forward(self,x): \n",
        "        \n",
        "#         return self.projector(self.encoder(x))\n",
        "\n",
        "# def create_barlow_twins_model(encoder, hidden_size=256, projection_size=128, bn=True, nlayers=3):\n",
        "#     \"Create Barlow Twins model\"\n",
        "#     n_in  = in_channels(encoder)\n",
        "#     with torch.no_grad(): representation = encoder(torch.randn((2,n_in,128,128)))\n",
        "#     projector = create_mlp_module(representation.size(1), hidden_size, projection_size, bn=bn, nlayers=nlayers) \n",
        "#     apply_init(projector)\n",
        "#     return BarlowTwinsModel(encoder, projector)\n"
      ],
      "metadata": {
        "id": "OAQw54ESI7K8"
      },
      "execution_count": 15,
      "outputs": []
    },
    {
      "cell_type": "code",
      "source": [
        "class CeJointEnsModel(Module):\n",
        "    \"\"\"An encoder followed by a projector\n",
        "    \"\"\"\n",
        "    def __init__(self,encoder,encoder2,head,head2,projector):\n",
        "        self.encoder = encoder\n",
        "        self.encoder2 = encoder2\n",
        "        self.head=head\n",
        "        self.head2=head2\n",
        "        self.projector=projector\n",
        "\n",
        "    def forward(self,x):\n",
        "        tem=self.encoder(x)\n",
        "        tem2=self.encoder2(x)\n",
        "        return self.projector(tem),self.projector(tem2),self.head(tem),self.head2(tem2)\n",
        "\n",
        "        #return tem,tem2,self.head(tem),self.head2(tem2)\n",
        "\n",
        "\n",
        "def create_joint_ens_model(encoder,encoder2,head,head2, hidden_size=8192, projection_size=8192, bn=True, nlayers=3):\n",
        "    \"Create Barlow Twins model\"\n",
        "    n_in  = in_channels(encoder)\n",
        "    with torch.no_grad(): representation = encoder(torch.randn((2,n_in,128,128)))\n",
        "    projector = create_mlp_module(representation.size(1), hidden_size, projection_size, bn=bn, nlayers=nlayers) \n",
        "    apply_init(projector)\n",
        "    return CeJointEnsModel(encoder,encoder2,head,head2, projector)\n"
      ],
      "metadata": {
        "id": "0XcBSHSPTsaO"
      },
      "execution_count": 155,
      "outputs": []
    },
    {
      "cell_type": "code",
      "source": [
        "#| export\n",
        "\n",
        "class CeJointEns(Callback):\n",
        "    order,run_valid = 9,True\n",
        "    def __init__(self, aug_pipelines,n_in, lmb=5e-3,numout=10, print_augs=False,show_batch=False):\n",
        "        #self.aug1, self.aug2 = aug_pipelines\n",
        "        \n",
        "        #self.aug = aug_pipelines #c.f. LinearBt\n",
        "        self.aug1= aug_pipelines[0]\n",
        "        self.aug2=Pipeline( split_idx = 0) #empty pipeline\n",
        "\n",
        "        if print_augs: print(self.aug1), print(self.aug2)\n",
        "        store_attr('lmb')\n",
        "        self.n_in=n_in\n",
        "        self.cross_entropy = CrossEntropyLossFlat()\n",
        "        self.numout=numout\n",
        "        self._show_batch=show_batch\n",
        "\n",
        "        self.t=None\n",
        "        self.s=None\n",
        "        \n",
        "        \n",
        "    def before_fit(self): \n",
        "        self.learn.loss_func = self.lf\n",
        "        #nf = self.learn.model.encoder[-1].out_features\n",
        "        self.nf = 8192\n",
        "        self.I = torch.eye(self.nf).to(self.dls.device)\n",
        "\n",
        "\n",
        "    def before_epoch(self):\n",
        "        pass\n",
        "  \n",
        "    def before_batch(self):\n",
        "        \n",
        "        #TODO: Make this nicer (possibly can load in data as TensorImage(BW) or something?)\n",
        "        #This is a bit of a hack. Can make this more elegant later. But in new version of FastAI\n",
        "        #seems we need to compute TensorImage(BW) here, and depends on whether color or not, i.e. n_in.\n",
        "        if self.n_in == 1:\n",
        "            xi,xj = self.aug1(TensorImageBW(self.x)), self.aug2(TensorImageBW(self.x))                            \n",
        "        elif self.n_in == 3:\n",
        "            xi,xj = self.aug1(TensorImage(self.x)), self.aug2(TensorImage(self.x))\n",
        "        self.learn.xb = (xi,)\n",
        "\n",
        "        if self._show_batch:\n",
        "            self.learn.aug_x = torch.cat([xi, xj])        \n",
        "\n",
        "    @torch.no_grad()\n",
        "    def show(self, n=1):\n",
        "        if self._show_batch==False:\n",
        "            print('Need to set show_batch=True')\n",
        "            return\n",
        "        bs = self.learn.aug_x.size(0)//2\n",
        "        x1,x2  = self.learn.aug_x[:bs], self.learn.aug_x[bs:]\n",
        "        idxs = np.random.choice(range(bs),n,False)\n",
        "        x1 = self.aug1.decode(x1[idxs].to('cpu').clone(),full=False).clamp(0,1) #full=True / False\n",
        "        x2 = self.aug2.decode(x2[idxs].to('cpu').clone(),full=False).clamp(0,1) #full=True / False\n",
        "        images = []\n",
        "        for i in range(n): images += [x1[i],x2[i]]\n",
        "        return show_batch(x1[0], None, images, max_n=len(images), nrows=n)\n",
        "\n",
        "\n",
        "#class CeIndiv(CeJointEns):pass"
      ],
      "metadata": {
        "id": "EInLbfdVBxw-"
      },
      "execution_count": 17,
      "outputs": []
    },
    {
      "cell_type": "code",
      "source": [
        "#| export\n",
        "\n",
        "class CeJointEnsBt(Callback):\n",
        "    order,run_valid = 9,True\n",
        "    def __init__(self, aug_pipelines,n_in, lmb=5e-3,numout=10, print_augs=False):\n",
        "        self.aug1, self.aug2 = aug_pipelines\n",
        "        if print_augs: print(self.aug1), print(self.aug2)\n",
        "        store_attr('lmb')\n",
        "        self.n_in=n_in\n",
        "        self.cross_entropy = CrossEntropyLossFlat()\n",
        "        self.numout=numout\n",
        "        \n",
        "        \n",
        "    def before_fit(self): \n",
        "        self.learn.loss_func = self.lf\n",
        "        #nf = self.learn.model.encoder[-1].out_features\n",
        "        self.nf = 8192\n",
        "        self.I = torch.eye(self.nf).to(self.dls.device)\n",
        "\n",
        "\n",
        "    def before_epoch(self):\n",
        "        pass\n",
        "  \n",
        "    def before_batch(self):\n",
        "        \n",
        "        #TODO: Make this nicer (possibly can load in data as TensorImage(BW) or something?)\n",
        "        #This is a bit of a hack. Can make this more elegant later. But in new version of FastAI\n",
        "        #seems we need to compute TensorImage(BW) here, and depends on whether color or not, i.e. n_in.\n",
        "        if self.n_in == 1:\n",
        "\n",
        "            xi,xj = self.aug1(TensorImageBW(self.x)), self.aug2(TensorImageBW(self.x))\n",
        "            \n",
        "            #print(xi.shape)\n",
        "                                    \n",
        "        elif self.n_in == 3:\n",
        "            \n",
        "            xi,xj = self.aug1(TensorImage(self.x)), self.aug2(TensorImage(self.x))\n",
        "\n",
        "        self.learn.xb = (torch.cat([xi, xj]),)\n",
        "        \n",
        "    def lf(self,pred,*yb): pass\n",
        "        \n",
        "\n",
        "    @torch.no_grad()\n",
        "    def show(self, n=1): \n",
        "        bs = self.learn.x.size(0)//2\n",
        "        x1,x2  = self.learn.x[:bs], self.learn.x[bs:]\n",
        "        idxs = np.random.choice(range(bs),n,False)\n",
        "        x1 = self.aug1.decode(x1[idxs].to('cpu').clone()).clamp(0,1)\n",
        "        x2 = self.aug2.decode(x2[idxs].to('cpu').clone()).clamp(0,1)\n",
        "        images = []\n",
        "        for i in range(n): images += [x1[i],x2[i]]\n",
        "        return show_batch(x1[0], None, images, max_n=len(images), nrows=n)\n",
        "\n",
        "\n",
        "class CeIndiv(CeJointEns):pass"
      ],
      "metadata": {
        "id": "-fNX85kcz1LJ"
      },
      "execution_count": 18,
      "outputs": []
    },
    {
      "cell_type": "code",
      "source": [
        "import torch.nn.functional as F"
      ],
      "metadata": {
        "id": "uDYeL8gSznYT"
      },
      "execution_count": 19,
      "outputs": []
    },
    {
      "cell_type": "code",
      "source": [
        "#| export\n",
        "\n",
        "def lf_ce2(pred,*yb,t,s,criterion=CrossEntropyLossFlat()):\n",
        "    \"Loss function for training ensemble jointly \"\n",
        "    \n",
        "\n",
        "    pred,pred2,out,out2 = pred[0],pred[1],pred[2],pred[3] #proj(enc)_1, proj(enc)_2, head(enc)_1, head(enc_2)\n",
        "    #bs,nf = pred.size(0)//2,pred.size(1)\n",
        "    bs,nf = pred.size(0),pred.size(1)\n",
        "\n",
        "    # test_eq(bs,32)\n",
        "    # test_eq(nf,8192)\n",
        "\n",
        "    y = yb[0]\n",
        "\n",
        "    # test_eq(pred.shape,torch.Size([32, 8192]))\n",
        "    # test_eq(pred2.shape,torch.Size([32, 8192]))\n",
        "    # test_eq(out.shape,torch.Size([32, 9]))\n",
        "    # test_eq(out2.shape,torch.Size([32, 9]))\n",
        "\n",
        "\n",
        "    #this should throw an error now...\n",
        "    # z1,z2 = pred[:bs],pred[bs:]\n",
        "    # z1_2,z2_2 = pred2[:bs],pred2[bs:]\n",
        "\n",
        "\n",
        "    #Barlow twins cross correlation\n",
        "    z1norm = (pred - pred.mean(0)) / (pred.std(0, unbiased=False) + 1e-7)\n",
        "    z2norm = (pred2 - pred2.mean(0)) / (pred2.std(0, unbiased=False) + 1e-7)\n",
        "    C = (z1norm.T @ z2norm) / bs\n",
        "    cdiff = C.pow(2)\n",
        "    rr = cdiff.sum()\n",
        "\n",
        "    #VICReg style hinge variance:\n",
        "    _x = pred - pred.mean(dim=0)\n",
        "    _y = pred2 - pred2.mean(dim=0)\n",
        "\n",
        "    std_x = torch.sqrt(_x.var(dim=0) + 0.0001)\n",
        "    std_y = torch.sqrt(_y.var(dim=0) + 0.0001)\n",
        "    std_loss = torch.mean(F.relu(1 - std_x)) / 2 + torch.mean(F.relu(1 - std_y)) / 2\n",
        "\n",
        "    CE1 = criterion(out,y)\n",
        "    CE2 = criterion(out2,y)\n",
        "    CE = (0.5*CE1 + 0.5*CE2)\n",
        "\n",
        "\n",
        "    rr = t*rr\n",
        "\n",
        "    #print(f'rr is: {rr}')\n",
        "\n",
        "    loss = CE + rr + std_loss\n",
        "\n",
        "\n",
        "    return loss\n",
        "\n"
      ],
      "metadata": {
        "id": "YAjwJoFr_glV"
      },
      "execution_count": 157,
      "outputs": []
    },
    {
      "cell_type": "code",
      "source": [
        "from random import random\n",
        "\n",
        "random()"
      ],
      "metadata": {
        "colab": {
          "base_uri": "https://localhost:8080/"
        },
        "id": "VPZMyun2VxJq",
        "outputId": "11345ede-695b-480c-b267-d485db28550e"
      },
      "execution_count": 105,
      "outputs": [
        {
          "output_type": "execute_result",
          "data": {
            "text/plain": [
              "0.22536210965770154"
            ]
          },
          "metadata": {},
          "execution_count": 105
        }
      ]
    },
    {
      "cell_type": "code",
      "source": [
        "#| export\n",
        "\n",
        "def lf_ce3(pred,*yb,t,s,criterion=CrossEntropyLossFlat()):\n",
        "    \"Loss function for training ensemble jointly \"\n",
        "    \n",
        "\n",
        "    pred,pred2,out,out2 = pred[0],pred[1],pred[2],pred[3] #proj(enc)_1, proj(enc)_2, head(enc)_1, head(enc_2)\n",
        "    \n",
        "    bs,nf = pred.size(0)//2,pred.size(1)\n",
        "\n",
        "    z1norm = (pred - pred.mean(0)) / (pred.std(0, unbiased=False) + 1e-7)\n",
        "    z2norm = (pred2 - pred2.mean(0)) / (pred2.std(0, unbiased=False) + 1e-7)\n",
        "    # if random()<0.5:\n",
        "    #     z1norm=z1norm.detach()\n",
        "    # else:\n",
        "    #     z2norm=z2norm.detach()\n",
        "\n",
        "    #z2norm = z2norm.detach()\n",
        "\n",
        "\n",
        "    C = (z1norm.T @ z2norm) / bs\n",
        "    cdiff = C.pow(2)\n",
        "    rr = cdiff.sum()\n",
        "\n",
        "    \n",
        "    #bs,nf = pred.size(0),pred.size(1)\n",
        "\n",
        "    #out_1,out_2 = out[:bs],out[bs:]\n",
        "    \n",
        "    #out2_1,out2_2 = out2[:bs],out2[bs:]\n",
        "\n",
        "\n",
        "    # test_eq(bs,32)\n",
        "    # test_eq(nf,8192)\n",
        "\n",
        "    y = yb[0]\n",
        "\n",
        "\n",
        "    CE = 0.5*(criterion(out,y) + criterion(out2,y))\n",
        "\n",
        "\n",
        "    loss=CE + t*rr\n",
        "\n",
        "    return loss\n",
        "\n"
      ],
      "metadata": {
        "id": "77kmKr5ixQW_"
      },
      "execution_count": 138,
      "outputs": []
    },
    {
      "cell_type": "code",
      "source": [
        "#| export\n",
        "\n",
        "def lf_ce4(pred,*yb,criterion=CrossEntropyLossFlat()):\n",
        "    \"Loss function for training ensemble jointly \"\n",
        "    \n",
        "    bs,nf = pred.size(0)//2,pred.size(1)\n",
        "    #bs,nf = pred.size(0),pred.size(1)\n",
        "\n",
        "    out_1,out_2 = pred[:bs],pred[bs:]\n",
        "\n",
        "\n",
        "    y = yb[0]\n",
        "\n",
        "\n",
        "    loss = 0.5*(criterion(out_1,y) + criterion(out_2,y))\n",
        "\n",
        "    return loss\n",
        "\n"
      ],
      "metadata": {
        "id": "h7UH1W0X89XX"
      },
      "execution_count": 131,
      "outputs": []
    },
    {
      "cell_type": "code",
      "source": [
        "@patch\n",
        "def before_epoch(self:CeJointEnsBt):\n",
        "    self.t=0\n",
        "    self.s=0"
      ],
      "metadata": {
        "id": "qWlPs5Vx0XYk"
      },
      "execution_count": 22,
      "outputs": []
    },
    {
      "cell_type": "code",
      "source": [
        "@patch\n",
        "def before_epoch(self:CeJointEns):\n",
        "\n",
        "\n",
        "    # if self.epoch == 0:\n",
        "    #     #self.t=0.0\n",
        "    #     self.t = 0.005*(1/2048)\n",
        "\n",
        "    # if self.epoch==10:\n",
        "    #     self.t = 0.0025*(1/2048)\n",
        "\n",
        "    # if self.epoch == 40:\n",
        "    #     self.t=0.5*self.t\n",
        "\n",
        "    if self.epoch == 0:\n",
        "    #self.t=0.0\n",
        "        self.t = 0.0025*(1/8192)\n",
        "\n",
        "    if self.epoch==10:\n",
        "        self.t = 0.001*(1/8192)\n",
        "\n",
        "    if self.epoch == 40:\n",
        "        self.t=0.5*self.t\n",
        "\n",
        "\n",
        "\n",
        "\n",
        "\n",
        "        #input('about to set t~=0')\n",
        "\n",
        "    # if self.epoch<10:\n",
        "    #     self.t=0.1\n",
        "    # if self.epoch == 10:\n",
        "    #     self.t=0.05\n",
        "\n",
        "    # if self.epoch == 35:\n",
        "    #     self.t=0.01\n",
        "\n",
        "    # if self.epoch == 0:\n",
        "    #     self.t=1\n",
        "\n",
        "    # if self.epoch ==1:\n",
        "    #     self.t=0.5\n",
        "\n",
        "    # if self.epoch == 5:\n",
        "    #     self.t=0.2\n",
        "\n",
        "    # if self.epoch == 10:\n",
        "    #     self.t=0.1\n",
        "\n",
        "    # if self.epoch == 15:\n",
        "    #     self.t=0.05\n",
        "\n",
        "    #we will anneal these\n"
      ],
      "metadata": {
        "id": "2ol6HOSz6u38"
      },
      "execution_count": 163,
      "outputs": []
    },
    {
      "cell_type": "code",
      "source": [
        "#| export\n",
        "@patch\n",
        "def lf(self:CeJointEns, pred,*yb): return lf_ce2(pred,*yb,t=self.t,s=self.s,criterion=CrossEntropyLossFlat())"
      ],
      "metadata": {
        "id": "Je3qvZRD6vty"
      },
      "execution_count": 158,
      "outputs": []
    },
    {
      "cell_type": "code",
      "source": [
        "#| export\n",
        "assert False\n",
        "@patch\n",
        "def lf(self:CeJointEns, pred,*yb): return lf_ce3(pred,*yb,t=self.t,s=self.s,criterion=CrossEntropyLossFlat())"
      ],
      "metadata": {
        "id": "OIxRhAleyMA1"
      },
      "execution_count": 83,
      "outputs": []
    },
    {
      "cell_type": "code",
      "source": [
        "#| export\n",
        "@patch\n",
        "def lf(self:CeJointEnsBt, pred,*yb): return lf_ce4(pred,*yb,criterion=CrossEntropyLossFlat())"
      ],
      "metadata": {
        "id": "neXvlRno9XeR"
      },
      "execution_count": 43,
      "outputs": []
    },
    {
      "cell_type": "markdown",
      "source": [
        "We want to freeze the encoder, and learn the projector and head(s) for a few epochs"
      ],
      "metadata": {
        "id": "a8QYd7G5PKea"
      }
    },
    {
      "cell_type": "code",
      "source": [
        "# def ce_joint_splitter(m):\n",
        "\n",
        "#     return L(sequential(m.encoder,m.encoder2),sequential(m.head,m.head2,m.projector)).map(params)\n",
        "\n",
        "def ce_joint_splitter(m):\n",
        "\n",
        "    return L(sequential(m.encoder,m.encoder2),sequential(m.head,m.head2)).map(params)"
      ],
      "metadata": {
        "id": "1YJutny5XpYL"
      },
      "execution_count": 26,
      "outputs": []
    },
    {
      "cell_type": "code",
      "source": [
        "# def diff_lr_splitter(m):\n",
        "\n",
        "#     return L(sequential(m.encoder,m.head),sequential(m.encoder2,m.head2,m.projector)).map(params)\n",
        "\n",
        "def diff_lr_splitter(m):\n",
        "\n",
        "    return L(sequential(m.encoder,m.head),sequential(m.encoder2,m.head2)).map(params)"
      ],
      "metadata": {
        "id": "4osbpG6ajeYx"
      },
      "execution_count": 27,
      "outputs": []
    },
    {
      "cell_type": "markdown",
      "source": [
        "#Verify splitter freeze appropriately:"
      ],
      "metadata": {
        "id": "uKU20X0I6TRN"
      }
    },
    {
      "cell_type": "code",
      "source": [
        "with torch.no_grad():\n",
        "    #use two \"good\" pretrained models!\n",
        "    _,encoder = create_model('bt_pretrain',device='cpu')\n",
        "    _,encoder2 = create_model('supervised_pretrain',device='cpu')\n",
        "\n",
        "    #ce_joint_model = CeJointEnsModel(encoder=encoder,encoder2=encoder2,head=nn.Linear(2048,9),head2=nn.Linear(2048,9))\n",
        "    \n",
        "    ce_joint_model = create_joint_ens_model(encoder=encoder,encoder2=encoder2,head=nn.Linear(2048,9),\n",
        "                                            head2=nn.Linear(2048,9)\n",
        "                                            )\n",
        "# print('created joint model')\n",
        "# #TODO\n",
        "# #splitter = ce_joint_splitter\n",
        "learn = Learner(dls_tune,ce_joint_model,splitter=ce_joint_splitter,cbs=[CeJointEns(aug_pipelines_tune,n_in=3,numout=9,lmb=None,print_augs=False)])\n",
        "learn.create_opt()\n",
        "# learn = Learner(dls_tune,ce_joint_model,splitter=ce_joint_splitter,cbs=[CeJointEns(aug_pipelines_tune,n_in=3,numout=9,lmb=None,print_augs=False)])\n",
        "# learn.freeze()\n",
        "# learn.summary()"
      ],
      "metadata": {
        "id": "0SByE7MB43gg"
      },
      "execution_count": null,
      "outputs": []
    },
    {
      "cell_type": "code",
      "source": [
        "lr_max_sup"
      ],
      "metadata": {
        "id": "kyWsnl-kkFgF"
      },
      "execution_count": null,
      "outputs": []
    },
    {
      "cell_type": "code",
      "source": [
        "# learn = Learner(dls_tune,ce_joint_model,splitter=diff_lr_splitter,cbs=[CeJointEns(aug_pipelines_tune,n_in=3,numout=9,lmb=None,print_augs=False)])\n",
        "\n",
        "# learn.fit_one_cycle(epochs,slice(lr_sup,lr_bt))"
      ],
      "metadata": {
        "id": "dvCt1bFQhZi_"
      },
      "execution_count": null,
      "outputs": []
    },
    {
      "cell_type": "code",
      "source": [
        "lr_max_sup"
      ],
      "metadata": {
        "id": "Zmzf5Y9WlLNr"
      },
      "execution_count": null,
      "outputs": []
    },
    {
      "cell_type": "code",
      "source": [
        "class CeIndivModel(Module):\n",
        "    \"\"\"An encoder followed by a projector\n",
        "    \"\"\"\n",
        "    def __init__(self,encoder,head):\n",
        "        self.encoder = encoder\n",
        "        self.head=head\n",
        "\n",
        "    def forward(self,x):\n",
        "        tem=self.encoder(x)\n",
        "        return self.head(tem)"
      ],
      "metadata": {
        "id": "Q1W2-cvwlM56"
      },
      "execution_count": 37,
      "outputs": []
    },
    {
      "cell_type": "code",
      "source": [
        "# #Phase 1: low amount of augmentation:\n",
        "\n",
        "# with torch.no_grad():\n",
        "#     _,encoder = create_model(which_model='supervised_pretrain',ps=8192,device=device)\n",
        "\n",
        "#     model = LM(encoder,numout=len(dls_tune.vocab))\n",
        "\n",
        "\n",
        "#     learn = Learner(dls_tune,model,splitter=my_splitter,\n",
        "#                     cbs = [LinearBt(aug_pipelines=aug_pipelines_tune,\n",
        "#                                     n_in=3,tune_model_path=None,\n",
        "#                                     tune_save_after=1)],wd=0.0\n",
        "                    \n",
        "#                     )\n",
        "# learn.freeze()\n",
        "# learn.fit(1)\n",
        "# learn.unfreeze()\n",
        "# learn.fit_one_cycle(10,lr_max_sup)\n"
      ],
      "metadata": {
        "id": "3gJccUu46_TA"
      },
      "execution_count": 75,
      "outputs": []
    },
    {
      "cell_type": "code",
      "source": [
        "#Phase 2: LARGE amount of augmentation\n",
        "\n",
        "# with torch.no_grad():\n",
        "#     _,encoder = create_model(which_model='supervised_pretrain',ps=8192,device=device)\n",
        "#     model = LM(encoder,numout=len(dls_tune.vocab))\n",
        "\n",
        "\n",
        "# model = CeIndivModel(encoder = model.encoder,head=model.head)#head=nn.Linear(2048,len(dls_tune.vocab)).cuda())\n",
        "\n",
        "# learn = Learner(dls_tune,model,splitter=my_splitter,\n",
        "#                 cbs=[CeJointEnsBt(aug_pipelines,n_in=3,numout=len(dls_tune.vocab),lmb=None,print_augs=False)])\n",
        "\n",
        "\n",
        "# learn.freeze()\n",
        "# learn.fit(1)\n",
        "# learn.unfreeze()\n",
        "# lrs = learn.lr_find()\n",
        "# print(lrs.valley)\n",
        "# learn.fit_one_cycle(20,lrs.valley)\n",
        "\n",
        "\n",
        "# model = CeIndivModel(encoder = model.encoder,head=model.head)#head=nn.Linear(2048,len(dls_tune.vocab)).cuda())\n",
        "\n",
        "# learn = Learner(dls_tune,model,splitter=my_splitter,\n",
        "#                 cbs=[CeJointEnsBt(aug_pipelines,n_in=3,numout=len(dls_tune.vocab),lmb=None,print_augs=False)])\n",
        "\n",
        "# lrs = learn.lr_find()\n",
        "# print(lrs.valley)\n",
        "# learn.fit_one_cycle(30,lrs.valley)"
      ],
      "metadata": {
        "id": "yiikC3Th9exa"
      },
      "execution_count": 76,
      "outputs": []
    },
    {
      "cell_type": "code",
      "source": [
        "# #Phase 3: low amount of augmentation:\n",
        "\n",
        "# learn = Learner(dls_tune,model,splitter=my_splitter,\n",
        "#                 cbs = [LinearBt(aug_pipelines=aug_pipelines_tune,\n",
        "#                                 n_in=3,tune_model_path=None,\n",
        "#                                 tune_save_after=1)],wd=0.0\n",
        "                \n",
        "#                 )\n",
        "\n",
        "# lrs = learn.lr_find()\n",
        "# print(lrs.valley)\n",
        "# learn.fit_one_cycle(20,lrs.valley)\n"
      ],
      "metadata": {
        "id": "zfIzpyt2986P"
      },
      "execution_count": 77,
      "outputs": []
    },
    {
      "cell_type": "code",
      "source": [
        "# #Phase 4: predictions etc\n",
        "\n",
        "# scores,preds, acc = predict_model(xval,yval,model=model,aug_pipelines_test=aug_pipelines_test,numavg=10)\n",
        "# metrics = classification_report_wrapper(preds, yval, dls_tune.vocab, print_report=True)"
      ],
      "metadata": {
        "id": "lHj3nd6R-jNk"
      },
      "execution_count": 78,
      "outputs": []
    },
    {
      "cell_type": "code",
      "source": [
        "LinearBt??"
      ],
      "metadata": {
        "id": "2xDoIlWOiD-t"
      },
      "execution_count": 140,
      "outputs": []
    },
    {
      "cell_type": "code",
      "source": [
        "#pretrain\n",
        "\n",
        "class main_ce_ens:\n",
        "    \"API to train either: `joint ensemble`; or individual net. Here train means pretrain + fine tune.\"\n",
        "\n",
        "\n",
        "    def __init__(self,num_i): \n",
        "        store_attr()\n",
        "        self.vocab = dls_train.vocab\n",
        "        self.numout=len(self.vocab)\n",
        "\n",
        "\n",
        "    def train_joint(self):\n",
        "        \"pretrain two encoders using joint training policy\"\n",
        "\n",
        "        with torch.no_grad():\n",
        "            #use two \"good\" pretrained models!\n",
        "            _,encoder = create_model('bt_pretrain',device='cpu')\n",
        "            _,encoder2 = create_model('supervised_pretrain',device='cpu')\n",
        "\n",
        "            #ce_joint_model = CeJointEnsModel(encoder=encoder,encoder2=encoder2,head=nn.Linear(2048,9),head2=nn.Linear(2048,9))\n",
        "            \n",
        "            ce_joint_model = create_joint_ens_model(encoder=encoder,encoder2=encoder2,head=nn.Linear(2048,self.numout),\n",
        "                                                    head2=nn.Linear(2048,self.numout),\n",
        "                                                    projection_size=8192,hidden_size=8192,\n",
        "                                                    )\n",
        "        print('created joint model')\n",
        "        #TODO\n",
        "        #splitter = ce_joint_splitter\n",
        "        learn = Learner(dls_tune,ce_joint_model,ce_joint_splitter,cbs=[CeJointEns(aug_pipelines_tune,n_in=3,numout=self.numout,lmb=None,print_augs=False)])\n",
        "        #learn = Learner(dls_tune,ce_joint_model,cbs=[CeJointEns(aug_pipelines_tune,n_in=3,numout=self.numout,lmb=None,print_augs=False)])\n",
        "        learn.freeze()\n",
        "        print('froze encoders')\n",
        "        learn.fit(3)\n",
        "        learn.unfreeze()\n",
        "        print('unfroze encoders')\n",
        "        # lrs = learn.lr_find()\n",
        "        # print(lrs.valley)\n",
        "        # learn.fit_one_cycle(20,lrs.valley)\n",
        "\n",
        "        with torch.no_grad():\n",
        "            #learn = Learner(dls_tune,ce_joint_model,splitter=diff_lr_splitter,cbs=[CeJointEns(aug_pipelines_tune,n_in=3,numout=self.numout,lmb=None,print_augs=False)])\n",
        "            learn = Learner(dls_tune,ce_joint_model,splitter=diff_lr_splitter,cbs=[CeJointEns(aug_pipelines_tune,n_in=3,numout=self.numout,lmb=None,print_augs=False)])\n",
        "        \n",
        "        learn.fit_one_cycle(50,slice(lr_max_bt,lr_max_sup))\n",
        "\n",
        "\n",
        "        with torch.no_grad():\n",
        "            model = sequential(learn.model.encoder,learn.model.head)\n",
        "            model2 = sequential(learn.model.encoder2,learn.model.head2)\n",
        "\n",
        "        #     learn = Learner(dls_tune,model,cbs = [LinearBt(aug_pipelines=aug_pipelines_tune,\n",
        "        #                                 n_in=3,tune_model_path=None,\n",
        "        #                                tune_save_after=2)]\n",
        "        #                     )\n",
        "\n",
        "\n",
        "        #     learn2 = Learner(dls_tune,model2,cbs = [LinearBt(aug_pipelines=aug_pipelines_tune,\n",
        "        #                                 n_in=3,tune_model_path=None,\n",
        "        #                                tune_save_after=2)]\n",
        "        #                     )\n",
        "\n",
        "\n",
        "        \n",
        "        # lrs = learn.lr_find()\n",
        "        # learn.fit_one_cycle(10,lrs.valley)\n",
        "\n",
        "        # lrs = learn2.lr_find()\n",
        "        # learn2.fit_one_cycle(10,lrs.valley)\n",
        "\n",
        "        print('Result of model 1:')\n",
        "        scores,preds, acc = predict_model(xval,yval,model=model,aug_pipelines_test=aug_pipelines_test,numavg=10)\n",
        "        metrics = classification_report_wrapper(preds, yval, self.vocab, print_report=True)\n",
        "        print(acc)\n",
        "        print('Result of model 2:')\n",
        "        scores2,preds2, acc2 = predict_model(xval,yval,model=model2,aug_pipelines_test=aug_pipelines_test,numavg=10)\n",
        "        metrics2 = classification_report_wrapper(preds2, yval, self.vocab, print_report=True)\n",
        "        print(acc2)\n",
        "        print('Ensemble acc:')\n",
        "        _, acc = predict_ensemble(yval=yval,scores1=scores,scores2=scores2)\n",
        "        print(f'{acc}')\n",
        "\n",
        "\n",
        "        return scores,scores2\n",
        "\n",
        "        # auc_dict = plot_roc(yval,preds,self.vocab,print_plot=True)\n",
        "        # metrics['acc'],metrics['auc_dict'],metrics['scores'],metrics['preds'],metrics['xval'],metrics['yval'] = acc,auc_dict,scores,preds,xval,yval\n",
        "\n",
        "        # #path = directory + '/' + f'indiv_model_{i}' + f'num_{self.num_i}'\n",
        "        # #torch.save(model.state_dict(),path)\n",
        "        # #metrics['model_path'] = path\n",
        "\n",
        "        # return metrics\n",
        "        \n",
        "\n",
        "    \n",
        "    def fine_tune_joint_ensemble(self):\n",
        "        \"fine tune two encoders that belong together: i.e. been jointly pretrained\"\n",
        "\n",
        "        #fine_tune\n",
        "        METRICS={}\n",
        "        for i,k in enumerate(self.encoder_dict):\n",
        "\n",
        "        \n",
        "            model = LM(self.encoder_dict[k],numout=self.numout) #so will be `encoder` or `encoder2`\n",
        "\n",
        "            learn = Learner(dls_tune,model,splitter=my_splitter,cbs = [LinearBt(aug_pipelines=aug_pipelines_tune,n_in=3,\n",
        "                                                                                tune_save_after=1,tune_model_path=None)],wd=0.0)\n",
        "            learn.freeze()\n",
        "            print('froze body')\n",
        "            #tune_model_path = learn.tune_model_path\n",
        "            #learn.tune_model_path=None # no saving; we don't \"count\" preparing the head\n",
        "\n",
        "            learn.fit(1)\n",
        "            learn.unfreeze()\n",
        "            \n",
        "            print('unfroze body')\n",
        "            lrs = learn.lr_find()\n",
        "            print(f'lr_max found is {lrs.valley}')\n",
        "            #learn.tune_model_path = tune_model_path\n",
        "            learn.fit_one_cycle(100,lrs.valley)\n",
        "            print('set to 250 epochs modulo sanity checks')\n",
        "\n",
        "\n",
        "            scores,preds, acc = predict_model(xval,yval,model=model,aug_pipelines_test=aug_pipelines_test,numavg=10)\n",
        "            #metrics dict will have f1 score, auc etc etc\n",
        "            metrics = classification_report_wrapper(preds, yval, self.vocab, print_report=True)\n",
        "            auc_dict = plot_roc(yval,preds,self.vocab,print_plot=True)\n",
        "            metrics['acc'],metrics['auc_dict'],metrics['scores'],metrics['preds'],metrics['xval'],metrics['yval'] = acc,auc_dict,scores,preds,xval,yval\n",
        "\n",
        "            print(f'On run {self.num_i} acc for model {i} is {acc}')\n",
        "\n",
        "            path = directory + '/' + f'joint_model_{i}' + f'num_{self.num_i}' #i.e. model 0 and model 1, on run num.\n",
        "            #torch.save(model.state_dict(),path)\n",
        "            #metrics['model_path'] = path\n",
        "\n",
        "            METRICS[i]=metrics\n",
        "\n",
        "        _,acc = predict_ensemble(scores1=METRICS[0]['scores'],scores2=METRICS[1]['scores'],yval=yval)\n",
        "\n",
        "        print(f'On run {self.num_i} acc for first model is: {METRICS[0][\"acc\"]}')\n",
        "        print(f'On run {self.num_i} acc for second model is: {METRICS[1][\"acc\"]}')\n",
        "        print(f'On run {self.num_i} acc for ensemble is {acc}')\n",
        "\n",
        "        METRICS['ensemble_acc'] = acc\n",
        "        METRICS['docstring'] = 'encoders jointly trained'\n",
        "\n",
        "\n",
        "        return METRICS\n",
        "        #save_dict_to_gdrive(METRICS,directory,f'JointEnsembleMETRICS_{self.num_i}')\n",
        "\n",
        "\n"
      ],
      "metadata": {
        "id": "jRXLP0nD2p_j"
      },
      "execution_count": 164,
      "outputs": []
    },
    {
      "cell_type": "markdown",
      "source": [
        "# Train"
      ],
      "metadata": {
        "id": "SefjAqWh4Ror"
      }
    },
    {
      "cell_type": "code",
      "source": [
        "main = main_ce_ens(num_i='foo')\n",
        "scores,scores2 = main.train_joint()\n",
        "#main.pretrain_joint()\n",
        "#metrics_joint= main.fine_tune_joint_ensemble()"
      ],
      "metadata": {
        "colab": {
          "base_uri": "https://localhost:8080/",
          "height": 1000
        },
        "id": "jjNR7xSvThOY",
        "outputId": "f83d7618-20eb-408e-ce01-27756548d305"
      },
      "execution_count": 165,
      "outputs": [
        {
          "output_type": "stream",
          "name": "stderr",
          "text": [
            "Using cache found in /root/.cache/torch/hub/facebookresearch_barlowtwins_main\n",
            "/usr/local/lib/python3.8/dist-packages/torchvision/models/_utils.py:208: UserWarning: The parameter 'pretrained' is deprecated since 0.13 and may be removed in the future, please use 'weights' instead.\n",
            "  warnings.warn(\n",
            "/usr/local/lib/python3.8/dist-packages/torchvision/models/_utils.py:223: UserWarning: Arguments other than a weight enum or `None` for 'weights' are deprecated since 0.13 and may be removed in the future. The current behavior is equivalent to passing `weights=None`.\n",
            "  warnings.warn(msg)\n"
          ]
        },
        {
          "output_type": "stream",
          "name": "stdout",
          "text": [
            "created joint model\n",
            "froze encoders\n"
          ]
        },
        {
          "output_type": "display_data",
          "data": {
            "text/plain": [
              "<IPython.core.display.HTML object>"
            ],
            "text/html": [
              "\n",
              "<style>\n",
              "    /* Turns off some styling */\n",
              "    progress {\n",
              "        /* gets rid of default border in Firefox and Opera. */\n",
              "        border: none;\n",
              "        /* Needs to be in here for Safari polyfill so background images work as expected. */\n",
              "        background-size: auto;\n",
              "    }\n",
              "    progress:not([value]), progress:not([value])::-webkit-progress-bar {\n",
              "        background: repeating-linear-gradient(45deg, #7e7e7e, #7e7e7e 10px, #5c5c5c 10px, #5c5c5c 20px);\n",
              "    }\n",
              "    .progress-bar-interrupted, .progress-bar-interrupted::-webkit-progress-bar {\n",
              "        background: #F44336;\n",
              "    }\n",
              "</style>\n"
            ]
          },
          "metadata": {}
        },
        {
          "output_type": "display_data",
          "data": {
            "text/plain": [
              "<IPython.core.display.HTML object>"
            ],
            "text/html": [
              "<table border=\"1\" class=\"dataframe\">\n",
              "  <thead>\n",
              "    <tr style=\"text-align: left;\">\n",
              "      <th>epoch</th>\n",
              "      <th>train_loss</th>\n",
              "      <th>valid_loss</th>\n",
              "      <th>time</th>\n",
              "    </tr>\n",
              "  </thead>\n",
              "  <tbody>\n",
              "    <tr>\n",
              "      <td>0</td>\n",
              "      <td>2.406600</td>\n",
              "      <td>None</td>\n",
              "      <td>00:07</td>\n",
              "    </tr>\n",
              "    <tr>\n",
              "      <td>1</td>\n",
              "      <td>2.119681</td>\n",
              "      <td>None</td>\n",
              "      <td>00:07</td>\n",
              "    </tr>\n",
              "    <tr>\n",
              "      <td>2</td>\n",
              "      <td>1.967968</td>\n",
              "      <td>None</td>\n",
              "      <td>00:07</td>\n",
              "    </tr>\n",
              "  </tbody>\n",
              "</table>"
            ]
          },
          "metadata": {}
        },
        {
          "output_type": "stream",
          "name": "stderr",
          "text": [
            "/usr/local/lib/python3.8/dist-packages/fastprogress/fastprogress.py:73: UserWarning: Your generator is empty.\n",
            "  warn(\"Your generator is empty.\")\n"
          ]
        },
        {
          "output_type": "stream",
          "name": "stdout",
          "text": [
            "unfroze encoders\n"
          ]
        },
        {
          "output_type": "display_data",
          "data": {
            "text/plain": [
              "<IPython.core.display.HTML object>"
            ],
            "text/html": [
              "\n",
              "<style>\n",
              "    /* Turns off some styling */\n",
              "    progress {\n",
              "        /* gets rid of default border in Firefox and Opera. */\n",
              "        border: none;\n",
              "        /* Needs to be in here for Safari polyfill so background images work as expected. */\n",
              "        background-size: auto;\n",
              "    }\n",
              "    progress:not([value]), progress:not([value])::-webkit-progress-bar {\n",
              "        background: repeating-linear-gradient(45deg, #7e7e7e, #7e7e7e 10px, #5c5c5c 10px, #5c5c5c 20px);\n",
              "    }\n",
              "    .progress-bar-interrupted, .progress-bar-interrupted::-webkit-progress-bar {\n",
              "        background: #F44336;\n",
              "    }\n",
              "</style>\n"
            ]
          },
          "metadata": {}
        },
        {
          "output_type": "display_data",
          "data": {
            "text/plain": [
              "<IPython.core.display.HTML object>"
            ],
            "text/html": [
              "<table border=\"1\" class=\"dataframe\">\n",
              "  <thead>\n",
              "    <tr style=\"text-align: left;\">\n",
              "      <th>epoch</th>\n",
              "      <th>train_loss</th>\n",
              "      <th>valid_loss</th>\n",
              "      <th>time</th>\n",
              "    </tr>\n",
              "  </thead>\n",
              "  <tbody>\n",
              "    <tr>\n",
              "      <td>0</td>\n",
              "      <td>2.065878</td>\n",
              "      <td>None</td>\n",
              "      <td>00:07</td>\n",
              "    </tr>\n",
              "    <tr>\n",
              "      <td>1</td>\n",
              "      <td>1.835502</td>\n",
              "      <td>None</td>\n",
              "      <td>00:07</td>\n",
              "    </tr>\n",
              "    <tr>\n",
              "      <td>2</td>\n",
              "      <td>1.670692</td>\n",
              "      <td>None</td>\n",
              "      <td>00:07</td>\n",
              "    </tr>\n",
              "    <tr>\n",
              "      <td>3</td>\n",
              "      <td>1.581031</td>\n",
              "      <td>None</td>\n",
              "      <td>00:07</td>\n",
              "    </tr>\n",
              "    <tr>\n",
              "      <td>4</td>\n",
              "      <td>1.494719</td>\n",
              "      <td>None</td>\n",
              "      <td>00:07</td>\n",
              "    </tr>\n",
              "    <tr>\n",
              "      <td>5</td>\n",
              "      <td>1.421695</td>\n",
              "      <td>None</td>\n",
              "      <td>00:06</td>\n",
              "    </tr>\n",
              "    <tr>\n",
              "      <td>6</td>\n",
              "      <td>1.353084</td>\n",
              "      <td>None</td>\n",
              "      <td>00:07</td>\n",
              "    </tr>\n",
              "    <tr>\n",
              "      <td>7</td>\n",
              "      <td>1.256454</td>\n",
              "      <td>None</td>\n",
              "      <td>00:07</td>\n",
              "    </tr>\n",
              "    <tr>\n",
              "      <td>8</td>\n",
              "      <td>1.174954</td>\n",
              "      <td>None</td>\n",
              "      <td>00:07</td>\n",
              "    </tr>\n",
              "    <tr>\n",
              "      <td>9</td>\n",
              "      <td>1.104166</td>\n",
              "      <td>None</td>\n",
              "      <td>00:07</td>\n",
              "    </tr>\n",
              "    <tr>\n",
              "      <td>10</td>\n",
              "      <td>0.993496</td>\n",
              "      <td>None</td>\n",
              "      <td>00:07</td>\n",
              "    </tr>\n",
              "    <tr>\n",
              "      <td>11</td>\n",
              "      <td>0.909069</td>\n",
              "      <td>None</td>\n",
              "      <td>00:07</td>\n",
              "    </tr>\n",
              "    <tr>\n",
              "      <td>12</td>\n",
              "      <td>0.818409</td>\n",
              "      <td>None</td>\n",
              "      <td>00:07</td>\n",
              "    </tr>\n",
              "    <tr>\n",
              "      <td>13</td>\n",
              "      <td>0.737041</td>\n",
              "      <td>None</td>\n",
              "      <td>00:07</td>\n",
              "    </tr>\n",
              "    <tr>\n",
              "      <td>14</td>\n",
              "      <td>0.631823</td>\n",
              "      <td>None</td>\n",
              "      <td>00:07</td>\n",
              "    </tr>\n",
              "    <tr>\n",
              "      <td>15</td>\n",
              "      <td>0.556953</td>\n",
              "      <td>None</td>\n",
              "      <td>00:07</td>\n",
              "    </tr>\n",
              "    <tr>\n",
              "      <td>16</td>\n",
              "      <td>0.494769</td>\n",
              "      <td>None</td>\n",
              "      <td>00:07</td>\n",
              "    </tr>\n",
              "    <tr>\n",
              "      <td>17</td>\n",
              "      <td>0.429494</td>\n",
              "      <td>None</td>\n",
              "      <td>00:06</td>\n",
              "    </tr>\n",
              "    <tr>\n",
              "      <td>18</td>\n",
              "      <td>0.357191</td>\n",
              "      <td>None</td>\n",
              "      <td>00:07</td>\n",
              "    </tr>\n",
              "    <tr>\n",
              "      <td>19</td>\n",
              "      <td>0.308242</td>\n",
              "      <td>None</td>\n",
              "      <td>00:07</td>\n",
              "    </tr>\n",
              "    <tr>\n",
              "      <td>20</td>\n",
              "      <td>0.276268</td>\n",
              "      <td>None</td>\n",
              "      <td>00:06</td>\n",
              "    </tr>\n",
              "    <tr>\n",
              "      <td>21</td>\n",
              "      <td>0.248684</td>\n",
              "      <td>None</td>\n",
              "      <td>00:07</td>\n",
              "    </tr>\n",
              "    <tr>\n",
              "      <td>22</td>\n",
              "      <td>0.236378</td>\n",
              "      <td>None</td>\n",
              "      <td>00:06</td>\n",
              "    </tr>\n",
              "    <tr>\n",
              "      <td>23</td>\n",
              "      <td>0.209074</td>\n",
              "      <td>None</td>\n",
              "      <td>00:07</td>\n",
              "    </tr>\n",
              "    <tr>\n",
              "      <td>24</td>\n",
              "      <td>0.205360</td>\n",
              "      <td>None</td>\n",
              "      <td>00:07</td>\n",
              "    </tr>\n",
              "    <tr>\n",
              "      <td>25</td>\n",
              "      <td>0.178371</td>\n",
              "      <td>None</td>\n",
              "      <td>00:07</td>\n",
              "    </tr>\n",
              "    <tr>\n",
              "      <td>26</td>\n",
              "      <td>0.154495</td>\n",
              "      <td>None</td>\n",
              "      <td>00:07</td>\n",
              "    </tr>\n",
              "    <tr>\n",
              "      <td>27</td>\n",
              "      <td>0.148180</td>\n",
              "      <td>None</td>\n",
              "      <td>00:07</td>\n",
              "    </tr>\n",
              "    <tr>\n",
              "      <td>28</td>\n",
              "      <td>0.136900</td>\n",
              "      <td>None</td>\n",
              "      <td>00:07</td>\n",
              "    </tr>\n",
              "    <tr>\n",
              "      <td>29</td>\n",
              "      <td>0.123327</td>\n",
              "      <td>None</td>\n",
              "      <td>00:07</td>\n",
              "    </tr>\n",
              "    <tr>\n",
              "      <td>30</td>\n",
              "      <td>0.104578</td>\n",
              "      <td>None</td>\n",
              "      <td>00:07</td>\n",
              "    </tr>\n",
              "    <tr>\n",
              "      <td>31</td>\n",
              "      <td>0.091589</td>\n",
              "      <td>None</td>\n",
              "      <td>00:07</td>\n",
              "    </tr>\n",
              "    <tr>\n",
              "      <td>32</td>\n",
              "      <td>0.082893</td>\n",
              "      <td>None</td>\n",
              "      <td>00:07</td>\n",
              "    </tr>\n",
              "    <tr>\n",
              "      <td>33</td>\n",
              "      <td>0.076702</td>\n",
              "      <td>None</td>\n",
              "      <td>00:07</td>\n",
              "    </tr>\n",
              "    <tr>\n",
              "      <td>34</td>\n",
              "      <td>0.075417</td>\n",
              "      <td>None</td>\n",
              "      <td>00:07</td>\n",
              "    </tr>\n",
              "    <tr>\n",
              "      <td>35</td>\n",
              "      <td>0.067662</td>\n",
              "      <td>None</td>\n",
              "      <td>00:07</td>\n",
              "    </tr>\n",
              "    <tr>\n",
              "      <td>36</td>\n",
              "      <td>0.060816</td>\n",
              "      <td>None</td>\n",
              "      <td>00:07</td>\n",
              "    </tr>\n",
              "    <tr>\n",
              "      <td>37</td>\n",
              "      <td>0.059032</td>\n",
              "      <td>None</td>\n",
              "      <td>00:07</td>\n",
              "    </tr>\n",
              "    <tr>\n",
              "      <td>38</td>\n",
              "      <td>0.062516</td>\n",
              "      <td>None</td>\n",
              "      <td>00:07</td>\n",
              "    </tr>\n",
              "    <tr>\n",
              "      <td>39</td>\n",
              "      <td>0.062572</td>\n",
              "      <td>None</td>\n",
              "      <td>00:07</td>\n",
              "    </tr>\n",
              "    <tr>\n",
              "      <td>40</td>\n",
              "      <td>0.056029</td>\n",
              "      <td>None</td>\n",
              "      <td>00:06</td>\n",
              "    </tr>\n",
              "    <tr>\n",
              "      <td>41</td>\n",
              "      <td>0.050135</td>\n",
              "      <td>None</td>\n",
              "      <td>00:07</td>\n",
              "    </tr>\n",
              "    <tr>\n",
              "      <td>42</td>\n",
              "      <td>0.044435</td>\n",
              "      <td>None</td>\n",
              "      <td>00:07</td>\n",
              "    </tr>\n",
              "    <tr>\n",
              "      <td>43</td>\n",
              "      <td>0.045340</td>\n",
              "      <td>None</td>\n",
              "      <td>00:07</td>\n",
              "    </tr>\n",
              "    <tr>\n",
              "      <td>44</td>\n",
              "      <td>0.042238</td>\n",
              "      <td>None</td>\n",
              "      <td>00:07</td>\n",
              "    </tr>\n",
              "    <tr>\n",
              "      <td>45</td>\n",
              "      <td>0.039453</td>\n",
              "      <td>None</td>\n",
              "      <td>00:07</td>\n",
              "    </tr>\n",
              "    <tr>\n",
              "      <td>46</td>\n",
              "      <td>0.038321</td>\n",
              "      <td>None</td>\n",
              "      <td>00:07</td>\n",
              "    </tr>\n",
              "    <tr>\n",
              "      <td>47</td>\n",
              "      <td>0.039471</td>\n",
              "      <td>None</td>\n",
              "      <td>00:07</td>\n",
              "    </tr>\n",
              "    <tr>\n",
              "      <td>48</td>\n",
              "      <td>0.040481</td>\n",
              "      <td>None</td>\n",
              "      <td>00:07</td>\n",
              "    </tr>\n",
              "    <tr>\n",
              "      <td>49</td>\n",
              "      <td>0.035893</td>\n",
              "      <td>None</td>\n",
              "      <td>00:07</td>\n",
              "    </tr>\n",
              "  </tbody>\n",
              "</table>"
            ]
          },
          "metadata": {}
        },
        {
          "output_type": "stream",
          "name": "stdout",
          "text": [
            "Result of model 1:\n",
            "                            precision    recall  f1-score   support\n",
            "\n",
            "         actinic keratosis       0.54      0.70      0.61        20\n",
            "      basal cell carcinoma       0.55      0.55      0.55        20\n",
            "            dermatofibroma       0.94      0.89      0.92        19\n",
            "                  melanoma       0.83      0.25      0.38        20\n",
            "                     nevus       0.68      0.65      0.67        20\n",
            "pigmented benign keratosis       0.56      0.45      0.50        20\n",
            "      seborrheic keratosis       0.54      0.87      0.67        15\n",
            "   squamous cell carcinoma       0.48      0.65      0.55        20\n",
            "           vascular lesion       0.94      0.85      0.89        20\n",
            "\n",
            "                  accuracy                           0.64       174\n",
            "                 macro avg       0.68      0.65      0.64       174\n",
            "              weighted avg       0.68      0.64      0.64       174\n",
            "\n",
            "0.6436781883239746\n",
            "Result of model 2:\n",
            "                            precision    recall  f1-score   support\n",
            "\n",
            "         actinic keratosis       0.58      0.75      0.65        20\n",
            "      basal cell carcinoma       0.60      0.60      0.60        20\n",
            "            dermatofibroma       0.88      0.74      0.80        19\n",
            "                  melanoma       0.39      0.35      0.37        20\n",
            "                     nevus       0.83      0.50      0.62        20\n",
            "pigmented benign keratosis       0.46      0.55      0.50        20\n",
            "      seborrheic keratosis       0.74      0.93      0.82        15\n",
            "   squamous cell carcinoma       0.71      0.60      0.65        20\n",
            "           vascular lesion       0.86      0.95      0.90        20\n",
            "\n",
            "                  accuracy                           0.66       174\n",
            "                 macro avg       0.67      0.66      0.66       174\n",
            "              weighted avg       0.67      0.66      0.65       174\n",
            "\n",
            "0.6551724076271057\n",
            "Ensemble acc:\n",
            "0.7126436829566956\n"
          ]
        }
      ]
    },
    {
      "cell_type": "code",
      "source": [
        "torch.set_printoptions(precision=4, sci_mode=False)\n"
      ],
      "metadata": {
        "id": "P8CP4d_Cu52T"
      },
      "execution_count": 170,
      "outputs": []
    },
    {
      "cell_type": "code",
      "source": [
        "scores[30]"
      ],
      "metadata": {
        "colab": {
          "base_uri": "https://localhost:8080/"
        },
        "id": "Q3TbY2gFZ8VL",
        "outputId": "7f9fe9ce-de63-4378-d6e7-55ce0f75614f"
      },
      "execution_count": 178,
      "outputs": [
        {
          "output_type": "execute_result",
          "data": {
            "text/plain": [
              "TensorImage([    0.0079,     0.0032,     0.0041,     0.7930,     0.0004,\n",
              "                 0.0520,     0.0603,     0.0790,     0.0001], device='cuda:0')"
            ]
          },
          "metadata": {},
          "execution_count": 178
        }
      ]
    },
    {
      "cell_type": "code",
      "source": [
        "scores2[30]"
      ],
      "metadata": {
        "colab": {
          "base_uri": "https://localhost:8080/"
        },
        "id": "nV8gmQ4rYyq3",
        "outputId": "ddb3086c-f1d8-4464-a556-bb9e4578dd91"
      },
      "execution_count": 179,
      "outputs": [
        {
          "output_type": "execute_result",
          "data": {
            "text/plain": [
              "TensorImage([    0.0000,     0.0003,     0.0006,     0.4631,     0.0012,\n",
              "                 0.5347,     0.0001,     0.0001,     0.0000], device='cuda:0')"
            ]
          },
          "metadata": {},
          "execution_count": 179
        }
      ]
    },
    {
      "cell_type": "code",
      "source": [
        "predict_ensemble(yval=yval,scores1=scores,scores2=scores2,numavg=10)"
      ],
      "metadata": {
        "colab": {
          "base_uri": "https://localhost:8080/",
          "height": 169
        },
        "id": "3jXQjoCRY_XY",
        "outputId": "ca0925b2-3206-4517-e8ad-13ea1fea487b"
      },
      "execution_count": 120,
      "outputs": [
        {
          "output_type": "error",
          "ename": "TypeError",
          "evalue": "ignored",
          "traceback": [
            "\u001b[0;31m---------------------------------------------------------------------------\u001b[0m",
            "\u001b[0;31mTypeError\u001b[0m                                 Traceback (most recent call last)",
            "\u001b[0;32m<ipython-input-120-d41004b5c62a>\u001b[0m in \u001b[0;36m<module>\u001b[0;34m\u001b[0m\n\u001b[0;32m----> 1\u001b[0;31m \u001b[0mpredict_ensemble\u001b[0m\u001b[0;34m(\u001b[0m\u001b[0myval\u001b[0m\u001b[0;34m=\u001b[0m\u001b[0myval\u001b[0m\u001b[0;34m,\u001b[0m\u001b[0mscores1\u001b[0m\u001b[0;34m=\u001b[0m\u001b[0mscores\u001b[0m\u001b[0;34m,\u001b[0m\u001b[0mscores2\u001b[0m\u001b[0;34m=\u001b[0m\u001b[0mscores2\u001b[0m\u001b[0;34m,\u001b[0m\u001b[0mnumavg\u001b[0m\u001b[0;34m=\u001b[0m\u001b[0;36m10\u001b[0m\u001b[0;34m)\u001b[0m\u001b[0;34m\u001b[0m\u001b[0;34m\u001b[0m\u001b[0m\n\u001b[0m",
            "\u001b[0;31mTypeError\u001b[0m: predict_ensemble() got an unexpected keyword argument 'numavg'"
          ]
        }
      ]
    },
    {
      "cell_type": "code",
      "source": [
        "main = main_ce_ens(num_i='foo')\n",
        "\n",
        "# #train jointly: i.e. train 2 encoders (jointly) and fine tune them\n",
        "#main.pretrain_indiv()\n",
        "\n",
        "#Then we can just load to do experiments as needed...\n",
        "#encoder = main.invid_encoder\n",
        "#torch.save(encoder.state_dict(),'new_pretrain_idea')\n",
        "\n",
        "\n",
        "#/content/drive/My Drive/random_initial_weights/\n",
        "\n",
        "with torch.no_grad():\n",
        "    _,encoder = create_model('no_pretrain',device)\n",
        "    encoder.load_state_dict(torch.load('new_pretrain_idea', map_location='cuda:0'))\n",
        "\n",
        "    main.invid_encoder = encoder\n",
        "\n",
        "metrics_indiv = main.fine_tune_indiv()\n"
      ],
      "metadata": {
        "id": "NjI6VIV0wA1t"
      },
      "execution_count": null,
      "outputs": []
    },
    {
      "cell_type": "code",
      "source": [
        "for i in [50,100]:\n",
        "\n",
        "    path = f'/content/drive/My Drive/random_initial_weights/pracer_epochs={i}'\n",
        "    with torch.no_grad():\n",
        "        _,encoder = create_model('no_pretrain',device=device)\n",
        "        model = LM(encoder,numout=len(dls_train.vocab))\n",
        "        model.load_state_dict(torch.load(path, map_location='cuda:0'))\n",
        "        _,_,acc = predict_model(xval=xval,yval=yval,model=model,aug_pipelines_test=aug_pipelines_test,numavg=10)\n",
        "\n",
        "        print(f'After epoch {i} acc is {acc}')\n"
      ],
      "metadata": {
        "id": "aaSDGjKzg3EI"
      },
      "execution_count": null,
      "outputs": []
    },
    {
      "cell_type": "code",
      "source": [
        "assert False"
      ],
      "metadata": {
        "id": "BaZUc8V__gCl"
      },
      "execution_count": null,
      "outputs": []
    },
    {
      "cell_type": "code",
      "source": [
        "results_joint = { }\n",
        "results_indiv = {}\n",
        "num=6\n",
        "for i in range(num):\n",
        "    \n",
        "    main = main_ce_ens(num_i=i)\n",
        "    \n",
        "    #train jointly: i.e. train 2 encoders (jointly) and fine tune them\n",
        "    main.pretrain_joint()\n",
        "    metrics_joint = main.fine_tune_joint_ensemble()\n",
        "\n",
        "    # #train individual net\n",
        "    main.pretrain_indiv()\n",
        "    metrics_indiv = main.fine_tune_indiv()\n",
        "\n",
        "    results_joint[i] = metrics_joint\n",
        "    results_indiv[i] = metrics_indiv\n",
        "\n",
        "save_dict_to_gdrive(results_joint,directory,'results_joint')\n",
        "save_dict_to_gdrive(results_indiv,directory,'results_indiv')"
      ],
      "metadata": {
        "id": "lERKUqle70Ht"
      },
      "execution_count": null,
      "outputs": []
    },
    {
      "cell_type": "code",
      "source": [
        "net_1 = []\n",
        "net_2 = []\n",
        "joint = []\n",
        "for i in range(num):\n",
        "\n",
        "    net_1.append(results_joint[i][0]['acc'])\n",
        "    net_2.append(results_joint[i][1]['acc'])\n",
        "    joint.append(results_joint[i]['ensemble_acc'])\n",
        "\n",
        "\n",
        "    print(f\"net 1 has acc: {results_joint[i][0]['acc']}\")\n",
        "    print(f\"net 2 has acc: {results_joint[i][1]['acc']}\")\n",
        "    print(f\"Ensemble acc is: {results_joint[i]['ensemble_acc']}\")\n",
        "\n",
        "    print('\\n')\n",
        "\n",
        "print(f'Individual results for net_1 are: {net_1} \\n with mean {mean(net_1)}')\n",
        "print(f'Individual results for net_2 are: {net_2} \\n with mean {mean(net_2)}')\n",
        "\n",
        "print(f'Ensemble results are: {joint} \\n  with mean {mean(joint)}')\n"
      ],
      "metadata": {
        "id": "78-oP0d1lQQu"
      },
      "execution_count": null,
      "outputs": []
    },
    {
      "cell_type": "code",
      "source": [],
      "metadata": {
        "id": "lgyx88rrllgt"
      },
      "execution_count": null,
      "outputs": []
    },
    {
      "cell_type": "code",
      "source": [
        "from itertools import combinations\n",
        "from statistics import mean,stdev\n",
        "def within_ensemble_results(results,key=''):\n",
        "\n",
        "    #_results = list(results[key].values())\n",
        "\n",
        "    _results = list(results.values())\n",
        "    _results = list(combinations(_results,2)) #all pairs of results. So for num=3, will be 3\n",
        "    lst=[]\n",
        "    for v in _results:\n",
        "\n",
        "        print(f\"\\nAcc of first guy in ensemble is: {v[0]['acc']}\")\n",
        "        print(f\"Acc of second guy in ensemble is: {v[1]['acc']}\")\n",
        "\n",
        "        _,acc = predict_ensemble(yval=yval,scores1=v[0]['scores'],scores2=v[1]['scores'])\n",
        "        #acc = predict_ensemble(v[0]['probs'],v[1]['probs'],dls_valid)\n",
        "\n",
        "        print(f'Acc of ensemble is:{acc}\\n')\n",
        "        lst.append(acc)\n",
        "\n",
        "    print(f\"mean is: {mean(lst)}\")\n",
        "    print(f\"std is: {stdev(lst)}\\n\")\n",
        "\n",
        "lst=[results_indiv[i]['acc'] for i in range(num)]\n",
        "print(f'Individual results are: {lst}')\n",
        "print(f\"Mean individual results: {mean(lst)}\")\n",
        "within_ensemble_results(results_indiv)"
      ],
      "metadata": {
        "id": "mYQgcTQKkuq0"
      },
      "execution_count": null,
      "outputs": []
    },
    {
      "cell_type": "markdown",
      "source": [
        "#Ok, let's bite the bullet: train a baseline model within this session. Have to face reality:"
      ],
      "metadata": {
        "id": "4Sh1T_popU_8"
      }
    },
    {
      "cell_type": "code",
      "source": [
        "with torch.no_grad():\n",
        "    _,encoder = create_model('no_pretrain',device)\n",
        "\n",
        "    model = LM(encoder,numout=10)\n",
        "    learn = Learner(dls_tune,model,splitter=my_splitter,cbs = [LinearBt(aug_pipelines=aug_pipelines_tune,n_in=3)],wd=0.0)\n",
        "\n",
        "learn.fit(50)\n",
        "\n",
        "scores,preds, acc = predict_model(xval,yval,model=model,aug_pipelines_test=aug_pipelines_test,numavg=10)\n",
        "#metrics dict will have f1 score, auc etc etc\n",
        "metrics = classification_report_wrapper(preds, yval, dls_tune.vocab, print_report=True)\n"
      ],
      "metadata": {
        "id": "dKR2FuwPpaGy"
      },
      "execution_count": null,
      "outputs": []
    },
    {
      "cell_type": "code",
      "source": [
        "fnames"
      ],
      "metadata": {
        "id": "Pr0jUIbcs7Ro"
      },
      "execution_count": null,
      "outputs": []
    },
    {
      "cell_type": "markdown",
      "source": [
        "#Recall that:\n",
        "in `cifar_random_baselines` the 50 epochs performance was [0.56640625, 0.51953125, 0.56640625, 0.5546875, 0.5390625, 0.5703125], and 100 epochs was [0.5859375, 0.56640625, 0.63671875, 0.59375, 0.61328125, 0.58984375].\n",
        "\n",
        "So seems reasonable."
      ],
      "metadata": {
        "id": "inOV94m7sa1i"
      }
    },
    {
      "cell_type": "markdown",
      "source": [
        "# Ok, notes/thoughts:\n",
        "\n",
        "- There are two schemes: train individually, or train jointly with negative correlation between scores.\n",
        "- Early testing suggested not huge difference between the two (either averaging two nets or individual performance) but some hints are slight performance gains from joint training.\n",
        "- The whole point is, does it work? Ablations can be left to future work.\n",
        "- I've trained and saved these models. "
      ],
      "metadata": {
        "id": "X6uNBjDzYHt8"
      }
    },
    {
      "cell_type": "markdown",
      "source": [
        "# Ok, plan:\n",
        "\n",
        "- Evaluate (and save) trained CIFAR10 models on test set, comparing to 50-100 epoch baselines. Do this just for the individuallly trained models to start with. Focus on being careful and testing things. Then we can look at ensemble performance and compare to baseline. \n",
        "- Modulo last step being ok, then we can fork this notebook (or perhaps put the code in my repo, properly) and then evaluate on the cancer dataset (need to compare to these baslines as well: 50-100 epochs.). That's enough to be going on with for now. "
      ],
      "metadata": {
        "id": "AbyLz-YuQDpX"
      }
    },
    {
      "cell_type": "markdown",
      "source": [
        "Load results:"
      ],
      "metadata": {
        "id": "f164J1TeR_GD"
      }
    },
    {
      "cell_type": "code",
      "source": [
        "results_joint = load_dict_from_gdrive(directory,'results_joint')\n",
        "results_indiv = load_dict_from_gdrive(directory,'results_indiv')"
      ],
      "metadata": {
        "id": "0Z7MPtYbR-Un"
      },
      "execution_count": null,
      "outputs": []
    },
    {
      "cell_type": "markdown",
      "source": [
        "# Sanity check:"
      ],
      "metadata": {
        "id": "si6r3YheS-bJ"
      }
    },
    {
      "cell_type": "markdown",
      "source": [
        "Validation performance should be similar / comparable to the recorded one:"
      ],
      "metadata": {
        "id": "BJTiJYnXTX7w"
      }
    },
    {
      "cell_type": "code",
      "source": [
        "for i in range(6):\n",
        "    with torch.no_grad():\n",
        "        path = results_indiv[i]['model_path']\n",
        "        _,encoder = create_model('no_pretrain',device)\n",
        "        model = LM(encoder,numout=10)\n",
        "        model.load_state_dict(torch.load(path, map_location='cuda:0'))\n",
        "\n",
        "    print(f'On run {i}')\n",
        "    print(f\"Recorded val results are: {results_indiv[i]['acc']}\")\n",
        "    probs,ypred,acc = predict_model(xval=xval,yval=yval,model=model,aug_pipelines_test=aug_pipelines_test,numavg=10)\n",
        "\n",
        "    print(f\"Newly computed val results are: {acc}\")\n",
        "\n",
        "    print('\\n')"
      ],
      "metadata": {
        "id": "3w2IRyNKSsxE"
      },
      "execution_count": null,
      "outputs": []
    },
    {
      "cell_type": "markdown",
      "source": [
        "Ok."
      ],
      "metadata": {
        "id": "Tt7rpUc8Wwa6"
      }
    },
    {
      "cell_type": "markdown",
      "source": [
        "# Alright, check results on test set;"
      ],
      "metadata": {
        "id": "obSouMppWxm_"
      }
    },
    {
      "cell_type": "markdown",
      "source": [
        "Individual results:"
      ],
      "metadata": {
        "id": "QmxDnW1BXK8D"
      }
    },
    {
      "cell_type": "code",
      "source": [
        "for i in range(6):\n",
        "\n",
        "    #load model\n",
        "    with torch.no_grad():\n",
        "        path = results_indiv[i]['model_path']\n",
        "        _,encoder = create_model('no_pretrain',device)\n",
        "        model = LM(encoder,numout=10)\n",
        "        model.load_state_dict(torch.load(path, map_location='cuda:0'))\n",
        "\n",
        "\n",
        "    print(f'On run {i}, for `indiv_results` results are:')\n",
        "\n",
        "    y,probs,ypred,Acc = predict_whole_model(dls_test,model,aug_pipelines_test,numavg=10,criterion = CrossEntropyLossFlat(),deterministic=False)\n",
        "    metrics = classification_report_wrapper(ypred, y, dls_test.vocab, print_report=True)\n",
        "    metrics['acc'],metrics['scores'],metrics['preds'],metrics['y'] = acc,probs,ypred,y\n",
        "    metrics['acc']=Acc\n",
        "    print(Acc)\n",
        "\n",
        "    results_indiv[i]['test_results'] = metrics #No need to save for now...\n",
        "\n",
        "save_dict_to_gdrive(results_indiv,directory,'results_indiv')\n"
      ],
      "metadata": {
        "id": "xA2d8eW2SMbN"
      },
      "execution_count": null,
      "outputs": []
    },
    {
      "cell_type": "markdown",
      "source": [
        "#Ok, so these results suggest that it works better than baseline. Cool."
      ],
      "metadata": {
        "id": "LLijsIJUY-Ha"
      }
    },
    {
      "cell_type": "markdown",
      "source": [
        "# Ok, what to do now: we have final BT models on cancer data (random initial weights) running. That will be ~ 5 hours.\n",
        "\n",
        "We need to run this current \"new idea\" on cancer dataset and see if it works there. We can also run more extensive ablations there if needed (e.g. control for just training a baseline for longer. But yeah, if it doesn't work at all there, then no point continuing I guess..."
      ],
      "metadata": {
        "id": "LxQn2gSFZkaK"
      }
    }
  ],
  "metadata": {
    "accelerator": "GPU",
    "colab": {
      "machine_shape": "hm",
      "provenance": [],
      "include_colab_link": true
    },
    "gpuClass": "premium",
    "kernelspec": {
      "display_name": "Python 3 (ipykernel)",
      "language": "python",
      "name": "python3"
    }
  },
  "nbformat": 4,
  "nbformat_minor": 0
}